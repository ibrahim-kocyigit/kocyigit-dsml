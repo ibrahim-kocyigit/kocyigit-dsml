{
 "cells": [
  {
   "cell_type": "markdown",
   "metadata": {},
   "source": [
    "# Vektör İşlemleri (Vector Operations)\n",
    "\n",
    "Bu derste, vektörler üzerinde daha ileri düzey işlemleri inceleyeceğiz. Özellikle makine öğrenmesinde sıkça kullanılan **nokta çarpım** (_dot product_), **vektör normları** (_vector norms_) ve **kosinüs benzerliği** (_cosine similarity_) kavramlarına odaklanacağız.\n",
    "\n",
    "---\n",
    "\n",
    "## 1. Nokta Çarpım (_Dot Product_)\n",
    "**Nokta çarpım**, iki vektörün karşılıklı elemanlarının çarpımlarının toplamıdır. Bu işlem, iki vektör arasındaki ilişkiyi anlamamıza yardımcı olur.\n",
    "\n",
    "$\\mathbf{u} = \\begin{bmatrix} u_1 \\\\ u_2 \\\\ \\vdots \\\\ u_n \\end{bmatrix}$ ve $\\mathbf{v} = \\begin{bmatrix} v_1 \\\\ v_2 \\\\ \\vdots \\\\ v_n \\end{bmatrix}$ iki vektör olsun.\n",
    "\n",
    "Bu iki vektörün nokta çarpımı, $\\mathbf{u} \\cdot \\mathbf{v}$ veya $\\mathbf{u}^T\\mathbf{v}$ şeklinde gösterilir ve şöyle hesaplanır:\n",
    "\n",
    "$\\mathbf{u} \\cdot \\mathbf{v} = u_1v_1 + u_2v_2 + \\dots + u_nv_n = \\sum_{i=1}^{n} u_i v_i$\n",
    "\n",
    "**Not:** Nokta çarpımın yapılabilmesi için iki vektörün aynı boyutta (aynı sayıda elemana sahip) olması gerekir.\n",
    "\n",
    "### Geometrik Yorum\n",
    "Nokta çarpım, iki vektör arasındaki açının kosinüsü ile ilişkilidir. Eğer $\\theta$ iki vektör arasındaki açı ise:\n",
    "\n",
    "$\\mathbf{u} \\cdot \\mathbf{v} = ||\\mathbf{u}|| \\cdot ||\\mathbf{v}|| \\cdot \\cos(\\theta)$\n",
    "\n",
    "Burada $||\\mathbf{u}||$ ve $||\\mathbf{v}||$ sırasıyla $\\mathbf{u}$ ve $\\mathbf{v}$ vektörlerinin uzunluklarıdır (normlarıdır). Bu konuya birazdan değineceğiz.\n",
    "\n",
    "* Eğer $\\mathbf{u} \\cdot \\mathbf{v} = 0$ ise, vektörler birbirine diktir (**ortogonal** - *orthogonal*).\n",
    "* Eğer $\\mathbf{u} \\cdot \\mathbf{v} > 0$ ise, vektörler arasındaki açı dardır (aynı yönü gösterirler).\n",
    "* Eğer $\\mathbf{u} \\cdot \\mathbf{v} < 0$ ise, vektörler arasındaki açı geniştir (zıt yönleri gösterirler).\n",
    "\n",
    "**Örnek:**\n",
    "\n",
    "$\\mathbf{u} = \\begin{bmatrix} 2 \\\\ -1 \\\\ 3 \\end{bmatrix}$ ve $\\mathbf{v} = \\begin{bmatrix} 1 \\\\ 4 \\\\ 0 \\end{bmatrix}$ olsun.\n",
    "\n",
    "$\\mathbf{u} \\cdot \\mathbf{v} = (2 \\cdot 1) + (-1 \\cdot 4) + (3 \\cdot 0) = 2 - 4 + 0 = -2$\n",
    "\n",
    "<br>"
   ]
  },
  {
   "cell_type": "code",
   "execution_count": 2,
   "metadata": {},
   "outputs": [
    {
     "name": "stdout",
     "output_type": "stream",
     "text": [
      "Nokta Çarpım (np.dot()): -2\n",
      "Nokta Çarpım (@): -2\n",
      "Nokta Çarpım (.dot()): -2\n"
     ]
    }
   ],
   "source": [
    "import numpy as np\n",
    "\n",
    "u = np.array([2, -1, 3])\n",
    "v = np.array([1, 4, 0])\n",
    "\n",
    "# Yöntem 1: np.dot()\n",
    "dot_product1 = np.dot(u, v)\n",
    "\n",
    "# Yöntem 2: @ operatörü (Python 3.5 ve sonrası)\n",
    "dot_product2 = u @ v\n",
    "\n",
    "# Yöntem 3: .dot() metodu\n",
    "dot_product3 = u.dot(v) #veya v.dot(u)\n",
    "\n",
    "# Üçü de aynı sonucu verecektir.\n",
    "print(\"Nokta Çarpım (np.dot()):\", dot_product1)\n",
    "print(\"Nokta Çarpım (@):\", dot_product2)\n",
    "print(\"Nokta Çarpım (.dot()):\", dot_product3)"
   ]
  },
  {
   "cell_type": "markdown",
   "metadata": {},
   "source": [
    "---"
   ]
  },
  {
   "cell_type": "markdown",
   "metadata": {},
   "source": [
    "## 2. Vektör Normları (_Vector Norms_)\n",
    "Bir vektörün **norm**u (_norm_), o vektörün \"uzunluğu\" (_length_) veya \"büyüklüğü\" (_magnitude_) olarak düşünülebilir. Farklı norm türleri vardır, ancak makine öğrenmesinde en sık kullanılanlar **L1 normu** (_L1 norm_) and **L2 normu**dur (_L2 norm_). \n",
    "\n",
    "### 2.1. L1 Normu\n",
    "**Manhattan Normu** (_Manhattan Distance_) ve **Taksi Normu** (_Taxicab Norm_) olarak da bilinen **L1 Normu**, bir vektörün elemanlarının mutlak değerlerinin toplamıdır. \n",
    "\n",
    "$\\mathbf{v} = \\begin{bmatrix} v_1 \\\\ v_2 \\\\ \\vdots \\\\ v_n \\end{bmatrix}$ vektörünün L1 normu, $||\\mathbf{v}||_1$ şeklinde gösterilir ve şöyle hesaplanır:\n",
    "\n",
    "$||\\mathbf{v}||_1 = |v_1| + |v_2| + \\dots + |v_n| = \\sum_{i=1}^{n} |v_i|$\n",
    "\n",
    "**Örnek:**  \n",
    "\n",
    "$\\mathbf{v} = \\begin{bmatrix} 2 \\\\ -1 \\\\ 3 \\end{bmatrix}$ vektörünün L1 normu:\n",
    "\n",
    "$||\\mathbf{v}||_1 = |2| + |-1| + |3| = 2 + 1 + 3 = 6$\n",
    "\n",
    "<br>"
   ]
  },
  {
   "cell_type": "code",
   "execution_count": 3,
   "metadata": {},
   "outputs": [
    {
     "name": "stdout",
     "output_type": "stream",
     "text": [
      "L1 Normu (np.linalg.norm()): 6.0\n",
      "L1 Normu (manuel): 6\n"
     ]
    }
   ],
   "source": [
    "import numpy as np\n",
    "\n",
    "v = np.array([2, -1, 3])\n",
    "\n",
    "# Yöntem 1: np.linalg.norm() ile\n",
    "l1_norm1 = np.linalg.norm(v, ord=1)\n",
    "\n",
    "# Yöntem 2: Manuel hesaplama\n",
    "l1_norm2 = np.sum(np.abs(v))\n",
    "\n",
    "print(\"L1 Normu (np.linalg.norm()):\", l1_norm1)\n",
    "print(\"L1 Normu (manuel):\", l1_norm2)"
   ]
  },
  {
   "cell_type": "markdown",
   "metadata": {},
   "source": [
    "### 2.2. L2 Normu (Öklid Normu)\n",
    "**Öklid Normu** (_Euclidean Norm_), bir vektörün elemanlarının karelerinin toplamının kareköküdür. Bu, vektörün başlangıç noktasından (_origin_ | _initial point_), bitiş noktasına (_endpoint_ | _terminal point_ | _head_) olan Öklid uzaklığıdır.\n",
    "\n",
    "$\\mathbf{v} = \\begin{bmatrix} v_1 \\\\ v_2 \\\\ \\vdots \\\\ v_n \\end{bmatrix}$ vektörünün L2 normu, $||\\mathbf{v}||_2$ veya sadece $||\\mathbf{v}||$ şeklinde gösterilir ve şöyle hesaplanır:\n",
    "\n",
    "$||\\mathbf{v}||_2 = \\sqrt{v_1^2 + v_2^2 + \\dots + v_n^2} = \\sqrt{\\sum_{i=1}^{n} v_i^2}$\n",
    "\n",
    "**Örnek:**  \n",
    "\n",
    "$\\mathbf{v} = \\begin{bmatrix} 2 \\\\ -1 \\\\ 3 \\end{bmatrix}$ vektörünün L2 normu:\n",
    "\n",
    "$||\\mathbf{v}||_2 = \\sqrt{2^2 + (-1)^2 + 3^2} = \\sqrt{4 + 1 + 9} = \\sqrt{14}$\n",
    "\n",
    "<br>"
   ]
  },
  {
   "cell_type": "code",
   "execution_count": 5,
   "metadata": {},
   "outputs": [
    {
     "name": "stdout",
     "output_type": "stream",
     "text": [
      "L2 Normu (np.linalg.norm()): 3.7416573867739413\n",
      "L2 Normu (manuel): 3.7416573867739413\n",
      "L2 Normu (manuel 2): 3.7416573867739413\n"
     ]
    }
   ],
   "source": [
    "import numpy as np\n",
    "\n",
    "v = np.array([2, -1, 3])\n",
    "\n",
    "# Yöntem 1: np.linalg.norm() ile\n",
    "l2_norm1 =  np.linalg.norm(v) # ord=2 default olarak gelir\n",
    "\n",
    "# Yöntem 2: Manuel hesaplama\n",
    "l2_norm2 = np.sqrt(np.dot(v, v))\n",
    "# veya\n",
    "l2_norm3 = (np.sum(v**2))**0.5\n",
    "\n",
    "print(\"L2 Normu (np.linalg.norm()):\", l2_norm1)\n",
    "print(\"L2 Normu (manuel):\", l2_norm2)\n",
    "print(\"L2 Normu (manuel 2):\", l2_norm3)"
   ]
  },
  {
   "cell_type": "markdown",
   "metadata": {},
   "source": [
    "### 2.3. L1 ve L2 Normlarının Karşılaştırılması ve Kulllanım Alanları\n",
    "\n",
    "#### L1 Norm:\n",
    "* Daha az hesaplama gerektirir (kare kök alma işlemi yoktur).\n",
    "* **Seyrek** (_sparse_) çözümler üretmeye eğilimlidir (bazı elemanları sıfır olan vektörler). Bu, özellikle **özellik seçimi** (_feature selection_) problemlerinde faydalıdır.\n",
    "* **Aykırı değerlere** (_outliers_) karşı daha dayanıklıdır.\n",
    "\n",
    "#### L2 Norm:\n",
    "* Daha yaygın olarak kullanılır.\n",
    "* Türevlenebilirdir (_differentiable_). (L1 normu, sıfır noktasında türevlenemez (_L1 norm is not differentiable at zero_)). Bu, optimizasyon algoritmaları için önemlidir.\n",
    "* Genellikle daha kararlı çözümler üretir.\n",
    "* Aykırı değerlerden L1'e göre daha çok etkilenir."
   ]
  },
  {
   "cell_type": "markdown",
   "metadata": {},
   "source": []
  }
 ],
 "metadata": {
  "kernelspec": {
   "display_name": ".venv",
   "language": "python",
   "name": "python3"
  },
  "language_info": {
   "codemirror_mode": {
    "name": "ipython",
    "version": 3
   },
   "file_extension": ".py",
   "mimetype": "text/x-python",
   "name": "python",
   "nbconvert_exporter": "python",
   "pygments_lexer": "ipython3",
   "version": "3.13.1"
  }
 },
 "nbformat": 4,
 "nbformat_minor": 2
}
