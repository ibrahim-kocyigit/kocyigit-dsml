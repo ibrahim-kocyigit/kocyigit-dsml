{
 "cells": [
  {
   "cell_type": "markdown",
   "metadata": {},
   "source": [
    "# Introduction to Probability\n",
    "\n",
    "---\n",
    "\n",
    "## 1. What is Probability?\n",
    "**Probability** is a numerical measure of the likelihood of an event occurring. It is used to model and analyze situations involving uncertainty. It seeks to answer the question, _\"What is the change of something happening?\"_ Probability is a value between 0 and 1:\n",
    "* 0: Impossible event.\n",
    "* 1: Certain event.\n",
    "* 0.5: Event with equal chances of happening or not happening (e.g., getting heads in a coin toss).\n",
    "\n",
    "Probability is used in many areas of machine learning:\n",
    "* **Model Uncertainty:** Measuring how reliable a model's predictions are (e.g., the probability that a classification model assigns an instance to a particular class).\n",
    "* **Data Generation:** Generating new data points (e.g., in generative models).\n",
    "* **Random Processes:** Modeling algorithms that involve randomness (e.g., random forests).\n",
    "* **Bayesian Inference:** Using Bayes' theorem to update probabilities on data.\n",
    "\n",
    "### 1.1. Basic Concepts\n",
    "* **Experiment:** A process with an uncertain outcome (e.g., rolling a die, tossing a coin, observing whether a customer buys a product).\n",
    "* **Sample Space:** The set of _all_ possible outcomes of an experiment (usually denoted by _S_ or _Ω_).\n",
    "    * Example: When rolling a die, the sample space is _S_ = {1, 2, 3, 4, 5, 6}\n",
    "    * Example: When tossing a coin twice, the sample space is _S_ = {HH, HT, TH, TT}\n",
    "* **Event:** A subset of the sample space. The set of outcomes we are interested in or want to happen.\n",
    "    * Example: The event of rolling an even number on a die: _E_ = {2, 4, 6}\n",
    "    * Example: The event of getting at least one tail when tossing a coin twice: _E_ = {HT, TH, TT}\n",
    "* **Probability Function:** A function which assigns to each event of the sample space a probability between 0 and 1.\n",
    "\n",
    "---\n",
    "\n",
    "## 2. Probability Rules\n"
   ]
  }
 ],
 "metadata": {
  "language_info": {
   "name": "python"
  }
 },
 "nbformat": 4,
 "nbformat_minor": 2
}
