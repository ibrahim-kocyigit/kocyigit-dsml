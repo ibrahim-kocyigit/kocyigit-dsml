{
 "cells": [
  {
   "cell_type": "markdown",
   "id": "0f0cb699-4f7c-4557-9a16-c0883f9ee0e1",
   "metadata": {},
   "source": [
    "# Linear Algebra for Machine Learning"
   ]
  },
  {
   "cell_type": "code",
   "execution_count": 15,
   "id": "a6d6dd51-42cf-4b7d-a923-03ae86fd2f09",
   "metadata": {},
   "outputs": [],
   "source": [
    "# Importing necessary packages\n",
    "import numpy as np"
   ]
  },
  {
   "cell_type": "markdown",
   "id": "0b185ee5-8f94-4438-9ec7-e959a9e5734f",
   "metadata": {},
   "source": [
    "## Scalars, Vectors, and Matrices\n",
    "Scalars, vectors, and matrices are fundamental structures of linear algebra, and understanding them is integral to unlock the concepts of machine learning.\n",
    "\n",
    "They can all be represented in Python using the NumPy library."
   ]
  },
  {
   "cell_type": "markdown",
   "id": "31647640-8177-4b74-99c6-1ad85faef232",
   "metadata": {},
   "source": [
    "### Scalar\n",
    "A **scalar** is a singular quantity, like a number."
   ]
  },
  {
   "cell_type": "code",
   "execution_count": 16,
   "id": "3e29eb61-236b-4bce-9217-fcfa13a489e7",
   "metadata": {},
   "outputs": [
    {
     "data": {
      "text/plain": [
       "5"
      ]
     },
     "execution_count": 16,
     "metadata": {},
     "output_type": "execute_result"
    }
   ],
   "source": [
    "c = 5\n",
    "c"
   ]
  },
  {
   "cell_type": "markdown",
   "id": "4bca80da-397b-4087-979c-14c13ceeebde",
   "metadata": {},
   "source": [
    "### Vector\n",
    "A **vector** is an array of numbers (scalar values)."
   ]
  },
  {
   "cell_type": "code",
   "execution_count": 17,
   "id": "e29765ab-fb17-4d66-b926-890fb5d3a3dc",
   "metadata": {},
   "outputs": [
    {
     "data": {
      "text/plain": [
       "array([1, 2, 3, 4])"
      ]
     },
     "execution_count": 17,
     "metadata": {},
     "output_type": "execute_result"
    }
   ],
   "source": [
    "# Vector\n",
    "x = np.array([1, 2, 3, 4])\n",
    "x"
   ]
  },
  {
   "cell_type": "markdown",
   "id": "ee85b209-3d8c-40f7-a846-91d8c0c8b103",
   "metadata": {},
   "source": [
    "### Matrix\n",
    "A **matrix** is a grid of information with rows and columns."
   ]
  },
  {
   "cell_type": "code",
   "execution_count": 19,
   "id": "b357e385-0e1b-44ad-89f8-917f8a326249",
   "metadata": {},
   "outputs": [
    {
     "data": {
      "text/plain": [
       "array([[1, 2, 3],\n",
       "       [4, 5, 6],\n",
       "       [7, 8, 9]])"
      ]
     },
     "execution_count": 19,
     "metadata": {},
     "output_type": "execute_result"
    }
   ],
   "source": [
    "# Matrix\n",
    "X = np.array([[1, 2, 3], [4, 5, 6], [7, 8, 9]])\n",
    "X"
   ]
  },
  {
   "cell_type": "markdown",
   "id": "4d830a04-c790-4e23-b6d7-b26f99a7d27f",
   "metadata": {},
   "source": [
    "## Matrix Addition"
   ]
  },
  {
   "cell_type": "code",
   "execution_count": null,
   "id": "9b6a5711-cd39-4d00-ad2e-5707b71ed8b3",
   "metadata": {},
   "outputs": [],
   "source": []
  }
 ],
 "metadata": {
  "kernelspec": {
   "display_name": "Python 3 (ipykernel)",
   "language": "python",
   "name": "python3"
  },
  "language_info": {
   "codemirror_mode": {
    "name": "ipython",
    "version": 3
   },
   "file_extension": ".py",
   "mimetype": "text/x-python",
   "name": "python",
   "nbconvert_exporter": "python",
   "pygments_lexer": "ipython3",
   "version": "3.13.2"
  }
 },
 "nbformat": 4,
 "nbformat_minor": 5
}
