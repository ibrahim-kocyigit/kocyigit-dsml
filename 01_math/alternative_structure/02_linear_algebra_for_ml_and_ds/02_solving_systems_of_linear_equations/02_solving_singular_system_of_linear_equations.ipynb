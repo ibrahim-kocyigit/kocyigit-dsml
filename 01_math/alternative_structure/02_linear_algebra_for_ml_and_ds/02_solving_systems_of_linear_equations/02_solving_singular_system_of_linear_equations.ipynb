{
 "cells": [
  {
   "cell_type": "markdown",
   "id": "ab513a1d-cf15-4e52-8339-accda4f2f813",
   "metadata": {},
   "source": [
    "# Solving Singular Systems of Linear Equations"
   ]
  },
  {
   "cell_type": "markdown",
   "id": "edb348ec-e0e1-4f17-bc0a-9fc806cee078",
   "metadata": {},
   "source": [
    "The method we learned for solving systems is powerful because it also reveals the nature of **singular systems**—those that do not have a single, unique solution.\n",
    "\n",
    "Let's apply the same step-by-step process to the singular systems we've seen before and observe what happens.\n",
    "\n",
    "---\n",
    "\n",
    "## Case 1: The Redundant System\n",
    "\n",
    "Recall the redundant system where the second equation was just a multiple of the first:\n",
    "1.  $a + b = 10$\n",
    "2.  $2a + 2b = 20$\n",
    "\n",
    "Let's follow the algorithm to try and eliminate `a` from the second equation.\n",
    "\n",
    "### Step 1: Normalize the 'a' Coefficient\n",
    "* **Equation 1:** Already has a coefficient of 1. ➔ $a + b = 10$\n",
    "* **Equation 2:** Divide by 2. ➔ $a + b = 10$\n",
    "\n",
    "Our new system consists of two identical equations.\n",
    "\n",
    "### Step 2: Eliminate 'a' from the Second Equation\n",
    "Now, we subtract the new Equation 1 from the new Equation 2:\n",
    "\n",
    "$ (a + b) - (a + b) = 10 - 10 $  \n",
    "$ 0 = 0 $\n",
    "\n",
    "### Analysis\n",
    "The result `0 = 0` is a true statement, but it gives us **zero information** about the values of `a` or `b`. In our attempt to eliminate `a`, the variable `b` was also eliminated. This happens because the system is singular; one variable cannot be isolated from the other.\n",
    "\n",
    "This tells us the system has **infinitely many solutions**. We can express the solution using a \"degree of freedom.\" Let's say we pick any value `x` for `a`:\n",
    "* If $a = x$\n",
    "* Then, from the equation $a+b=10$, it must be that $b = 10 - x$.\n",
    "\n",
    "This is the general solution to the system.\n",
    "\n",
    "---\n",
    "## Case 2: The Contradictory System\n",
    "\n",
    "Now let's try the contradictory system:\n",
    "1.  $a + b = 10$\n",
    "2.  $2a + 2b = 24$\n",
    "\n",
    "### Step 1: Normalize the 'a' Coefficient\n",
    "* **Equation 1:** ➔ $a + b = 10$\n",
    "* **Equation 2:** Divide by 2. ➔ $a + b = 12$\n",
    "\n",
    "### Step 2: Eliminate 'a' from the Second Equation\n",
    "Subtract the new Equation 1 from the new Equation 2:\n",
    "\n",
    "$ (a + b) - (a + b) = 12 - 10 $  \n",
    "$ 0 = 2 $\n",
    "\n",
    "### Analysis\n",
    "The result `0 = 2` is a mathematical **contradiction**. This statement can never be true. This is the algorithm's way of telling us that the system is impossible to solve and has **no solution**.\n"
   ]
  }
 ],
 "metadata": {
  "kernelspec": {
   "display_name": "Python 3 (ipykernel)",
   "language": "python",
   "name": "python3"
  },
  "language_info": {
   "codemirror_mode": {
    "name": "ipython",
    "version": 3
   },
   "file_extension": ".py",
   "mimetype": "text/x-python",
   "name": "python",
   "nbconvert_exporter": "python",
   "pygments_lexer": "ipython3",
   "version": "3.13.5"
  }
 },
 "nbformat": 4,
 "nbformat_minor": 5
}
