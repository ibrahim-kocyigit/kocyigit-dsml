{
 "cells": [
  {
   "cell_type": "markdown",
   "id": "7473a152-4c29-4444-93c1-87c787c83ccd",
   "metadata": {},
   "source": [
    "# The Rank of a Matrix"
   ]
  },
  {
   "cell_type": "markdown",
   "id": "48392ea5-1f57-451b-9d8b-9145328d5920",
   "metadata": {},
   "source": [
    "We've been building an intuition for how much \"information\" a system of equations carries. The **rank** of a matrix is the formal, numerical measure for this concept.\n",
    "\n",
    "A great practical application of rank in machine learning is **image compression**. An image can be represented as a matrix of pixel intensities. The rank of this matrix is related to its complexity. By using techniques like Singular Value Decomposition (SVD), we can reduce the rank of the matrix, creating a slightly blurrier but much smaller version of the image.\n",
    "\n",
    "![Rank](./images/0601.png)\n",
    "\n",
    "---\n",
    "\n",
    "## Defining and Calculating Rank\n",
    "\n",
    "The \"rank\" of a system is simply the number of unique, non-redundant pieces of information it contains. This idea extends directly to matrices.\n",
    "\n",
    "Let's look at our three 2x2 homogeneous systems from before:\n",
    "\n",
    "* **System 1 (Non-Singular):** Had 2 unique pieces of information. ➔ **Rank = 2**\n",
    "* **System 2 (Singular, Redundant):** Had 1 unique piece of information. ➔ **Rank = 1**\n",
    "* **System 3 (Singular, Trivial):** Had 0 pieces of information. ➔ **Rank = 0**\n",
    "\n",
    "--- \n",
    "\n",
    "## The Rank-Nullity Relationship\n",
    "\n",
    "There is a fundamental relationship between a matrix's rank and the **dimension of its solution space** (also called the \"null space\"). Recall the dimensions we found for our examples:\n",
    "\n",
    "| System Type | Solution Space | Dimension of Solution Space | Rank |\n",
    "| :--- | :--- | :--- | :--- |\n",
    "| Non-Singular | A single point (the origin) | 0 | 2 |\n",
    "| Singular (Redundant)| A line | 1 | 1 |\n",
    "| Singular (Trivial) | A plane (all possible solutions)| 2 | 0 |\n",
    "\n",
    "This reveals a crucial formula, a version of the **Rank-Nullity Theorem**:\n",
    "\n",
    "> **Rank + Dimension of Solution Space = Number of Columns**\n",
    "\n",
    "For our 2x2 matrices, the number of columns is 2, and the formula holds perfectly:\n",
    "* $2 + 0 = 2$\n",
    "* $1 + 1 = 2$\n",
    "* $0 + 2 = 2$\n",
    "\n",
    "This gives us our best and most practical definition of singularity:\n",
    "\n",
    "> A square matrix is **non-singular** if and only if it has **full rank** (meaning its rank is equal to its number of columns/rows).\n",
    "\n",
    "A full-rank matrix has no redundant information, its solution space is just a single point (dimension 0), and every equation in its system contributes something new.\n"
   ]
  }
 ],
 "metadata": {
  "kernelspec": {
   "display_name": "Python 3 (ipykernel)",
   "language": "python",
   "name": "python3"
  },
  "language_info": {
   "codemirror_mode": {
    "name": "ipython",
    "version": 3
   },
   "file_extension": ".py",
   "mimetype": "text/x-python",
   "name": "python",
   "nbconvert_exporter": "python",
   "pygments_lexer": "ipython3",
   "version": "3.13.5"
  }
 },
 "nbformat": 4,
 "nbformat_minor": 5
}
