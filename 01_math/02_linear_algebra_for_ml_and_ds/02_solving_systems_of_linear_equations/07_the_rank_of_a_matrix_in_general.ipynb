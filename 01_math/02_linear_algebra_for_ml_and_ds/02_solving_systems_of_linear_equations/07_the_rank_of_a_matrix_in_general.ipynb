{
 "cells": [
  {
   "cell_type": "markdown",
   "id": "9b149210-a6fd-4b84-b343-1c8898f6d69a",
   "metadata": {},
   "source": [
    "# The Rank of a Matrix in General"
   ]
  },
  {
   "cell_type": "markdown",
   "id": "2b90bca1-5431-42e1-9d55-0357cdae9792",
   "metadata": {},
   "source": [
    "Just as with 2x2 matrices, the **rank** is a measure of how non-singular a larger matrix is. The concept is the same: the rank measures how much unique, non-redundant information the matrix (or its corresponding system of linear equations) is carrying.\n",
    "\n",
    "The number of **linearly independent** equations in a system determines its rank. An equation is considered dependent if it can be constructed from a linear combination of the other equations in the system.\n",
    "\n",
    "Let's analyze 4 3x3 systems to define the rank for larger matrices.\n",
    "\n",
    "### System 1 (Non-Singular)\n",
    "* **Equations:**\n",
    "    1.  $a + b + c = 0$\n",
    "    2.  $a + 2b + c = 0$\n",
    "    3.  $a + b + 2c = 0$\n",
    "* **Analysis:** In this system, it's impossible to obtain any one equation from a combination of the other two. All three equations are linearly independent.\n",
    "* **Information:** 3 equations, 3 unique pieces of information.\n",
    "* **Result:** The system has **Rank = 3**. The corresponding matrix also has **Rank = 3**.\n",
    "\n",
    "### System 2 (Singular)\n",
    "* **Equations:**\n",
    "    1.  $a + b + c = 0$\n",
    "    2.  $a + b + 2c = 0$\n",
    "    3.  $a + b + 3c = 0$\n",
    "* **Analysis:** In this system, the third equation is a linear combination of the first two (specifically, `Eq3 = 2 * Eq2 - Eq1`). It provides no new information.\n",
    "* **Information:** 3 equations, but only 2 unique pieces of information.\n",
    "* **Result:** The system has **Rank = 2**. The corresponding matrix also has **Rank = 2**.\n",
    "\n",
    "### System 3 (Singular)\n",
    "* **Equations:**\n",
    "    1.  $a + b + c = 0$\n",
    "    2.  $2a + 2b + 2c = 0$\n",
    "    3.  $3a + 3b + 3c = 0$\n",
    "* **Analysis:** The second equation is twice the first, and the third is three times the first. Both are linearly dependent on the first equation.\n",
    "* **Information:** 3 equations, but only 1 unique piece of information.\n",
    "* **Result:** The system has **Rank = 1**. The corresponding matrix also has **Rank = 1**.\n",
    "\n",
    "### System 4 (Singular, Trivial)\n",
    "* **Equations:**\n",
    "    1.  $0a + 0b + 0c = 0$\n",
    "    2.  $0a + 0b + 0c = 0$\n",
    "    3.  $0a + 0b + 0c = 0$\n",
    "* **Analysis:** All equations are `0=0`. No equation provides any information about the variables.\n",
    "* **Information:** 3 equations, 0 pieces of information.\n",
    "* **Result:** The system has **Rank = 0**. The corresponding matrix also has **Rank = 0**.\n",
    "\n",
    "---\n",
    "\n",
    "## The Next Step: A Simpler Way to Calculate Rank\n",
    "\n",
    "A question naturally arises: checking for linear dependence by hand seems difficult and time-consuming. Is there a simpler, more algorithmic way to calculate the rank of any matrix?\n",
    "\n",
    "The answer is **yes**, and it involves using the **row echelon form** of the matrix, which we will explore next."
   ]
  }
 ],
 "metadata": {
  "kernelspec": {
   "display_name": "Python 3 (ipykernel)",
   "language": "python",
   "name": "python3"
  },
  "language_info": {
   "codemirror_mode": {
    "name": "ipython",
    "version": 3
   },
   "file_extension": ".py",
   "mimetype": "text/x-python",
   "name": "python",
   "nbconvert_exporter": "python",
   "pygments_lexer": "ipython3",
   "version": "3.13.5"
  }
 },
 "nbformat": 4,
 "nbformat_minor": 5
}
