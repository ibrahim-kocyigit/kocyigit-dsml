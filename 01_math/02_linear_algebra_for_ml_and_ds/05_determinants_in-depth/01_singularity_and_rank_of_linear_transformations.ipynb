{
 "cells": [
  {
   "cell_type": "markdown",
   "id": "7529b90b-8f3e-4fb3-bffb-b9832ed3582f",
   "metadata": {},
   "source": [
    "# Singularity and Rank of Linear Transformations"
   ]
  },
  {
   "cell_type": "markdown",
   "id": "e4bed36a-4947-41f2-b234-39af7c649b63",
   "metadata": {},
   "source": [
    "Since matrices correspond to linear transformations, the concepts of **singular** and **non-singular** can be understood visually. The geometry of a transformation gives us a very intuitive way to identify its nature and even its **rank**.\n",
    "\n",
    "The key is to look at the **image** of the transformation—the set of all possible output points after applying the transformation to every point in the original space.\n",
    "\n",
    "---\n",
    "## Case 1: Non-Singular Transformation\n",
    "\n",
    "A **non-singular** transformation is one that maps a space onto another space of the **same dimension**. For example, it takes a 2D plane and maps it to the entire 2D plane. The grid might be stretched or sheared, but it still covers every point.\n",
    "\n",
    "Let's analyze the transformation defined by this matrix:  \n",
    "\n",
    "$ A = \\begin{bmatrix} 3 & 1 \\\\ 1 & 2 \\end{bmatrix} $  \n",
    "\n",
    "To understand what this does to the entire plane, we only need to see where it sends our basis vectors, $\\hat{i} = (1, 0)$ and $\\hat{j} = (0, 1)$.\n",
    "\n",
    "* **Transforming $\\hat{i}$:** $ \\begin{bmatrix} 3 & 1 \\\\ 1 & 2 \\end{bmatrix} \\begin{bmatrix} 1 \\\\ 0 \\end{bmatrix} = \\begin{bmatrix} 3 \\\\ 1 \\end{bmatrix} $  \n",
    "\n",
    "* **Transforming $\\hat{j}$:** $ \\begin{bmatrix} 3 & 1 \\\\ 1 & 2 \\end{bmatrix} \\begin{bmatrix} 0 \\\\ 1 \\end{bmatrix} = \\begin{bmatrix} 1 \\\\ 2 \\end{bmatrix} $\n",
    "\n",
    "Because the two resulting vectors are not parallel, they form a new, valid basis that can span the entire 2D plane. Let's visualize this.\n",
    "\n",
    "![](./images/0101.png)\n"
   ]
  },
  {
   "cell_type": "markdown",
   "id": "230f656c-77cb-4ec1-8f25-699a262a4b31",
   "metadata": {},
   "source": [
    "**Analysis:** The image of this transformation is the entire 2D plane. Since the dimension of the image (2) is the same as the dimension of the original space (2), the transformation is **non-singular**.\n",
    "\n",
    "---\n",
    "\n",
    "## Case 2: Singular Transformation\n",
    "\n",
    "A **singular** transformation is one that squashes a space into a **lower dimension**. For example, it might take a 2D plane and collapse all the points onto a single line.\n",
    "\n",
    "Let's analyze the transformation defined by this matrix:  \n",
    "\n",
    "$ B = \\begin{bmatrix} 1 & 1 \\\\ 2 & 2 \\end{bmatrix} $  \n",
    "\n",
    "Again, let's see where it sends our basis vectors:\n",
    "\n",
    "* **Transforming $\\hat{i}$:** $ \\begin{bmatrix} 1 & 1 \\\\ 2 & 2 \\end{bmatrix} \\begin{bmatrix} 1 \\\\ 0 \\end{bmatrix} = \\begin{bmatrix} 1 \\\\ 2 \\end{bmatrix} $  \n",
    "\n",
    "* **Transforming $\\hat{j}$:** $ \\begin{bmatrix} 1 & 1 \\\\ 2 & 2 \\end{bmatrix} \\begin{bmatrix} 0 \\\\ 1 \\end{bmatrix} = \\begin{bmatrix} 1 \\\\ 2 \\end{bmatrix} $\n",
    "\n",
    "Both basis vectors land on the exact same output vector `(1, 2)`. This means the entire grid of the original plane gets collapsed onto the single line defined by this vector.\n",
    "\n",
    "![](./images/0102.png)\n"
   ]
  },
  {
   "cell_type": "markdown",
   "id": "ac620ada-8a51-483a-acec-fdc42b8647a2",
   "metadata": {},
   "source": [
    "**Analysis:** The image of this transformation is a line, which has a dimension of 1. Since the dimension of the image (1) is less than the dimension of the original space (2), the transformation is **singular**.\n",
    "\n",
    "---\n",
    "## The Geometric Definition of Rank\n",
    "\n",
    "This visual understanding gives us our best definition of rank:\n",
    "\n",
    "> **The rank of a matrix is the dimension of the image of its corresponding linear transformation.**\n",
    "\n",
    "Let's summarize our findings:\n",
    "\n",
    "| Matrix Type | Image of Transformation | Dimension of Image | Rank |\n",
    "| :--- | :--- | :--- | :--- |\n",
    "| **Non-Singular (A)**| The entire 2D plane | 2 | **2** |\n",
    "| **Singular (B)** | A line | 1 | **1** |\n",
    "| **Zero Matrix (C)** | A point (the origin) | 0 | **0** |\n",
    "\n",
    "This shows that the rank directly measures how \"squashed\" or \"collapsed\" the output of a transformation is. A full-rank matrix preserves the original dimension, while a rank-deficient matrix reduces it."
   ]
  }
 ],
 "metadata": {
  "kernelspec": {
   "display_name": "Python 3 (ipykernel)",
   "language": "python",
   "name": "python3"
  },
  "language_info": {
   "codemirror_mode": {
    "name": "ipython",
    "version": 3
   },
   "file_extension": ".py",
   "mimetype": "text/x-python",
   "name": "python",
   "nbconvert_exporter": "python",
   "pygments_lexer": "ipython3",
   "version": "3.13.5"
  }
 },
 "nbformat": 4,
 "nbformat_minor": 5
}
