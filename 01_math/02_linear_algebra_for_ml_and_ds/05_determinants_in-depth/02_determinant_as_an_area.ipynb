{
 "cells": [
  {
   "cell_type": "markdown",
   "id": "b099d9e6-daaf-49da-805c-7e9f1a5043a4",
   "metadata": {},
   "source": [
    "# The Determinant as an Area"
   ]
  },
  {
   "cell_type": "markdown",
   "id": "ab0050be-3873-4d0c-8276-4bf4a9cf7b78",
   "metadata": {},
   "source": [
    "In the first week, we learned that the determinant is a number that tells us if a matrix is singular. If `det(A) = 0`, the matrix is singular.\n",
    "\n",
    "Now, we'll explore the beautiful geometric meaning of this number. For a 2D linear transformation, the determinant tells us the **scaling factor of the area**. It measures how much the area of a shape changes after the transformation is applied.\n",
    "\n",
    "Specifically, the determinant is the **area of the parallelogram** that the original unit square is transformed into.\n",
    "\n",
    "---\n",
    "\n",
    "## Case 1: Non-Singular Transformation (det ≠ 0)\n",
    "\n",
    "Let's consider our standard non-singular matrix:  \n",
    "\n",
    "$ A = \\begin{bmatrix} 3 & 1 \\\\ 1 & 2 \\end{bmatrix} $  \n",
    "\n",
    "Its determinant is $ (3)(2) - (1)(1) = 5 $.\n",
    "\n",
    "The original unit square, formed by the basis vectors $\\hat{i}$ and $\\hat{j}$, has an area of 1. When we apply the transformation, this square is warped into a parallelogram. The area of this new parallelogram is exactly **5**, the value of the determinant.\n",
    "\n",
    "![](./images/0201.png)\n"
   ]
  },
  {
   "cell_type": "markdown",
   "id": "dfe7e3ed-a246-454b-9b3d-00b2435dc4ab",
   "metadata": {},
   "source": [
    "---\n",
    "\n",
    "## Case 2: Singular Transformation (det = 0)\n",
    "\n",
    "What happens with a singular matrix? Let's take our example:  \n",
    "\n",
    "$ B = \\begin{bmatrix} 1 & 1 \\\\ 2 & 2 \\end{bmatrix} $  \n",
    "\n",
    "Its determinant is $ (1)(2) - (1)(2) = 0 $.\n",
    "\n",
    "When we apply this transformation, the unit square is collapsed into a flat line segment. A line segment has **zero area**. This is why the determinant is 0.\n",
    "\n",
    "This gives us the key geometric insight:\n",
    "> A transformation is **singular** if it squashes space into a lower dimension, reducing its area (or volume) to **zero**.\n",
    "\n",
    "---\n",
    "\n",
    "## What About Negative Determinants?\n",
    "\n",
    "A determinant can be negative. For example, if we swap the columns of our matrix `A`:  \n",
    "\n",
    "$ C = \\begin{bmatrix} 1 & 3 \\\\ 2 & 1 \\end{bmatrix} \\implies \\det(C) = (1)(1) - (3)(2) = -5 $  \n",
    "\n",
    "A negative determinant means the transformation **inverts the orientation of space**.\n",
    "\n",
    "Think of the basis vectors $\\hat{i}$ (x-axis) and $\\hat{j}$ (y-axis). Normally, $\\hat{j}$ is 90 degrees counter-clockwise from $\\hat{i}$. A transformation with a negative determinant \"flips\" the space, so that the transformed $\\hat{j}$ is now on the \"wrong\" side of the transformed $\\hat{i}$.\n",
    "\n",
    "The **absolute value** of the determinant, $|-5| = 5$, still tells us the scaling factor of the area. For determining singularity, all that matters is whether the determinant is **zero** or **non-zero**.\n",
    "\n",
    "![](./images/0202.png)\n"
   ]
  }
 ],
 "metadata": {
  "kernelspec": {
   "display_name": "Python 3 (ipykernel)",
   "language": "python",
   "name": "python3"
  },
  "language_info": {
   "codemirror_mode": {
    "name": "ipython",
    "version": 3
   },
   "file_extension": ".py",
   "mimetype": "text/x-python",
   "name": "python",
   "nbconvert_exporter": "python",
   "pygments_lexer": "ipython3",
   "version": "3.13.5"
  }
 },
 "nbformat": 4,
 "nbformat_minor": 5
}
