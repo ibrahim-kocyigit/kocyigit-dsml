{
 "cells": [
  {
   "cell_type": "markdown",
   "id": "e3d8337d-4463-419b-a2c5-af463c8e949e",
   "metadata": {},
   "source": [
    "# The Determinant of a Product"
   ]
  },
  {
   "cell_type": "markdown",
   "id": "22c139c6-c49a-494c-96cf-44dc76d71197",
   "metadata": {},
   "source": [
    "Now that we understand the determinant as a geometric scaling factor, we can explore how it behaves when we combine linear transformations through matrix multiplication. This leads to a very simple and powerful rule.\n",
    "\n",
    "> **Rule:** The determinant of a product of matrices is equal to the product of their individual determinants.\n",
    "> \n",
    "> $ \\det(A \\cdot B) = \\det(A) \\cdot \\det(B) $\n",
    "\n",
    "Let's verify this with the example matrices:\n",
    "\n",
    "* **Matrix A (First Transformation):** $ A = \\begin{bmatrix} 3 & 1 \\\\ 1 & 2 \\end{bmatrix} \\implies \\det(A) = 5 $\n",
    "* **Matrix B (Second Transformation):** $ B = \\begin{bmatrix} 1 & 1 \\\\ -2 & 1 \\end{bmatrix} \\implies \\det(B) = 3 $\n",
    "* **Product (C = B · A):** $ \\begin{bmatrix} 3 & 1 \\\\ 1 & 2 \\end{bmatrix} \\begin{bmatrix} 1 & 1 \\\\ -2 & 1 \\end{bmatrix} = \\begin{bmatrix} 1 & 4 \\\\ -3 & 3 \\end{bmatrix} $\n",
    "\n",
    "* **Determinant of Product:** $ \\det(C) = (1)(3) - (4)(-3) = 3 - (-12) = 15 $\n",
    "\n",
    "As we can see, $ \\det(A) \\cdot \\det(B) = 5 \\times 3 = 15 $, so the rule holds.\n",
    "\n",
    "---\n",
    "## The Geometric Intuition\n",
    "\n",
    "The geometric intuition is the simplest way to understand this rule.\n",
    "\n",
    "* **Transformation A** scales the area of any shape by a factor of 5 (its determinant).\n",
    "* **Transformation B** scales the area of any shape by a factor of 3 (its determinant).\n",
    "\n",
    "When we perform the combined transformation, $B \\cdot A$, we are **first applying transformation A**, which scales the area of the unit square from 1 to 5. Then, we are **applying transformation B to that new shape**, which scales its area by another factor of 3.\n",
    "\n",
    "Therefore, the total scaling factor must be $5 \\times 3 = 15$. This is the determinant of the product matrix.\n",
    "\n",
    "![Determinant of a Product Matrix](./images/det_product.png)\n",
    "\n",
    "---\n",
    "\n",
    "## Product of a Singular and Non-Singular Matrix\n",
    "\n",
    "What happens if you multiply a singular matrix by a non-singular matrix?\n",
    "\n",
    "* Let matrix `A` be non-singular, so `det(A) ≠ 0`.\n",
    "* Let matrix `B` be singular, so `det(B) = 0`.\n",
    "\n",
    "The determinant of their product `A · B` will be:  \n",
    "\n",
    "$ \\det(A \\cdot B) = \\det(A) \\cdot \\det(B) = \\det(A) \\cdot 0 = 0 $\n",
    "\n",
    "Since the determinant of the product is 0, the resulting matrix **must be singular**.\n",
    "\n",
    "**Geometric Intuition:**\n",
    "If one of your transformations (e.g., B) is singular, it squashes the plane into a lower dimension (a line or a point), which has an area of 0. No matter what the other transformation (A) does, it cannot \"un-squash\" the space back into a full plane. Once the area is zero, it stays zero.\n",
    "\n",
    "![Determinant](./images/det_zero.png)\n"
   ]
  }
 ],
 "metadata": {
  "kernelspec": {
   "display_name": "Python 3 (ipykernel)",
   "language": "python",
   "name": "python3"
  },
  "language_info": {
   "codemirror_mode": {
    "name": "ipython",
    "version": 3
   },
   "file_extension": ".py",
   "mimetype": "text/x-python",
   "name": "python",
   "nbconvert_exporter": "python",
   "pygments_lexer": "ipython3",
   "version": "3.13.5"
  }
 },
 "nbformat": 4,
 "nbformat_minor": 5
}
