{
 "cells": [
  {
   "cell_type": "markdown",
   "id": "a41f13ab-f9b4-4b38-af0b-849daa2fc5b9",
   "metadata": {},
   "source": [
    "# The Determinant of an Inverse"
   ]
  },
  {
   "cell_type": "markdown",
   "id": "3892f224-910e-4657-b9f3-57459764fa73",
   "metadata": {},
   "source": [
    "There is a very simple and powerful rule that connects the determinant of a matrix to the determinant of its inverse.\n",
    "\n",
    "> **Rule:** The determinant of an inverse matrix is the reciprocal of the determinant of the original matrix.\n",
    "> \n",
    "> $ \\det(A^{-1}) = \\frac{1}{\\det(A)} $\n",
    "\n",
    "This makes intuitive sense. If a transformation `A` scales the area of a space by a factor of 5, then the inverse transformation `A⁻¹` must scale it back down by a factor of 1/5 to return the space to its original state.\n",
    "\n",
    "Let's look at some examples to verify this:\n",
    "\n",
    "* **Example 1:**\n",
    "    * $ A = \\begin{bmatrix} 3 & 1 \\\\ 1 & 2 \\end{bmatrix} \\implies \\det(A) = 5 $\n",
    "\n",
    "    * $ A^{-1} = \\begin{bmatrix} 0.4 & -0.2 \\\\ -0.2 & 0.6 \\end{bmatrix} \\implies \\det(A^{-1}) = 0.2 $\n",
    "\n",
    "    * We can see that $0.2 = \\frac{1}{5}$. The rule holds.\n",
    "\n",
    "* **Example 2 (Singular Matrix):**\n",
    "    * $ B = \\begin{bmatrix} 1 & 1 \\\\ 2 & 2 \\end{bmatrix} \\implies \\det(B) = 0 $\n",
    "\n",
    "    * This matrix is singular and **has no inverse**. Notice that the formula $\\frac{1}{\\det(B)}$ would result in division by zero, which is undefined. The rule is consistent.\n",
    "\n",
    "---\n",
    "## The Algebraic Proof\n",
    "\n",
    "Why is this rule always true? We can prove it easily using the rules we already know.\n",
    "\n",
    "1.  **Start with the definition of an inverse:**\n",
    "\n",
    "    $ A \\cdot A^{-1} = I $  \n",
    "\n",
    "    (A matrix multiplied by its inverse is the identity matrix)\n",
    "\n",
    "2.  **Take the determinant of both sides:**  \n",
    "\n",
    "    $ \\det(A \\cdot A^{-1}) = \\det(I) $  \n",
    "\n",
    "\n",
    "3.  **Apply the product rule for determinants** to the left side:\n",
    "\n",
    "    $ \\det(A) \\cdot \\det(A^{-1}) = \\det(I) $\n",
    "\n",
    "4.  **The determinant of the identity matrix is always 1.** The identity transformation doesn't change the area of the unit square at all, so its area scaling factor is 1. Therefore:\n",
    "\n",
    "    $ \\det(A) \\cdot \\det(A^{-1}) = 1 $\n",
    "\n",
    "5.  **Solve for the determinant of the inverse** by dividing both sides by $\\det(A)$:\n",
    "\n",
    "    $ \\det(A^{-1}) = \\frac{1}{\\det(A)} $  \n",
    "\n",
    "This simple proof confirms our rule."
   ]
  }
 ],
 "metadata": {
  "kernelspec": {
   "display_name": "Python 3 (ipykernel)",
   "language": "python",
   "name": "python3"
  },
  "language_info": {
   "codemirror_mode": {
    "name": "ipython",
    "version": 3
   },
   "file_extension": ".py",
   "mimetype": "text/x-python",
   "name": "python",
   "nbconvert_exporter": "python",
   "pygments_lexer": "ipython3",
   "version": "3.13.5"
  }
 },
 "nbformat": 4,
 "nbformat_minor": 5
}
