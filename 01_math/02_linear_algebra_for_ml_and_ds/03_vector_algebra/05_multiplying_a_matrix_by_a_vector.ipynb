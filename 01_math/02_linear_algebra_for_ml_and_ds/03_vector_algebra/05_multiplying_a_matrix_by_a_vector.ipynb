{
 "cells": [
  {
   "cell_type": "markdown",
   "id": "9820bf05-381b-40a7-80fd-654a854cd3a3",
   "metadata": {},
   "source": [
    "# Multiplying a Matrix by a Vector"
   ]
  },
  {
   "cell_type": "markdown",
   "id": "2db9bbe9-0e64-4ae1-9500-c1edf11d4b1b",
   "metadata": {},
   "source": [
    "In this lesson, we will learn how to multiply a matrix and a vector. This operation is fundamental to linear algebra and is precisely how we represent a system of linear equations in a compact form.\n",
    "\n",
    "---\n",
    "\n",
    "## From a Single Equation to a Dot Product\n",
    "\n",
    "Recall that the dot product is the sum of the products of corresponding entries. A single linear equation can be expressed as a dot product.\n",
    "\n",
    "For example, the equation for the total cost of fruit:  \n",
    "\n",
    "$ 2a + 4b + c = 28 $  \n",
    "\n",
    "...can be written as the dot product of a **row vector** of quantities and a **column vector** of unknown prices:  \n",
    "\n",
    "$\n",
    "\\begin{bmatrix} 2 & 4 & 1 \\end{bmatrix} \\cdot \\begin{bmatrix} a \\\\ b \\\\ c \\end{bmatrix} = 28\n",
    "$  \n",
    "\n",
    "---\n",
    "\n",
    "## From a System of Equations to Multiple Dot Products\n",
    "\n",
    "Now, imagine we have a system of three equations. Each equation can be expressed as its own dot product.\n",
    "\n",
    "**System of Equations:**\n",
    "1.  $a + b + c = 10$\n",
    "2.  $a + 2b + c = 15$\n",
    "3.  $a + b + 2c = 12$\n",
    "\n",
    "**As Dot Products:**\n",
    "1.  $\\begin{bmatrix} 1 & 1 & 1 \\end{bmatrix} \\cdot \\begin{bmatrix} a \\\\ b \\\\ c \\end{bmatrix} = 10$\n",
    "2.  $\\begin{bmatrix} 1 & 2 & 1 \\end{bmatrix} \\cdot \\begin{bmatrix} a \\\\ b \\\\ c \\end{bmatrix} = 15$\n",
    "3.  $\\begin{bmatrix} 1 & 1 & 2 \\end{bmatrix} \\cdot \\begin{bmatrix} a \\\\ b \\\\ c \\end{bmatrix} = 12$\n",
    "\n",
    "---\n",
    "\n",
    "## The Final Step: Matrix-Vector Multiplication\n",
    "\n",
    "Writing out three separate dot products is clumsy. Since the column vector of variables `(a, b, c)` is the same in each equation, we can combine the row vectors into a single **matrix**.\n",
    "\n",
    "This gives us the **matrix-vector product**, which is simply a stack of dot products:  \n",
    "\n",
    "* $\n",
    "\\begin{bmatrix}\n",
    "1 & 1 & 1 \\\\\n",
    "1 & 2 & 1 \\\\\n",
    "1 & 1 & 2\n",
    "\\end{bmatrix}\n",
    "\\begin{bmatrix} a \\\\ b \\\\ c \\end{bmatrix}\n",
    "=\n",
    "\\begin{bmatrix} 10 \\\\ 15 \\\\ 12 \\end{bmatrix}\n",
    "$\n",
    "\n",
    "This is the standard, compact way to represent a system of linear equations: **$Xw = y$**.\n",
    "\n",
    "---\n",
    "## A Note on Dimensions\n",
    "\n",
    "For matrix-vector multiplication to be defined, the **number of columns in the matrix** must equal the **number of components (rows) in the vector**.\n",
    "\n",
    "* A **3x3** matrix can be multiplied by a **3x1** vector. ✅\n",
    "* A **4x3** matrix can be multiplied by a **3x1** vector. ✅\n",
    "* A **3x3** matrix **cannot** be multiplied by a **2x1** vector. ❌\n",
    "\n",
    "The result of the multiplication will be a new vector whose length is equal to the **number of rows** in the matrix."
   ]
  }
 ],
 "metadata": {
  "kernelspec": {
   "display_name": "Python 3 (ipykernel)",
   "language": "python",
   "name": "python3"
  },
  "language_info": {
   "codemirror_mode": {
    "name": "ipython",
    "version": 3
   },
   "file_extension": ".py",
   "mimetype": "text/x-python",
   "name": "python",
   "nbconvert_exporter": "python",
   "pygments_lexer": "ipython3",
   "version": "3.13.5"
  }
 },
 "nbformat": 4,
 "nbformat_minor": 5
}
