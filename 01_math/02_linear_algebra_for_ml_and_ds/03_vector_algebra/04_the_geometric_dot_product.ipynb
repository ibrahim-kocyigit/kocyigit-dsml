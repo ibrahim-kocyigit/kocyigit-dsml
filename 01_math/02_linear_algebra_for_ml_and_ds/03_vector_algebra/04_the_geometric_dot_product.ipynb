{
 "cells": [
  {
   "cell_type": "markdown",
   "id": "e099dad6-eb54-4b3d-ad0e-abccd1e68e19",
   "metadata": {},
   "source": [
    "# The Geometric Dot Product"
   ]
  },
  {
   "cell_type": "markdown",
   "id": "fd4db08e-0db2-4c14-b37e-d393b3c6bffb",
   "metadata": {},
   "source": [
    "The dot product has a powerful geometric interpretation that relates to the **angle** between two vectors.\n",
    "\n",
    "The most important special case is when two vectors are **orthogonal** (perpendicular).\n",
    "\n",
    "> **Rule:** Two vectors are orthogonal if and only if their dot product is **zero**.\n",
    "\n",
    "Let's consider the vectors $u = (-1, 3)$ and $v = (6, 2)$. Their dot product is:\n",
    "$ u \\cdot v = (-1)(6) + (3)(2) = -6 + 6 = 0 $\n",
    "\n",
    "Since their dot product is 0, these vectors must be perpendicular, as we can see in the plot below.\n",
    "\n",
    "![](./images/0401.png)\n"
   ]
  },
  {
   "cell_type": "markdown",
   "id": "6e4c4fc3-5efa-485d-9f84-c594aaca323c",
   "metadata": {},
   "source": [
    "---\n",
    "\n",
    "## The General Geometric Formula\n",
    "\n",
    "We know two special cases:\n",
    "1.  $v \\cdot v = ||v||^2$ (The dot product of a vector with itself is its magnitude squared).\n",
    "2.  If $u \\perp v$, then $u \\cdot v = 0$.\n",
    "\n",
    "What about the dot product for any two vectors `u` and `v`? The formula connects the dot product to the angle, $\\theta$, between the two vectors.\n",
    "\n",
    "> **Geometric Formula for the Dot Product:**  \n",
    "> $ u \\cdot v = ||u|| \\cdot ||v|| \\cdot \\cos(\\theta) $\n",
    "\n",
    "This formula tells us that the dot product is the product of the magnitudes of the two vectors, scaled by the cosine of the angle between them.\n",
    "\n",
    "The term $||u|| \\cos(\\theta)$ represents the **projection** of vector `u` onto vector `v`—the \"shadow\" that `u` casts on `v`. So, the dot product is the length of this shadow multiplied by the length of `v`.\n",
    "\n",
    "---\n",
    "## The Sign of the Dot Product\n",
    "\n",
    "This formula gives us a powerful intuition: the **sign** of the dot product tells us about the angle between the vectors.\n",
    "\n",
    "Consider a vector $v = (6, 2)$. Any vector orthogonal to it will have a dot product of 0.\n",
    "* Vectors that form an **acute angle** ($< 90^\\circ$) with `v` will have a **positive** dot product.\n",
    "* Vectors that form an **obtuse angle** ($> 90^\\circ$) with `v` will have a **negative** dot product.\n",
    "\n",
    "This effectively divides the entire 2D plane into three regions relative to vector `v`.\n",
    "\n",
    "![](./images/0402.png)\n"
   ]
  }
 ],
 "metadata": {
  "kernelspec": {
   "display_name": "Python 3 (ipykernel)",
   "language": "python",
   "name": "python3"
  },
  "language_info": {
   "codemirror_mode": {
    "name": "ipython",
    "version": 3
   },
   "file_extension": ".py",
   "mimetype": "text/x-python",
   "name": "python",
   "nbconvert_exporter": "python",
   "pygments_lexer": "ipython3",
   "version": "3.13.5"
  }
 },
 "nbformat": 4,
 "nbformat_minor": 5
}
