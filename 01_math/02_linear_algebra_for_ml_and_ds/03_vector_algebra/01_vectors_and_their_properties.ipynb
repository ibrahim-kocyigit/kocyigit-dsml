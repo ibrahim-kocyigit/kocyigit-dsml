{
 "cells": [
  {
   "cell_type": "markdown",
   "id": "bc95f855-08e9-473e-8920-5bddf4b03c88",
   "metadata": {},
   "source": [
    "# Vectors and Their Properties"
   ]
  },
  {
   "cell_type": "markdown",
   "id": "ddf5a19f-7338-4218-a543-355480f4f689",
   "metadata": {},
   "source": [
    "In the previous lessons, we learned about matrices as arrays of numbers. A **vector** is a simpler array, one that only has a single column (or row).\n",
    "\n",
    "Geometrically, we can think of a vector as an **arrow** in a space (like a 2D plane or 3D space) that points from the origin to a specific coordinate. A vector is defined by its coordinates, and the number of coordinates determines the dimension of the space it lives in.\n",
    "\n",
    "Every vector has two key properties:\n",
    "1.  **Magnitude (or Norm):** The length or size of the arrow.\n",
    "2.  **Direction:** The orientation of the arrow in space.\n",
    "\n",
    "![](./images/0101.png)\n"
   ]
  },
  {
   "cell_type": "markdown",
   "id": "2c6c5eed-183b-41fc-88df-d8f7367fe4da",
   "metadata": {},
   "source": [
    "---\n",
    "\n",
    "## Vector Magnitude (The Norm)\n",
    "\n",
    "The magnitude, or **norm**, of a vector is its size or length. There are several ways to measure this, but they all relate to our real-world understanding of distance. The two most common are the L1-norm and the L2-norm.\n",
    "\n",
    "### L1-Norm: The \"Taxicab\" Distance\n",
    "\n",
    "Imagine you are in a city grid and can only travel along horizontal and vertical streets. To get from the origin (0,0) to the point (4,3), you must travel 4 blocks horizontally and 3 blocks vertically, for a total distance of 7 blocks.\n",
    "\n",
    "This is the **L1-norm**. For a vector `v = (a, b)`, the formula is:  \n",
    "\n",
    "$ ||v||_1 = |a| + |b| $  \n",
    "\n",
    "We use absolute values because distance is always positive.\n",
    "\n",
    "### L2-Norm: The \"Helicopter\" Distance\n",
    "\n",
    "Now imagine you can travel in a straight line from the origin to the point (4,3), like a helicopter. This direct distance is the length of the vector's arrow.\n",
    "\n",
    "Using the Pythagorean theorem, this distance is $\\sqrt{4^2 + 3^2} = \\sqrt{16 + 9} = \\sqrt{25} = 5$.\n",
    "\n",
    "This is the **L2-norm**, also known as the **Euclidean norm**. For a vector `v = (a, b)`, the formula is:  \n",
    "\n",
    "$ ||v||_2 = \\sqrt{a^2 + b^2} $  \n",
    "\n",
    "> **Important Note:** When people talk about the \"magnitude\" or \"norm\" of a vector without specifying which type, they are almost always referring to the **L2-norm**, as it represents the true length of the arrow.\n",
    "\n",
    "![](./images/0102.png)\n"
   ]
  },
  {
   "cell_type": "markdown",
   "id": "1755444f-eb1b-4250-aae8-0fb81d37ddb3",
   "metadata": {},
   "source": [
    "---\n",
    "\n",
    "## Vector Direction\n",
    "\n",
    "The direction of a vector can be described by the angle it makes with the horizontal axis. We can find this using basic trigonometry.\n",
    "\n",
    "For our vector `(4, 3)`, the tangent of the angle $\\theta$ is the ratio of the opposite side (the y-coordinate) to the adjacent side (the x-coordinate).  \n",
    "\n",
    "$ \\tan(\\theta) = \\frac{3}{4} $\n",
    "\n",
    "To find the angle itself, we use the inverse tangent (or arctan):  \n",
    "\n",
    "$ \\theta = \\arctan(\\frac{3}{4}) \\approx 0.64 \\text{ radians, or } 36.87^\\circ $  \n",
    "\n",
    "It's important to note that multiple vectors can have the same direction but different magnitudes. For example, the vector `(2, 1.5)` points in the exact same direction as `(4, 3)`, but it is shorter.\n",
    "\n",
    "---\n",
    "\n",
    "## Vector Notation\n",
    "\n",
    "You will encounter several different ways to write vectors. They are all conceptually the same.\n",
    "\n",
    "* **Row Vector:** `x = (x₁, x₂)` or `x = [x₁, x₂]`\n",
    "* **Column Vector:**  \n",
    "\n",
    "    $ x = \\begin{bmatrix} x₁ \\\\ x₂ \\end{bmatrix} $  \n",
    "\n",
    "* **Font/Symbols:** Sometimes vectors are written in **bold** (**x**) or with an arrow ($\\vec{x}$) to distinguish them from scalars.\n",
    "\n",
    "In this course, we will primarily use lowercase letters for vectors and switch between parentheses and square brackets depending on the context.\n",
    "\n",
    "---\n",
    "## Generalizing the Norms\n",
    "\n",
    "We can easily extend the formulas for the L1 and L2 norms to a vector with *n* components, $x = (x_1, x_2, \\dots, x_n)$.\n",
    "\n",
    "* **L1-Norm (General):**\n",
    "\n",
    "    $ ||x||_1 = \\sum_{i=1}^{n} |x_i| = |x_1| + |x_2| + \\dots + |x_n| $\n",
    "\n",
    "* **L2-Norm (General):**  \n",
    "\n",
    "    $ ||x||_2 = \\sqrt{\\sum_{i=1}^{n} x_i^2} = \\sqrt{x_1^2 + x_2^2 + \\dots + x_n^2} $"
   ]
  }
 ],
 "metadata": {
  "kernelspec": {
   "display_name": "Python 3 (ipykernel)",
   "language": "python",
   "name": "python3"
  },
  "language_info": {
   "codemirror_mode": {
    "name": "ipython",
    "version": 3
   },
   "file_extension": ".py",
   "mimetype": "text/x-python",
   "name": "python",
   "nbconvert_exporter": "python",
   "pygments_lexer": "ipython3",
   "version": "3.13.5"
  }
 },
 "nbformat": 4,
 "nbformat_minor": 5
}
