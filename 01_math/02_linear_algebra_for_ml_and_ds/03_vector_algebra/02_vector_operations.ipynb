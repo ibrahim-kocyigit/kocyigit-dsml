{
 "cells": [
  {
   "cell_type": "markdown",
   "id": "504817bc-2960-44f1-ab96-8179f256136a",
   "metadata": {},
   "source": [
    "# Vector Operations"
   ]
  },
  {
   "cell_type": "markdown",
   "id": "47bf041c-fea4-4981-b287-d409f5d1ed31",
   "metadata": {},
   "source": [
    "Just as we can perform arithmetic with numbers, we can perform operations like addition, subtraction, and scalar multiplication with vectors. These operations have both an algebraic formula and an intuitive geometric interpretation.\n",
    "\n",
    "---\n",
    "\n",
    "## Vector Addition and Subtraction\n",
    "\n",
    "To add or subtract two vectors, we simply add or subtract their corresponding components.\n",
    "\n",
    "**Formulas:**\n",
    "Given two vectors $ u = \\begin{bmatrix} u_1 \\\\ u_2 \\end{bmatrix} $ and $ v = \\begin{bmatrix} v_1 \\\\ v_2 \\end{bmatrix} $:\n",
    "* **Sum:** $ u + v = \\begin{bmatrix} u_1 + v_1 \\\\ u_2 + v_2 \\end{bmatrix} $\n",
    "* **Difference:** $ u - v = \\begin{bmatrix} u_1 - v_1 \\\\ u_2 - v_2 \\end{bmatrix} $\n",
    "\n",
    "**Geometric Interpretation:**\n",
    "Geometrically, the sum of two vectors `u` and `v` corresponds to the **main diagonal** of the parallelogram formed by the two vectors. The difference `u - v` corresponds to the **other diagonal**.\n",
    "\n",
    "![](./images/0201.png)\n"
   ]
  },
  {
   "cell_type": "markdown",
   "id": "514b09a8-6ffc-4c6d-8104-e516bd124712",
   "metadata": {},
   "source": [
    "### Using Vector Difference to Measure Distance\n",
    "\n",
    "The difference between two vectors is very useful for calculating the \"distance\" between them. In machine learning, we often want to measure the similarity between two data points (represented as vectors), and the norm of their difference is a common way to do this.\n",
    "\n",
    "Given two vectors $x = (1, 5)$ and $y = (6, 2)$:\n",
    "* **L1 Distance:** $ ||x - y||_1 = |1-6| + |5-2| = |-5| + |3| = 5 + 3 = 8 $\n",
    "* **L2 Distance:** $ ||x - y||_2 = \\sqrt{(1-6)^2 + (5-2)^2} = \\sqrt{(-5)^2 + 3^2} = \\sqrt{25 + 9} = \\sqrt{34} \\approx 5.83 $\n",
    "\n",
    "---\n",
    "## Scalar Multiplication\n",
    "\n",
    "We can multiply a vector by a single number (a **scalar**). This operation scales the vector's magnitude and, if the scalar is negative, reverses its direction.\n",
    "\n",
    "**Formula:**\n",
    "Given a vector $ v = \\begin{bmatrix} v_1 \\\\ v_2 \\end{bmatrix} $ and a scalar $\\lambda$:  \n",
    "    $ \\lambda v = \\begin{bmatrix} \\lambda v_1 \\\\ \\lambda v_2 \\end{bmatrix} $\n",
    "\n",
    "* **If $\\lambda > 0$:** The vector is stretched by a factor of $\\lambda$.\n",
    "* **If $\\lambda < 0$:** The vector is stretched by a factor of $|\\lambda|$ and reflected about the origin.\n",
    "\n",
    "![](./images/0202.png)\n"
   ]
  }
 ],
 "metadata": {
  "kernelspec": {
   "display_name": "Python 3 (ipykernel)",
   "language": "python",
   "name": "python3"
  },
  "language_info": {
   "codemirror_mode": {
    "name": "ipython",
    "version": 3
   },
   "file_extension": ".py",
   "mimetype": "text/x-python",
   "name": "python",
   "nbconvert_exporter": "python",
   "pygments_lexer": "ipython3",
   "version": "3.13.5"
  }
 },
 "nbformat": 4,
 "nbformat_minor": 5
}
