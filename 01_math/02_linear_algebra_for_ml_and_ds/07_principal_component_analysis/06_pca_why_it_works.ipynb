{
 "cells": [
  {
   "cell_type": "markdown",
   "id": "338cdc2f-e078-4ccf-be01-3f5bf5d5137c",
   "metadata": {},
   "source": [
    "# PCA - Why It Works (The Intuition)"
   ]
  },
  {
   "cell_type": "markdown",
   "id": "35046245-7511-4667-88c4-711e0725e2e9",
   "metadata": {},
   "source": [
    "We've established that PCA finds the line that maximizes the variance of our projected data. But *why* does the process of finding the eigenvectors of the covariance matrix accomplish this?\n",
    "\n",
    "The intuition lies in viewing the **covariance matrix itself as a linear transformation**.\n",
    "\n",
    "Let's start with our centered data and its covariance matrix:\n",
    "\n",
    "$\n",
    "C = \\begin{bmatrix}\n",
    "9 & 4 \\\\\n",
    "4 & 3\n",
    "\\end{bmatrix}\n",
    "$\n",
    "\n",
    "What does this matrix *do* to the space? A great way to find out is to see how it transforms a simple shape, like a circle of vectors with a radius of 1.\n",
    "\n",
    "![PCA](./images/pca.png)\n",
    "\n",
    "The visualization reveals the core secret of PCA. The covariance matrix `C` transforms a circle of direction vectors into an ellipse.\n",
    "\n",
    "* The **axes of this ellipse** represent the directions of maximum and minimum \"stretch.\"\n",
    "* These axes are precisely the **eigenvectors** of the covariance matrix.\n",
    "* The **length** of each axis of the ellipse is determined by the corresponding **eigenvalue**. The eigenvector with the largest eigenvalue points along the major (longest) axis of the ellipse.\n",
    "\n",
    "### Why This Maximizes Variance\n",
    "\n",
    "The transformation `C` characterizes the spread of our original data. The direction in which `C` stretches space the *most* (the major axis of the ellipse) must be the direction of the highest variance in our data.\n",
    "\n",
    "Any vector along the direction of the first eigenvector (e.g., `v = [2, 1]`) will be stretched by a factor of its eigenvalue, `λ₁ = 11`. Any vector along the second eigenvector (`v = [-1, 2]`) will be stretched by a factor of its eigenvalue, `λ₂ = 1`. Any other vector will be stretched by a factor somewhere in between.\n",
    "\n",
    "Therefore, to preserve the most variance, we must choose to project our data onto the eigenvector associated with the **largest eigenvalue**. This is the direction of maximum stretch, and therefore, maximum variance. That is why PCA works.\n",
    "\n"
   ]
  }
 ],
 "metadata": {
  "kernelspec": {
   "display_name": "Python 3 (ipykernel)",
   "language": "python",
   "name": "python3"
  },
  "language_info": {
   "codemirror_mode": {
    "name": "ipython",
    "version": 3
   },
   "file_extension": ".py",
   "mimetype": "text/x-python",
   "name": "python",
   "nbconvert_exporter": "python",
   "pygments_lexer": "ipython3",
   "version": "3.13.5"
  }
 },
 "nbformat": 4,
 "nbformat_minor": 5
}
