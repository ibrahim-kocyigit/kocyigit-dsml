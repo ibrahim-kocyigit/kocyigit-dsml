{
 "cells": [
  {
   "cell_type": "markdown",
   "id": "51e24bb1-321c-40c5-aa87-c5a2e1bf9caa",
   "metadata": {},
   "source": [
    "# Motivating Principal Component Analysis (PCA)"
   ]
  },
  {
   "cell_type": "markdown",
   "id": "73bee270-5773-46f0-b2d5-01a133fcef5a",
   "metadata": {},
   "source": [
    "Now that we understand the concept of a projection, let's see how PCA uses it to reduce the dimensions of a dataset.\n",
    "\n",
    "Imagine we have a 2D dataset where each point represents an observation. Reducing the dimensionality means moving these 2D points onto a 1D line. But which line should we choose?\n",
    "\n",
    "The goal of PCA is to find the **best possible projection line**—the one that **preserves the most information** from the original dataset.\n",
    "\n",
    "---\n",
    "\n",
    "## The Core Idea: More Spread = More Information\n",
    "\n",
    "How do we measure \"information\"? In the context of PCA, we measure it by the **variance** or \"spread\" of the data points after they have been projected.\n",
    "\n",
    "* A projection that keeps the data points **spread out** has preserved a lot of the original structure and information.\n",
    "* A projection that makes the data points **clump together** has lost a lot of information.\n",
    "\n",
    "Let's visualize this. We'll start with a centered 2D dataset and project it onto several different lines to see which one is best.\n",
    "\n",
    "![](./images/0201.png)\n"
   ]
  },
  {
   "cell_type": "markdown",
   "id": "c8187d1b-e5a1-4b72-a0e1-953ba5a3e9b9",
   "metadata": {},
   "source": [
    "---\n",
    "\n",
    "## Summary and Goal of PCA\n",
    "\n",
    "As the visualizations show, different projection lines result in different amounts of spread in the final 1D data. The projection onto the \"best\" line (the one that follows the main trend of the data) keeps the points the most spread out.\n",
    "\n",
    "> **The goal of PCA is to find the projection that preserves the maximum possible spread (variance) in your data, even as you reduce the dimensionality.**\n",
    "\n",
    "This process finds the \"principal components\"—the directions in the data that capture the most information. By projecting our data onto these components, we can reduce the number of columns in our dataset while minimizing the loss of valuable information."
   ]
  }
 ],
 "metadata": {
  "kernelspec": {
   "display_name": "Python 3 (ipykernel)",
   "language": "python",
   "name": "python3"
  },
  "language_info": {
   "codemirror_mode": {
    "name": "ipython",
    "version": 3
   },
   "file_extension": ".py",
   "mimetype": "text/x-python",
   "name": "python",
   "nbconvert_exporter": "python",
   "pygments_lexer": "ipython3",
   "version": "3.13.5"
  }
 },
 "nbformat": 4,
 "nbformat_minor": 5
}
