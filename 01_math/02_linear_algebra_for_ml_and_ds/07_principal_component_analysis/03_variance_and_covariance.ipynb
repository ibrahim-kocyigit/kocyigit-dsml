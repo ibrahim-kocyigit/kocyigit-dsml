{
 "cells": [
  {
   "cell_type": "markdown",
   "id": "0a485393-0636-4851-92eb-11e5b633bde9",
   "metadata": {},
   "source": [
    "# Variance and Covariance"
   ]
  },
  {
   "cell_type": "markdown",
   "id": "32c143cb-4a58-438b-9c49-9d6f5be1ee05",
   "metadata": {},
   "source": [
    "Principal Component Analysis (PCA) relies on a few core statistical concepts. If you've studied statistics before, this will be a helpful review.\n",
    "\n",
    "### The Mean\n",
    "The **mean** is the average value of all observations in a dataset. Geometrically, it represents the \"center of mass\" of your data points.\n",
    "\n",
    "For a 2D dataset, the mean point has the coordinates $(\\mu_x, \\mu_y)$, where $\\mu_x$ is the average of all x-values and $\\mu_y$ is the average of all y-values.\n",
    "\n",
    "$ \\mu_x = \\frac{1}{n}\\sum_{i=1}^{n} x_i \\quad , \\quad \\mu_y = \\frac{1}{n}\\sum_{i=1}^{n} y_i $\n",
    "\n",
    "### Variance: A Measure of Spread\n",
    "\n",
    "While the mean tells us the center of our data, **variance** tells us how spread out the data is from that center. A small variance means the data is tightly clustered, while a large variance means it's widely dispersed.\n",
    "\n",
    "We can look at the variance along each axis separately. In the plot below, you can see that the data is more spread out along the horizontal (x-axis) than the vertical (y-axis). Therefore, the x-variance is larger than the y-variance.\n",
    "\n",
    "![](./images/0301.png)\n"
   ]
  },
  {
   "cell_type": "markdown",
   "id": "fe00f86c-0344-41e4-ad91-bd1a3116fd50",
   "metadata": {},
   "source": [
    "The formula for the variance of a variable `x` is:  \n",
    "\n",
    "$ \\text{Var}(x) = \\sigma^2 = \\frac{1}{n-1}\\sum_{i=1}^{n} (x_i - \\mu_x)^2 $\n",
    "\n",
    "This is the **average squared distance** of each point from the mean. The key takeaway is that as your data becomes more spread out, the variance increases.\n",
    "\n",
    "---\n",
    "\n",
    "## Covariance: A Measure of Joint Variance\n",
    "\n",
    "Variance alone isn't enough to describe a dataset. Two datasets could have the exact same variance for `x` and `y`, but show completely different patterns.\n",
    "\n",
    "**Covariance** measures how two variables vary *together*.\n",
    "* **Positive Covariance:** As `x` increases, `y` tends to increase.\n",
    "* **Negative Covariance:** As `x` increases, `y` tends to decrease.\n",
    "* **Zero Covariance:** There is no linear relationship between `x` and `y`.\n",
    "\n",
    "The formula for covariance is similar to variance:  \n",
    "\n",
    "$ \\text{Cov}(x, y) = \\frac{1}{n-1}\\sum_{i=1}^{n} (x_i - \\mu_x)(y_i - \\mu_y) $\n",
    "\n",
    "We can understand this formula by dividing our data into four quadrants centered on the mean point $(\\mu_x, \\mu_y)$.\n",
    "\n",
    "![Covariance](./images/0302.png)\n",
    "\n",
    "* **Quadrant 1 (Top-Right):** Points here are above the mean for both `x` and `y`. The term $(x_i - \\mu_x)(y_i - \\mu_y)$ will be `(positive) * (positive) = positive`.\n",
    "* **Quadrant 2 (Top-Left):** Points have `x` below its mean but `y` above its mean. The term will be `(negative) * (positive) = negative`.\n",
    "* **Quadrant 3 (Bottom-Left):** Points are below the mean for both `x` and `y`. The term will be `(negative) * (negative) = positive`.\n",
    "* **Quadrant 4 (Bottom-Right):** Points have `x` above its mean but `y` below its mean. The term will be `(positive) * (negative) = negative`.\n",
    "\n",
    "Covariance is essentially the average of these products.\n",
    "* If most points are in the **positive quadrants** (1 and 3), the covariance will be **positive**.\n",
    "* If most points are in the **negative quadrants** (2 and 4), the covariance will be **negative**.\n",
    "* If points are spread evenly, the terms cancel out, and the covariance is near **zero**."
   ]
  }
 ],
 "metadata": {
  "kernelspec": {
   "display_name": "Python 3 (ipykernel)",
   "language": "python",
   "name": "python3"
  },
  "language_info": {
   "codemirror_mode": {
    "name": "ipython",
    "version": 3
   },
   "file_extension": ".py",
   "mimetype": "text/x-python",
   "name": "python",
   "nbconvert_exporter": "python",
   "pygments_lexer": "ipython3",
   "version": "3.13.5"
  }
 },
 "nbformat": 4,
 "nbformat_minor": 5
}
