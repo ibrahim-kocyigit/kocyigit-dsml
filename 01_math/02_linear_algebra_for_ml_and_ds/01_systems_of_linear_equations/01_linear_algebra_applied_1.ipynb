{
 "cells": [
  {
   "cell_type": "markdown",
   "id": "3f1c64e9-4cc4-4fa5-afe9-49ceac99d62a",
   "metadata": {},
   "source": [
    "# Linear Algebra Applied - I"
   ]
  },
  {
   "cell_type": "markdown",
   "id": "5e2ec8b4-52d5-47d6-be9d-e5e853ff0440",
   "metadata": {},
   "source": [
    "Linear algebra is arguably the most essential field of mathematics for machine learning. Its applications are vast and foundational to how many algorithms work. This course will use machine learning examples to provide context for the mathematical concepts you'll be learning.\n",
    "\n",
    "---\n",
    "\n",
    "## Linear Regression: A Practical Example\n",
    "\n",
    "One of the most common machine learning models, **linear regression**, provides a perfect entry point into systems of linear equations.\n",
    "\n",
    "Linear regression is a **supervised machine learning** technique. This means we start with a dataset containing known inputs (features) and a corresponding output (target). The goal is to discover the underlying relationship between them.\n",
    "\n",
    "### Single-Feature Linear Regression\n",
    "\n",
    "Imagine we want to predict the electrical power output of a wind turbine based on a single feature: wind speed.\n",
    "\n",
    "* **x-axis**: Wind Speed (our input feature)\n",
    "* **y-axis**: Power Output (our target)\n",
    "\n",
    "If we plot our collected data points, we might see a clear pattern. The objective of linear regression is to find the **line of best fit** that models this data:\n",
    "\n",
    "![](./images/0101.png)"
   ]
  },
  {
   "cell_type": "markdown",
   "id": "fb76fad9-9cd4-45c9-b558-e0c6b65b60c1",
   "metadata": {},
   "source": [
    "The equation for the line above is the familiar:\n",
    "\n",
    "$$ y = mx + b $$\n",
    "\n",
    "In machine learning, this is often written as:\n",
    "\n",
    "$$ y = wx + b $$\n",
    "\n",
    "* `y`: The predicted output (Power Output)\n",
    "* `x`: The input feature (Wind Speed)\n",
    "* `w`: The **weight**, a constant that scales the input feature.\n",
    "* `b`: The **bias**, a constant that shifts the line up or down.\n",
    "\n",
    "The goal is to find the optimal values for the weight (`w`) and bias (`b`) that make the line fit the data as closely as possible. Let's visualize this:\n",
    "\n",
    "### Multi-Feature Linear Regression\n",
    "\n",
    "In most real-world scenarios, you'll use more than one feature to make a prediction. Let's add **temperature** to our wind turbine model. The equation now needs a new weight for the new feature:\n",
    "\n",
    "$$ y = w_1(\\text{wind\\_speed}) + w_2(\\text{temperature}) + b $$\n",
    "\n",
    "With two features, our model is no longer a line in a 2D plane. It's now a **plane** in a 3D space. We can extend this idea to any number of features ($n$), such as pressure, humidity, etc. The generalized equation for $n$ features becomes:\n",
    "\n",
    "$$ y = w_1x_1 + w_2x_2 + \\dots + w_nx_n + b $$\n",
    "\n",
    "Here, $x_1, x_2, \\dots, x_n$ represent the different input features. Conceptually, it works the same way: we need to find the right values for all the weights ($w_1, \\dots, w_n$) and the bias ($b$) to make accurate predictions.\n",
    "\n",
    "---\n",
    "\n",
    "## From Regression to Systems of Equations\n",
    "\n",
    "In a typical machine learning dataset, you don't have just one data point; you have many records (let's say $m$ records). Each record gives us a complete equation where the feature values ($x$'s) and the target value ($y$) are known. The unknowns we need to solve for are the weights and the bias.\n",
    "\n",
    "We can write one equation for each record in our dataset. We use a superscript in parentheses to denote the record number. **Note: this is an index, not an exponent.**\n",
    "\n",
    "* **Record 1**: $w_1x_1^{(1)} + w_2x_2^{(1)} + \\dots + w_nx_n^{(1)} + b = y^{(1)}$\n",
    "* **Record 2**: $w_1x_1^{(2)} + w_2x_2^{(2)} + \\dots + w_nx_n^{(2)} + b = y^{(2)}$\n",
    "* ...\n",
    "* **Record m**: $w_1x_1^{(m)} + w_2x_2^{(m)} + \\dots + w_nx_n^{(m)} + b = y^{(m)}$\n",
    "\n",
    "Ideally, we want to find a single set of weights ($w_1, \\dots, w_n$) and a single bias ($b$) that solve all $m$ equations at the same time (or come as close as possible).\n",
    "\n",
    "This collection of multiple linear equations that we want to solve simultaneously is a fundamental concept known as a **system of linear equations**. This will be our main topic of study."
   ]
  }
 ],
 "metadata": {
  "kernelspec": {
   "display_name": "kocyigit-dsml",
   "language": "python",
   "name": "python3"
  },
  "language_info": {
   "codemirror_mode": {
    "name": "ipython",
    "version": 3
   },
   "file_extension": ".py",
   "mimetype": "text/x-python",
   "name": "python",
   "nbconvert_exporter": "python",
   "pygments_lexer": "ipython3",
   "version": "3.13.5"
  }
 },
 "nbformat": 4,
 "nbformat_minor": 5
}
