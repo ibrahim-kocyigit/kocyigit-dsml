{
 "cells": [
  {
   "cell_type": "markdown",
   "id": "5abc0143-0055-40f4-982b-bf7ae988fffa",
   "metadata": {},
   "source": [
    "# A Geometric Notion of Non-Singularity"
   ]
  },
  {
   "cell_type": "markdown",
   "id": "062f9d9b-bcf8-4e3a-8ccf-eeb7debd50e9",
   "metadata": {},
   "source": [
    "We've established a clear link between the algebra of a system and its geometry:\n",
    "* **Non-singular systems** correspond to lines that intersect at a unique point.\n",
    "* **Singular systems** correspond to lines that are parallel (either overlapping or separate).\n",
    "\n",
    "In this lesson, we'll discover an even simpler way to visualize and understand the core difference between singularity and non-singularity by making a small adjustment to our equations.\n",
    "\n",
    "---\n",
    "\n",
    "## Focusing on the Core Difference: Parallel vs. Non-Parallel\n",
    "\n",
    "Let's look at the geometry of our three example systems again.\n",
    "\n",
    "| System 1 (Non-Singular) | System 2 (Singular) | System 3 (Singular) |\n",
    "| :---: | :---: | :---: |\n",
    "|  |  |  |\n",
    "| Lines are **not parallel**. | Lines are **parallel** (overlapping). | Lines are **parallel** (separate). |\n",
    "\n",
    "Notice that the two singular systems are geometrically similar—both involve parallel lines. The non-singular system is the odd one out. This suggests that the property of being \"parallel\" is the key indicator of singularity.\n",
    "\n",
    "Is there a way to simplify our view so that the two types of singular systems look the same, making the distinction between singular and non-singular crystal clear? Yes, there is.\n",
    "\n",
    "---\n",
    "\n",
    "## The Simplification: Setting Constants to Zero\n",
    "\n",
    "The trick is to temporarily ignore the **constant terms** in the equations—the numbers that aren't attached to a variable. These systems, where the constants on the right-hand side are all zero, are called **homogeneous systems**.\n",
    "\n",
    "Let's see what happens when we turn all the constants in our three systems into zero.\n",
    "\n",
    "* **Original System 1:**\n",
    "    * $a + b = 10$\n",
    "    * $a + 2b = 12$\n",
    "    * **Becomes ➔** $a + b = 0$ and $a + 2b = 0$  \n",
    "` `\n",
    "* **Original System 2:**\n",
    "    * $a + b = 10$\n",
    "    * $2a + 2b = 20$\n",
    "    * **Becomes ➔** $a + b = 0$ and $2a + 2b = 0$  \n",
    "` `\n",
    "* **Original System 3:**\n",
    "    * $a + b = 10$\n",
    "    * $2a + 2b = 24$\n",
    "    * **Becomes ➔** $a + b = 0$ and $2a + 2b = 0$  \n",
    "\n",
    "An immediate consequence of this change is that **(0, 0) is now a solution for every single equation**. This means all the lines in our new plots must pass through the **origin**.\n",
    "\n",
    "![](./images/0601.png)\n"
   ]
  },
  {
   "cell_type": "markdown",
   "id": "05393528-b1af-4f95-8477-b11a808236ca",
   "metadata": {},
   "source": [
    "---\n",
    "\n",
    "## Analyzing the Results\n",
    "\n",
    "What happened to our systems after we set the constants to zero?\n",
    "\n",
    "* **System 1 (Non-Singular):** The two lines still intersect at a single, unique point. That point is now the origin (0, 0). The system's fundamental nature **did not change**; it remains **non-singular**.\n",
    "\n",
    "* **System 2 (Redundant Singular):** The two lines are still identical, passing through the origin. The system remains **singular**.\n",
    "\n",
    "* **System 3 (Contradictory Singular):** This is the most interesting change! The two separate parallel lines **collapsed into a single line** that passes through the origin. The system went from being *contradictory* (no solution) to *redundant* (infinite solutions). However, what's crucial is that it **remained singular**.\n",
    "\n",
    "\n",
    "\n",
    "---\n",
    "\n",
    "## The Key Takeaway 💡\n",
    "\n",
    "This experiment reveals a fundamental truth of linear algebra:\n",
    "\n",
    "> **The constants in a system of equations do not affect whether the system is singular or non-singular.**\n",
    "\n",
    "Singularity is a property of the **coefficients of the variables** (e.g., the `2` in `2a`). These coefficients determine the slopes and orientations of the lines. The constants only shift the lines around without changing their orientation.\n",
    "\n",
    "This means that to determine if a system is singular or non-singular, we only need to look at its simplified **homogeneous** version. The question simply becomes:\n",
    "* Do the lines intersect **only** at the origin? (Non-singular)\n",
    "* Do the lines **overlap** entirely? (Singular)"
   ]
  }
 ],
 "metadata": {
  "kernelspec": {
   "display_name": "Python 3 (ipykernel)",
   "language": "python",
   "name": "python3"
  },
  "language_info": {
   "codemirror_mode": {
    "name": "ipython",
    "version": 3
   },
   "file_extension": ".py",
   "mimetype": "text/x-python",
   "name": "python",
   "nbconvert_exporter": "python",
   "pygments_lexer": "ipython3",
   "version": "3.13.5"
  }
 },
 "nbformat": 4,
 "nbformat_minor": 5
}
