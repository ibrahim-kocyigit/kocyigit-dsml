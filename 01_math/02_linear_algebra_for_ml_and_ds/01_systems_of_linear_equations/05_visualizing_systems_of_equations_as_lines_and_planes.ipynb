{
 "cells": [
  {
   "cell_type": "markdown",
   "id": "277e43a0-0cfd-4dbe-9069-b37e3d5da381",
   "metadata": {},
   "source": [
    "# Visualizing Systems of Equations as Lines and Planes"
   ]
  },
  {
   "cell_type": "markdown",
   "id": "abf2dada-afda-4dfe-973f-827ed4448f28",
   "metadata": {},
   "source": [
    "So far, we've treated systems of equations as algebraic problems. Now, let's visualize them. This geometric interpretation is one of the most powerful aspects of linear algebra.\n",
    "\n",
    "* An equation with two variables (e.g., $a + b = 10$) can be drawn as a **line** on a 2D plane.\n",
    "* An equation with three variables (e.g., $a + b + c = 10$) can be drawn as a **plane** in 3D space.\n",
    "\n",
    "A **system of equations** is simply the visualization of all the lines or planes together on the same graph. The **solution** to the system is the point (or points) where they all intersect.\n",
    "\n",
    "---\n",
    "\n",
    "## Visualizing a Single Equation as a Line\n",
    "\n",
    "Let's take our familiar equation:\n",
    "$ a + b = 10 $\n",
    "\n",
    "How do we draw this? We just need to find some pairs of `(a, b)` that are solutions and plot them.\n",
    "* If `a = 10`, then `b = 0`. This gives us the point **(10, 0)**.\n",
    "* If `a = 0`, then `b = 10`. This gives us the point **(0, 10)**.\n",
    "* If `a = 8`, then `b = 2`. This gives us the point **(8, 2)**.\n",
    "\n",
    "If we plot these points and connect them, we get a line. Every single point on that line is a valid solution to the equation $a + b = 10$.\n",
    "\n",
    "![](./images/0501.png)\n"
   ]
  },
  {
   "cell_type": "markdown",
   "id": "11212407-f8bd-4e0f-a913-627df26bffe3",
   "metadata": {},
   "source": [
    "---\n",
    "\n",
    "## Case 1: The Non-Singular System (Unique Solution)\n",
    "\n",
    "Remember this system?\n",
    "1.  $a + b = 10$\n",
    "2.  $a + 2b = 12$\n",
    "\n",
    "Geometrically, this is a system of two different lines. The solution is the single point where they **intersect**. As we can see from the plot, they cross at the point **(8, 2)**. This is the one and only point that lies on *both* lines, and it's the unique solution we found algebraically.\n",
    "\n",
    "Because the lines intersect at a single, unique point, we call this a **non-singular** system. Each equation (line) provides new, useful information.\n",
    "\n",
    "![](./images/0502.png)\n"
   ]
  },
  {
   "cell_type": "markdown",
   "id": "73884d35-c5ea-42b9-9a42-86b72ed71e7b",
   "metadata": {},
   "source": [
    "---\n",
    "\n",
    "## Case 2: The Redundant System (Infinite Solutions)\n",
    "\n",
    "Now for the redundant system:\n",
    "1.  $a + b = 10$\n",
    "2.  $2a + 2b = 20$\n",
    "\n",
    "The second equation is just the first one multiplied by 2. They contain the exact same information. Geometrically, this means they represent the **exact same line**.\n",
    "\n",
    "When we plot them, the lines lie directly on top of each other. The \"intersection\" is the entire line itself. Since there are infinite points on a line, the system has **infinite solutions**. This is a classic **redundant** and **singular** system.\n",
    "\n",
    "![](./images/0503.png)\n"
   ]
  },
  {
   "cell_type": "markdown",
   "id": "6de36317-e3e2-4768-af49-054a6d72de90",
   "metadata": {},
   "source": [
    "---\n",
    "\n",
    "## Case 3: The Contradictory System (No Solution)\n",
    "\n",
    "Finally, the contradictory system:\n",
    "1.  $a + b = 10$\n",
    "2.  $2a + 2b = 24$\n",
    "\n",
    "If we simplify the second equation by dividing by 2, we get $a + b = 12$. So the system is really:\n",
    "1.  $a + b = 10$\n",
    "2.  $a + b = 12$\n",
    "\n",
    "These lines have the same slope but different intercepts. Geometrically, this means the lines are **parallel**. Parallel lines never cross, so there is no point that satisfies both equations. The system has **no solution**. This is a **contradictory** and **singular** system.\n",
    "\n",
    "![](./images/0504.png)\n"
   ]
  },
  {
   "cell_type": "markdown",
   "id": "26f80329-e171-4bf3-b7f7-396daf9cef42",
   "metadata": {},
   "source": [
    "---\n",
    "\n",
    "## Extending to 3D: Equations as Planes\n",
    "\n",
    "The same logic extends to three dimensions. An equation with three variables, like:\n",
    "$$ a + b + c = 10 $$\n",
    "...is represented by a flat **plane** in 3D space.\n",
    "\n",
    "A system of three such equations corresponds to an arrangement of three planes. The solution is where all three planes intersect.\n",
    "\n",
    "* **Unique Solution (Non-Singular):** The three planes intersect at a single point, like the corner of a room.\n",
    "* **Infinite Solutions (Singular):** The planes intersect along a common line (like the spine of a book), or all three planes are the exact same plane.\n",
    "* **No Solution (Singular):** The planes are parallel, or two are parallel, or they intersect in a way that forms a triangular prism with no common point for all three.\n",
    "\n",
    "Visualizing these can be tricky, but the concept is the same: the solution is the common intersection.\n",
    "\n",
    "![](./images/0505.png)\n"
   ]
  }
 ],
 "metadata": {
  "kernelspec": {
   "display_name": "Python 3 (ipykernel)",
   "language": "python",
   "name": "python3"
  },
  "language_info": {
   "codemirror_mode": {
    "name": "ipython",
    "version": 3
   },
   "file_extension": ".py",
   "mimetype": "text/x-python",
   "name": "python",
   "nbconvert_exporter": "python",
   "pygments_lexer": "ipython3",
   "version": "3.13.5"
  }
 },
 "nbformat": 4,
 "nbformat_minor": 5
}
