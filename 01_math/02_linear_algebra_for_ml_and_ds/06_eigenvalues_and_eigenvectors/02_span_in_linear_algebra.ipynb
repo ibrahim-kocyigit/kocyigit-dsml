{
 "cells": [
  {
   "cell_type": "markdown",
   "id": "08713e58-22dd-4fd5-8d9d-b4d3209c365c",
   "metadata": {},
   "source": [
    "# Span in Linear Algebra"
   ]
  },
  {
   "cell_type": "markdown",
   "id": "bada5591-777d-4bec-92b3-1f572b9a714f",
   "metadata": {},
   "source": [
    "Now that we know what a basis is, a natural question arises: what space does a set of vectors \"create\"? This idea is captured by the concept of **span**.\n",
    "\n",
    "> The **span** of a set of vectors is the set of all points that can be reached by a linear combination of those vectors.\n",
    "\n",
    "In simpler terms, it's all the places you can get to by \"walking\" along the directions of your given vectors, for any distance, in any order.\n",
    "\n",
    "---\n",
    "## Span of a Single Vector\n",
    "\n",
    "If you only have one vector, you can only move forwards and backwards along the direction it points. Therefore, the span of a single non-zero vector is always the **line** that contains it and passes through the origin.\n",
    "\n",
    "![](./images/0201.png)\n"
   ]
  },
  {
   "cell_type": "markdown",
   "id": "a61ec616-8f31-40e5-8a95-f73a7ac18a1a",
   "metadata": {},
   "source": [
    "---\n",
    "\n",
    "## Span of Two Vectors\n",
    "\n",
    "* If two vectors are **linearly independent** (not on the same line), their span is the entire **2D plane**.\n",
    "* If two vectors are **linearly dependent** (on the same line), their span is just the **line** containing them.\n",
    "\n",
    "---\n",
    "## Basis as a Minimal Spanning Set\n",
    "\n",
    "This brings us to a more precise definition of a basis.\n",
    "\n",
    "> A **basis** for a vector space is a **minimal set of vectors that spans the entire space.**\n",
    "\n",
    "\"Minimal\" means that if you remove any vector from the basis, it will no longer span the space.\n",
    "\n",
    "* **Example 1 (A Basis):** The set `{ (2,1), (-1,2) }` is a basis for the 2D plane. It spans the plane, and if you remove either vector, the remaining single vector only spans a line.\n",
    "* **Example 2 (Not a Basis):** The set `{ (2,1), (-4,-2) }` is not a basis for the 2D plane because it only spans a line.\n",
    "* **Example 3 (Not a Basis):** The set `{ (2,1), (-1,2), (3,3) }` is not a basis for the 2D plane. While it spans the entire plane, it is not *minimal*. Any one of the vectors is redundant and can be removed without changing the span.\n",
    "\n",
    "The number of vectors in a basis gives the **dimension** of the space. A line (1D) has a basis of one vector. A plane (2D) has a basis of two vectors.\n",
    "\n",
    "---\n",
    "## Formal Definition of Linear Independence\n",
    "\n",
    "Let's formally define the concept that underpins what makes a set a basis.\n",
    "\n",
    "> A set of vectors is **linearly independent** if no vector in the set can be written as a linear combination of the others.\n",
    "\n",
    "> A set of vectors is **linearly dependent** if at least one vector in the set *can* be written as a linear combination of the others.\n",
    "\n",
    "Adding a linearly dependent vector to a set **does not increase its span**.\n",
    "\n",
    "---\n",
    "## Checking for Linear Dependence Algebraically\n",
    "\n",
    "We can check if a set of vectors is linearly dependent by setting up and solving a system of linear equations.\n",
    "\n",
    "**Problem:** Is the set of vectors {$v_1, v_2, v_3$} linearly dependent, where:\n",
    "* $v_1 = (-1, 1)$\n",
    "* $v_2 = (2, 1)$\n",
    "* $v_3 = (-5, 3)$\n",
    "\n",
    "**Question:** Can we find scalars (constants) $\\alpha$ and $\\beta$ such that $\\alpha v_1 + \\beta v_2 = v_3$?\n",
    "\n",
    "This vector equation can be broken down into a system of equations, one for each component:\n",
    "* **x-component:** $-\\alpha + 2\\beta = -5$\n",
    "* **y-component:** $\\alpha + \\beta = 3$\n",
    "\n",
    "Let's solve this system.\n",
    "\n",
    "1.  **Add the two equations together:**\n",
    "\n",
    "    * $(-\\alpha + \\alpha) + (2\\beta + \\beta) = (-5 + 3)$\n",
    "\n",
    "    * $3\\beta = -2 \\implies \\beta = -2/3$\n",
    "\n",
    "2.  **Substitute $\\beta$ back into the second equation:**\n",
    "\n",
    "    * $\\alpha + (-2/3) = 3 \\implies \\alpha = 3 + 2/3 = 11/3$\n",
    "\n",
    "Since we found a solution ($\\alpha = 11/3, \\beta = -2/3$), it means that $v_3$ **is** a linear combination of $v_1$ and $v_2$. Therefore, the set of vectors is **linearly dependent**. If the system had no solution, the set would have been linearly independent."
   ]
  }
 ],
 "metadata": {
  "kernelspec": {
   "display_name": "Python 3 (ipykernel)",
   "language": "python",
   "name": "python3"
  },
  "language_info": {
   "codemirror_mode": {
    "name": "ipython",
    "version": 3
   },
   "file_extension": ".py",
   "mimetype": "text/x-python",
   "name": "python",
   "nbconvert_exporter": "python",
   "pygments_lexer": "ipython3",
   "version": "3.13.5"
  }
 },
 "nbformat": 4,
 "nbformat_minor": 5
}
