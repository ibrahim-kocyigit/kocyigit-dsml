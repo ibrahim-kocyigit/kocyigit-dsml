{
 "cells": [
  {
   "cell_type": "markdown",
   "id": "7e8f7acb-2522-4aed-968b-108d5c5b2523",
   "metadata": {},
   "source": [
    "# Bases in Linear Algebra"
   ]
  },
  {
   "cell_type": "markdown",
   "id": "4bfcee69-dd2a-4f02-9128-ca1ebbcf3487",
   "metadata": {},
   "source": [
    "A fundamental concept in linear algebra is the **basis** of a vector space. We've seen this idea before when we discussed how a matrix transforms the \"fundamental square\" into a parallelogram. In reality, what matters most are not the shapes themselves, but the two vectors that define them.\n",
    "\n",
    "A **basis** is a set of vectors that has two key properties:\n",
    "1.  The vectors are **linearly independent** (in 2D, this means they are not parallel).\n",
    "2.  They **span** the entire space.\n",
    "\n",
    "The main property of a basis is that any point in the space can be reached by a unique **linear combination** of the basis vectors. This means we can get to any target point by simply \"walking\" along the directions of our basis vectors.\n",
    "\n",
    "![](./images/0101.png)\n"
   ]
  },
  {
   "cell_type": "markdown",
   "id": "72f138b1-df65-4b6c-b8cf-b095352a21b3",
   "metadata": {},
   "source": [
    "---\n",
    "\n",
    "## What is NOT a Basis?\n",
    "\n",
    "Almost any two vectors in a 2D plane will form a basis. The only exception is when the two vectors are **linearly dependent**—meaning they lie on the same line (they are collinear).\n",
    "\n",
    "If two vectors point in the same (or exact opposite) directions, you can only move back and forth along a single line. It's impossible to \"walk\" off this line to reach every other point in the plane. Therefore, these two vectors **do not form a basis** for the 2D plane. They only span a 1D subspace (a line).\n",
    "\n",
    "![](./images/0102.png)\n"
   ]
  }
 ],
 "metadata": {
  "kernelspec": {
   "display_name": "Python 3 (ipykernel)",
   "language": "python",
   "name": "python3"
  },
  "language_info": {
   "codemirror_mode": {
    "name": "ipython",
    "version": 3
   },
   "file_extension": ".py",
   "mimetype": "text/x-python",
   "name": "python",
   "nbconvert_exporter": "python",
   "pygments_lexer": "ipython3",
   "version": "3.13.5"
  }
 },
 "nbformat": 4,
 "nbformat_minor": 5
}
