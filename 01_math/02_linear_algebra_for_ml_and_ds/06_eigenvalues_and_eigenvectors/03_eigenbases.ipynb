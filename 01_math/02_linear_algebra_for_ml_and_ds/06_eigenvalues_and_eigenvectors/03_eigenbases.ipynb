{
 "cells": [
  {
   "cell_type": "markdown",
   "id": "89be99f1-c5de-4ffc-848d-06a003429878",
   "metadata": {},
   "source": [
    "# Eigenbases"
   ]
  },
  {
   "cell_type": "markdown",
   "id": "900baa16-99de-46bc-97bf-c42e2c756858",
   "metadata": {},
   "source": [
    "We've learned that any set of two linearly independent vectors can form a **basis** for the 2D plane. We've also seen that a matrix acts as a **linear transformation** that can be thought of as a \"change of basis.\"\n",
    "\n",
    "For example, the standard basis vectors $\\hat{i}=(1,0)$ and $\\hat{j}=(0,1)$ form a unit square. A transformation matrix tells us where these basis vectors land, warping the square into a parallelogram and defining a new coordinate system.\n",
    "\n",
    "Let's consider the transformation matrix:\n",
    "\n",
    "$ A = \\begin{bmatrix} 2 & 1 \\\\ 0 & 3 \\end{bmatrix} $  \n",
    "\n",
    "This matrix transforms the standard basis as follows:\n",
    "* $\\hat{i} = \\begin{bmatrix} 1 \\\\ 0 \\end{bmatrix}$ is sent to $\\begin{bmatrix} 2 \\\\ 0 \\end{bmatrix}$.  \n",
    "\n",
    "* $\\hat{j} = \\begin{bmatrix} 0 \\\\ 1 \\end{bmatrix}$ is sent to $\\begin{bmatrix} 1 \\\\ 3 \\end{bmatrix}$.\n",
    "\n",
    "The unit square is transformed into a parallelogram. While this is a valid change of basis, the choice of the standard basis was arbitrary. Is there a more \"natural\" or \"special\" basis for this specific transformation?\n",
    "\n",
    "---\n",
    "\n",
    "## Finding a Special Basis: The Eigenbasis\n",
    "\n",
    "Let's see what happens if we choose a different basis for our input space. Let's pick the basis formed by the vectors $v_1 = (1, 0)$ and $v_2 = (1, 1)$.\n",
    "\n",
    "Now, let's apply our transformation matrix `A` to these new basis vectors:\n",
    "\n",
    "* **Transforming $v_1$:** $ \\begin{bmatrix} 2 & 1 \\\\ 0 & 3 \\end{bmatrix} \\begin{bmatrix} 1 \\\\ 0 \\end{bmatrix} = \\begin{bmatrix} 2 \\\\ 0 \\end{bmatrix} $\n",
    "\n",
    "* **Transforming $v_2$:** $ \\begin{bmatrix} 2 & 1 \\\\ 0 & 3 \\end{bmatrix} \\begin{bmatrix} 1 \\\\ 1 \\end{bmatrix} = \\begin{bmatrix} 3 \\\\ 3 \\end{bmatrix} $\n",
    "\n",
    "Notice something remarkable:\n",
    "* The vector $(1, 0)$ was transformed to $(2, 0)$. It stayed on the same line and was simply **stretched by a factor of 2**.\n",
    "* The vector $(1, 1)$ was transformed to $(3, 3)$. It also stayed on the same line and was simply **stretched by a factor of 3**.\n",
    "\n",
    "When we use this special basis, the complex shearing transformation simplifies into two simple stretches along these specific directions. This special basis is called the **eigenbasis**.\n",
    "\n",
    "![](./images/0301.png)\n"
   ]
  },
  {
   "cell_type": "markdown",
   "id": "4ea60fce-4c5e-4cbd-aff3-db501561dbc6",
   "metadata": {},
   "source": [
    "---\n",
    "\n",
    "## Eigenvectors and Eigenvalues\n",
    "\n",
    "This special relationship gives rise to two of the most important concepts in linear algebra.\n",
    "\n",
    "* **Eigenvectors:** These are the special, non-zero vectors that do not change their direction when a linear transformation is applied to them. They are only stretched or shrunk. In our example, `(1, 0)` and `(1, 1)` are eigenvectors of matrix A.\n",
    "\n",
    "* **Eigenvalues:** An eigenvalue is the factor by which an eigenvector is stretched or shrunk. It is a scalar. In our example:\n",
    "    * The eigenvalue corresponding to eigenvector `(1, 0)` is **2**.\n",
    "    * The eigenvalue corresponding to eigenvector `(1, 1)` is **3**.\n",
    "\n",
    "Finding the eigenvectors and eigenvalues of a matrix is tremendously useful because it allows us to understand the fundamental \"stretching\" action of a transformation, simplifying our calculations and providing deep insight into the matrix's properties."
   ]
  }
 ],
 "metadata": {
  "kernelspec": {
   "display_name": "Python 3 (ipykernel)",
   "language": "python",
   "name": "python3"
  },
  "language_info": {
   "codemirror_mode": {
    "name": "ipython",
    "version": 3
   },
   "file_extension": ".py",
   "mimetype": "text/x-python",
   "name": "python",
   "nbconvert_exporter": "python",
   "pygments_lexer": "ipython3",
   "version": "3.13.5"
  }
 },
 "nbformat": 4,
 "nbformat_minor": 5
}
