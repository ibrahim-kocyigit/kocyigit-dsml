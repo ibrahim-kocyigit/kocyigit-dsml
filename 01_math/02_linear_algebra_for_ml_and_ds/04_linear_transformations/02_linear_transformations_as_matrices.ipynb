{
 "cells": [
  {
   "cell_type": "markdown",
   "id": "5c94c1b3-0010-4a25-a652-444e38d85e3b",
   "metadata": {},
   "source": [
    "# Linear Transformations as Matrices"
   ]
  },
  {
   "cell_type": "markdown",
   "id": "47b6b2c6-a388-47df-80eb-c1b18345c482",
   "metadata": {},
   "source": [
    "In the previous video, we learned how to turn a matrix into a linear transformation. Going the other way around—starting with a transformation and finding its matrix—is just as easy.\n",
    "\n",
    "The key is to understand where the **basis vectors**, $\\hat{i} = (1, 0)$ and $\\hat{j} = (0, 1)$, land after the transformation. These two vectors are the fundamental building blocks of our 2D space. Once we know their destinations, we can determine the matrix for the entire transformation.\n",
    "\n",
    "Let's say we have an unknown 2x2 matrix, but we know it transforms the unit square into the following parallelogram:\n",
    "\n",
    "![Linear Transformation](./images/0201.png)\n",
    "\n",
    "From this, we can see:\n",
    "* The vector $\\begin{bmatrix} 1 \\\\ 0 \\end{bmatrix}$ gets sent to the vector $\\begin{bmatrix} 3 \\\\ -1 \\end{bmatrix}$.  \n",
    "\n",
    "* The vector $\\begin{bmatrix} 0 \\\\ 1 \\end{bmatrix}$ gets sent to the vector $\\begin{bmatrix} 2 \\\\ 3 \\end{bmatrix}$.\n",
    "\n",
    "---\n",
    "\n",
    "## The Core Rule: Transformed Basis Vectors are the Columns\n",
    "\n",
    "This reveals the fundamental connection between a 2D linear transformation and its 2x2 matrix:\n",
    "\n",
    "> **The columns of the matrix are the vectors where the original basis vectors, $\\hat{i}$ and $\\hat{j}$, land.**\n",
    "\n",
    "So, if we know that:\n",
    "* $\\hat{i} = \\begin{bmatrix} 1 \\\\ 0 \\end{bmatrix}$ transforms to $\\begin{bmatrix} 3 \\\\ -1 \\end{bmatrix}$  \n",
    "\n",
    "* $\\hat{j} = \\begin{bmatrix} 0 \\\\ 1 \\end{bmatrix}$ transforms to $\\begin{bmatrix} 2 \\\\ 3 \\end{bmatrix}$\n",
    "\n",
    "Then the matrix that performs this transformation must be:  \n",
    "\n",
    "$\n",
    "A = \\begin{bmatrix} 3 & 2 \\\\ -1 & 3 \\end{bmatrix}\n",
    "$  \n",
    "\n",
    "The first column is the transformed $\\hat{i}$, and the second column is the transformed $\\hat{j}$. It's that simple. Let's visualize this to confirm.\n",
    "\n",
    "![](./images/0202.png)\n"
   ]
  },
  {
   "cell_type": "markdown",
   "id": "0f507fb8-1e40-4dfd-acf0-a939ca693946",
   "metadata": {},
   "source": [
    "---\n",
    "\n",
    "## Interactive Exploration\n",
    "\n",
    "The best way to build a strong, visual intuition for linear transformations is to play with them yourself. The interactive tools linked below allow you to change the values in a 2x2 matrix and see in real-time how it stretches, shears, and rotates the 2D space.\n",
    "\n",
    "* **[Linear Transformation Tools on GeoGebra](https://www.geogebra.org/search/linear%20transformations)**\n",
    "\n",
    "As you adjust the matrix values in the tool, pay close attention to where the basis vectors (often shown in red and green) land. You will see that they always correspond to the columns of the matrix you've defined."
   ]
  }
 ],
 "metadata": {
  "kernelspec": {
   "display_name": "Python 3 (ipykernel)",
   "language": "python",
   "name": "python3"
  },
  "language_info": {
   "codemirror_mode": {
    "name": "ipython",
    "version": 3
   },
   "file_extension": ".py",
   "mimetype": "text/x-python",
   "name": "python",
   "nbconvert_exporter": "python",
   "pygments_lexer": "ipython3",
   "version": "3.13.5"
  }
 },
 "nbformat": 4,
 "nbformat_minor": 5
}
