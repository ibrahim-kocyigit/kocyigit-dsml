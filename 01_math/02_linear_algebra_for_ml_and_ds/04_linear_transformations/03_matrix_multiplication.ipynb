{
 "cells": [
  {
   "cell_type": "markdown",
   "id": "324338f3-50ce-4a41-869b-5e1e1de98b81",
   "metadata": {},
   "source": [
    "# Matrix Multiplication"
   ]
  },
  {
   "cell_type": "markdown",
   "id": "3562850d-9546-4757-8d9a-4e3feecbc95d",
   "metadata": {},
   "source": [
    "In the previous lessons, we've learned how to multiply a matrix by a vector. Now, we'll extend that to multiplying a matrix by another matrix.\n",
    "\n",
    "The most intuitive way to understand matrix multiplication is to see it as the **composition of two linear transformations**. If we apply one transformation to our space and then immediately apply a second transformation, the combined effect can be described by a single, new matrix. This new matrix is the **product** of the first two.\n",
    "\n",
    "---\n",
    "\n",
    "## A Geometric Example\n",
    "\n",
    "Let's see this in action. We'll use two transformations:\n",
    "\n",
    "* **Transformation 1 (Matrix A):**\n",
    "\n",
    "$ A = \\begin{bmatrix} 3 & 1 \\\\ 1 & 2 \\end{bmatrix} $  \n",
    "\n",
    "* **Transformation 2 (Matrix B):** \n",
    "\n",
    "$ B = \\begin{bmatrix} 2 & -1 \\\\ 0 & 2 \\end{bmatrix} $\n",
    "\n",
    "We will start with our standard basis vectors, apply Transformation A, and then apply Transformation B to the result.\n",
    "\n",
    "![](./images/0301.png)\n"
   ]
  },
  {
   "cell_type": "markdown",
   "id": "93d70e24-38a5-4cc5-8cf1-9743a4796b40",
   "metadata": {},
   "source": [
    "---\n",
    "\n",
    "# The Resulting Matrix\n",
    "\n",
    "The combined transformation maps the original basis vectors to their final destinations:\n",
    "* $\\hat{i} = \\begin{bmatrix} 1 \\\\ 0 \\end{bmatrix}$ is sent to $\\begin{bmatrix} 5 \\\\ 2 \\end{bmatrix}$.  \n",
    "\n",
    "* $\\hat{j} = \\begin{bmatrix} 0 \\\\ 1 \\end{bmatrix}$ is sent to $\\begin{bmatrix} 0 \\\\ 4 \\end{bmatrix}$.\n",
    "\n",
    "As we learned before, the matrix for this combined transformation is simply the one whose columns are these new basis vectors.\n",
    "\n",
    "**Combined Matrix (C):**  \n",
    "\n",
    "$ C = \\begin{bmatrix} 5 & 0 \\\\ 2 & 4 \\end{bmatrix} $  \n",
    "\n",
    "This matrix `C` is the **product** of matrices `B` and `A`.\n",
    "\n",
    "$ C = B \\cdot A $\n",
    "\n",
    "**Important Note on Order:** The order of multiplication is crucial and works in reverse. Because transformations are applied from the right (e.g., $A \\cdot v$), the first transformation to be applied (`A`) is on the right, and the second (`B`) is on the left.\n",
    "\n",
    "---\n",
    "\n",
    "## The Algebraic Method: Dot Products\n",
    "\n",
    "There is a much faster way to calculate the product of two matrices without visualizing the transformations. The rule is:\n",
    "\n",
    "> **The entry in the *i*-th row and *j*-th column of the product matrix is the dot product of the *i*-th row of the first matrix and the *j*-th column of the second matrix.**\n",
    "\n",
    "Let's calculate $B \\cdot A$:  \n",
    "\n",
    "$\n",
    "B \\cdot A = \\begin{bmatrix} 2 & -1 \\\\ 0 & 2 \\end{bmatrix} \\begin{bmatrix} 3 & 1 \\\\ 1 & 2 \\end{bmatrix}\n",
    "$\n",
    "\n",
    "* **Top-Left Entry (Row 1 of B · Col 1 of A):**\n",
    "    $ \\begin{bmatrix} 2 & -1 \\end{bmatrix} \\cdot \\begin{bmatrix} 3 \\\\ 1 \\end{bmatrix} = (2)(3) + (-1)(1) = 5 $  \n",
    "\n",
    "* **Top-Right Entry (Row 1 of B · Col 2 of A):**\n",
    "    $ \\begin{bmatrix} 2 & -1 \\end{bmatrix} \\cdot \\begin{bmatrix} 1 \\\\ 2 \\end{bmatrix} = (2)(1) + (-1)(2) = 0 $  \n",
    "\n",
    "* **Bottom-Left Entry (Row 2 of B · Col 1 of A):**\n",
    "    $ \\begin{bmatrix} 0 & 2 \\end{bmatrix} \\cdot \\begin{bmatrix} 3 \\\\ 1 \\end{bmatrix} = (0)(3) + (2)(1) = 2 $  \n",
    "\n",
    "* **Bottom-Right Entry (Row 2 of B · Col 2 of A):**\n",
    "    $ \\begin{bmatrix} 0 & 2 \\end{bmatrix} \\cdot \\begin{bmatrix} 1 \\\\ 2 \\end{bmatrix} = (0)(1) + (2)(2) = 4 $\n",
    "\n",
    "The resulting matrix is exactly what we found geometrically: $ \\begin{bmatrix} 5 & 0 \\\\ 2 & 4 \\end{bmatrix} $\n",
    "\n",
    "---\n",
    "\n",
    "## Multiplication of Non-Square Matrices\n",
    "\n",
    "This \"row-times-column\" dot product rule works for non-square matrices as well, with one important condition:\n",
    "\n",
    "> **The number of columns of the first matrix must match the number of rows of the second matrix.**\n",
    "\n",
    "The resulting matrix will have the number of rows from the first matrix and the number of columns from the second.\n",
    "\n",
    "**Rule:** An **(m x n)** matrix multiplied by an **(n x p)** matrix results in an **(m x p)** matrix."
   ]
  }
 ],
 "metadata": {
  "kernelspec": {
   "display_name": "Python 3 (ipykernel)",
   "language": "python",
   "name": "python3"
  },
  "language_info": {
   "codemirror_mode": {
    "name": "ipython",
    "version": 3
   },
   "file_extension": ".py",
   "mimetype": "text/x-python",
   "name": "python",
   "nbconvert_exporter": "python",
   "pygments_lexer": "ipython3",
   "version": "3.13.5"
  }
 },
 "nbformat": 4,
 "nbformat_minor": 5
}
