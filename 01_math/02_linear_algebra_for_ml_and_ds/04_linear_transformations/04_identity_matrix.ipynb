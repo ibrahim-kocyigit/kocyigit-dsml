{
 "cells": [
  {
   "cell_type": "markdown",
   "id": "4fbc77de-c0a2-43d3-9fef-eba2595a3fa9",
   "metadata": {},
   "source": [
    "# The Identity Matrix"
   ]
  },
  {
   "cell_type": "markdown",
   "id": "5f3e17f9-c880-4a65-92fa-e80aab1de726",
   "metadata": {},
   "source": [
    "In standard multiplication, the number **one** is special because multiplying any number by one leaves it unchanged (e.g., $5 \\times 1 = 5$).\n",
    "\n",
    "The **identity matrix**, usually denoted as **I**, plays this exact same role in matrix multiplication. When you multiply any matrix by the identity matrix, you get the same original matrix back.\n",
    "\n",
    "Its corresponding linear transformation is the simplest one possible: it's the transformation that **leaves the entire space unchanged**.\n",
    "\n",
    "---\n",
    "## The Structure of the Identity Matrix\n",
    "\n",
    "The identity matrix is a square matrix with **ones on the main diagonal** and **zeros everywhere else**.\n",
    "\n",
    "* **2x2 Identity:**  \n",
    "\n",
    "$ I = \\begin{bmatrix} 1 & 0 \\\\ 0 & 1 \\end{bmatrix} $  \n",
    "\n",
    "* **3x3 Identity:**  \n",
    "\n",
    "$ I = \\begin{bmatrix} 1 & 0 & 0 \\\\ 0 & 1 & 0 \\\\ 0 & 0 & 1 \\end{bmatrix} $\n",
    "\n",
    "### Why It Works\n",
    "\n",
    "When you multiply the identity matrix by any vector, the result is the same vector you started with. Let's see why with a 2x2 example:  \n",
    "\n",
    "$\n",
    "\\begin{bmatrix} 1 & 0 \\\\ 0 & 1 \\end{bmatrix} \\begin{bmatrix} a \\\\ b \\end{bmatrix} = \\begin{bmatrix} (1)(a) + (0)(b) \\\\ (0)(a) + (1)(b) \\end{bmatrix} = \\begin{bmatrix} a \\\\ b \\end{bmatrix}\n",
    "$  \n",
    "\n",
    "The ones on the diagonal preserve each component, and the zeros ensure that the components don't mix.\n",
    "\n",
    "---\n",
    "\n",
    "## The Identity Transformation\n",
    "\n",
    "Geometrically, the identity matrix corresponds to a transformation that does nothing. It sends every point in the plane to itself.\n",
    "\n",
    "* The basis vector $\\begin{bmatrix} 1 \\\\ 0 \\end{bmatrix}$ is sent to $\\begin{bmatrix} 1 \\\\ 0 \\end{bmatrix}$.  \n",
    "\n",
    "* The basis vector $\\begin{bmatrix} 0 \\\\ 1 \\end{bmatrix}$ is sent to $\\begin{bmatrix} 0 \\\\ 1 \\end{bmatrix}$.\n",
    "\n",
    "The visualization below shows that the \"transformed\" space is identical to the original space.\n",
    "\n",
    "![](./images/0401.png)\n"
   ]
  }
 ],
 "metadata": {
  "kernelspec": {
   "display_name": "Python 3 (ipykernel)",
   "language": "python",
   "name": "python3"
  },
  "language_info": {
   "codemirror_mode": {
    "name": "ipython",
    "version": 3
   },
   "file_extension": ".py",
   "mimetype": "text/x-python",
   "name": "python",
   "nbconvert_exporter": "python",
   "pygments_lexer": "ipython3",
   "version": "3.13.5"
  }
 },
 "nbformat": 4,
 "nbformat_minor": 5
}
