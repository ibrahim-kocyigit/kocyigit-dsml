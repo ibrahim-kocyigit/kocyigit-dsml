{
 "cells": [
  {
   "cell_type": "markdown",
   "id": "b91a5d74-0dc2-458c-99fb-f1f9f7cef8d9",
   "metadata": {},
   "source": [
    "# Other Measures of Central Tendency: Median and Mode"
   ]
  },
  {
   "cell_type": "markdown",
   "id": "5c526c01-a3e1-4c01-9d6c-673cf7b7f2d9",
   "metadata": {},
   "source": [
    "In the last lesson, we learned about the expected value, or **mean**, as a measure of the center of a distribution. However, the mean is not always the best measure, as it can be heavily influenced by extreme outliers.\n",
    "\n",
    "### The Michael Jordan Effect\n",
    "A famous example illustrates this problem. In the 1980s, the average starting salary for a geography graduate at the University of North Carolina was reported to be around 250,000 dollars, while the national average was only 22,000 dollars.\n",
    "\n",
    "Why the huge difference? It's because one graduate from that program, Michael Jordan, had an exceptionally high starting salary. His single, massive salary (an **outlier**) pulled the average up for everyone else, giving a misleading picture of what a typical graduate earned.\n",
    "\n",
    "The mean is the balancing point of the data. An extreme outlier acts like a heavy weight placed far out on a seesaw, forcing the balancing point to shift significantly.\n",
    "\n",
    "---\n",
    "## The Median: The True Middle\n",
    "\n",
    "When our data has extreme outliers, the **median** is often a better measure of the central tendency.\n",
    "\n",
    "> The **median** is the middle value in a dataset that has been sorted in order. It's the point where 50% of the data is smaller and 50% is larger.\n",
    "\n",
    "Because it's based on position, not value, the median is not affected by extreme outliers. Michael Jordan is just one person in the sorted list, so his huge salary doesn't change the middle position.\n",
    "\n",
    "*(Note: If a dataset has an even number of points, the median is the average of the two middle values.)*\n",
    "\n",
    "---\n",
    "## The Mode: The Most Frequent Value\n",
    "\n",
    "The third measure of central tendency is the **mode**.\n",
    "\n",
    "> The **mode** is the value that appears most frequently in a dataset.\n",
    "\n",
    "In a probability distribution, the mode is the outcome with the highest probability.\n",
    "* For a discrete distribution, it's the tallest bar in the histogram.\n",
    "* For a continuous distribution, it's the peak of the PDF curve.\n",
    "\n",
    "A distribution can have more than one mode (multimodal), or if all outcomes are equally likely (like a uniform distribution), every value can be considered a mode."
   ]
  },
  {
   "cell_type": "markdown",
   "id": "fca356e8-c5be-4547-a2bb-f3491a2317ba",
   "metadata": {},
   "source": [
    "---\n",
    "\n",
    "## Comparing Mean, Median, and Mode\n",
    "\n",
    "Let's see how these three measures compare for different binomial distributions.\n",
    "\n",
    "![](./images/0201.png)"
   ]
  },
  {
   "cell_type": "markdown",
   "id": "5b51f851-b748-4b7b-b773-901df8169fb1",
   "metadata": {},
   "source": [
    "---\n",
    "\n",
    "## Central Tendency in the Normal Distribution\n",
    "\n",
    "For a **normal distribution**, which is perfectly symmetric, the situation is very simple:\n",
    "> **The mean, median, and mode are all the exact same value**, located at the center and peak of the bell curve.\n",
    "\n",
    "![](./images/0202.png)"
   ]
  }
 ],
 "metadata": {
  "kernelspec": {
   "display_name": "Python 3 (ipykernel)",
   "language": "python",
   "name": "python3"
  },
  "language_info": {
   "codemirror_mode": {
    "name": "ipython",
    "version": 3
   },
   "file_extension": ".py",
   "mimetype": "text/x-python",
   "name": "python",
   "nbconvert_exporter": "python",
   "pygments_lexer": "ipython3",
   "version": "3.13.5"
  }
 },
 "nbformat": 4,
 "nbformat_minor": 5
}
