{
 "cells": [
  {
   "cell_type": "markdown",
   "id": "8d5a7e8a-2d6f-41cb-a9b8-a45d1e1851b8",
   "metadata": {},
   "source": [
    "# Expected Value (Mean)"
   ]
  },
  {
   "cell_type": "markdown",
   "id": "3be418d1-f5f5-4050-8b3c-2b773c5ac8ef",
   "metadata": {},
   "source": [
    "In this module, we will explore one of the most important concepts for describing a probability distribution: the **mean**, or as it's more formally known in probability, the **Expected Value**.\n",
    "\n",
    "The expected value represents the \"center of mass\" or the **balancing point** of a distribution. It's the long-run average value we would expect to get if we were to repeat an experiment many times.\n",
    "\n",
    "Let's start with an intuitive example.\n",
    "\n",
    "**Scenario:** We have a sample of 10 kids with the following ages:\n",
    "* 3 kids are age 0\n",
    "* 2 kids are age 1\n",
    "* 4 kids are age 2\n",
    "* 1 kid is age 3\n",
    "\n",
    "If we were to represent each kid as a ball on a scale, the mean would be the point where the scale balances perfectly.\n",
    "\n",
    "To calculate this, we find the average age:\n",
    "$$ \\text{Mean} = \\frac{(3 \\times 0) + (2 \\times 1) + (4 \\times 2) + (1 \\times 3)}{10} = \\frac{0 + 2 + 8 + 3}{10} = \\frac{13}{10} = 1.3 $$\n",
    "The average age is 1.3 years.\n",
    "\n",
    "We can rewrite this calculation in a way that highlights the probabilities:\n",
    "$$ \\text{Mean} = (0 \\cdot \\frac{3}{10}) + (1 \\cdot \\frac{2}{10}) + (2 \\cdot \\frac{4}{10}) + (3 \\cdot \\frac{1}{10}) = 1.3 $$\n",
    "This is a **weighted average** of the ages, where each age is weighted by its probability of occurring. This is the definition of the expected value.\n",
    "\n",
    "![](./images/0101.png)"
   ]
  },
  {
   "cell_type": "markdown",
   "id": "555a35eb-1c08-4614-80ad-c813e11e5e08",
   "metadata": {},
   "source": [
    "---\n",
    "\n",
    "## Expected Value in Decision Making\n",
    "\n",
    "The concept of expected value is very useful for making decisions under uncertainty.\n",
    "\n",
    "**Scenario:** A friend offers you a game. You flip a fair coin. If it's heads, you win 10 dollars. If it's tails, you win nothing.\n",
    "\n",
    "**Question:** What is a fair price to pay to play this game?\n",
    "\n",
    "To answer this, we can calculate the **expected payoff**.\n",
    "* You have a 50% chance of winning 10 dollars.\n",
    "* You have a 50% chance of winning 0 dollars.\n",
    "\n",
    "The expected value `E(X)` is the weighted average of the outcomes:\n",
    "$$ E(X) = (10 \\text{ dollars} \\cdot 0.5) + (0 \\text{ dollars} \\cdot 0.5) = 5 \\text{ dollars} $$\n",
    "On average, you can expect to win 5 dollars each time you play. Therefore, 5 dollars is the highest amount you should be willing to pay.\n",
    "\n",
    "---\n",
    "## The Formal Definition (Discrete Case)\n",
    "\n",
    "If you have a discrete random variable `X` with a probability mass function `p(x)`, the expected value is the sum of each possible value multiplied by its probability.\n",
    "\n",
    "> **Expected Value (Discrete):**\n",
    "> $$ E[X] = \\sum x \\cdot p(x) $$\n",
    "\n",
    "---\n",
    "## Expected Value for Continuous Variables\n",
    "\n",
    "The concept is the same for continuous random variables: the expected value is still the \"balancing point\" of the distribution. However, instead of summing a finite number of values, we have to use an integral to calculate the weighted average over a continuous interval.\n",
    "\n",
    "> **Expected Value (Continuous):**\n",
    "> $$E[X] = \\int_{-\\infty}^{\\infty} x \\cdot f(x) \\,dx$$\n",
    "\n",
    "**Intuition:**\n",
    "Just like the discrete version, this is a **weighted average**. The integral \"sums up\" all the possible values of `x`, where each `x` is weighted by its probability density `f(x)`.\n",
    "\n",
    "While we won't focus on the integral calculation, the visual intuition remains the same. For a symmetric distribution like the uniform distribution, the mean is simply the center point. For a skewed distribution, the mean is the point that would balance the entire shape."
   ]
  },
  {
   "cell_type": "markdown",
   "id": "7a9b4735-a261-4a9b-980e-fe9ed9c7f1ea",
   "metadata": {},
   "source": [
    "---\n",
    "\n",
    "## A Common Misconception: Mean vs. Median\n",
    "\n",
    "It's natural to think that the mean is the point where the data is split in half (50% on one side, 50% on the other). That point is actually called the **median**.\n",
    "\n",
    "The mean is the **balancing point**. This means that in a skewed distribution, a few extreme values far from the center can \"pull\" the mean in their direction, just like a small mouse can balance a heavy elephant if it's placed far enough away on a seesaw."
   ]
  }
 ],
 "metadata": {
  "kernelspec": {
   "display_name": "Python 3 (ipykernel)",
   "language": "python",
   "name": "python3"
  },
  "language_info": {
   "codemirror_mode": {
    "name": "ipython",
    "version": 3
   },
   "file_extension": ".py",
   "mimetype": "text/x-python",
   "name": "python",
   "nbconvert_exporter": "python",
   "pygments_lexer": "ipython3",
   "version": "3.13.5"
  }
 },
 "nbformat": 4,
 "nbformat_minor": 5
}
