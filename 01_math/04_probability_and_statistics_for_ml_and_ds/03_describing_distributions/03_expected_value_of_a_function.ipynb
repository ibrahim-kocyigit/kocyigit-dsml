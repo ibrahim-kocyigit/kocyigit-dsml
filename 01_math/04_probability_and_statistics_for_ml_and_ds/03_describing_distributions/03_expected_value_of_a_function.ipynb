{
 "cells": [
  {
   "cell_type": "markdown",
   "id": "1f9242c6-8bf0-4d84-9dd7-f1e0f2acdf5c",
   "metadata": {},
   "source": [
    "# Expected Value of a Function"
   ]
  },
  {
   "cell_type": "markdown",
   "id": "46181054-7b21-4bd7-b5ec-85d0e33d9af6",
   "metadata": {},
   "source": [
    "You have now learned how to find the expected value of a random variable `X`. But what if you're interested in the expected value of a *function* of that variable, like `X²` or `2X - 5`?\n",
    "\n",
    "Luckily, the process is very similar.\n",
    "\n",
    "> **Rule:** To find the expected value of a function `g(X)`, you calculate a weighted average where you sum the values of `g(x)` multiplied by the probability of `x`.\n",
    "> $$ E[g(X)] = \\sum g(x) \\cdot P(X=x) $$\n",
    "\n",
    "You simply replace `x` with `g(x)` in the original expected value formula.\n",
    "\n",
    "---\n",
    "## Example 1: The Squared Payoff Game\n",
    "\n",
    "Imagine a game where you roll a fair six-sided die. The payoff you receive is the **square** of the number you roll.\n",
    "\n",
    "**Question:** What is a fair price to pay to play this game?\n",
    "\n",
    "To answer this, we need to find the expected payoff, which is the expected value of the random variable $g(X) = X^2$.\n",
    "\n",
    "* **Possible Outcomes (X):** {1, 2, 3, 4, 5, 6}\n",
    "* **Probability of each outcome, P(X=x):** 1/6 for each.\n",
    "* **Payoff for each outcome, g(x) = x²:** {1, 4, 9, 16, 25, 36}\n",
    "\n",
    "Now, we calculate the weighted average of the **payoffs**:\n",
    "$$ E[X^2] = (1 \\cdot \\frac{1}{6}) + (4 \\cdot \\frac{1}{6}) + (9 \\cdot \\frac{1}{6}) + (16 \\cdot \\frac{1}{6}) + (25 \\cdot \\frac{1}{6}) + (36 \\cdot \\frac{1}{6}) $$\n",
    "$$ = \\frac{1+4+9+16+25+36}{6} = \\frac{91}{6} \\approx 15.17 $$\n",
    "\n",
    "The fair price to play this game is approximately 15.17 dollars.\n",
    "\n",
    "---\n",
    "## Example 2: Linearity of Expectation\n",
    "\n",
    "Let's consider a new game. You roll a die, and your payoff is **twice the number you roll, minus a 5 dollar fee**.\n",
    "\n",
    "* **The function is:** $g(X) = 2X - 5$\n",
    "* **The payoffs for rolls 1-6 are:** {-3, -1, 1, 3, 5, 7}\n",
    "\n",
    "**Question:** What is your average (expected) winning/loss for this game?\n",
    "\n",
    "We can calculate the expected value of the payoffs directly:\n",
    "$$ E[2X - 5] = \\frac{-3 + (-1) + 1 + 3 + 5 + 7}{6} = \\frac{12}{6} = 2 $$\n",
    "On average, you can expect to win 2 dollars per game.\n",
    "\n",
    "Notice something interesting when we rearrange the calculation:\n",
    "$$ E[2X - 5] = \\frac{(2 \\cdot 1 - 5) + (2 \\cdot 2 - 5) + \\dots + (2 \\cdot 6 - 5)}{6} $$\n",
    "$$ = \\frac{2(1+2+3+4+5+6) - (6 \\cdot 5)}{6} $$\n",
    "$$ = 2 \\cdot \\left(\\frac{1+2+3+4+5+6}{6}\\right) - 5 $$\n",
    "$$ = 2 \\cdot E[X] - 5 $$\n",
    "\n",
    "The expected value of the roll of a fair die, `E[X]`, is 3.5. So, $2 \\cdot (3.5) - 5 = 7 - 5 = 2$. This gives us the same result.\n",
    "\n",
    "This reveals a very important property called the **Linearity of Expectation**.\n",
    "\n",
    "> **Rule:** For any random variable `X` and any constants `a` and `b`:\n",
    "> $$ E[aX + b] = aE[X] + b $$\n",
    "\n",
    "This rule is extremely useful as it often allows us to simplify complex expected value calculations."
   ]
  }
 ],
 "metadata": {
  "kernelspec": {
   "display_name": "Python 3 (ipykernel)",
   "language": "python",
   "name": "python3"
  },
  "language_info": {
   "codemirror_mode": {
    "name": "ipython",
    "version": 3
   },
   "file_extension": ".py",
   "mimetype": "text/x-python",
   "name": "python",
   "nbconvert_exporter": "python",
   "pygments_lexer": "ipython3",
   "version": "3.13.5"
  }
 },
 "nbformat": 4,
 "nbformat_minor": 5
}
