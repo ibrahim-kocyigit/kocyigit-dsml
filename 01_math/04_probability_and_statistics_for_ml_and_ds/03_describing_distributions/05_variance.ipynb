{
 "cells": [
  {
   "cell_type": "markdown",
   "id": "9cc87b63-0110-4efa-8993-a25bbbbd755d",
   "metadata": {},
   "source": [
    "# Variance"
   ]
  },
  {
   "cell_type": "markdown",
   "id": "cb06ebde-2932-41b8-ba5b-0aa5b6c8d664",
   "metadata": {},
   "source": [
    "In the last lesson, we learned about the expected value (or mean). While the mean tells us a lot about the center of a distribution, it doesn't tell the whole story. Two distributions can have the exact same mean but look completely different.\n",
    "\n",
    "This difference is captured by a new measure called **variance**, which describes how spread out a distribution is.\n",
    "\n",
    "### Two Games: Same Mean, Different Spread\n",
    "Let's consider two different coin-flipping games.\n",
    "\n",
    "* **Game 1:** You flip a fair coin. Heads, you win 1 dollar. Tails, you lose 1 dollar.\n",
    "    * The expected value is `E[X₁] = (1 * 0.5) + (-1 * 0.5) = 0`.\n",
    "* **Game 2:** You flip a fair coin. Heads, you win **100** dollars. Tails, you lose **100** dollars.\n",
    "    * The expected value is `E[X₂] = (100 * 0.5) + (-100 * 0.5) = 0`.\n",
    "\n",
    "Both games have the same expected value of 0. On average, you would break even playing either game. However, Game 2 is clearly much riskier. Its outcomes are far more spread out. We need a way to quantify this difference in spread, and that's the job of the variance."
   ]
  },
  {
   "cell_type": "markdown",
   "id": "9302fa88-295e-41a5-a911-1aa333af8495",
   "metadata": {},
   "source": [
    "---\n",
    "\n",
    "## Calculating Variance\n",
    "\n",
    "To quantify spread, our first instinct might be to calculate the average **deviation** from the mean, `X - E[X]`. However, because the mean is the balancing point, the positive and negative deviations always cancel out, and the average deviation is always zero.\n",
    "\n",
    "The standard approach is to use the **squared deviation**, `(X - E[X])²`. This makes all deviations positive and heavily penalizes outcomes that are far from the mean.\n",
    "\n",
    "> **Definition:** The **variance**, denoted as `Var(X)` or `σ²`, is the expected value (or average) of the squared deviation.\n",
    "> $$ \\text{Var}(X) = E[(X - E[X])^2] $$\n",
    "\n",
    "Let's calculate the variance for our two games:\n",
    "* **Game 1:** The squared deviations are $(-1-0)^2=1$ and $(1-0)^2=1$.\n",
    "    * `Var(X₁) = (1 * 0.5) + (1 * 0.5) = 1`\n",
    "* **Game 2:** The squared deviations are $(-100-0)^2=10000$ and $(100-0)^2=10000$.\n",
    "    * `Var(X₂) = (10000 * 0.5) + (10000 * 0.5) = 10000`\n",
    "\n",
    "The variance successfully captures the massive difference in the spread of the two games.\n",
    "\n",
    "---\n",
    "## Alternative Formula for Variance\n",
    "\n",
    "While the definition above is intuitive, an alternative formula is often easier for calculations:\n",
    "> **Alternative Formula:**\n",
    "> $$ \\text{Var}(X) = E[X^2] - (E[X])^2 $$\n",
    "In words: The variance is the expected value of the square of the variable, minus the square of the expected value.\n",
    "\n",
    "---\n",
    "## Properties of Variance\n",
    "\n",
    "Variance has a very important property related to scaling and shifting a random variable.\n",
    "> **Rule:** For any random variable `X` and any constants `a` and `b`:\n",
    "> $$ \\text{Var}(aX + b) = a^2\\text{Var}(X) $$\n",
    "\n",
    "Let's break this down:\n",
    "* **Adding a constant `b` does not change the variance.** Shifting a distribution left or right changes its mean, but it does **not** change its spread.\n",
    "* **Multiplying by a constant `a` scales the variance by `a²`.** If you double the value of all outcomes, you are also doubling their deviations from the mean. Since variance is based on the *squared* deviation, the total variance increases by a factor of $2^2 = 4$."
   ]
  }
 ],
 "metadata": {
  "kernelspec": {
   "display_name": "Python 3 (ipykernel)",
   "language": "python",
   "name": "python3"
  },
  "language_info": {
   "codemirror_mode": {
    "name": "ipython",
    "version": 3
   },
   "file_extension": ".py",
   "mimetype": "text/x-python",
   "name": "python",
   "nbconvert_exporter": "python",
   "pygments_lexer": "ipython3",
   "version": "3.13.5"
  }
 },
 "nbformat": 4,
 "nbformat_minor": 5
}
