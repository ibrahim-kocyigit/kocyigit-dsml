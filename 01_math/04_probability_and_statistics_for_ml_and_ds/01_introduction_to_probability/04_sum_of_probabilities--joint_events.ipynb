{
 "cells": [
  {
   "cell_type": "markdown",
   "id": "8ea0e795-a6e3-4547-a18b-9848d7c957ce",
   "metadata": {},
   "source": [
    "# The Sum of Probabilities (for Joint Events)"
   ]
  },
  {
   "cell_type": "markdown",
   "id": "3ff843b9-71d1-4479-8259-a6a2b8bcf515",
   "metadata": {},
   "source": [
    "In the last lesson, we learned how to add the probabilities of **disjoint** (mutually exclusive) events. But what happens when the events are **not** disjoint, meaning they can happen at the same time?\n",
    "\n",
    "If we simply add their probabilities, we run into a problem. For example, if `P(Rain) = 0.8` and `P(Windy) = 0.7`, adding them gives `1.5` or 150%, which is impossible. The issue is that we have failed to account for the possibility of it being **rainy and windy simultaneously**.\n",
    "\n",
    "---\n",
    "## The Problem of Over-Counting\n",
    "\n",
    "Let's revisit our school example, but this time, kids are allowed to play more than one sport.\n",
    "\n",
    "**Scenario:** In a school of 10 kids:\n",
    "* 6 kids play soccer (`P(Soccer) = 0.6`).\n",
    "* 5 kids play basketball (`P(Basketball) = 0.5`).\n",
    "* 3 kids play **both** soccer and basketball (`P(Soccer and Basketball) = 0.3`).\n",
    "\n",
    "**Question:** What is the probability that a kid plays soccer OR basketball?\n",
    "\n",
    "If we simply add the number of soccer players (6) and basketball players (5), we get 11, which is more than the number of kids in the school. This is because we have **counted the 3 kids who play both sports twice**.\n",
    "\n",
    "To get the correct count of kids who play at least one sport, we must add the two groups and then subtract the overlap that we double-counted:\n",
    "`Total Athletes = (Soccer Players) + (Basketball Players) - (Players of Both)`\n",
    "`Total Athletes = 6 + 5 - 3 = 8`\n",
    "\n",
    "The probability is therefore $\\frac{8}{10} = 0.8$.\n",
    "\n",
    "![](./images/0401.png)\n",
    "\n",
    "---\n",
    "## The General Addition Rule (Inclusion-Exclusion Principle)\n",
    "\n",
    "This logic gives us the general addition rule for any two events, `A` and `B`.\n",
    "\n",
    "> **Formula:**\n",
    "> $$ P(A \\cup B) = P(A) + P(B) - P(A \\cap B) $$\n",
    "> *Where `∪` means \"or\" (union) and `∩` means \"and\" (intersection).*\n",
    "\n",
    "This is also known as the **Inclusion-Exclusion Principle**. We *include* the probabilities of both events and then *exclude* the intersection that we counted twice.\n",
    "\n",
    "*Note: This rule also works for disjoint events. Since their intersection is impossible, `P(A ∩ B) = 0`, and the formula simplifies back to `P(A ∪ B) = P(A) + P(B)`.*\n",
    "\n",
    "---\n",
    "\n",
    "## Applying the Rule to Dice Rolls\n",
    "\n",
    "Let's visualize a more complex example with two dice.\n",
    "\n",
    "**Question:** What is the probability of the sum being 7 **or** the absolute difference being 1?\n",
    "\n",
    "These events are **not disjoint**. As the heatmap shows, the outcomes `(3, 4)` and `(4, 3)` satisfy both conditions. This is the **intersection**.\n",
    "\n",
    "* **Event A (Sum = 7):** There are 6 favorable outcomes. $P(A) = \\frac{6}{36}$.\n",
    "* **Event B (Difference = 1):** There are 10 favorable outcomes. $P(B) = \\frac{10}{36}$.\n",
    "* **Intersection (A ∩ B):** There are 2 favorable outcomes. $P(A \\cap B) = \\frac{2}{36}$.\n",
    "\n",
    "Now, we apply the general addition rule:\n",
    "$$ P(A \\cup B) = P(A) + P(B) - P(A \\cap B) $$\n",
    "$$ P(A \\cup B) = \\frac{6}{36} + \\frac{10}{36} - \\frac{2}{36} = \\frac{14}{36} = \\frac{7}{18} $$\n",
    "\n",
    "![](./images/0402.png)\n"
   ]
  }
 ],
 "metadata": {
  "kernelspec": {
   "display_name": "Python 3 (ipykernel)",
   "language": "python",
   "name": "python3"
  },
  "language_info": {
   "codemirror_mode": {
    "name": "ipython",
    "version": 3
   },
   "file_extension": ".py",
   "mimetype": "text/x-python",
   "name": "python",
   "nbconvert_exporter": "python",
   "pygments_lexer": "ipython3",
   "version": "3.13.5"
  }
 },
 "nbformat": 4,
 "nbformat_minor": 5
}
