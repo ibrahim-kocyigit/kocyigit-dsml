{
 "cells": [
  {
   "cell_type": "markdown",
   "id": "8ea0e795-a6e3-4547-a18b-9848d7c957ce",
   "metadata": {},
   "source": [
    "# The Sum of Probabilities (for Disjoint Events)"
   ]
  },
  {
   "cell_type": "markdown",
   "id": "3ff843b9-71d1-4479-8259-a6a2b8bcf515",
   "metadata": {},
   "source": [
    "In this lesson, we will learn how to calculate the probability of one event *or* another event occurring. The rule is simple: if the events are **disjoint**, we can just add their probabilities.\n",
    "\n",
    "**What are disjoint (or mutually exclusive) events?**\n",
    "Two events are disjoint if they **cannot happen at the same time**. There is no overlap between them.\n",
    "\n",
    "Let's use an example.\n",
    "\n",
    "**Scenario:** In a school, kids can only play one sport: either soccer or basketball.\n",
    "* The probability that a randomly picked kid plays soccer is `P(Soccer) = 0.3`.\n",
    "* The probability that a randomly picked kid plays basketball is `P(Basketball) = 0.4`.\n",
    "\n",
    "**Question:** What is the probability that a kid plays soccer OR basketball?\n",
    "\n",
    "Since a kid cannot play both sports, these events are disjoint. We can find the total number of kids who play a sport and divide by the total. If there are 10 kids, 3 play soccer and 4 play basketball. The total number of kids who play a sport is $3 + 4 = 7$.\n",
    "\n",
    "The probability is:\n",
    "$$ P(\\text{Soccer or Basketball}) = \\frac{7}{10} = 0.7 $$\n",
    "\n",
    "Notice that this is simply the sum of the individual probabilities: $0.3 + 0.4 = 0.7$.\n",
    "\n",
    "---\n",
    "## The Addition Rule for Disjoint Events\n",
    "\n",
    "This leads us to our main rule. If `A` and `B` are disjoint events, the probability of `A` or `B` happening is the sum of their probabilities.\n",
    "\n",
    "> **Formula:**\n",
    "> $$ P(A \\cup B) = P(A) + P(B) $$\n",
    "> *Where the union symbol `∪` means \"or\".*\n",
    "\n",
    "In a Venn diagram, disjoint events are represented by two separate, non-overlapping circles. The probability of their union is the sum of the areas of the two circles.\n",
    "\n",
    "![](./images/0301.png)"
   ]
  },
  {
   "cell_type": "markdown",
   "id": "29612cc5-fe82-4e9c-940e-aa429dc4944a",
   "metadata": {},
   "source": [
    "---\n",
    "\n",
    "## Applying the Rule to Dice Rolls\n",
    "\n",
    "### Example 1: Rolling One Die\n",
    "**Question:** What is the probability of rolling an even number or a 5?\n",
    "\n",
    "* **Event A:** Rolling an even number {2, 4, 6}. The probability is $P(A) = \\frac{3}{6}$.\n",
    "* **Event B:** Rolling a 5 {5}. The probability is $P(B) = \\frac{1}{6}$.\n",
    "\n",
    "These events are disjoint because a number cannot be both even and five. Therefore:\n",
    "$$ P(A \\cup B) = P(A) + P(B) = \\frac{3}{6} + \\frac{1}{6} = \\frac{4}{6} = \\frac{2}{3} $$\n",
    "\n",
    "### Example 2: Rolling Two Dice\n",
    "Let's visualize the sample space of 36 possible outcomes for rolling two dice.\n",
    "\n",
    "**Question 1:** What is the probability of the sum being 7 or 10?\n",
    "* **Event A (Sum = 7):** There are 6 favorable outcomes. $P(A) = \\frac{6}{36}$.\n",
    "* **Event B (Sum = 10):** There are 3 favorable outcomes. $P(B) = \\frac{3}{36}$.\n",
    "* These are disjoint events.\n",
    "* $P(A \\cup B) = \\frac{6}{36} + \\frac{3}{36} = \\frac{9}{36} = \\frac{1}{4}$.\n",
    "\n",
    "![](./images/0302.png)\n",
    "\n",
    "**Question 2:** What is the probability of the absolute difference being 2 or 1?\n",
    "* **Event A (Difference = 2):** There are 8 favorable outcomes. $P(A) = \\frac{8}{36}$.\n",
    "* **Event B (Difference = 1):** There are 10 favorable outcomes. $P(B) = \\frac{10}{36}$.\n",
    "* These are disjoint events.\n",
    "* $P(A \\cup B) = \\frac{8}{36} + \\frac{10}{36} = \\frac{18}{36} = \\frac{1}{2}$.\n",
    "\n",
    "![](./images/0303.png)\n"
   ]
  }
 ],
 "metadata": {
  "kernelspec": {
   "display_name": "Python 3 (ipykernel)",
   "language": "python",
   "name": "python3"
  },
  "language_info": {
   "codemirror_mode": {
    "name": "ipython",
    "version": 3
   },
   "file_extension": ".py",
   "mimetype": "text/x-python",
   "name": "python",
   "nbconvert_exporter": "python",
   "pygments_lexer": "ipython3",
   "version": "3.13.5"
  }
 },
 "nbformat": 4,
 "nbformat_minor": 5
}
