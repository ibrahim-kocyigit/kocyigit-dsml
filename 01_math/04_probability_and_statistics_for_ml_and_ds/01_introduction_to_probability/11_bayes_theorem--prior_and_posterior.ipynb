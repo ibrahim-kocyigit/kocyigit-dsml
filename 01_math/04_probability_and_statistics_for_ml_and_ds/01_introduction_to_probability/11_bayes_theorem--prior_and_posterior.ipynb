{
 "cells": [
  {
   "cell_type": "markdown",
   "id": "67fc6c26-4756-418f-a8f9-1d7b42afd635",
   "metadata": {},
   "source": [
    "# Bayes' Theorem - Prior and Posterior"
   ]
  },
  {
   "cell_type": "markdown",
   "id": "7e912fc3-a665-4fb9-b314-8de6c9d9de45",
   "metadata": {},
   "source": [
    "Let's formalize the key components of Bayesian reasoning. The process involves updating our beliefs as we gain new information.\n",
    "\n",
    "1.  **The Prior Probability: P(A)**  \n",
    "    * This is our initial belief about an event `A` *before* we've seen any new evidence. It's the most basic piece of information we have.  \n",
    "` `\n",
    "2.  **The Event (or Evidence): E**\n",
    "    * This is a new piece of information that is relevant to our event `A`.  \n",
    "` `\n",
    "3.  **The Posterior Probability: P(A|E)**\n",
    "    * This is our updated belief about event `A` *after* we have taken the new evidence `E` into account. It is a conditional probability.\n",
    "\n",
    "The posterior is always a better, more refined estimate than the prior because it incorporates more information. Bayes' theorem is the engine that takes us from the prior to the posterior.\n",
    "\n",
    "---\n",
    "## Revisiting Our Examples\n",
    "\n",
    "Let's look at our previous problems through this new lens.\n",
    "\n",
    "### Example 1: The Spam Filter\n",
    "* **Prior:** The initial probability that any given email is spam.\n",
    "    * $P(\\text{Spam}) = \\frac{\\text{Total Spam Emails}}{\\text{Total Emails}} = \\frac{20}{100} = 20\\%$  \n",
    "* **Event/Evidence:** We discover that the email contains the word \"lottery.\"  \n",
    "* **Posterior:** The updated probability that the email is spam, *given that* it contains the word \"lottery.\"\n",
    "    * $P(\\text{Spam} | \\text{\"lottery\"}) = \\frac{\\text{Spam emails with \"lottery\"}}{\\text{Total emails with \"lottery\"}} = \\frac{14}{24} \\approx 58.3\\%$\n",
    "\n",
    "### Example 2: The Medical Diagnosis\n",
    "* **Prior:** The initial probability of being sick based on the general population.\n",
    "    * $P(\\text{Sick}) = \\frac{1}{10,000} = 0.01\\%$\n",
    "* **Event/Evidence:** You receive a positive test result.\n",
    "* **Posterior:** The updated probability that you are sick, *given that* you tested positive.\n",
    "    * $P(\\text{Sick} | \\text{Positive Test}) \\approx 0.98\\%$\n",
    "\n",
    "### Example 3: Two Dice Roll\n",
    "* **Prior:** The initial probability that the sum of two dice is 10.\n",
    "    * $P(\\text{Sum=10}) = \\frac{3}{36} = \\frac{1}{12}$\n",
    "* **Event/Evidence:** You are told that the first die is a 6.\n",
    "* **Posterior:** The updated probability that the sum is 10, *given that* the first die is a 6.\n",
    "    * $P(\\text{Sum=10} | \\text{First=6}) = \\frac{1}{6}$\n",
    "\n",
    "### Example 4: Two Coin Flips\n",
    "* **Prior:** The initial probability that both coins land on heads.\n",
    "    * $P(\\text{HH}) = \\frac{1}{4}$\n",
    "* **Event/Evidence:** You are told that the first coin landed on heads.\n",
    "* **Posterior:** The updated probability that both coins are heads, *given that* the first was heads.\n",
    "    * $P(\\text{HH} | \\text{First=H}) = \\frac{1}{2}$"
   ]
  }
 ],
 "metadata": {
  "kernelspec": {
   "display_name": "Python 3 (ipykernel)",
   "language": "python",
   "name": "python3"
  },
  "language_info": {
   "codemirror_mode": {
    "name": "ipython",
    "version": 3
   },
   "file_extension": ".py",
   "mimetype": "text/x-python",
   "name": "python",
   "nbconvert_exporter": "python",
   "pygments_lexer": "ipython3",
   "version": "3.13.5"
  }
 },
 "nbformat": 4,
 "nbformat_minor": 5
}
