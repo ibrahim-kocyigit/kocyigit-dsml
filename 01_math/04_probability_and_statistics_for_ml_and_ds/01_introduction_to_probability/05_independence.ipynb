{
 "cells": [
  {
   "cell_type": "markdown",
   "id": "c79e4cb2-7c9d-4058-a188-ba38f68ad5cd",
   "metadata": {},
   "source": [
    "# Independence"
   ]
  },
  {
   "cell_type": "markdown",
   "id": "e5061c2c-3205-4d08-a9dd-5db6b498112e",
   "metadata": {},
   "source": [
    "In this lesson, we're going to look at the concept of **independence**.\n",
    "\n",
    "Two events are **independent** if the occurrence of one event does not affect the probability of the occurrence of the other.\n",
    "\n",
    "* **Independent Events (Example):** Tossing a coin twice. The result of the first toss has no impact on the result of the second toss.\n",
    "* **Dependent Events (Example):** Playing a game of chess. The state of the board after the 10th move directly affects all possible outcomes of the 11th move.\n",
    "\n",
    "Assuming independence, when it is appropriate, is very important in machine learning because it allows us to simplify complex probability calculations.\n",
    "\n",
    "---\n",
    "## The Product Rule for Independent Events\n",
    "\n",
    "Let's build the intuition for the main rule of independent events.\n",
    "\n",
    "**Scenario:** A school has 100 kids. 40 of them like to play soccer, and 60 do not. The kids are randomly assigned to two rooms. Room 1 has 30 kids, and Room 2 has 70 kids.\n",
    "\n",
    "* The probability of a random kid liking soccer is `P(Soccer) = 40 / 100 = 0.4`.\n",
    "* The probability of a random kid being in Room 1 is `P(Room 1) = 30 / 100 = 0.3`.\n",
    "\n",
    "**Question:** What is the probability that a randomly selected kid both **likes soccer AND is in Room 1**?\n",
    "\n",
    "Since the room assignment is random, a kid's preference for soccer has no bearing on which room they are in. The two events are **independent**. Therefore, we would expect the 40% proportion of soccer-liking kids to hold true within Room 1.\n",
    "\n",
    "The number of kids in Room 1 who like soccer would be 40% of the 30 kids in that room:\n",
    "`0.40 * 30 = 12 kids`\n",
    "\n",
    "This means that 12 out of the total 100 kids are in Room 1 and like soccer. The probability is `12 / 100 = 0.12`.\n",
    "\n",
    "Notice that we could have gotten the same result by simply multiplying the individual probabilities:\n",
    "`P(Soccer) * P(Room 1) = 0.4 * 0.3 = 0.12`\n",
    "\n",
    "This leads us to the **Product Rule for Independent Events**.\n",
    "\n",
    "> **Formula:** If events `A` and `B` are independent, then the probability of both events occurring is the product of their individual probabilities.\n",
    "> $$ P(A \\cap B) = P(A) \\cdot P(B) $$\n",
    "> *Where `∩` means \"and\" (intersection).*\n",
    "\n",
    "---\n",
    "\n",
    "## Applying the Product Rule\n",
    "\n",
    "### Example 1: Five Coin Flips\n",
    "**Question:** What is the probability of tossing a fair coin five times and getting heads all five times?\n",
    "\n",
    "Each coin flip is an independent event. The probability of getting heads on any single flip is `P(Heads) = 0.5`.\n",
    "\n",
    "Using the product rule, the probability of getting five heads in a row is:\n",
    "$$ P(HHHHH) = P(H) \\cdot P(H) \\cdot P(H) \\cdot P(H) \\cdot P(H) $$\n",
    "$$ = (0.5)^5 = \\frac{1}{32} = 0.03125 $$\n",
    "\n",
    "### Example 2: Rolling Two Dice\n",
    "**Question:** What is the probability of rolling two dice and getting `(6, 6)`?\n",
    "\n",
    "The outcome of the first die is independent of the outcome of the second.\n",
    "* The probability of the first die being a 6 is `P(Die 1 = 6) = 1/6`.\n",
    "* The probability of the second die being a 6 is `P(Die 2 = 6) = 1/6`.\n",
    "\n",
    "Using the product rule:\n",
    "$$ P(\\text{6 and 6}) = P(\\text{Die 1 = 6}) \\cdot P(\\text{Die 2 = 6}) = \\frac{1}{6} \\times \\frac{1}{6} = \\frac{1}{36} $$\n",
    "This matches the result we found by counting the outcomes in the 36-cell sample space."
   ]
  }
 ],
 "metadata": {
  "kernelspec": {
   "display_name": "Python 3 (ipykernel)",
   "language": "python",
   "name": "python3"
  },
  "language_info": {
   "codemirror_mode": {
    "name": "ipython",
    "version": 3
   },
   "file_extension": ".py",
   "mimetype": "text/x-python",
   "name": "python",
   "nbconvert_exporter": "python",
   "pygments_lexer": "ipython3",
   "version": "3.13.5"
  }
 },
 "nbformat": 4,
 "nbformat_minor": 5
}
