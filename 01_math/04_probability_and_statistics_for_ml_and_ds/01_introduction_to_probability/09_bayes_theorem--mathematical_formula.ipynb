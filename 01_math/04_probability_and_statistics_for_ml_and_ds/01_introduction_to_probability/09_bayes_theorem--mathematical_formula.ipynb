{
 "cells": [
  {
   "cell_type": "markdown",
   "id": "4829d477-4bc0-4952-95dd-39bad308f55f",
   "metadata": {},
   "source": [
    "# Bayes' Theorem - The Mathematical Formula"
   ]
  },
  {
   "cell_type": "markdown",
   "id": "9385c1f6-b255-4cd7-a8ae-96ddbde9fdd4",
   "metadata": {},
   "source": [
    "In the last lesson, we used intuition and a population breakdown to solve the rare disease problem. Now, let's solve the exact same problem using the formal rules of probability to derive **Bayes' Theorem**.\n",
    "\n",
    "Our goal is to find the probability that you are sick, given that you tested sick: **P(Sick | Diagnosed Sick)**.\n",
    "\n",
    "Let's start by defining our events and listing the information we were given:\n",
    "\n",
    "* **Event A:** The person is actually sick.\n",
    "* **Event A':** The person is healthy (the complement of A).\n",
    "* **Event B:** The person is diagnosed as sick (tests positive).\n",
    "\n",
    "**Known Probabilities:**\n",
    "1.  The probability of being sick is 1 in 10,000.\n",
    "    * $P(A) = 0.0001$\n",
    "2.  The probability of being healthy is the complement.\n",
    "    * $P(A') = 1 - P(A) = 0.9999$\n",
    "3.  The test is 99% effective. This gives us two conditional probabilities:\n",
    "    * The probability of testing positive *given that* you are sick (True Positive Rate): $P(B|A) = 0.99$\n",
    "    * The probability of testing positive *given that* you are healthy (False Positive Rate): $P(B|A') = 0.01$\n",
    "\n",
    "---\n",
    "## Deriving Bayes' Theorem\n",
    "\n",
    "Our starting point is the formula for conditional probability:\n",
    "$$ P(A|B) = \\frac{P(A \\cap B)}{P(B)} $$\n",
    "In our terms:\n",
    "$$ P(\\text{Sick} | \\text{Diag. Sick}) = \\frac{P(\\text{Sick} \\cap \\text{Diag. Sick})}{P(\\text{Diag. Sick})} $$\n",
    "Our task is to find the values for the numerator and the denominator.\n",
    "\n",
    "### Step 1: The Numerator, $P(A \\cap B)$\n",
    "We can use the **General Product Rule** to find the probability of being sick AND being diagnosed sick:\n",
    "$$ P(A \\cap B) = P(A) \\cdot P(B|A) $$\n",
    "\n",
    "### Step 2: The Denominator, $P(B)$\n",
    "How do we find the overall probability of being diagnosed sick? A person can be diagnosed sick in two mutually exclusive ways:\n",
    "1.  They are sick AND are correctly diagnosed sick.\n",
    "2.  They are healthy AND are incorrectly diagnosed sick.\n",
    "\n",
    "The total probability of being diagnosed sick is the sum of the probabilities of these two scenarios (using the sum rule for disjoint events):\n",
    "$$ P(B) = P(A \\cap B) + P(A' \\cap B) $$\n",
    "We can now apply the General Product Rule to each of these terms:\n",
    "$$ P(B) = (P(A) \\cdot P(B|A)) + (P(A') \\cdot P(B|A')) $$\n",
    "\n",
    "### Step 3: Assembling Bayes' Theorem\n",
    "Now we can substitute our expressions for the numerator and the denominator back into the original conditional probability formula.\n",
    "\n",
    "> **Bayes' Theorem:**\n",
    "> $$ P(A|B) = \\frac{P(A) \\cdot P(B|A)}{P(A) \\cdot P(B|A) + P(A') \\cdot P(B|A')} $$\n",
    "\n",
    "---\n",
    "## Solving the Problem with the Formula\n",
    "\n",
    "Let's plug our known numbers into Bayes' Theorem to find the probability that you are sick given that you tested positive.\n",
    "\n",
    "* **Numerator:** $ P(A) \\cdot P(B|A) = (0.0001) \\times (0.99) = 0.000099 $\n",
    "* **Denominator:**\n",
    "    * Part 1 (True Positives): $ P(A) \\cdot P(B|A) = 0.000099 $\n",
    "    * Part 2 (False Positives): $ P(A') \\cdot P(B|A') = (0.9999) \\times (0.01) = 0.009999 $\n",
    "    * Total Denominator = $0.000099 + 0.009999 = 0.010098$  \n",
    "` `\n",
    "* **Final Probability:**\n",
    "$$ P(A|B) = \\frac{0.000099}{0.010098} \\approx 0.0098 $$\n",
    "\n",
    "The result is approximately **0.98%**, the exact same answer we found intuitively by breaking down the population. This formula may look complicated, but it's just a combination of the simpler probability rules we've already learned."
   ]
  }
 ],
 "metadata": {
  "kernelspec": {
   "display_name": "Python 3 (ipykernel)",
   "language": "python",
   "name": "python3"
  },
  "language_info": {
   "codemirror_mode": {
    "name": "ipython",
    "version": 3
   },
   "file_extension": ".py",
   "mimetype": "text/x-python",
   "name": "python",
   "nbconvert_exporter": "python",
   "pygments_lexer": "ipython3",
   "version": "3.13.5"
  }
 },
 "nbformat": 4,
 "nbformat_minor": 5
}
