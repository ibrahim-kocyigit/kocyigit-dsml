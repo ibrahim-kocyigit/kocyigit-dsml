{
 "cells": [
  {
   "cell_type": "markdown",
   "id": "582ba6f8-c83f-45aa-80a0-6cb778944953",
   "metadata": {},
   "source": [
    "# Probability in Machine Learning"
   ]
  },
  {
   "cell_type": "markdown",
   "id": "5b0f9497-9e2d-42fe-b5e9-a0d19700f6ec",
   "metadata": {},
   "source": [
    "You may be wondering: why have we been talking so much about probability, and what does it have to do with machine learning?\n",
    "\n",
    "The answer is that machine learning, at its core, is fundamentally about probability. Many, if not most, machine learning problems can be framed as calculating the probability of an outcome given some evidence.\n",
    "\n",
    "---\n",
    "## Supervised Learning as Conditional Probability\n",
    "\n",
    "A huge portion of supervised machine learning is dedicated to calculating **conditional probabilities**. The goal is to build a model that can answer the question: \"What is the probability of a certain label (`y`), given a set of features (`X`)?\"\n",
    "\n",
    "$$ P(\\text{Label} | \\text{Features}) $$\n",
    "\n",
    "Let's look at some common examples:\n",
    "\n",
    "* **Spam Detection:**\n",
    "    * **Goal:** Calculate $P(\\text{Spam} | \\text{Words in email})$.\n",
    "    * The model takes the words in an email (the features) and outputs a probability that the email is spam.  \n",
    "` `\n",
    "* **Sentiment Analysis:**\n",
    "    * **Goal:** Calculate $P(\\text{Happy} | \\text{Words in sentence})$.\n",
    "    * The model analyzes a sentence and outputs the probability that the sentiment is positive.  \n",
    "` `\n",
    "* **Image Recognition:**\n",
    "    * **Goal:** Calculate $P(\\text{Cat} | \\text{Pixels in image})$.\n",
    "    * A classifier takes an image (a grid of pixels) and calculates the probability that the image contains a cat. If this probability is high (e.g., 0.9), it classifies the image as a cat. If it's low (e.g., 0.1), it classifies it as not a cat.  \n",
    "` `\n",
    "* **Medical Diagnosis:**\n",
    "    * **Goal:** Calculate $P(\\text{Healthy} | \\text{Symptoms and Demographics})$.\n",
    "    * A model takes a patient's data and calculates the probability that they are healthy.  \n",
    "\n",
    "In all these cases, the machine learning model is a sophisticated machine for calculating a conditional probability.\n",
    "\n",
    "---\n",
    "## The Bayesian Framework in Machine Learning\n",
    "\n",
    "The process of training these models often mirrors the Bayesian thinking we've just learned.\n",
    "\n",
    "1.  **Prior:** We start with a baseline probability, like the overall percentage of spam emails in our dataset.\n",
    "2.  **Event/Evidence:** We look at the specific features of a single data point (e.g., an email contains the word \"lottery\").\n",
    "3.  **Posterior:** The model combines the prior with the evidence to produce a new, more accurate posterior probability.\n",
    "\n",
    "The model \"learns\" by finding the parameters that make these posterior probability calculations as accurate as possible across the entire dataset.\n",
    "\n",
    "---\n",
    "## Unsupervised Learning and Generative Models\n",
    "\n",
    "Probability is also central to **unsupervised learning**, especially in a field called **generative machine learning**. Here, the goal is not to predict a label, but to *generate new data* that looks like the original data.\n",
    "\n",
    "* **Image Generation:** The goal is to maximize the probability that a generated set of pixels forms a realistic human face. The model learns the underlying probability distribution of what human faces look like.\n",
    "* **Text Generation:** The goal is to maximize the probability that a sequence of words forms a coherent and sensical sentence.\n",
    "\n",
    "In these cases, the model is trying to learn `P(Data)`—the probability of the data itself—in order to create new, high-probability examples."
   ]
  }
 ],
 "metadata": {
  "kernelspec": {
   "display_name": "Python 3 (ipykernel)",
   "language": "python",
   "name": "python3"
  },
  "language_info": {
   "codemirror_mode": {
    "name": "ipython",
    "version": 3
   },
   "file_extension": ".py",
   "mimetype": "text/x-python",
   "name": "python",
   "nbconvert_exporter": "python",
   "pygments_lexer": "ipython3",
   "version": "3.13.5"
  }
 },
 "nbformat": 4,
 "nbformat_minor": 5
}
