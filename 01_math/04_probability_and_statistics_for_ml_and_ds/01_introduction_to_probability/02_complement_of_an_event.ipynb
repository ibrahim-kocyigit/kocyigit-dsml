{
 "cells": [
  {
   "cell_type": "markdown",
   "id": "eacc29f5-83e5-4fa9-8b77-afd32904057e",
   "metadata": {},
   "source": [
    "# The Complement of an Event"
   ]
  },
  {
   "cell_type": "markdown",
   "id": "525b4e22-f444-45fe-92ac-f766ee937a74",
   "metadata": {},
   "source": [
    "In the last lesson, we learned how to calculate the probability of an event occurring. Now, we'll talk about the **complement**, which is the probability that the event **does not** occur.\n",
    "\n",
    "If an event has a 75% chance of happening, its complement—the chance of it *not* happening—is 25%.\n",
    "\n",
    "Let's return to our school with 10 kids, where 3 play soccer and 7 do not.\n",
    "\n",
    "**Question:** What is the probability that a child picked at random **does not** play soccer?\n",
    "\n",
    "Using our standard formula:\n",
    "* **Event:** \"The child does not play soccer.\" The number of favorable outcomes is **7**.\n",
    "* **Sample Space:** 10 total children.\n",
    "* **Probability:**\n",
    "    $$ P(\\text{not soccer}) = \\frac{7}{10} = 0.7 $$\n",
    "\n",
    "Notice that this is related to the probability of the original event:\n",
    "* $P(\\text{soccer}) = 0.3$\n",
    "* $P(\\text{not soccer}) = 0.7$\n",
    "* $0.3 + 0.7 = 1$\n",
    "\n",
    "This is always true, and it leads us to the **Complement Rule**.\n",
    "\n",
    "---\n",
    "## The Complement Rule\n",
    "\n",
    "The probability of an event `A` not occurring is equal to 1 minus the probability of `A` occurring.\n",
    "\n",
    "> **Formula:**\n",
    "> $$ P(A') = 1 - P(A) $$\n",
    "> *Where `A'` (A-prime) represents the complement of event `A`.*\n",
    "\n",
    "In the Venn diagram, if the event `P(soccer)` is the area inside the circle (30%), then its complement `P(not soccer)` is the entire area *outside* the circle (70%). Together, they make up the entire sample space (100%).\n",
    "\n",
    "![](./images/0201.png)\n",
    "\n",
    "---\n",
    "\n",
    "## Applying the Complement Rule\n",
    "\n",
    "### Example 1: Three Coin Flips\n",
    "**Question:** What's the probability of **not** obtaining three heads (HHH)?\n",
    "\n",
    "Instead of counting all 7 other possibilities, we can use the complement rule.\n",
    "* The probability of getting three heads is $P(\\text{HHH}) = \\frac{1}{8}$.\n",
    "* The probability of *not* getting three heads is:\n",
    "    $$ P(\\text{not HHH}) = 1 - P(\\text{HHH}) = 1 - \\frac{1}{8} = \\frac{7}{8} $$\n",
    "\n",
    "### Example 2: Rolling a Die\n",
    "**Question:** What's the probability of rolling anything **other than** a 6?\n",
    "\n",
    "* The probability of rolling a 6 is $P(6) = \\frac{1}{6}$.\n",
    "* The probability of *not* rolling a 6 is:\n",
    "    $$ P(\\text{not 6}) = 1 - P(6) = 1 - \\frac{1}{6} = \\frac{5}{6} $$\n",
    "\n",
    "The complement rule is a very powerful tool that often simplifies probability problems by allowing us to calculate the probability of the event we *don't* want and subtracting it from 1."
   ]
  }
 ],
 "metadata": {
  "kernelspec": {
   "display_name": "Python 3 (ipykernel)",
   "language": "python",
   "name": "python3"
  },
  "language_info": {
   "codemirror_mode": {
    "name": "ipython",
    "version": 3
   },
   "file_extension": ".py",
   "mimetype": "text/x-python",
   "name": "python",
   "nbconvert_exporter": "python",
   "pygments_lexer": "ipython3",
   "version": "3.13.5"
  }
 },
 "nbformat": 4,
 "nbformat_minor": 5
}
