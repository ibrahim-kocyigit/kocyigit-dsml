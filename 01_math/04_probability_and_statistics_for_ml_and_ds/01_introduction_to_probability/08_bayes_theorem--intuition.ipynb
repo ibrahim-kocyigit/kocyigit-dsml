{
 "cells": [
  {
   "cell_type": "markdown",
   "id": "4829d477-4bc0-4952-95dd-39bad308f55f",
   "metadata": {},
   "source": [
    "# Conditional Probability - Bayes' Theorem Intuition"
   ]
  },
  {
   "cell_type": "markdown",
   "id": "9385c1f6-b255-4cd7-a8ae-96ddbde9fdd4",
   "metadata": {},
   "source": [
    "In this lesson, we will explore one of the most important theorems in all of probability: **Bayes' Theorem**.\n",
    "\n",
    "Bayes' theorem is the mathematical rule for updating our belief about a hypothesis given new evidence. It allows us to calculate a conditional probability, like `P(Hypothesis | Evidence)`, by using the inverse conditional probability, `P(Evidence | Hypothesis)`.\n",
    "\n",
    "It is used everywhere in machine learning, in applications like spam filtering, medical diagnosis, and speech recognition.\n",
    "\n",
    "---\n",
    "## The Rare Disease Problem\n",
    "\n",
    "To build our intuition, let's work through a classic example.\n",
    "\n",
    "**Scenario:**\n",
    "Imagine a rare disease that affects 1 in every 10,000 people. There is a diagnostic test for this disease that is 99% effective. You take the test, and the doctor calls to tell you that you **tested positive**.\n",
    "\n",
    "**The Question:**\n",
    "What is the probability that you actually have the disease, given that you tested positive?\n",
    "\n",
    "Let's put some concrete numbers to this:\n",
    "* **Population:** 1,000,000 people\n",
    "* **Disease Prevalence:** 1 in 10,000 people are sick.\n",
    "* **Test Effectiveness (99%):**\n",
    "    * If a person **is sick**, the test will be positive 99% of the time (True Positive).\n",
    "    * If a person **is healthy**, the test will be negative 99% of the time (True Negative). This also means it will incorrectly be positive 1% of the time (False Positive).\n",
    "\n",
    "Before panicking, let's use probability to find the answer.\n",
    "\n",
    "---\n",
    "\n",
    "## Breaking Down the Population\n",
    "\n",
    "Let's divide our 1,000,000 people into groups based on their health and their test results.\n",
    "\n",
    "**1. Sick vs. Healthy Population:**\n",
    "* **Sick People:** $1,000,000 \\times \\frac{1}{10,000} = 100$ people\n",
    "* **Healthy People:** $1,000,000 - 100 = 999,900$ people\n",
    "\n",
    "**2. Test Results for the Sick Population (100 people):**\n",
    "* **Diagnosed Sick (True Positives):** $100 \\times 0.99 = 99$ people\n",
    "* **Diagnosed Healthy (False Negatives):** $100 \\times 0.01 = 1$ person\n",
    "\n",
    "**3. Test Results for the Healthy Population (999,900 people):**\n",
    "* **Diagnosed Sick (False Positives):** $999,900 \\times 0.01 = 9,999$ people\n",
    "* **Diagnosed Healthy (True Negatives):** $999,900 \\times 0.99 = 989,901$ people\n",
    "\n",
    "---\n",
    "## Calculating the Conditional Probability\n",
    "\n",
    "Our new information is that we **tested positive**. This means we belong to the group of people who were diagnosed as sick. This is our new, smaller sample space.\n",
    "\n",
    "**Total People Diagnosed Sick = (True Positives) + (False Positives)**\n",
    "$$ \\text{Total Diagnosed Sick} = 99 + 9,999 = 10,098 \\text{ people} $$\n",
    "\n",
    "Within this new sample space of 10,098 people, we want to find the probability that we are one of the ones who are *actually* sick.\n",
    "\n",
    "$$ P(\\text{Actually Sick} | \\text{Diagnosed Sick}) = \\frac{\\text{Number Actually Sick and Diagnosed Sick}}{\\text{Total Number Diagnosed Sick}} $$\n",
    "$$ = \\frac{99}{10,098} \\approx 0.0098 $$\n",
    "\n",
    "The probability that you are actually sick is approximately **0.98%**, or less than 1%!\n",
    "\n",
    "**Why is it so low?**\n",
    "This counter-intuitive result happens because the disease is very rare. The number of healthy people is so large that even a small 1% error rate (the false positives) creates a group of people (`9,999`) that is much larger than the entire group of truly sick people (`100`).\n",
    "\n",
    "---\n",
    "## Visualizing with a Probability Tree\n",
    "\n",
    "We can also visualize this process with a probability tree.\n",
    "\n",
    "![](./images/0801.png)"
   ]
  }
 ],
 "metadata": {
  "kernelspec": {
   "display_name": "Python 3 (ipykernel)",
   "language": "python",
   "name": "python3"
  },
  "language_info": {
   "codemirror_mode": {
    "name": "ipython",
    "version": 3
   },
   "file_extension": ".py",
   "mimetype": "text/x-python",
   "name": "python",
   "nbconvert_exporter": "python",
   "pygments_lexer": "ipython3",
   "version": "3.13.5"
  }
 },
 "nbformat": 4,
 "nbformat_minor": 5
}
