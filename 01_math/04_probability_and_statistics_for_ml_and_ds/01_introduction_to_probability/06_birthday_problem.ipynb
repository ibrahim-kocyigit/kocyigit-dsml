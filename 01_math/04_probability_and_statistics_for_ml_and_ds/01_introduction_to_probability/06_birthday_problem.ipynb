{
 "cells": [
  {
   "cell_type": "markdown",
   "id": "ea785c34-df1c-40d8-9062-9739fe2376b8",
   "metadata": {},
   "source": [
    "# Birthday Problem"
   ]
  },
  {
   "cell_type": "markdown",
   "id": "56482f3e-9599-4179-85e8-745c9df90491",
   "metadata": {},
   "source": [
    "In this lesson, we're going to talk about one of the most fascinating problems in probability: the **Birthday Problem**.\n",
    "\n",
    "The question is: In a room with 30 people, which is more likely?\n",
    "1. At least two people have the same birthday.\n",
    "2. No two people have the same birthday.\n",
    "\n",
    "Believe it or not, the answer is that it's **more likely that two people have the same birthday**. In fact, the probability is around 70%!\n",
    "\n",
    "Let's see why.\n",
    "\n",
    "---\n",
    "## The Strategy: Using the Complement\n",
    "\n",
    "Calculating the probability of \"at least two people\" sharing a birthday directly is very complicated. You would have to consider the case of exactly one pair, exactly two pairs, three people sharing a birthday, etc.\n",
    "\n",
    "It's much, much easier to calculate the probability of the **complement event**: the probability that **no two people share the same birthday**.\n",
    "\n",
    "Once we have that, we can use the complement rule:\n",
    "$$ P(\\text{at least one match}) = 1 - P(\\text{no matches}) $$\n",
    "\n",
    "---\n",
    "## Calculating the Probability of No Matches\n",
    "\n",
    "Let's build this up person by person, assuming a year has 365 days.\n",
    "\n",
    "* **Person 1:** Can have a birthday on any of the 365 days. The probability of having a unique birthday is $\\frac{365}{365} = 1$.\n",
    "* **Person 2:** For this person to have a different birthday from Person 1, they must be born on one of the remaining 364 days. The probability of this is $\\frac{364}{365}$.\n",
    "* **Person 3:** Must have a birthday on one of the remaining 363 days. The probability is $\\frac{363}{365}$.\n",
    "* **Person 4:** Must have a birthday on one of the remaining 362 days. The probability is $\\frac{362}{365}$.\n",
    "\n",
    "Since these are independent events, the probability that *all* of them have different birthdays is the **product** of these individual probabilities.\n",
    "\n",
    "For a group of *n* people, the probability of no matching birthdays is:\n",
    "$$ P(\\text{no matches}) = \\frac{365}{365} \\times \\frac{364}{365} \\times \\frac{363}{365} \\times \\dots \\times \\frac{365 - n + 1}{365} $$\n",
    "\n",
    "Let's visualize how quickly this probability drops as the number of people increases.\n",
    "\n",
    "![](./images/0601.png)"
   ]
  },
  {
   "cell_type": "markdown",
   "id": "f119bdf9-97d4-468d-b93c-1539055c55b6",
   "metadata": {},
   "source": [
    "---\n",
    "\n",
    "## Analyzing the Results\n",
    "\n",
    "As the plot clearly shows, the probability of everyone having a unique birthday drops surprisingly fast.\n",
    "\n",
    "* For **n=23** people, the probability of no match drops just below 50% (to about 49.3%). This means it's already more likely that at least two people *do* share a birthday.\n",
    "* For **n=30** people, the probability of no match is only about 29.4%. The probability of a match is therefore $1 - 0.294 = 70.6\\%$.\n",
    "* For **n=50** people, the probability of no match is a tiny 3%.\n",
    "\n",
    "This non-intuitive result happens because we are not comparing one person's birthday to another's; we are checking every possible **pair** of people in the group, and the number of pairs grows much faster than the number of people."
   ]
  }
 ],
 "metadata": {
  "kernelspec": {
   "display_name": "Python 3 (ipykernel)",
   "language": "python",
   "name": "python3"
  },
  "language_info": {
   "codemirror_mode": {
    "name": "ipython",
    "version": 3
   },
   "file_extension": ".py",
   "mimetype": "text/x-python",
   "name": "python",
   "nbconvert_exporter": "python",
   "pygments_lexer": "ipython3",
   "version": "3.13.5"
  }
 },
 "nbformat": 4,
 "nbformat_minor": 5
}
