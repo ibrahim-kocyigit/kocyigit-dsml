{
 "cells": [
  {
   "cell_type": "markdown",
   "id": "54338d40-d3dc-4569-b29d-d4cc633f2beb",
   "metadata": {},
   "source": [
    "# Sampling from a Distribution"
   ]
  },
  {
   "cell_type": "markdown",
   "id": "148a6f0d-cac5-41b7-a03b-b5cec12c2584",
   "metadata": {},
   "source": [
    "Imagine you have a dataset, but you need more data for your analysis or model training. If you can't collect new real-world data, you can create **synthetic data** that follows the same patterns as your original data.\n",
    "\n",
    "The process of generating these new data points is called **sampling from a probability distribution**. The goal is to pick random points in a way that the frequency of each outcome matches the probabilities defined by the distribution.\n",
    "\n",
    "---\n",
    "## Sampling from a Discrete Distribution\n",
    "\n",
    "Let's say we have a simple discrete distribution for three colors:\n",
    "* `P(Green) = 0.3`\n",
    "* `P(Blue) = 0.5`\n",
    "* `P(Orange) = 0.2`\n",
    "\n",
    "How can we randomly pick a color that respects these probabilities? A clever way is to use the **Cumulative Distribution Function (CDF)**.\n",
    "\n",
    "1.  We can represent the probabilities as segments on a line from 0 to 1. The length of each segment corresponds to its probability.\n",
    "2.  We generate a random number uniformly between 0 and 1.\n",
    "3.  We see which segment our random number falls into and select the corresponding color.\n",
    "\n",
    "This method, known as **Inverse Transform Sampling**, is visualized below. By sampling uniformly from the vertical y-axis and mapping back to the x-axis using the CDF, we generate samples that follow the original distribution.\n",
    "\n",
    "![](./images/1201.png)"
   ]
  },
  {
   "cell_type": "markdown",
   "id": "7ec80fe3-a813-4f73-8216-c91d03ee505c",
   "metadata": {},
   "source": [
    "---\n",
    "\n",
    "## Sampling from a Continuous Distribution\n",
    "\n",
    "The same beautiful principle works for continuous distributions. It's difficult to sample directly from a complex curve like a normal distribution, but it's easy to sample uniformly from the interval `[0, 1]`.\n",
    "\n",
    "1.  Generate a set of random numbers uniformly between 0 and 1 on the y-axis.\n",
    "2.  For each random number, find where it intersects the CDF curve.\n",
    "3.  The x-coordinate of that intersection is our new data point.\n",
    "\n",
    "This process will generate new data points that perfectly follow the original Probability Density Function (PDF). Notice how the denser regions of the PDF correspond to the steeper parts of the CDF. This means that a uniform sampling on the y-axis will naturally produce more data points in those dense regions on the x-axis.\n",
    "\n",
    "![](./images/1202.png)"
   ]
  }
 ],
 "metadata": {
  "kernelspec": {
   "display_name": "Python 3 (ipykernel)",
   "language": "python",
   "name": "python3"
  },
  "language_info": {
   "codemirror_mode": {
    "name": "ipython",
    "version": 3
   },
   "file_extension": ".py",
   "mimetype": "text/x-python",
   "name": "python",
   "nbconvert_exporter": "python",
   "pygments_lexer": "ipython3",
   "version": "3.13.5"
  }
 },
 "nbformat": 4,
 "nbformat_minor": 5
}
