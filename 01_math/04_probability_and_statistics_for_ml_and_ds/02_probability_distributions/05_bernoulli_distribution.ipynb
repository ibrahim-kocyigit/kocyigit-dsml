{
 "cells": [
  {
   "cell_type": "markdown",
   "id": "62c0d0c4-581d-4b57-92d0-2bc594af5115",
   "metadata": {},
   "source": [
    "# The Bernoulli Distribution"
   ]
  },
  {
   "cell_type": "markdown",
   "id": "8dc443b0-28a3-43cd-9474-6c012d5b8786",
   "metadata": {},
   "source": [
    "Let's look at the simplest possible case of Binomial distribution: a single trial. This is known as a **Bernoulli trial**, and its distribution is the **Bernoulli Distribution**.\n",
    "\n",
    "A Bernoulli trial is any experiment that has exactly two possible outcomes: **\"success\"** or **\"failure\"**. Therefore, the Binomial distribution with `n=1` trial is, by definition, the Bernoulli distribution:\n",
    "\n",
    "* **Flipping a coin once:** \"Heads\" can be success, \"Tails\" can be failure.\n",
    "* **Rolling a die once:** \"Rolling a 1\" can be success, \"rolling anything else\" can be failure.\n",
    "* **Medical testing:** A patient can be \"sick\" (success) or \"healthy\" (failure).\n",
    "\n",
    "The Bernoulli distribution is described by a single parameter, **p**, which is the probability of success.\n",
    "\n",
    "---\n",
    "## The Bernoulli PMF\n",
    "\n",
    "Let's define a random variable `X` for a Bernoulli trial.\n",
    "* `X = 1` if the outcome is a success.\n",
    "* `X = 0` if the outcome is a failure.\n",
    "\n",
    "The Probability Mass Function (PMF) is very simple:\n",
    "* **P(X = 1) = p**\n",
    "* **P(X = 0) = 1 - p**\n",
    "\n",
    "This is the fundamental building block. A **Binomial distribution** simply describes the outcome of performing *n* independent Bernoulli trials."
   ]
  }
 ],
 "metadata": {
  "kernelspec": {
   "display_name": "Python 3 (ipykernel)",
   "language": "python",
   "name": "python3"
  },
  "language_info": {
   "codemirror_mode": {
    "name": "ipython",
    "version": 3
   },
   "file_extension": ".py",
   "mimetype": "text/x-python",
   "name": "python",
   "nbconvert_exporter": "python",
   "pygments_lexer": "ipython3",
   "version": "3.13.5"
  }
 },
 "nbformat": 4,
 "nbformat_minor": 5
}
