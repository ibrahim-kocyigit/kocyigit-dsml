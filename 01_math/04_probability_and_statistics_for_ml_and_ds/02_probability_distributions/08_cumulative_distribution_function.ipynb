{
 "cells": [
  {
   "cell_type": "markdown",
   "id": "48edfdfe-059b-410f-b489-283ab138b3f3",
   "metadata": {},
   "source": [
    "# The Cumulative Distribution Function (CDF)"
   ]
  },
  {
   "cell_type": "markdown",
   "id": "da4472a1-7029-4405-a3e1-ab0e57d8c38e",
   "metadata": {},
   "source": [
    "So far, we've learned about the **Probability Mass Function (PMF)** for discrete distributions and the **Probability Density Function (PDF)** for continuous distributions. While powerful, using a PDF requires calculating the area under a curve to find probabilities, which can be inconvenient.\n",
    "\n",
    "The **Cumulative Distribution Function (CDF)** offers a more direct way to get probabilities.\n",
    "\n",
    "> The **CDF**, denoted as a capital `F(x)`, tells you the probability that a random variable `X` will take on a value **less than or equal to** a certain value `x`.\n",
    "> $$ F(x) = P(X \\le x) $$\n",
    "\n",
    "The CDF essentially \"accumulates\" probability as you move from left to right along the number line.\n",
    "\n",
    "---\n",
    "## The CDF for Discrete Distributions\n",
    "\n",
    "Let's start with a discrete example. Imagine the probability distribution for the duration of a support call, grouped into 1-minute intervals. The CDF at any point is the sum of all the probabilities up to that point.\n",
    "\n",
    "* `F(1)` = P(call ≤ 1 min) = `P(0-1 min)`\n",
    "* `F(2)` = P(call ≤ 2 min) = `P(0-1 min) + P(1-2 min)`\n",
    "* `F(5)` = P(call ≤ 5 min) = `1` (since all calls are 5 minutes or less)\n",
    "\n",
    "For discrete variables, the CDF is a \"step function.\" It is flat between values and then \"jumps\" up at each possible outcome. The height of each jump is equal to the probability of that specific outcome.\n",
    "\n",
    "![](./images/0801.png)"
   ]
  },
  {
   "cell_type": "markdown",
   "id": "00532cce-588a-4280-95c5-6d07b452df0d",
   "metadata": {},
   "source": [
    "---\n",
    "\n",
    "## The CDF for Continuous Distributions\n",
    "\n",
    "For a continuous distribution, the CDF has a similar meaning, but it's calculated differently. The value of the CDF at a point `x`, `F(x)`, is the **total area under the PDF curve** from the beginning of the range up to `x`.\n",
    "\n",
    "This is a powerful concept. Instead of having to calculate a new area (an integral) every time we want a probability, we can use the CDF. The probability of an outcome falling between `a` and `b` is simply the difference between the CDF values at those points:\n",
    "$$ P(a \\le X \\le b) = F(b) - F(a) $$\n",
    "\n",
    "Because there are no \"jumps\" in a continuous distribution (the probability of any single point is zero), the CDF is a smooth, non-decreasing curve.\n",
    "\n",
    "![](./images/0802.png)"
   ]
  },
  {
   "cell_type": "markdown",
   "id": "fc44645a-0920-4888-b7a9-557abc29f099",
   "metadata": {},
   "source": [
    "---\n",
    "\n",
    "## Properties of a Valid CDF\n",
    "\n",
    "A function `F(x)` must satisfy four conditions to be a valid CDF:\n",
    "1.  **It must be non-decreasing.** As `x` increases, the accumulated probability can only stay the same or increase; it can never go down.\n",
    "2.  **The values must be between 0 and 1.** Since it represents a probability, it cannot be negative or greater than one.\n",
    "3.  **The left endpoint must be 0.** As $x \\to -\\infty$, $F(x) \\to 0$.\n",
    "4.  **The right endpoint must be 1.** As $x \\to \\infty$, $F(x) \\to 1$."
   ]
  }
 ],
 "metadata": {
  "kernelspec": {
   "display_name": "Python 3 (ipykernel)",
   "language": "python",
   "name": "python3"
  },
  "language_info": {
   "codemirror_mode": {
    "name": "ipython",
    "version": 3
   },
   "file_extension": ".py",
   "mimetype": "text/x-python",
   "name": "python",
   "nbconvert_exporter": "python",
   "pygments_lexer": "ipython3",
   "version": "3.13.5"
  }
 },
 "nbformat": 4,
 "nbformat_minor": 5
}
