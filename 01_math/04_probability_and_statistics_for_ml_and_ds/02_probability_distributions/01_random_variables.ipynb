{
 "cells": [
  {
   "cell_type": "markdown",
   "id": "8b3eb4eb-f202-47ee-9f12-36f2418e8834",
   "metadata": {},
   "source": [
    "# Random Variables"
   ]
  },
  {
   "cell_type": "markdown",
   "id": "c5a38eab-2519-435a-82b1-f577904e0284",
   "metadata": {},
   "source": [
    "In this lesson, we will explore one of the most important concepts in probability: the **random variable**.\n",
    "\n",
    "Unlike an algebraic variable which holds a fixed value (e.g., `x = 3`), a random variable can take on many different values, each with an associated probability. It represents the numerical outcome of a random phenomenon.\n",
    "\n",
    "Let's use a simple coin flip to understand this.\n",
    "* **The Experiment:** We flip a fair coin once.\n",
    "* **The Outcomes:** {Heads, Tails}, each with a probability of 0.5.\n",
    "\n",
    "Now, let's define a random variable `X` to represent the \"Number of Heads\" in this experiment.\n",
    "* If the outcome is **Heads**, then `X = 1`. The probability of this is `P(X=1) = 0.5`.\n",
    "* If the outcome is **Tails**, then `X = 0`. The probability of this is `P(X=0) = 0.5`.\n",
    "\n",
    "`X` is a random variable because its value is uncertain until the experiment is performed.\n",
    "\n",
    "---\n",
    "## A More Complex Example: 10 Coin Flips\n",
    "\n",
    "Let's define a new random variable, `X`, as the total number of heads we obtain in 10 coin tosses.\n",
    "\n",
    "The possible values for `X` are any integer from 0 (all tails) to 10 (all heads). Calculating the exact probability for each of these outcomes can be complex. For example, to find `P(X=9)`, we would need to count all the different sequences that result in exactly 9 heads.\n",
    "\n",
    "To get an intuition for the probabilities, we can run a simulation. Let's simulate this experiment 500 times and plot the results in a histogram.\n",
    "\n",
    "![](./images/0101.png)"
   ]
  },
  {
   "cell_type": "markdown",
   "id": "1e83dedb-8980-4687-b3bb-653bde2bc3c1",
   "metadata": {},
   "source": [
    "As the histogram shows, the most likely outcomes are centered around `X=5`, while extreme outcomes like `X=0` or `X=10` are very rare. This visual representation of the probabilities of all possible outcomes is called a **probability distribution**, which we will study in more detail soon.\n",
    "\n",
    "---\n",
    "## Types of Random Variables\n",
    "\n",
    "Random variables are generally classified into two main types.\n",
    "\n",
    "### 1. Discrete Random Variables\n",
    "These variables can only take on a **countable** number of distinct values. The values can often be counted with integers.\n",
    "\n",
    "* **Examples:**\n",
    "    * The number of heads in 10 coin flips (can be 0, 1, ..., 10).\n",
    "    * The number you get when you roll a die (can be 1, 2, 3, 4, 5, 6).\n",
    "    * The number of defective products in a shipment.\n",
    "    * The number of coin flips it takes *until* you get your first heads (can be 1, 2, 3, ..., which is infinite but still countable).\n",
    "\n",
    "### 2. Continuous Random Variables\n",
    "These variables can take on an **uncountable** number of values within a given range or interval.\n",
    "\n",
    "* **Examples:**\n",
    "    * The exact height of a person.\n",
    "    * The amount of time you wait for a bus.\n",
    "    * The exact temperature of a room.\n",
    "    * The number of millimeters of rain in a month.\n",
    "\n",
    "The key difference is that a discrete variable's possible values can be put in a list, whereas a continuous variable's possible values form a solid interval on the number line.\n",
    "\n",
    "---\n",
    "## Deterministic vs. Random Variables\n",
    "\n",
    "It's important to distinguish the random variables we study in probability from the deterministic variables used in algebra and calculus.\n",
    "\n",
    "* **Deterministic Variable:** Has a fixed, known value (e.g., `x = 2`).\n",
    "* **Random Variable:** Has an uncertain value described by a probability distribution."
   ]
  }
 ],
 "metadata": {
  "kernelspec": {
   "display_name": "Python 3 (ipykernel)",
   "language": "python",
   "name": "python3"
  },
  "language_info": {
   "codemirror_mode": {
    "name": "ipython",
    "version": 3
   },
   "file_extension": ".py",
   "mimetype": "text/x-python",
   "name": "python",
   "nbconvert_exporter": "python",
   "pygments_lexer": "ipython3",
   "version": "3.13.5"
  }
 },
 "nbformat": 4,
 "nbformat_minor": 5
}
