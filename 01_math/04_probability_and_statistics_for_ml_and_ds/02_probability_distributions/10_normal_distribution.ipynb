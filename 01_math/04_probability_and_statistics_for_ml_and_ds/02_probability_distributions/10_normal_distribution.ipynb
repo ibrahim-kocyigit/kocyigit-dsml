{
 "cells": [
  {
   "cell_type": "markdown",
   "id": "7d12844e-f937-4d09-a4a6-a96de0e03cf7",
   "metadata": {},
   "source": [
    "# The Normal Distribution"
   ]
  },
  {
   "cell_type": "markdown",
   "id": "3385907a-8bb3-4d61-8035-ccbfed79ba9f",
   "metadata": {},
   "source": [
    "Now we will learn about one of the most popular and important distributions in all of statistics and machine learning: the **Normal Distribution**, also known as the **Gaussian Distribution** or the \"bell curve.\"\n",
    "\n",
    "It appears everywhere in science and real life. One of the reasons for this is that when we add up many independent random processes, their combined effect tends to follow a normal distribution.\n",
    "\n",
    "### From Binomial to Normal\n",
    "A great way to build intuition for the normal distribution is to see it as a limit of the **binomial distribution**. Recall that the binomial distribution models the number of heads in *n* coin tosses.\n",
    "\n",
    "As the number of coin tosses (`n`) gets very large, the shape of the binomial distribution's histogram begins to look more and more like a smooth, continuous bell curve. This bell curve is the normal distribution.\n",
    "\n",
    "![](./images/1001.png)"
   ]
  },
  {
   "cell_type": "markdown",
   "id": "848272d3-ea8a-4214-a5d0-137bfb61111e",
   "metadata": {},
   "source": [
    "---\n",
    "\n",
    "## The Normal PDF and its Parameters\n",
    "\n",
    "The Probability Density Function (PDF) for the normal distribution is a bit more complex, but it is controlled by two simple parameters:\n",
    "\n",
    "* **The Mean ($\\mu$):** This parameter controls the **center** of the bell curve.\n",
    "* **The Standard Deviation ($\\sigma$):** This parameter controls the **spread** or \"wideness\" of the bell curve. A small `σ` gives a tall, skinny curve, while a large `σ` gives a short, wide curve.\n",
    "\n",
    "> **The Normal PDF Formula:**\n",
    "> $$ f(x) = \\frac{1}{\\sigma\\sqrt{2\\pi}} e^{ -\\frac{1}{2}\\left(\\frac{x-\\mu}{\\sigma}\\right)^2 } $$\n",
    "\n",
    "The first part of the formula, $\\frac{1}{\\sigma\\sqrt{2\\pi}}$, is a scaling constant that ensures the total area under the curve is exactly 1. The important part is the exponential term, which creates the characteristic bell shape centered at `μ` and scaled by `σ`.  \n",
    "\n",
    "![](./images/1002.png)"
   ]
  },
  {
   "cell_type": "markdown",
   "id": "b7f6454f-c086-432c-86d1-e84a375d87a3",
   "metadata": {},
   "source": [
    "---\n",
    "\n",
    "## The Standard Normal Distribution\n",
    "\n",
    "One particular set of parameters is of great importance: **μ = 0** and **σ = 1**. This is called the **Standard Normal Distribution**.\n",
    "\n",
    "We can convert any normal random variable `X` into a standard normal variable `Z` using a process called **standardization**:\n",
    "$$ Z = \\frac{X - \\mu}{\\sigma} $$\n",
    "This `Z-score` tells us how many standard deviations an observation `X` is away from the mean `μ`. Standardization is a crucial technique in statistics and machine learning for comparing variables on different scales.\n",
    "\n",
    "---\n",
    "\n",
    "## The Cumulative Distribution Function (CDF)\n",
    "\n",
    "The CDF of the normal distribution, which gives the area under the curve up to a certain point, does not have a simple formula. In the past, people used large tables of data to look up these values. Today, we use software to calculate them.\n",
    "\n",
    "---\n",
    "\n",
    "## Real-World Examples\n",
    "\n",
    "The great thing about the normal distribution is that it models so many real-world phenomena, especially variables that are the sum of many small, independent processes:\n",
    "* Heights and weights of a population\n",
    "* IQ scores\n",
    "* Measurement errors in experiments\n",
    "* Noise in a communication channel"
   ]
  }
 ],
 "metadata": {
  "kernelspec": {
   "display_name": "Python 3 (ipykernel)",
   "language": "python",
   "name": "python3"
  },
  "language_info": {
   "codemirror_mode": {
    "name": "ipython",
    "version": 3
   },
   "file_extension": ".py",
   "mimetype": "text/x-python",
   "name": "python",
   "nbconvert_exporter": "python",
   "pygments_lexer": "ipython3",
   "version": "3.13.5"
  }
 },
 "nbformat": 4,
 "nbformat_minor": 5
}
