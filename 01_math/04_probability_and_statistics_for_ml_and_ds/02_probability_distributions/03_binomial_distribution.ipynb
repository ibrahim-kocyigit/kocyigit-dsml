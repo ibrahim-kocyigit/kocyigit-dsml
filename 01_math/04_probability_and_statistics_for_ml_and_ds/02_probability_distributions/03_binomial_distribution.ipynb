{
 "cells": [
  {
   "cell_type": "markdown",
   "id": "59e663ff-3d7e-44ac-a123-2dfde7f06325",
   "metadata": {},
   "source": [
    "# Probability Distributions - The Binomial Distribution"
   ]
  },
  {
   "cell_type": "markdown",
   "id": "63d04415-edbe-4a01-8156-1af3699269c3",
   "metadata": {},
   "source": [
    "Let's start with one of the simplest and most common discrete distributions: the **Binomial Distribution**.\n",
    "\n",
    "The binomial distribution models the number of \"successes\" in a fixed number of independent trials. A classic example is counting the number of heads in multiple coin tosses.\n",
    "\n",
    "If we toss a coin 10 times, the number of heads we can obtain is a random variable that can take any integer value from 0 to 10. The binomial distribution tells us the exact probability for each of these outcomes.\n",
    "\n",
    "---\n",
    "## Calculating Binomial Probabilities\n",
    "\n",
    "Let's ask a specific question: What is the probability of obtaining exactly **2 heads** when you flip **5 fair coins**?\n",
    "\n",
    "The process has two parts:\n",
    "1.  **Calculate the probability of one specific sequence:**\n",
    "    * One possible sequence is `HHTTT`. Since each flip is an independent event with P(H)=0.5 and P(T)=0.5, the probability of this specific sequence is:\n",
    "    $ (0.5) \\times (0.5) \\times (0.5) \\times (0.5) \\times (0.5) = (0.5)^5 = \\frac{1}{32} $  \n",
    "` `\n",
    "2.  **Count the number of possible sequences:**\n",
    "    * `HHTTT` is not the only way to get 2 heads. `HTHTT` and `TTHHH` are other possibilities. We need to count how many unique ways we can arrange 2 heads and 3 tails.\n",
    "    * This is a combination problem. The number of ways to choose *k* successes from *n* trials is given by the **binomial coefficient**:\n",
    "    $$ \\binom{n}{k} = \\frac{n!}{k!(n-k)!} $$\n",
    "    * For our problem, this is \"5 choose 2\":\n",
    "    $$ \\binom{5}{2} = \\frac{5!}{2!(5-2)!} = \\frac{120}{2 \\cdot 6} = 10 $$\n",
    "    * There are **10** different ways to get exactly 2 heads in 5 flips.\n",
    "\n",
    "Since each of these 10 sequences has a probability of 1/32, the total probability is:\n",
    "$$ P(X=2) = 10 \\times \\frac{1}{32} = \\frac{10}{32} $$\n",
    "\n",
    "---\n",
    "\n",
    "## The Binomial Probability Mass Function (PMF)\n",
    "\n",
    "We can generalize this into a single formula, the PMF for the binomial distribution. This formula gives the probability of getting exactly `x` successes in `n` trials, where the probability of success in any single trial is `p`.\n",
    "\n",
    "> **Binomial PMF:**\n",
    "> $$ P(X=x) = \\binom{n}{x} p^x (1-p)^{n-x} $$\n",
    "\n",
    "We say that the random variable `X` follows a binomial distribution, and we denote it as:\n",
    "$$ X \\sim \\text{Binomial}(n, p) $$\n",
    "\n",
    "---\n",
    "## Visualizing the Binomial Distribution\n",
    "\n",
    "![](./images/0301.png)\n",
    "\n",
    "---\n",
    "\n",
    "## Framing Other Problems as Binomial\n",
    "\n",
    "The binomial distribution is very flexible. We can frame many problems as a series of \"success\" or \"failure\" trials, even if they don't involve coins.\n",
    "\n",
    "**Example:** What is the probability of rolling a die five times and getting exactly three 1s?\n",
    "\n",
    "This is a binomial problem in disguise.\n",
    "* A \"trial\" is a single roll of the die. We have **n = 5** trials.\n",
    "* A \"success\" is rolling a 1. The probability of success is **p = 1/6**.\n",
    "* A \"failure\" is rolling anything else. The probability of failure is **1 - p = 5/6**.\n",
    "\n",
    "We want to find the probability of getting exactly **x = 3** successes. We can plug these values into the binomial PMF:\n",
    "$$ P(X=3) = \\binom{5}{3} (\\frac{1}{6})^3 (1-\\frac{1}{6})^{5-3} $$\n",
    "$$ = 10 \\cdot (\\frac{1}{216}) \\cdot (\\frac{5}{6})^2 = 10 \\cdot \\frac{1}{216} \\cdot \\frac{25}{36} \\approx 0.032 $$"
   ]
  }
 ],
 "metadata": {
  "kernelspec": {
   "display_name": "Python 3 (ipykernel)",
   "language": "python",
   "name": "python3"
  },
  "language_info": {
   "codemirror_mode": {
    "name": "ipython",
    "version": 3
   },
   "file_extension": ".py",
   "mimetype": "text/x-python",
   "name": "python",
   "nbconvert_exporter": "python",
   "pygments_lexer": "ipython3",
   "version": "3.13.5"
  }
 },
 "nbformat": 4,
 "nbformat_minor": 5
}
