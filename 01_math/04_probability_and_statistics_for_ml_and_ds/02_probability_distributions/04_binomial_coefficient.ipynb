{
 "cells": [
  {
   "cell_type": "markdown",
   "id": "29d7ead0-70f0-4ba4-9625-fa7c8231a76a",
   "metadata": {},
   "source": [
    "# The Binomial Coefficient"
   ]
  },
  {
   "cell_type": "markdown",
   "id": "acad7684-107c-4841-9119-63858add362d",
   "metadata": {},
   "source": [
    "In the previous lesson, we saw that to calculate the probability of getting exactly *k* successes in *n* trials, we needed to know two things:\n",
    "1.  The probability of a single, specific sequence (e.g., `HHTTT`).\n",
    "2.  The number of different ways that sequence could occur.\n",
    "\n",
    "This lesson focuses on the second part: how do we count the number of combinations?\n",
    "\n",
    "---\n",
    "## Counting Ordered Selections (Permutations)\n",
    "\n",
    "Let's start with a related question: In how many ways can we pick *k* items from a set of *n* items if the **order matters**?\n",
    "\n",
    "* For our first choice, we have `n` options.\n",
    "* For our second choice, we have `n-1` remaining options.\n",
    "* ...\n",
    "* For our *k*-th choice, we have `n-k+1` remaining options.\n",
    "\n",
    "The total number of ordered selections is the product: $n \\times (n-1) \\times \\dots \\times (n-k+1)$. This can be written more compactly as:\n",
    "$$ \\frac{n!}{(n-k)!} $$\n",
    "\n",
    "---\n",
    "## Correcting for Over-Counting (Combinations)\n",
    "\n",
    "The formula above over-counts for our coin-flip problem because it treats `HHTTT` and `HTHTT` as different outcomes of picking \"positions\" for the heads, but we consider them the same *set* of positions.\n",
    "\n",
    "We need to divide by the number of ways we can re-order the *k* items we've chosen. The number of ways to order *k* distinct items is **k!** (k-factorial).\n",
    "\n",
    "This leads us to the **binomial coefficient**, which counts the number of ways to choose *k* items from a set of *n* in an **unordered** way.\n",
    "\n",
    "> **The Binomial Coefficient (\"n choose k\"):**\n",
    "> $$ \\binom{n}{k} = \\frac{n!}{k!(n-k)!} $$\n",
    "\n",
    "This formula tells us exactly how many different sequences of coin flips will result in exactly *k* heads.\n",
    "\n",
    "---\n",
    "## Back to the Binomial PMF\n",
    "\n",
    "Now we can see how the full Binomial PMF is constructed, even for a **biased coin**.\n",
    "\n",
    "Let's say a coin has `P(Heads) = p`. We want to find the probability of getting exactly `x` heads in `n` flips.\n",
    "\n",
    "1.  **Probability of one sequence:** Any specific sequence with `x` heads and `n-x` tails (like `H...HT...T`) has a probability of:\n",
    "    $$ p^x (1-p)^{n-x} $$\n",
    "2.  **Number of sequences:** The number of different ways to get `x` heads in `n` flips is given by the binomial coefficient:\n",
    "    $$ \\binom{n}{x} $$\n",
    "\n",
    "Combining these gives us the full PMF:\n",
    "$$ P(X=x) = \\binom{n}{x} p^x (1-p)^{n-x} $$\n",
    "\n",
    "Let's visualize this for the biased coin example:\n",
    "\n",
    "![](./images/0401.png)"
   ]
  }
 ],
 "metadata": {
  "kernelspec": {
   "display_name": "Python 3 (ipykernel)",
   "language": "python",
   "name": "python3"
  },
  "language_info": {
   "codemirror_mode": {
    "name": "ipython",
    "version": 3
   },
   "file_extension": ".py",
   "mimetype": "text/x-python",
   "name": "python",
   "nbconvert_exporter": "python",
   "pygments_lexer": "ipython3",
   "version": "3.13.5"
  }
 },
 "nbformat": 4,
 "nbformat_minor": 5
}
