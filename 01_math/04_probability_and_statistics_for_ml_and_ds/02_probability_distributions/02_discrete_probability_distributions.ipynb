{
 "cells": [
  {
   "cell_type": "markdown",
   "id": "9f7a7229-11e2-4b1c-8b3f-66034d160495",
   "metadata": {},
   "source": [
    "# Probability Distributions (Discrete)"
   ]
  },
  {
   "cell_type": "markdown",
   "id": "f5d7b776-5a20-415f-8428-accf389f31ed",
   "metadata": {},
   "source": [
    "In the previous lessons, we learned how to calculate the probability of a single event. A **probability distribution**, however, gives us the bigger picture. It's a function or a graph that describes the probability of **all possible outcomes** of a random variable.\n",
    "\n",
    "Let's explore this with our coin flip experiment.\n",
    "\n",
    "### The 3-Coin Toss Experiment\n",
    "Let our random variable `X` be the **number of heads** when we toss three fair coins. The sample space has 8 total outcomes. Let's group them by the value of `X`:\n",
    "\n",
    "* **X = 0 (No Heads):**\n",
    "    * {TTT} - 1 outcome\n",
    "    * **P(X=0) = 1/8**\n",
    "* **X = 1 (One Head):**\n",
    "    * {HTT, THT, TTH} - 3 outcomes\n",
    "    * **P(X=1) = 3/8**\n",
    "* **X = 2 (Two Heads):**\n",
    "    * {HHT, HTH, THH} - 3 outcomes\n",
    "    * **P(X=2) = 3/8**\n",
    "* **X = 3 (Three Heads):**\n",
    "    * {HHH} - 1 outcome\n",
    "    * **P(X=3) = 1/8**\n",
    "\n",
    "This table of probabilities is the probability distribution for our random variable `X`. It's much more likely to get 1 or 2 heads than 0 or 3, because there are more ways for those outcomes to happen. We can visualize this distribution with a histogram:\n",
    "\n",
    "![](./images/0201.png)"
   ]
  },
  {
   "cell_type": "markdown",
   "id": "7d844d99-b37e-45ea-be9c-47f347ea374b",
   "metadata": {},
   "source": [
    "---\n",
    "\n",
    "## The Probability Mass Function (PMF)\n",
    "\n",
    "The function that gives us the probability for each possible value of a **discrete random variable** is called the **Probability Mass Function (PMF)**, often written as `p(x)`.\n",
    "\n",
    "$$ p(x) = P(X = x) $$\n",
    "It tells us how the total probability of 1 is \"distributed\" among the possible outcomes.\n",
    "\n",
    "A function is a valid PMF if it satisfies two conditions:\n",
    "1.  The probability for every possible outcome must be non-negative: $p(x) \\ge 0$.\n",
    "2.  The sum of the probabilities over all possible outcomes must be equal to 1.\n",
    "\n",
    "---\n",
    "## The Binomial Distribution\n",
    "\n",
    "Notice that the shape of the probability distributions for 3, 4, and 5 coin tosses are all very similar—they are symmetric and bell-shaped. These random variables all belong to the same family of distributions, called the **Binomial Distribution**.\n",
    "\n",
    "We will learn more about the Binomial distribution and other common probability distributions in the next lesson."
   ]
  }
 ],
 "metadata": {
  "kernelspec": {
   "display_name": "Python 3 (ipykernel)",
   "language": "python",
   "name": "python3"
  },
  "language_info": {
   "codemirror_mode": {
    "name": "ipython",
    "version": 3
   },
   "file_extension": ".py",
   "mimetype": "text/x-python",
   "name": "python",
   "nbconvert_exporter": "python",
   "pygments_lexer": "ipython3",
   "version": "3.13.5"
  }
 },
 "nbformat": 4,
 "nbformat_minor": 5
}
