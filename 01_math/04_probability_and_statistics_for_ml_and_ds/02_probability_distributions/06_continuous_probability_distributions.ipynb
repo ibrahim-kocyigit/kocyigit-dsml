{
 "cells": [
  {
   "cell_type": "markdown",
   "id": "5b19a3cd-e5d2-4416-85ef-b37919c8f396",
   "metadata": {},
   "source": [
    "# Probability Distributions (Continuous)"
   ]
  },
  {
   "cell_type": "markdown",
   "id": "5d60edc6-edaf-4673-818e-f638bcf4184d",
   "metadata": {},
   "source": [
    "Now that we know about discrete distributions, let's explore **continuous distributions**.\n",
    "\n",
    "The key difference lies in the types of values the random variable can take:\n",
    "* **Discrete:** The outcomes can be put in a list (e.g., number of heads: 0, 1, 2, 3...).\n",
    "* **Continuous:** The outcomes can be any number within a given interval (e.g., the time you wait for a bus could be 1 minute, 1.01 minutes, or 1.2237... minutes).\n",
    "\n",
    "### The Problem with Exact Points\n",
    "\n",
    "For a continuous variable, the probability of it taking on any single, *exact* value is zero. For example, what is the probability that a support call lasts *exactly* 1 minute, to the infinitesimal decimal? Since there are infinitely many possible call durations, the probability of any one specific duration is effectively zero.\n",
    "\n",
    "This means we can't use a Probability Mass Function (PMF) like we did for discrete variables, where we assigned a probability to each specific outcome.\n",
    "\n",
    "---\n",
    "## The Solution: Probabilities Over Intervals\n",
    "\n",
    "Instead of asking for the probability of an exact point, we ask for the probability that the outcome falls **within a certain interval or window**.\n",
    "\n",
    "For our call center example, we can ask:\n",
    "* What is the probability that a call lasts between 0 and 1 minute?\n",
    "* What is the probability that a call lasts between 1 and 2 minutes?\n",
    "\n",
    "We can represent these probabilities with a histogram, where the area of the bars sums to 1. As we make our time intervals (the bins of the histogram) smaller and smaller, the histogram begins to look like a smooth curve.\n",
    "\n",
    "![](./images/0601.png)"
   ]
  },
  {
   "cell_type": "markdown",
   "id": "3dfd6bb3-e3b6-4645-89a4-aab3b984e2a8",
   "metadata": {},
   "source": [
    "---\n",
    "\n",
    "## The Probability Density Function (PDF)\n",
    "\n",
    "The smooth curve that emerges when our intervals become infinitely small is called a **Probability Density Function (PDF)**.\n",
    "\n",
    "Unlike a PMF where the height of a bar is the probability, the height of the PDF curve is **not** a probability. It represents the \"density\" of probability at that point.\n",
    "\n",
    "For continuous distributions, probability is not the height of the curve, but the **area under the curve** for a given interval.\n",
    "\n",
    "> **Key Rule:** For a continuous probability distribution, the **total area under the PDF curve must equal 1**. The probability of an outcome falling within a certain range is the area under the curve in that range."
   ]
  }
 ],
 "metadata": {
  "kernelspec": {
   "display_name": "Python 3 (ipykernel)",
   "language": "python",
   "name": "python3"
  },
  "language_info": {
   "codemirror_mode": {
    "name": "ipython",
    "version": 3
   },
   "file_extension": ".py",
   "mimetype": "text/x-python",
   "name": "python",
   "nbconvert_exporter": "python",
   "pygments_lexer": "ipython3",
   "version": "3.13.5"
  }
 },
 "nbformat": 4,
 "nbformat_minor": 5
}
