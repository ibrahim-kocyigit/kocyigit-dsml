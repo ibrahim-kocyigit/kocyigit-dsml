{
 "cells": [
  {
   "cell_type": "markdown",
   "id": "49635601-7d90-4cd1-be89-9518af49c876",
   "metadata": {},
   "source": [
    "# The Probability Density Function"
   ]
  },
  {
   "cell_type": "markdown",
   "id": "2a3d6a5f-a6fb-4761-88d8-2797f4d0fd4c",
   "metadata": {},
   "source": [
    "In discrete distributions, we can assign a specific probability to each possible outcome. For example, there is a specific probability of getting exactly 3 heads in 10 coin flips.\n",
    "\n",
    "However, for a **continuous distribution**, the probability of the random variable taking on any single, exact value is **zero**. For example, the probability that a support call lasts *exactly* 2 minutes (2.000... seconds) is zero because there are infinitely many possible call durations.\n",
    "\n",
    "This means we need a different way to think about probability for continuous variables. Instead of calculating the probability of an exact point, we calculate the probability of the outcome falling **within an interval**.\n",
    "\n",
    "---\n",
    "## From Histograms to a Continuous Curve\n",
    "\n",
    "Let's revisit our call center example. We can start by creating a histogram where the bars represent the probability that a call's duration falls within a certain window (e.g., between 2 and 3 minutes). The total area of all the bars adds up to 1.\n",
    "\n",
    "As we make these windows (or \"bins\") smaller and smaller, the histogram begins to resemble a smooth curve. This smooth curve is called the **Probability Density Function (PDF)**.  \n",
    "\n",
    "![](./images/0701.png)"
   ]
  },
  {
   "cell_type": "markdown",
   "id": "bac162d5-5c5c-4437-919c-80452b89825c",
   "metadata": {},
   "source": [
    "---\n",
    "\n",
    "## Understanding the PDF\n",
    "\n",
    "The function that describes this curve is called the **Probability Density Function (PDF)**, often written as a lowercase `f(x)`. It is the continuous equivalent of the Probability Mass Function (PMF).\n",
    "\n",
    "A crucial point to remember is that for a continuous variable, probability is **not** the height of the curve. The height represents the \"density\" or concentration of probability at that point.\n",
    "\n",
    "> **Rule:** The probability that a continuous random variable `X` falls between two values `a` and `b` is the **area under the PDF curve** between `a` and `b`.\n",
    "\n",
    "### Properties of a Valid PDF\n",
    "\n",
    "A function `f(x)` must satisfy three conditions to be considered a valid PDF:\n",
    "1.  **It must be defined for all real numbers.** (It can be zero for many values, for example, the probability of a negative call duration is zero).\n",
    "2.  **It must be non-negative everywhere.** $f(x) \\ge 0$. This makes sense, as we cannot have negative probabilities.\n",
    "3.  **The total area under the entire curve must be equal to 1.** This represents the certainty that the outcome will be *some* value.\n",
    "\n",
    "---\n",
    "## Summary: Discrete vs. Continuous\n",
    "\n",
    "| Aspect | Discrete Random Variable | Continuous Random Variable |\n",
    "| :--- | :--- | :--- |\n",
    "| **Possible Values** | A countable list (e.g., 0, 1, 2...) | An uncountable interval (e.g., all numbers between 0 and 5) |\n",
    "| **Probability Function**| **Probability Mass Function (PMF)**, `p(x)` | **Probability Density Function (PDF)**, `f(x)` |\n",
    "| **How to find P(X=x)?**| `p(x)` (The height of the bar) | **0** |\n",
    "| **How to find P(a ≤ X ≤ b)?**| Sum the heights of the bars from `a` to `b` | Find the **area under the curve** from `a` to `b` |"
   ]
  }
 ],
 "metadata": {
  "kernelspec": {
   "display_name": "Python 3 (ipykernel)",
   "language": "python",
   "name": "python3"
  },
  "language_info": {
   "codemirror_mode": {
    "name": "ipython",
    "version": 3
   },
   "file_extension": ".py",
   "mimetype": "text/x-python",
   "name": "python",
   "nbconvert_exporter": "python",
   "pygments_lexer": "ipython3",
   "version": "3.13.5"
  }
 },
 "nbformat": 4,
 "nbformat_minor": 5
}
