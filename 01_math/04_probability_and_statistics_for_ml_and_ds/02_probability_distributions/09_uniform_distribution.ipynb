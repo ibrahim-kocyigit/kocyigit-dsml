{
 "cells": [
  {
   "cell_type": "markdown",
   "id": "8323d4e4-157c-414d-8bcf-4c250d0d3356",
   "metadata": {},
   "source": [
    "# The Uniform Distribution"
   ]
  },
  {
   "cell_type": "markdown",
   "id": "915fe14c-c74d-43d3-a445-35f5ce7652fa",
   "metadata": {},
   "source": [
    "The simplest continuous distribution is the **Uniform Distribution**.\n",
    "\n",
    "A random variable follows a uniform distribution if all possible outcomes within a given interval are **equally likely**.\n",
    "\n",
    "**Analogy: Waiting for the Bus**  \n",
    "Imagine a bus that arrives exactly every 10 minutes, but you don't know the schedule. If you show up at a random moment, your wait time could be 1 minute, 5 minutes, 9.7 minutes, or any other value between 0 and 10. Since you arrived randomly, any wait time in that interval is equally probable. This is a uniform distribution.\n",
    "\n",
    "---\n",
    "## The Probability Density Function (PDF)\n",
    "\n",
    "Because every outcome in the interval is equally likely, the PDF of a uniform distribution is a simple **horizontal line** (a constant value) over that interval, and zero everywhere else.\n",
    "\n",
    "Let's consider a support call center where the wait time `T` is uniformly distributed between 0 and 15 minutes. The PDF would look like a rectangle.\n",
    "\n",
    "What is the height of this rectangle? Remember, the total area under any PDF must be **1**.\n",
    "* The width of our rectangle is the length of the interval: $15 - 0 = 15$.\n",
    "* Therefore, `Height × Width = 1` must be true.\n",
    "* `Height × 15 = 1`, which means `Height = 1/15`.\n",
    "\n",
    "In general, for a uniform distribution over the interval `[a, b]`:\n",
    "> **Uniform PDF:**\n",
    "> $$\n",
    "f(x) =\n",
    "\\begin{cases}\n",
    "\\frac{1}{b-a} & \\text{if } a \\le x \\le b \\\\\n",
    "0 & \\text{otherwise}\n",
    "\\end{cases}\n",
    "$$"
   ]
  },
  {
   "cell_type": "markdown",
   "id": "597fa097-795e-4bae-9d40-f305d45738dd",
   "metadata": {},
   "source": [
    "---\n",
    "\n",
    "## The Cumulative Distribution Function (CDF)\n",
    "\n",
    "The CDF, `F(x)`, represents the accumulated probability up to a certain value `x`. For a uniform distribution, this is the area of the rectangle from the start of the interval `a` up to `x`.\n",
    "\n",
    "Let's consider a simple uniform distribution on the interval `[0, 1]`. The PDF is a rectangle with a height of 1.\n",
    "* For any `x < 0`, the accumulated area is **0**.\n",
    "* For any `x > 1`, we have accumulated the entire area, so the CDF is **1**.\n",
    "* For any `x` between 0 and 1, the area is a rectangle with width `x` and height `1`, so the area is simply `x`.\n",
    "\n",
    "This results in a CDF that is a straight line ramping up from 0 to 1 over the interval.\n",
    "\n",
    "For the general case on an interval `[a, b]`:\n",
    "> **Uniform CDF:**\n",
    "> $$\n",
    "F(x) =\n",
    "\\begin{cases}\n",
    "0 & \\text{if } x < a \\\\\n",
    "\\frac{x-a}{b-a} & \\text{if } a \\le x \\le b \\\\\n",
    "1 & \\text{if } x > b\n",
    "\\end{cases}\n",
    "$$\n",
    "\n",
    "![](./images/0901.png)"
   ]
  }
 ],
 "metadata": {
  "kernelspec": {
   "display_name": "Python 3 (ipykernel)",
   "language": "python",
   "name": "python3"
  },
  "language_info": {
   "codemirror_mode": {
    "name": "ipython",
    "version": 3
   },
   "file_extension": ".py",
   "mimetype": "text/x-python",
   "name": "python",
   "nbconvert_exporter": "python",
   "pygments_lexer": "ipython3",
   "version": "3.13.5"
  }
 },
 "nbformat": 4,
 "nbformat_minor": 5
}
