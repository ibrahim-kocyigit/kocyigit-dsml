{
 "cells": [
  {
   "cell_type": "markdown",
   "id": "b3d22d2e-2ba6-40b7-9386-31e0112d43d8",
   "metadata": {},
   "source": [
    "# The Chi-Squared Distribution"
   ]
  },
  {
   "cell_type": "markdown",
   "id": "8bac8b81-3c5a-4bf0-b99b-31c387269fef",
   "metadata": {},
   "source": [
    "Let's explore a very important continuous distribution that arises from the normal distribution: the **Chi-Squared ($\\chi^2$) Distribution**.\n",
    "\n",
    "### Motivating Example: Signal Noise Power\n",
    "\n",
    "Imagine you are transmitting a digital signal. The signal is affected by random **noise**, which we can model as a random variable `Z`. It's a very common assumption in communications and science that this noise follows a **standard normal distribution** (`μ=0, σ=1`).\n",
    "\n",
    "While the noise `Z` can be positive or negative, we are often interested in its **power**, which is proportional to the square of the noise, $W = Z^2$. Since `Z` is a random variable, `W` is also a random variable. The key question is: what is the probability distribution of this \"noise power\" `W`?\n",
    "\n",
    "This new distribution is called the **Chi-Squared distribution with one degree of freedom**.\n",
    "\n",
    "---\n",
    "## The Chi-Squared Distribution (1 Degree of Freedom)\n",
    "\n",
    "A Chi-Squared distribution with **one degree of freedom** is defined as the distribution of a single standard normal random variable squared ($Z^2$).\n",
    "\n",
    "Because we are squaring the values, the resulting distribution has some interesting properties:\n",
    "* It is always non-negative.\n",
    "* It is highly right-skewed, because the normal distribution concentrates most of its probability around zero. Small values of `Z` (both positive and negative) become small positive values of `W`, while large values of `Z` become very large positive values of `W`.\n",
    "\n",
    "![](./images/1101.png)"
   ]
  },
  {
   "cell_type": "markdown",
   "id": "396f25fb-6292-412b-9a13-30cb4969e201",
   "metadata": {},
   "source": [
    "---\n",
    "\n",
    "## Generalizing to 'k' Degrees of Freedom\n",
    "\n",
    "What if we want to find the total noise power accumulated over *k* independent transmissions? This would be the sum of *k* squared standard normal variables:\n",
    "$$ W = Z_1^2 + Z_2^2 + \\dots + Z_k^2 $$\n",
    "\n",
    "The distribution of this new variable `W` is a **Chi-Squared distribution with *k* degrees of freedom**.\n",
    "\n",
    "The number of **degrees of freedom** is the number of independent standard normal variables that you are summing. As the degrees of freedom (`k`) increase, the shape of the distribution changes: it becomes less skewed and starts to look more symmetric and bell-shaped.\n",
    "\n",
    "![](./images/1102.png)"
   ]
  }
 ],
 "metadata": {
  "kernelspec": {
   "display_name": "Python 3 (ipykernel)",
   "language": "python",
   "name": "python3"
  },
  "language_info": {
   "codemirror_mode": {
    "name": "ipython",
    "version": 3
   },
   "file_extension": ".py",
   "mimetype": "text/x-python",
   "name": "python",
   "nbconvert_exporter": "python",
   "pygments_lexer": "ipython3",
   "version": "3.13.5"
  }
 },
 "nbformat": 4,
 "nbformat_minor": 5
}
