{
 "cells": [
  {
   "cell_type": "markdown",
   "id": "4eb86e46-1579-4b56-9d7d-be88aa819e96",
   "metadata": {},
   "source": [
    "# Introduction to Derivatives"
   ]
  },
  {
   "cell_type": "markdown",
   "id": "182e97b8-4335-40ee-a508-cec47cba9c6f",
   "metadata": {},
   "source": [
    "When we think of a **derivative**, the first thing that often comes to mind is **velocity**.\n",
    "\n",
    "If a car travels 100 kilometers in one hour, its *average* velocity was 100 km/h. However, the car's velocity is not constant—it speeds up, slows down, and maybe even stops. The key question is: what is the car's velocity at a single, specific instant in time?\n",
    "\n",
    "This \"instantaneous rate of change\" is precisely what a derivative measures.\n",
    "\n",
    "---\n",
    "## The Broken Speedometer Problem\n",
    "\n",
    "Imagine you are in a car, but the speedometer is broken. You do, however, have an app that tells you the total distance you have traveled. You record this distance every five seconds for one minute.\n",
    "\n",
    "![](./images/01.png)\n",
    "\n",
    "**Question 1:** Is the car moving at a constant speed?\n",
    "\n",
    "No. For example, between 10 and 15 seconds (a 5-second interval), the car traveled 80 meters. But between 15 and 20 seconds (also a 5-second interval), it only traveled 63 meters. The car was moving faster during the first interval.\n",
    "\n",
    "**Question 2:** Can we find the *exact* velocity at `t = 12.5` seconds?\n",
    "\n",
    "No. With this data, we can only calculate the *average* velocity over an interval. We don't know what happened *within* that interval at the specific moment of 12.5 seconds.\n",
    "\n",
    "---\n",
    "## Estimating Velocity with Slope\n",
    "\n",
    "While we can't find the exact velocity, we can make a very good estimate by calculating the **average velocity** over a small interval.\n",
    "\n",
    "The formula for average velocity is `change in distance / change in time`. This is mathematically identical to the formula for the **slope** of a line: `rise / run`.\n",
    "\n",
    "Let's estimate the velocity at `t = 12.5s` by calculating the average velocity over the interval from 10s to 15s.\n",
    "\n",
    "![](./images/02.png)\n",
    "\n",
    "The average velocity in the interval from 10 to 15 seconds is **16 m/s**. This is a reasonable first estimate for the instantaneous velocity at `t = 12.5s`.\n",
    "\n",
    "---\n",
    "## Improving the Estimate\n",
    "\n",
    "Could we do better? Yes, if we had more granular data. Let's say we now have measurements for every second.\n",
    "\n",
    "![](./images/03.png)\n",
    "\n",
    "Now we can calculate the average velocity over a much smaller interval that still contains `t = 12.5s`: the interval from **12 seconds to 13 seconds**.\n",
    "\n",
    "* **Distance at 13s:** 170 m\n",
    "* **Distance at 12s:** 155 m\n",
    "* **Change in distance:** 15 m\n",
    "* **Change in time:** 1 s\n",
    "* **New Average Velocity:** $ \\frac{15 \\text{ m}}{1 \\text{ s}} = 15 \\text{ m/s} $\n",
    "\n",
    "This is a much better estimate for the instantaneous velocity at `t = 12.5s`.\n",
    "\n",
    "---\n",
    "## The Derivative\n",
    "\n",
    "This process reveals the core idea of a derivative. To find the *exact* instantaneous rate of change at a point, we just keep making the interval smaller and smaller, getting closer and closer to zero.\n",
    "\n",
    "> The **derivative** of a function at a point is the **limit** of the average rate of change as the length of the interval around that point approaches zero.\n",
    "\n",
    "Geometrically, as the interval shrinks, the **secant line** connecting the two endpoints gets closer and closer to the **tangent line** at that single point. The derivative is the slope of this tangent line."
   ]
  }
 ],
 "metadata": {
  "kernelspec": {
   "display_name": "Python 3 (ipykernel)",
   "language": "python",
   "name": "python3"
  },
  "language_info": {
   "codemirror_mode": {
    "name": "ipython",
    "version": 3
   },
   "file_extension": ".py",
   "mimetype": "text/x-python",
   "name": "python",
   "nbconvert_exporter": "python",
   "pygments_lexer": "ipython3",
   "version": "3.13.5"
  }
 },
 "nbformat": 4,
 "nbformat_minor": 5
}
