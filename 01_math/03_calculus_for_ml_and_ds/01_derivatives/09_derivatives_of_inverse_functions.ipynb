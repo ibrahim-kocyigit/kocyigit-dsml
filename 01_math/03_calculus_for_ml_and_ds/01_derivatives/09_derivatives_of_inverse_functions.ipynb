{
 "cells": [
  {
   "cell_type": "markdown",
   "id": "f87b5a25-f521-4aae-a934-a5b7921ee6c9",
   "metadata": {},
   "source": [
    "# The Inverse Function and Its Derivative"
   ]
  },
  {
   "cell_type": "markdown",
   "id": "e1da686b-4249-4739-86d1-5661c60ec270",
   "metadata": {},
   "source": [
    "An **inverse function** is a function that \"undoes\" the action of another function. If a function `f` takes an input `x` and produces an output `y`, then its inverse function, denoted as **$f^{-1}$**, takes `y` as input and produces `x` as output.\n",
    "\n",
    "* If $f(a) = b$, then $f^{-1}(b) = a$.\n",
    "* Applying a function and then its inverse returns the original input: $f^{-1}(f(x)) = x$.\n",
    "\n",
    "**A Classic Example:**\n",
    "* Let our function be $f(x) = x^2$. It takes a number and squares it.\n",
    "* The function that \"undoes\" squaring is the square root. So, its inverse is $g(x) = f^{-1}(x) = \\sqrt{x}$.\n",
    "\n",
    "*(Note: To make this a true one-to-one function, we will only consider non-negative numbers for x).*\n",
    "\n",
    "Geometrically, a function and its inverse are **reflections of each other across the line y = x**. If the point `(a, b)` is on the graph of `f`, then the point `(b, a)` will be on the graph of $f^{-1}$.\n",
    "\n",
    "![](./images/11.png)\n",
    "\n",
    "---\n",
    "\n",
    "## The Derivative of an Inverse Function\n",
    "\n",
    "There is a beautiful and simple relationship between the derivative of a function and the derivative of its inverse.\n",
    "\n",
    "> **Rule:** The derivative of an inverse function is the **reciprocal** of the derivative of the original function, evaluated at the corresponding point.\n",
    "> > \n",
    "> $ (f^{-1})'(y) = \\frac{1}{f'(x)} $\n",
    "\n",
    "Let's explore this with our example functions, $f(x) = x^2$ and its inverse $g(y) = \\sqrt{y}$. We already know that $f'(x) = 2x$.\n",
    "\n",
    "### Example 1: At the point (1, 1)\n",
    "* The point `(1, 1)` exists on both graphs since $f(1) = 1^2 = 1$ and $g(1) = \\sqrt{1} = 1$.\n",
    "* The slope of the tangent to $f(x)$ at $x=1$ is $f'(1) = 2(1) = 2$.\n",
    "* According to our rule, the slope of the tangent to $g(y)$ at the corresponding point ($y=1$) should be the reciprocal: $g'(1) = \\frac{1}{f'(1)} = \\frac{1}{2}$.\n",
    "  \n",
    "![](./images/12.png)\n",
    "\n",
    "### Example 2: At the points (2, 4) and (4, 2)\n",
    "* We know that $f(2) = 2^2 = 4$. This gives us the point `(2, 4)` on the graph of $f(x)$.\n",
    "* The corresponding point on the inverse function's graph is `(4, 2)`, since $g(4) = \\sqrt{4} = 2$.\n",
    "* The slope of the tangent to $f(x)$ at $x=2$ is $f'(2) = 2(2) = 4$.\n",
    "* Therefore, the slope of the tangent to $g(y)$ at the corresponding point ($y=4$) must be the reciprocal: $g'(4) = \\frac{1}{f'(2)} = \\frac{1}{4}$.\n",
    "\n",
    "![](./images/13.png)"
   ]
  }
 ],
 "metadata": {
  "kernelspec": {
   "display_name": "Python 3 (ipykernel)",
   "language": "python",
   "name": "python3"
  },
  "language_info": {
   "codemirror_mode": {
    "name": "ipython",
    "version": 3
   },
   "file_extension": ".py",
   "mimetype": "text/x-python",
   "name": "python",
   "nbconvert_exporter": "python",
   "pygments_lexer": "ipython3",
   "version": "3.13.5"
  }
 },
 "nbformat": 4,
 "nbformat_minor": 5
}
