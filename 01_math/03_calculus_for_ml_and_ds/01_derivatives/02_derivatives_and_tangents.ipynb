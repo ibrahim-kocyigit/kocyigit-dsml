{
 "cells": [
  {
   "cell_type": "markdown",
   "id": "0cf79279-1e13-429e-b1e3-4a7f76907041",
   "metadata": {},
   "source": [
    "# Derivatives and Tangents"
   ]
  },
  {
   "cell_type": "markdown",
   "id": "179328c9-1bb0-4611-a32a-03a24d8cfd6a",
   "metadata": {},
   "source": [
    "In the previous lesson, we learned how to estimate an instantaneous velocity by calculating the average velocity over a very small interval. This average velocity is the slope of the **secant line** that connects the two endpoints of the interval.\n",
    "\n",
    "To find the *exact* instantaneous velocity at a single point, we need to see what happens as the interval around that point gets smaller and smaller, approaching zero.\n",
    "\n",
    "Geometrically, as the interval shrinks, the secant line \"pivots\" and gets closer and closer to the **tangent line** at that single point. The slope of this tangent line is the **instantaneous rate of change**, which is the **derivative**.\n",
    "\n",
    "Let's visualize this process.\n",
    "\n",
    "![](./images/0201.png)\n"
   ]
  },
  {
   "cell_type": "markdown",
   "id": "c3ebda6c-d581-475d-a045-ba39634d04cf",
   "metadata": {},
   "source": [
    "## The Formal Definition of the Derivative\n",
    "\n",
    "The process we just visualized is captured formally by the concept of a **limit**. The derivative of a function `f(x)` with respect to `x` is the limit of the slope of the secant lines as the interval `h` (or `Δt` in our example) approaches zero.\n",
    "\n",
    "This instantaneous rate of change is denoted as **`dx/dt`** (read as \"the derivative of x with respect to t\"). It represents a tiny change in distance (`dx`) divided by a tiny change in time (`dt`).\n",
    "\n",
    "> The **derivative** of a function at a point is the **slope of the tangent line** at that point."
   ]
  }
 ],
 "metadata": {
  "kernelspec": {
   "display_name": "Python 3 (ipykernel)",
   "language": "python",
   "name": "python3"
  },
  "language_info": {
   "codemirror_mode": {
    "name": "ipython",
    "version": 3
   },
   "file_extension": ".py",
   "mimetype": "text/x-python",
   "name": "python",
   "nbconvert_exporter": "python",
   "pygments_lexer": "ipython3",
   "version": "3.13.5"
  }
 },
 "nbformat": 4,
 "nbformat_minor": 5
}
