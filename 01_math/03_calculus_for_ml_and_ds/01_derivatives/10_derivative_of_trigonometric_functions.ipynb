{
 "cells": [
  {
   "cell_type": "markdown",
   "id": "c67cc12b-8746-4c35-a042-7f275fd9beca",
   "metadata": {},
   "source": [
    "# Some Common Derivatives - Trigonometric Functions"
   ]
  },
  {
   "cell_type": "markdown",
   "id": "d17cef1c-a167-4a80-a9c1-25a66fbc127b",
   "metadata": {},
   "source": [
    "Let's now explore the derivatives of the trigonometric functions, starting with sine and cosine. We will find that they share a very simple and beautiful relationship.\n",
    "\n",
    "### The Derivative of Sine\n",
    "Let's look at the graph of $f(x) = \\sin(x)$ and consider the slope of its tangent line at several key points:\n",
    "* At $x = -\\pi/2$ and $x = \\pi/2$, the function is at its minimum and maximum. The tangent lines are horizontal, so the **slope is 0**.\n",
    "* At $x = 0$, the function is rising most steeply. The slope of the tangent line is **1**.\n",
    "* At $x = \\pi$, the function is falling most steeply. The slope of the tangent line is **-1**.\n",
    "\n",
    "Now, let's compare these slopes to the *values* of the function $g(x) = \\cos(x)$ at the same points. We find a perfect match. This is no coincidence.\n",
    "\n",
    "> **Rule:** The derivative of $\\sin(x)$ is **$\\cos(x)$**.\n",
    "> > \n",
    "> $ \\frac{d}{dx}(\\sin x) = \\cos x $\n",
    "\n",
    "![](./images/14.png)\n",
    "\n",
    "### The Derivative of Cosine\n",
    "We can do the same analysis for $f(x) = \\cos(x)$.\n",
    "* At $x=0$ and $x=\\pi$, the tangent lines are horizontal, so the **slope is 0**.\n",
    "* At $x = \\pi/2$, the function is falling most steeply. The slope of the tangent is **-1**.\n",
    "* At $x = -\\pi/2$, the function is rising most steeply. The slope of the tangent is **1**.\n",
    "\n",
    "If we compare these slopes to the values of $\\sin(x)$, we see they are the exact opposites.\n",
    "\n",
    "> **Rule:** The derivative of $\\cos(x)$ is **$-\\sin(x)$**.\n",
    "> >\n",
    "> $ \\frac{d}{dx}(\\cos x) = -\\sin x $\n",
    "\n",
    "![](./images/15.png)\n",
    "\n",
    "---\n",
    "\n",
    "## Geometric Intuition from the Unit Circle\n",
    "\n",
    "We can understand why these rules are true by looking at the **unit circle**.\n",
    "\n",
    "1.  Consider a point on the unit circle at an angle `x`. Its coordinates are `(cos(x), sin(x))`.\n",
    "2.  Now, move the angle by a tiny amount, `Δx`. This creates a new point and a very small triangle.\n",
    "3.  Because the interval `Δx` is infinitesimally small, the hypotenuse of this triangle is approximately equal to the arc length, which is `Δx`.\n",
    "4.  The angle at the top of this small triangle, `φ`, is approximately equal to the main angle, `x`.\n",
    "5.  The sides of this triangle represent the change in sine, `Δsin(x)`, and the change in cosine, `-Δcos(x)`.\n",
    "\n",
    "![](./images/16.png)\n",
    "\n",
    "Using basic trigonometry on this small triangle:\n",
    "* `cos(φ) ≈ cos(x) = adjacent / hypotenuse = Δsin(x) / Δx`\n",
    "* `sin(φ) ≈ sin(x) = opposite / hypotenuse = -Δcos(x) / Δx`\n",
    "\n",
    "As `Δx` approaches zero, `Δsin(x) / Δx` becomes the derivative of sine, and `Δcos(x) / Δx` becomes the derivative of cosine. This gives us our final rules:\n",
    "* The derivative of `sin(x)` is `cos(x)`.\n",
    "* The derivative of `cos(x)` is `-sin(x)`.\n",
    "\n",
    "![](./images/17.png)"
   ]
  }
 ],
 "metadata": {
  "kernelspec": {
   "display_name": "Python 3 (ipykernel)",
   "language": "python",
   "name": "python3"
  },
  "language_info": {
   "codemirror_mode": {
    "name": "ipython",
    "version": 3
   },
   "file_extension": ".py",
   "mimetype": "text/x-python",
   "name": "python",
   "nbconvert_exporter": "python",
   "pygments_lexer": "ipython3",
   "version": "3.13.5"
  }
 },
 "nbformat": 4,
 "nbformat_minor": 5
}
