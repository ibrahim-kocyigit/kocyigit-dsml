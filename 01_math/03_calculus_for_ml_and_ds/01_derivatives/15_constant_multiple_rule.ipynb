{
 "cells": [
  {
   "cell_type": "markdown",
   "id": "5df73e39-c502-4fa5-a80d-24e02d4457ac",
   "metadata": {},
   "source": [
    "# Properties of the Derivative: Multiplication by Scalars"
   ]
  },
  {
   "cell_type": "markdown",
   "id": "5e33d862-ac18-4255-8d5e-8b84f70f099f",
   "metadata": {},
   "source": [
    "So far, we've learned the derivatives of some simple functions. To find the derivatives of more complicated functions, we can use a set of rules that build upon these simple cases.\n",
    "\n",
    "The first and simplest rule is the **scalar (consant) multiple rule**.\n",
    "\n",
    "> **Rule:** The derivative of a constant `c` multiplied by a function `f(x)` is equal to the constant multiplied by the derivative of the function.\n",
    "> $$ \\frac{d}{dx}[c \\cdot f(x)] = c \\cdot f'(x) $$\n",
    "\n",
    "---\n",
    "## The Geometric Intuition\n",
    "\n",
    "Let's understand why this works. Consider the function $f(x) = x^2$ and a new function $g(x) = 2x^2$, which is just `f(x)` scaled by a factor of 2.\n",
    "\n",
    "Multiplying the function by 2 has the effect of stretching the entire graph vertically by a factor of 2. Every y-value is doubled.\n",
    "\n",
    "Let's look at the slope of a secant line on both graphs between `x=1` and `x=2`.\n",
    "* **For $f(x) = x^2$:**\n",
    "    * The run is $\\Delta x = 2 - 1 = 1$.\n",
    "    * The rise is $\\Delta y = f(2) - f(1) = 4 - 1 = 3$.\n",
    "    * The slope is $\\frac{\\Delta y}{\\Delta x} = \\frac{3}{1} = 3$.  \n",
    "` `\n",
    "* **For $g(x) = 2x^2$:**\n",
    "    * The run is still $\\Delta x = 1$.\n",
    "    * The rise is now $\\Delta y = g(2) - g(1) = 8 - 2 = 6$. Notice the rise is exactly doubled.\n",
    "    * The slope is $\\frac{\\Delta y}{\\Delta x} = \\frac{6}{1} = 6$.\n",
    "\n",
    "Because we only stretched the graph vertically, the \"rise\" of any secant line is multiplied by our constant `c`, while the \"run\" stays the same. Therefore, the slope of the secant line is also multiplied by `c`.\n",
    "\n",
    "As we take the limit and these secant lines become tangent lines, the same relationship holds. The slope of the tangent for the scaled function will be `c` times the slope of the tangent for the original function.\n",
    "\n",
    "![](./images/25.png)"
   ]
  }
 ],
 "metadata": {
  "kernelspec": {
   "display_name": "Python 3 (ipykernel)",
   "language": "python",
   "name": "python3"
  },
  "language_info": {
   "codemirror_mode": {
    "name": "ipython",
    "version": 3
   },
   "file_extension": ".py",
   "mimetype": "text/x-python",
   "name": "python",
   "nbconvert_exporter": "python",
   "pygments_lexer": "ipython3",
   "version": "3.13.5"
  }
 },
 "nbformat": 4,
 "nbformat_minor": 5
}
