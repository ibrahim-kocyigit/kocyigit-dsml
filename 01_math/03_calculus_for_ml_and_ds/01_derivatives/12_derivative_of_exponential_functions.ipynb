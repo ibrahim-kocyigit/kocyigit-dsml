{
 "cells": [
  {
   "cell_type": "markdown",
   "id": "8fbd715c-9ec8-46f6-962e-0a09bff47a09",
   "metadata": {},
   "source": [
    "# The Derivative of eˣ"
   ]
  },
  {
   "cell_type": "markdown",
   "id": "87574ba0-6e5c-4551-88dc-f54039654594",
   "metadata": {},
   "source": [
    "In the previous lesson, we learned about the exponential function, $f(x) = e^x$. This function has a unique and powerful property that makes it fundamental to mathematics and science: **it is its own derivative**.\n",
    "\n",
    "This means that at any point on the graph of $y = e^x$, the **value** of the function is exactly equal to the **slope of the tangent line** at that same point. As the function's value grows, its rate of growth increases by the exact same amount.\n",
    "\n",
    "Let's verify this numerically.\n",
    "\n",
    "---\n",
    "## A Numerical Example: Finding the Slope at x = 2\n",
    "\n",
    "We will find the derivative (the slope of the tangent line) for the function $f(x) = e^x$ at the specific point **x = 2**. At this point, the value of the function is $y = e^2 \\approx 7.39$.\n",
    "\n",
    "We will calculate the slope of the secant line over shrinking intervals (`Δx`) to see if the slope converges to `7.39`.\n",
    "\n",
    "* **For Δx = 1.0:**\n",
    "    * Interval is `[2, 3]`. $\\Delta y = e^3 - e^2 \\approx 20.09 - 7.39 = 12.7$\n",
    "    * **Slope** = $12.7 / 1.0 = 12.7$\n",
    "* **For Δx = 0.5:**\n",
    "    * Interval is `[2, 2.5]`. $\\Delta y = e^{2.5} - e^2 \\approx 12.18 - 7.39 = 4.79$\n",
    "    * **Slope** = $4.79 / 0.5 = 9.58$\n",
    "* **For Δx = 0.25:**\n",
    "    * Interval is `[2, 2.25]`. $\\Delta y = e^{2.25} - e^2 \\approx 9.49 - 7.39 = 2.1$\n",
    "    * **Slope** = $2.1 / 0.25 = 8.4$\n",
    "\n",
    "As we continue to make the interval smaller, the slope gets closer and closer to **7.39**.\n",
    "* `Δx = 0.001` ➔ **Slope ≈ 7.39**\n",
    "\n",
    "This numerically confirms that the slope of the tangent line at `x=2` is indeed $e^2$.\n",
    "\n",
    "![](./images/19.png)\n",
    "\n",
    "---\n",
    "## The Formal Rule\n",
    "\n",
    "This remarkable property holds true for any point `x`. The tangent at the point $(x, e^x)$ always has a slope of $e^x$.\n",
    "\n",
    "> **Rule:** The derivative of $f(x) = e^x$ is **$f'(x) = e^x$**.\n",
    "> > \n",
    "> $ \\frac{d}{dx}(e^x) = e^x $"
   ]
  }
 ],
 "metadata": {
  "kernelspec": {
   "display_name": "Python 3 (ipykernel)",
   "language": "python",
   "name": "python3"
  },
  "language_info": {
   "codemirror_mode": {
    "name": "ipython",
    "version": 3
   },
   "file_extension": ".py",
   "mimetype": "text/x-python",
   "name": "python",
   "nbconvert_exporter": "python",
   "pygments_lexer": "ipython3",
   "version": "3.13.5"
  }
 },
 "nbformat": 4,
 "nbformat_minor": 5
}
