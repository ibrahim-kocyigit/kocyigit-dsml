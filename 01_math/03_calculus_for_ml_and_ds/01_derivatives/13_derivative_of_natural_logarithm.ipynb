{
 "cells": [
  {
   "cell_type": "markdown",
   "id": "40e9f763-37e4-4d15-b815-79be9be231c4",
   "metadata": {},
   "source": [
    "# The Derivative of the Natural Logarithm"
   ]
  },
  {
   "cell_type": "markdown",
   "id": "8f024b7e-e9ff-4c34-9168-883905817cc7",
   "metadata": {},
   "source": [
    "In the previous lesson, we learned about the special property of the function $f(x) = e^x$: it is its own derivative. In this lesson, we will use that fact, along with the rule for the derivative of an inverse function, to find the derivative of the **natural logarithm**.\n",
    "\n",
    "### What is the Natural Logarithm?\n",
    "\n",
    "The natural logarithm, written as **$\\ln(x)$** is the **inverse function** of $e^x$.\n",
    "\n",
    "It answers the question: \"To what power must we raise *e* to get the number *x*?\"\n",
    "* If $e^a = b$, then $\\ln(b) = a$.\n",
    "\n",
    "This means that the logarithm \"undoes\" the exponential, and vice-versa:\n",
    "* $\\ln(e^x) = x$  \n",
    "\n",
    "* $e^{\\ln(x)} = x$\n",
    "\n",
    "Geometrically, the graphs of $y=e^x$ and $y=\\ln(x)$ are reflections of each other across the line $y=x$.\n",
    "\n",
    "![](./images/20.png)\n",
    "\n",
    "---\n",
    "\n",
    "## Finding the Derivative of ln(x)\n",
    "\n",
    "We will use the rule for the derivative of an inverse function:\n",
    "$$ (f^{-1})'(y) = \\frac{1}{f'(x)} $$\n",
    "Where $y = f(x)$.\n",
    "\n",
    "Let's use our functions:\n",
    "* $f(x) = e^x$  \n",
    "\n",
    "* $f^{-1}(y) = \\ln(y)$  \n",
    "\n",
    "* We know that the derivative of our original function is $f'(x) = e^x$.\n",
    "\n",
    "Plugging these in, we get:\n",
    "$$ (\\ln)'(y) = \\frac{1}{e^x} $$\n",
    "\n",
    "This doesn't look very helpful yet, because the right side is in terms of `x` and the left side is in terms of `y`. But we know the relationship between them: $y = e^x$.\n",
    "\n",
    "So, we can substitute `y` for `e^x` in the denominator:\n",
    "$$ (\\ln)'(y) = \\frac{1}{y} $$\n",
    "\n",
    "This is our result! The derivative of the natural logarithm of a number `y` is simply `1/y`.\n",
    "\n",
    "--- \n",
    "## A Concrete Example at x=2\n",
    "* **On the $e^x$ graph:**\n",
    "    * At the point $x=2$, the y-value is $y = e^2 \\approx 7.39$.\n",
    "    * The slope of the tangent at this point is also $f'(2) = e^2 \\approx 7.39$.\n",
    "* **On the $\\ln(y)$ graph:**\n",
    "    * The corresponding point is $(e^2, 2)$ or `(7.39, 2)`.\n",
    "    * The slope of the tangent at this point must be the reciprocal of the other slope:\n",
    "    $$ (\\ln)'(e^2) = \\frac{1}{f'(2)} = \\frac{1}{e^2} \\approx \\frac{1}{7.39} $$\n",
    "    This matches our formula, since the derivative is $1/y$, and at this point, $y=e^2$.\n",
    "\n",
    "> **Rule:** The derivative of $f(x) = \\ln(x)$ is **$f'(x) = \\frac{1}{x}$**.\n",
    "> > \n",
    "> $ \\frac{d}{dx}(\\ln x) = \\frac{1}{x} $\n",
    "\n",
    "![](./images/21.png)"
   ]
  }
 ],
 "metadata": {
  "kernelspec": {
   "display_name": "Python 3 (ipykernel)",
   "language": "python",
   "name": "python3"
  },
  "language_info": {
   "codemirror_mode": {
    "name": "ipython",
    "version": 3
   },
   "file_extension": ".py",
   "mimetype": "text/x-python",
   "name": "python",
   "nbconvert_exporter": "python",
   "pygments_lexer": "ipython3",
   "version": "3.13.5"
  }
 },
 "nbformat": 4,
 "nbformat_minor": 5
}
