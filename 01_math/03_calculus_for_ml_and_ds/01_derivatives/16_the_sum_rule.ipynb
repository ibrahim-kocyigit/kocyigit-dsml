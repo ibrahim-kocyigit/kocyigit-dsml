{
 "cells": [
  {
   "cell_type": "markdown",
   "id": "7f339396-dc17-4465-8308-bb26774a85c9",
   "metadata": {},
   "source": [
    "# Properties of the Derivative: The Sum Rule"
   ]
  },
  {
   "cell_type": "markdown",
   "id": "8d7e983e-bf60-4c5e-9fd5-57308599c124",
   "metadata": {},
   "source": [
    "Now that we know the scalar multiplication rule, the **sum rule** is just as simple and intuitive.\n",
    "\n",
    "> **Rule:** The derivative of a sum of two functions is the sum of their individual derivatives.\n",
    "> $$ \\frac{d}{dx}[f(x) + g(x)] = f'(x) + g'(x) $$\n",
    "\n",
    "---\n",
    "## The Geometric Intuition: The Boat Analogy\n",
    "\n",
    "Imagine a child running on the deck of a moving boat. The child's total movement with respect to the earth is the sum of the boat's movement and the child's own movement on the boat.\n",
    "\n",
    "$$ \\text{Distance}_{\\text{total}} = \\text{Distance}_{\\text{boat}} + \\text{Distance}_{\\text{child}} $$\n",
    "\n",
    "The sum rule tells us that the same logic applies to their velocities (their rates of change, or derivatives). The child's total velocity with respect to the earth is the sum of the boat's velocity and the child's velocity on the boat.\n",
    "\n",
    "$$ \\text{Velocity}_{\\text{total}} = \\text{Velocity}_{\\text{boat}} + \\text{Velocity}_{\\text{child}} $$\n",
    "\n",
    "If we plot the distance functions over time, the slope of the tangent line for the total distance will be the sum of the slopes of the other two tangent lines at any given point.\n",
    "\n",
    "![](./images/26.png)\n",
    "\n",
    "![](./images/27.png)\n",
    "\n",
    "---\n",
    "\n",
    "## Algebraic Intuition\n",
    "\n",
    "We can see why this works by looking at the limit definition of the derivative. If $f(x) = g(x) + h(x)$, then the change in `f` is:\n",
    "$$ \\Delta f = f(x+\\Delta x) - f(x) $$\n",
    "$$ = (g(x+\\Delta x) + h(x+\\Delta x)) - (g(x) + h(x)) $$\n",
    "Rearranging the terms:\n",
    "$$ = (g(x+\\Delta x) - g(x)) + (h(x+\\Delta x) - h(x)) $$\n",
    "$$ = \\Delta g + \\Delta h $$\n",
    "\n",
    "Now, we divide everything by `Δx`:\n",
    "$$ \\frac{\\Delta f}{\\Delta x} = \\frac{\\Delta g}{\\Delta x} + \\frac{\\Delta h}{\\Delta x} $$\n",
    "\n",
    "When we take the limit as `Δx` approaches zero, this equation becomes:\n",
    "$$ f'(x) = g'(x) + h'(x) $$\n",
    "This confirms that the derivative of the sum is the sum of the derivatives."
   ]
  }
 ],
 "metadata": {
  "kernelspec": {
   "display_name": "Python 3 (ipykernel)",
   "language": "python",
   "name": "python3"
  },
  "language_info": {
   "codemirror_mode": {
    "name": "ipython",
    "version": 3
   },
   "file_extension": ".py",
   "mimetype": "text/x-python",
   "name": "python",
   "nbconvert_exporter": "python",
   "pygments_lexer": "ipython3",
   "version": "3.13.5"
  }
 },
 "nbformat": 4,
 "nbformat_minor": 5
}
