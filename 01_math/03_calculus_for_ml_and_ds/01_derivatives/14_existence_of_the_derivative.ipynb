{
 "cells": [
  {
   "cell_type": "markdown",
   "id": "f131c919-e409-4af1-b59c-f20471706a93",
   "metadata": {},
   "source": [
    "# Existence of the Derivative"
   ]
  },
  {
   "cell_type": "markdown",
   "id": "4312f758-8721-4dd1-bbf6-fabecfb165c3",
   "metadata": {},
   "source": [
    "In the previous lessons, we learned how to find the derivatives of several common functions. However, it's not always possible to find the derivative of a function at every single point. Functions where the derivative does not exist at certain points are called **non-differentiable** at those points.\n",
    "\n",
    "Recall that the derivative at a point is the slope of the tangent line at that point. Therefore, a function is differentiable at a point if we can draw a **single, unique tangent line** at that point.\n",
    "\n",
    "Let's explore the three common scenarios where this is not possible.\n",
    "\n",
    "---\n",
    "## 1. Corners or Cusps\n",
    "\n",
    "A function is not differentiable at any point where its graph has a sharp corner or \"cusp.\" The classic example is the **absolute value function**, $f(x) = |x|$.\n",
    "\n",
    "The graph of $f(x) = |x|$ has a sharp corner at the origin (`x=0`). If you try to draw a tangent line at this point, it's not well-defined. An infinite number of lines could touch that single point, so there is no unique slope. Therefore, the derivative does not exist at `x=0`.\n",
    "\n",
    "![](./images/22.png)\n",
    "\n",
    "---\n",
    "## 2. Discontinuities\n",
    "\n",
    "A function must be **continuous** at a point to be differentiable there. If a function has a \"jump\" or a break (a discontinuity), you cannot define a single tangent line at that point.\n",
    "\n",
    "If you have to lift your pencil to draw the graph, the function is not differentiable at the point where you lifted it.\n",
    "\n",
    "![](./images/23.png)\n",
    "\n",
    "---\n",
    "\n",
    "## 3. Vertical Tangents\n",
    "\n",
    "The third case is when the tangent line at a point is perfectly **vertical**.\n",
    "\n",
    "A vertical line has an **undefined** slope (its \"run\" is zero, leading to division by zero). Since the derivative is the slope of the tangent line, the derivative is also undefined at that point. An example of this is the function $f(x) = x^{1/3}$ (the cube root of x).\n",
    "\n",
    "![](./images/24.png)"
   ]
  }
 ],
 "metadata": {
  "kernelspec": {
   "display_name": "Python 3 (ipykernel)",
   "language": "python",
   "name": "python3"
  },
  "language_info": {
   "codemirror_mode": {
    "name": "ipython",
    "version": 3
   },
   "file_extension": ".py",
   "mimetype": "text/x-python",
   "name": "python",
   "nbconvert_exporter": "python",
   "pygments_lexer": "ipython3",
   "version": "3.13.5"
  }
 },
 "nbformat": 4,
 "nbformat_minor": 5
}
