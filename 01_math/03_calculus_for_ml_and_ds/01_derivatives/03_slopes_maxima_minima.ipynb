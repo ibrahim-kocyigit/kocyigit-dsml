{
 "cells": [
  {
   "cell_type": "markdown",
   "id": "e05768ee-0696-47bd-9561-cad025183f81",
   "metadata": {},
   "source": [
    "# Slopes, Maxima, and Minima"
   ]
  },
  {
   "cell_type": "markdown",
   "id": "65407a5c-3f09-482f-918a-bf05993c1560",
   "metadata": {},
   "source": [
    "Now that we know what a derivative is, let's explore one of its most powerful properties: helping us find the peaks and valleys of a function.\n",
    "\n",
    "Let's revisit our car example. Imagine we have data for the interval between 19 and 20 seconds:\n",
    "* **Distance at 19s:** 265 meters\n",
    "* **Distance at 20s:** 265 meters\n",
    "\n",
    "Since the distance did not change, the average velocity must be zero. Let's confirm this by calculating the slope of the secant line between these two points.\n",
    "\n",
    "* **Change in distance (Rise):** $265 - 265 = 0$ meters\n",
    "* **Change in time (Run):** $20 - 19 = 1$ second\n",
    "* **Slope (Average Velocity):** $\\frac{0 \\text{ m}}{1 \\text{ s}} = 0 \\text{ m/s}$\n",
    "\n",
    "A slope of zero corresponds to a **horizontal line**.\n",
    "\n",
    "![](./images/04.png)\n",
    "\n",
    "---\n",
    "\n",
    "## Maxima and Minima\n",
    "\n",
    "The fact that a zero slope corresponds to a horizontal tangent line is incredibly important. Consider a more complex trajectory where a car moves forward, stops, moves backward, etc.\n",
    "\n",
    "At every point where the car stops (its velocity is zero), the tangent line to the distance-time graph must be horizontal. These are the \"turning points\" of the graph.\n",
    "\n",
    "![](./images/05.png)\n",
    "\n",
    "Notice something interesting: the point where the car was **farthest** from its starting point (t=10, the **maximum** distance) is also a point where the tangent line is horizontal. Similarly, local minimums also occur where the tangent is horizontal.\n",
    "\n",
    "This gives us a fundamental rule of calculus:\n",
    "\n",
    "> To find the maximum or minimum value of a function, you must look for the points where its **derivative is equal to zero**."
   ]
  }
 ],
 "metadata": {
  "kernelspec": {
   "display_name": "Python 3 (ipykernel)",
   "language": "python",
   "name": "python3"
  },
  "language_info": {
   "codemirror_mode": {
    "name": "ipython",
    "version": 3
   },
   "file_extension": ".py",
   "mimetype": "text/x-python",
   "name": "python",
   "nbconvert_exporter": "python",
   "pygments_lexer": "ipython3",
   "version": "3.13.5"
  }
 },
 "nbformat": 4,
 "nbformat_minor": 5
}
