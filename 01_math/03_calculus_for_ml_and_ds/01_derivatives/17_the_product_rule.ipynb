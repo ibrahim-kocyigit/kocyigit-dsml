{
 "cells": [
  {
   "cell_type": "markdown",
   "id": "dda5a6b6-265a-4d60-847d-5c78f7640abe",
   "metadata": {},
   "source": [
    "# Properties of the Derivative: The Product Rule"
   ]
  },
  {
   "cell_type": "markdown",
   "id": "51a48175-efbf-4524-939c-db8d4e5b7c19",
   "metadata": {},
   "source": [
    "Now that we've learned the sum rule, we're ready for the **product rule**. It's a bit more complex, but follows a similar logic of breaking a problem down into parts.\n",
    "\n",
    "If we have a function `f(x)` that is the product of two other functions, `g(x)` and `h(x)`, how do we find its derivative?\n",
    "\n",
    "> **The Product Rule:**\n",
    "> $$ f'(x) = g(x) \\cdot h'(x) + g'(x) \\cdot h(x) $$\n",
    "\n",
    "In words: the derivative of a product is the **first function times the derivative of the second, plus the second function times the derivative of the first.**\n",
    "\n",
    "---\n",
    "## The Geometric Intuition: The Growing House\n",
    "\n",
    "A great way to understand the product rule is to think about the area of a growing rectangular house.\n",
    "\n",
    "* Let `g(t)` be the length of the side wall at time `t`.\n",
    "* Let `h(t)` be the length of the front wall at time `t`.\n",
    "* The total area of the house is `f(t) = g(t) · h(t)`.\n",
    "\n",
    "We want to find `f'(t)`, which is the **rate of change of the area**.\n",
    "\n",
    "Over a small time interval `Δt`, the walls grow by small amounts, `Δg` and `Δh`. The total change in area, `Δf`, is the sum of the three new blue rectangles shown in the diagram below.\n",
    "\n",
    "![](./images/28.png)\n",
    "\n",
    "---\n",
    "## Algebraic Intuition\n",
    "\n",
    "The total change in area (`Δf`) is the sum of the three new rectangles:\n",
    "$$ \\Delta f = (g \\cdot \\Delta h) + (\\Delta g \\cdot h) + (\\Delta g \\cdot \\Delta h) $$\n",
    "\n",
    "To find the rate of change, we divide everything by `Δt`:\n",
    "$$ \\frac{\\Delta f}{\\Delta t} = \\frac{\\Delta g}{\\Delta t} \\cdot h + g \\cdot \\frac{\\Delta h}{\\Delta t} + \\frac{\\Delta g \\cdot \\Delta h}{\\Delta t} $$\n",
    "\n",
    "Now, we take the limit as `Δt` approaches zero.\n",
    "* $\\frac{\\Delta f}{\\Delta t}$ becomes the derivative, $f'(t)$.  \n",
    "\n",
    "* $\\frac{\\Delta g}{\\Delta t}$ becomes $g'(t)$.  \n",
    "\n",
    "* $\\frac{\\Delta h}{\\Delta t}$ becomes $h'(t)$.\n",
    "\n",
    "What about the last term, $\\frac{\\Delta g \\cdot \\Delta h}{\\Delta t}$? As `Δt` goes to zero, both `Δg` and `Δh` also go to zero. This makes the term a product of two infinitesimally small numbers, so it becomes zero and drops out.\n",
    "\n",
    "This leaves us with the final product rule:\n",
    "$$ f'(t) = g'(t) \\cdot h(t) + g(t) \\cdot h'(t) $$"
   ]
  }
 ],
 "metadata": {
  "kernelspec": {
   "display_name": "Python 3 (ipykernel)",
   "language": "python",
   "name": "python3"
  },
  "language_info": {
   "codemirror_mode": {
    "name": "ipython",
    "version": 3
   },
   "file_extension": ".py",
   "mimetype": "text/x-python",
   "name": "python",
   "nbconvert_exporter": "python",
   "pygments_lexer": "ipython3",
   "version": "3.13.5"
  }
 },
 "nbformat": 4,
 "nbformat_minor": 5
}
