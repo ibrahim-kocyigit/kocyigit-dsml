{
 "cells": [
  {
   "cell_type": "markdown",
   "id": "dec5965e-91bd-4593-b5b5-5bb0ce7f28cf",
   "metadata": {},
   "source": [
    "# The Meaning of the Exponential (e)"
   ]
  },
  {
   "cell_type": "markdown",
   "id": "4600eabd-9647-43a8-97a4-22beb9013ef4",
   "metadata": {},
   "source": [
    "In this lesson, we will explore a very special function, the **exponential function**, which is built upon one of the most important numbers in mathematics: **Euler's number, *e***.\n",
    "\n",
    "The number *e* is an irrational number, approximately equal to **2.71828...**. It can be defined in several ways, but one of the most intuitive is as the limit of an expression:\n",
    "$$ e = \\lim_{n \\to \\infty} \\left(1 + \\frac{1}{n}\\right)^n $$\n",
    "\n",
    "As the value of `n` gets larger, the result of the expression gets closer and closer to *e*:\n",
    "* **n = 1:** $(1 + 1/1)^1 = 2.0$\n",
    "* **n = 10:** $(1 + 1/10)^{10} \\approx 2.594$\n",
    "* **n = 100:** $(1 + 1/100)^{100} \\approx 2.705$\n",
    "* **n = 1,000:** $(1 + 1/1000)^{1000} \\approx 2.717$\n",
    "\n",
    "To understand what this limit truly represents, let's explore a practical example involving interest rates.\n",
    "\n",
    "---\n",
    "## The Best Bank Problem: Simple vs. Compounding Interest\n",
    "\n",
    "Imagine you have 1 dollar to invest for one year, and you are comparing different banks that all offer a \"100% annual\" interest rate, but they apply it differently.\n",
    "\n",
    "* **Bank 1:** Gives you 100% interest once at the end of the year.\n",
    "    * You end up with: `$1 \\times (1 + 1) = $2.00`  \n",
    "` `\n",
    "* **Bank 2:** Gives you 50% interest twice a year (every 6 months).\n",
    "    * After 6 months: `$1 \\times (1 + 0.5) = $1.50`\n",
    "    * After 12 months: `$1.50 \\times (1 + 0.5) = $2.25`\n",
    "    * This is equivalent to: `$1 \\times (1 + 1/2)^2 = $2.25`. You earn interest on your interest. This is called **compounding**.  \n",
    "` `\n",
    "* **Bank 3:** Gives you 33.3% (1/3rd) interest three times a year.\n",
    "    * Total at the end of the year: `$1 \\times (1 + 1/3)^3 \\approx $2.37`  \n",
    "` `\n",
    "* **Bank 12:** Gives you 1/12th of the interest every month.\n",
    "    * Total at the end of the year: `$1 \\times (1 + 1/12)^{12} \\approx $2.61`  \n",
    "` `\n",
    "* **Bank 365:** Gives you 1/365th of the interest every day.\n",
    "    * Total at the end of the year: `$1 \\times (1 + 1/365)^{365} \\approx $2.7145`  \n",
    "\n",
    "The more frequently you compound the interest, the more money you make.\n",
    "\n",
    "![](./images/18.png)\n",
    "\n",
    "What is the absolute maximum amount of money you can make? This would happen at \"Bank Infinity,\" where the interest is compounded **continuously**—an infinite number of times per year.\n",
    "\n",
    "The formula for this is the limit we saw before:\n",
    "$$ \\lim_{n \\to \\infty} \\left(1 + \\frac{1}{n}\\right)^n = e $$\n",
    "\n",
    "So, **e** represents the maximum possible growth from a process that grows at a continuous rate of 100%. If you start with 1 dollar and earn 100% interest compounded continuously for one year, you will end up with exactly *e* dollars, approximately $2.718."
   ]
  }
 ],
 "metadata": {
  "kernelspec": {
   "display_name": "Python 3 (ipykernel)",
   "language": "python",
   "name": "python3"
  },
  "language_info": {
   "codemirror_mode": {
    "name": "ipython",
    "version": 3
   },
   "file_extension": ".py",
   "mimetype": "text/x-python",
   "name": "python",
   "nbconvert_exporter": "python",
   "pygments_lexer": "ipython3",
   "version": "3.13.5"
  }
 },
 "nbformat": 4,
 "nbformat_minor": 5
}
