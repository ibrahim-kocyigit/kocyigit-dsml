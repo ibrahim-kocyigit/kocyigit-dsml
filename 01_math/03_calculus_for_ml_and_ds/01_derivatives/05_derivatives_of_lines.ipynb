{
 "cells": [
  {
   "cell_type": "markdown",
   "id": "05e875f5-3ec6-4045-b382-c73109415f49",
   "metadata": {},
   "source": [
    "# Some Common Derivatives - Lines"
   ]
  },
  {
   "cell_type": "markdown",
   "id": "b1953b3d-02f3-43c1-b768-687dc12d4d9c",
   "metadata": {},
   "source": [
    "Our goal is to be able to calculate the derivatives of the most common functions. The simplest functions to start with are lines.\n",
    "\n",
    "### Case 1: The Constant Function (Horizontal Line)\n",
    "\n",
    "A constant function is a horizontal line with the equation $f(x) = c$, where `c` is some constant.\n",
    "\n",
    "The derivative of a function at a point is the slope of the tangent line at that point. For a horizontal line, the tangent line at any point is the line itself. The slope of a horizontal line is always **zero**.\n",
    "\n",
    "We can see this from the slope formula, $\\frac{\\Delta y}{\\Delta x}$. Since the y-value is always `c`, the change in y ($\\Delta y$) is always $c - c = 0$. Therefore, the slope is always 0.\n",
    "\n",
    "> **Rule:** The derivative of a constant function is always **0**.\n",
    "> \n",
    "> $ \\frac{d}{dx}(c) = 0 $\n",
    "\n",
    "![](./images/06.png)\n",
    "\n",
    "---\n",
    "\n",
    "### Case 2: The General Linear Function\n",
    "\n",
    "Now let's consider any line that is not horizontal. Its equation is $f(x) = ax + b$, where `a` is the slope and `b` is the y-intercept.\n",
    "\n",
    "Just like with the constant function, the tangent line to a straight line at any point is the line itself. Therefore, the slope of the tangent line is always the slope of the original line, which is `a`.\n",
    "\n",
    "> **Rule:** The derivative of a linear function $ax+b$ is its slope, **a**.\n",
    "> > \n",
    "> $ \\frac{d}{dx}(ax+b) = a $\n",
    "\n",
    "We can prove this algebraically. Let's find the slope between two points on the line: `x` and `x + Δx`.\n",
    "\n",
    "* **Point 1:** $(x, ax+b)$\n",
    "* **Point 2:** $(x+\\Delta x, a(x+\\Delta x)+b)$\n",
    "\n",
    "$$ \\text{Slope} = \\frac{\\Delta y}{\\Delta x} = \\frac{(a(x+\\Delta x)+b) - (ax+b)}{\\Delta x} $$\n",
    "$$ = \\frac{ax + a\\Delta x + b - ax - b}{\\Delta x} = \\frac{a\\Delta x}{\\Delta x} = a $$\n",
    "Since the slope is always `a` no matter how small `Δx` is, the derivative is `a`.\n",
    "\n",
    "![](./images/07.png)"
   ]
  }
 ],
 "metadata": {
  "kernelspec": {
   "display_name": "Python 3 (ipykernel)",
   "language": "python",
   "name": "python3"
  },
  "language_info": {
   "codemirror_mode": {
    "name": "ipython",
    "version": 3
   },
   "file_extension": ".py",
   "mimetype": "text/x-python",
   "name": "python",
   "nbconvert_exporter": "python",
   "pygments_lexer": "ipython3",
   "version": "3.13.5"
  }
 },
 "nbformat": 4,
 "nbformat_minor": 5
}
