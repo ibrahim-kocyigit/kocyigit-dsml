{
 "cells": [
  {
   "cell_type": "markdown",
   "id": "70214349-de73-4382-b72d-331ef8f8b923",
   "metadata": {},
   "source": [
    "# Some Common Derivatives - Higher Degree Polynomials"
   ]
  },
  {
   "cell_type": "markdown",
   "id": "e09bd702-533a-4d8b-8ae7-7ff15b40942d",
   "metadata": {},
   "source": [
    "Now that we've found the derivatives for lines and quadratics, let's move on to a cubic function. The simplest is the function $f(x) = x^3$.\n",
    "\n",
    "We will follow the exact same process as before:\n",
    "1.  First, we'll build our intuition by numerically estimating the slope of the tangent line at a specific point (`x = 0.5`) by using progressively smaller intervals.\n",
    "2.  Then, we'll use algebra to find the general formula for the derivative of $x^3$.\n",
    "\n",
    "---\n",
    "## A Numerical Example: Finding the Slope at x = 0.5\n",
    "\n",
    "Let's find the derivative for $f(x) = x^3$ at the point **x = 0.5**. At this point, $y = (0.5)^3 = 0.125$.\n",
    "\n",
    "We will calculate the slope of the secant line over shrinking intervals (`Δx`) to see where the slope converges.\n",
    "\n",
    "* **For Δx = 1.0:**\n",
    "    * Interval is `[0.5, 1.5]`. $\\Delta y = f(1.5) - f(0.5) = 3.375 - 0.125 = 3.25$\n",
    "    * **Slope** = $3.25 / 1.0 = 3.25$  \n",
    "` `\n",
    "* **For Δx = 0.5:**\n",
    "    * Interval is `[0.5, 1.0]`. $\\Delta y = f(1.0) - f(0.5) = 1.0 - 0.125 = 0.875$\n",
    "    * **Slope** = $0.875 / 0.5 = 1.75$  \n",
    "` `\n",
    "* **For Δx = 0.25:**\n",
    "    * Interval is `[0.5, 0.75]`. $\\Delta y = f(0.75) - f(0.5) \\approx 0.4218 - 0.125 = 0.2968$\n",
    "    * **Slope** = $0.2968 / 0.25 \\approx 1.187$  \n",
    "\n",
    "As we continue, the slope appears to be converging to **0.75**.\n",
    "* `Δx = 0.001` ➔ **Slope ≈ 0.752**\n",
    "\n",
    "![](./images/09.png)\n",
    "\n",
    "## The Formal Proof\n",
    "\n",
    "We can prove this result for any point `x` using the limit definition of the derivative.\n",
    "\n",
    "$$ \\text{Slope} = \\frac{\\Delta f}{\\Delta x} = \\frac{f(x+\\Delta x) - f(x)}{\\Delta x} $$\n",
    "\n",
    "Since our function is $f(x) = x^3$:\n",
    "$$ = \\frac{(x+\\Delta x)^3 - x^3}{\\Delta x} $$\n",
    "\n",
    "We expand the cubic term $(x+\\Delta x)^3$:\n",
    "$$ = \\frac{(x^3 + 3x^2\\Delta x + 3x(\\Delta x)^2 + (\\Delta x)^3) - x^3}{\\Delta x} $$\n",
    "\n",
    "The $x^3$ terms cancel out:\n",
    "$$ = \\frac{3x^2\\Delta x + 3x(\\Delta x)^2 + (\\Delta x)^3}{\\Delta x} $$\n",
    "\n",
    "We can now divide the numerator by `Δx`:\n",
    "$$ = 3x^2 + 3x\\Delta x + (\\Delta x)^2 $$\n",
    "\n",
    "Finally, we take the limit as `Δx` goes to zero. Any term with a `Δx` in it becomes zero:\n",
    "$$ \\lim_{\\Delta x \\to 0} (3x^2 + 3x\\Delta x + (\\Delta x)^2) = 3x^2 $$\n",
    "\n",
    "> **Rule (The Power Rule for x³):** The derivative of $f(x) = x^3$ is **$f'(x) = 3x^2$**.\n",
    "\n",
    "This confirms our numerical finding. At `x=0.5`, the derivative is $3(0.5)^2 = 3(0.25) = 0.75$."
   ]
  }
 ],
 "metadata": {
  "kernelspec": {
   "display_name": "Python 3 (ipykernel)",
   "language": "python",
   "name": "python3"
  },
  "language_info": {
   "codemirror_mode": {
    "name": "ipython",
    "version": 3
   },
   "file_extension": ".py",
   "mimetype": "text/x-python",
   "name": "python",
   "nbconvert_exporter": "python",
   "pygments_lexer": "ipython3",
   "version": "3.13.5"
  }
 },
 "nbformat": 4,
 "nbformat_minor": 5
}
