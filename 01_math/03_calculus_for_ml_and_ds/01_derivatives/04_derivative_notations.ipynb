{
 "cells": [
  {
   "cell_type": "markdown",
   "id": "0f41b3a9-571a-48ba-87b7-ff7c939c588b",
   "metadata": {},
   "source": [
    "# Derivatives and Their Notation"
   ]
  },
  {
   "cell_type": "markdown",
   "id": "8cda7df3-c449-48ac-940b-46e7d8d431ab",
   "metadata": {},
   "source": [
    "Like any language, mathematics has its own grammar and notation for expressing concepts. In this lesson, we'll learn the two primary ways to write the derivative.\n",
    "\n",
    "Recall that we calculated the slope of a **secant line** (the average rate of change) over an interval as:\n",
    "$$ \\text{Slope} = \\frac{\\Delta y}{\\Delta x} = \\frac{\\text{change in y}}{\\text{change in x}} $$\n",
    "\n",
    "To find the slope of the **tangent line** at a single point (the derivative), we took the limit as this interval became infinitesimally small. This is the foundation for the first and most descriptive notation for the derivative.\n",
    "\n",
    "![](./images/0401.png)\n"
   ]
  },
  {
   "cell_type": "markdown",
   "id": "fbbc3dc8-8f12-4936-9413-d34e194ca85a",
   "metadata": {},
   "source": [
    "---\n",
    "\n",
    "## The Two Main Notations\n",
    "\n",
    "Let's say we have a function $y = f(x)$. There are two common ways to write its derivative.\n",
    "\n",
    "### 1. Leibniz's Notation\n",
    "This notation is the most descriptive. It writes the derivative as:\n",
    "$$ \\frac{dy}{dx} $$\n",
    "You can read this as \"the derivative of y with respect to x.\" The `d` represents an infinitesimally small change (a \"delta\"), making it a direct evolution from the secant slope formula $\\frac{\\Delta y}{\\Delta x}$.\n",
    "\n",
    "Sometimes, you will see it written as an operator acting on the function:\n",
    "$$ \\frac{d}{dx}f(x) $$\n",
    "This is read as \"the derivative with respect to x of the function f(x).\"\n",
    "\n",
    "### 2. Lagrange's Notation\n",
    "This notation is simpler and more compact. It uses a prime symbol (`'`) to denote the derivative.\n",
    "$$ f'(x) $$\n",
    "This is read as \"f prime of x\" and it means \"the derivative of the function f at the point x.\"\n",
    "\n",
    "Both notations mean the exact same thing. We will use them interchangeably in this course, typically choosing the one that is most convenient for the context."
   ]
  }
 ],
 "metadata": {
  "kernelspec": {
   "display_name": "Python 3 (ipykernel)",
   "language": "python",
   "name": "python3"
  },
  "language_info": {
   "codemirror_mode": {
    "name": "ipython",
    "version": 3
   },
   "file_extension": ".py",
   "mimetype": "text/x-python",
   "name": "python",
   "nbconvert_exporter": "python",
   "pygments_lexer": "ipython3",
   "version": "3.13.5"
  }
 },
 "nbformat": 4,
 "nbformat_minor": 5
}
