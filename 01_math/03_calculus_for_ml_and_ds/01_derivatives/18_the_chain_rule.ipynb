{
 "cells": [
  {
   "cell_type": "markdown",
   "id": "5ba017e5-0f25-46b4-983b-c0f9eda9b8c2",
   "metadata": {},
   "source": [
    "# Properties of the Derivative: The Chain Rule"
   ]
  },
  {
   "cell_type": "markdown",
   "id": "99de167c-7bce-4626-88cd-b78d2e6e58b9",
   "metadata": {},
   "source": [
    "Now that we know the sum and scalar rules, we are ready for the **chain rule**. It is the rule for finding the derivative of a **composition of functions**—when one function is applied to the output of another.\n",
    "\n",
    "Let's say we have a function `h(t)`, and we apply another function `g` to its output, creating the composite function `g(h(t))`. The chain rule tells us how to find the derivative of this composition.\n",
    "\n",
    "### Leibniz's Notation (The Intuitive Way)\n",
    "This notation makes the rule look like simple fraction cancellation. If we have a variable `g` that depends on `h`, and `h` depends on `t`, then the rate of change of `g` with respect to `t` is:\n",
    "$$ \\frac{dg}{dt} = \\frac{dg}{dh} \\cdot \\frac{dh}{dt} $$\n",
    "\n",
    "### Lagrange's Notation (The Tricky Way)\n",
    "In Lagrange's notation, it's important to remember *what* we plug into each function's derivative.\n",
    "$$ (g(h(t)))' = g'(h(t)) \\cdot h'(t) $$\n",
    "The derivative of the \"outside\" function (`g'`) is evaluated at the value of the \"inside\" function (`h(t)`), and then multiplied by the derivative of the \"inside\" function (`h'`).\n",
    "\n",
    "---\n",
    "## An Analogy: Driving Up a Mountain\n",
    "\n",
    "Imagine you are driving up a mountain.\n",
    "* `t` = time\n",
    "* `h` = height (altitude)\n",
    "* `T` = temperature\n",
    "\n",
    "As you drive, two things are happening simultaneously:\n",
    "1.  Your height is changing with respect to time. The rate of this change is a derivative: **`dh/dt`** (your vertical speed).\n",
    "2.  The temperature is changing with respect to your height (it gets colder as you go up). The rate of this change is **`dT/dh`**.\n",
    "\n",
    "The question is: how fast is the temperature changing with respect to **time**? This is `dT/dt`.\n",
    "\n",
    "The chain rule tells us that these rates are linked: the rate of change of temperature with respect to time is the product of the other two rates.\n",
    "$$ \\frac{dT}{dt} = \\frac{dT}{dh} \\cdot \\frac{dh}{dt} $$\n",
    "\n",
    "---\n",
    "\n",
    "## Visualizing the Chain Rule\n",
    "\n",
    "We can visualize this relationship in 3D. A small change in time (`Δt`) causes a change in height (`Δh`), which in turn causes a change in temperature (`ΔT`).\n",
    "\n",
    "The chain rule shows how these small changes are connected in the limit.\n",
    "\n",
    "![](./images/29.png)"
   ]
  }
 ],
 "metadata": {
  "kernelspec": {
   "display_name": "Python 3 (ipykernel)",
   "language": "python",
   "name": "python3"
  },
  "language_info": {
   "codemirror_mode": {
    "name": "ipython",
    "version": 3
   },
   "file_extension": ".py",
   "mimetype": "text/x-python",
   "name": "python",
   "nbconvert_exporter": "python",
   "pygments_lexer": "ipython3",
   "version": "3.13.5"
  }
 },
 "nbformat": 4,
 "nbformat_minor": 5
}
