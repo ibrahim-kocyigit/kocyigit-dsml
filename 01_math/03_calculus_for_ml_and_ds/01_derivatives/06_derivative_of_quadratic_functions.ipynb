{
 "cells": [
  {
   "cell_type": "markdown",
   "id": "9949ddab-dbf2-44c0-a134-4843c228216c",
   "metadata": {},
   "source": [
    "# Some Common Derivatives - Quadratics"
   ]
  },
  {
   "cell_type": "markdown",
   "id": "65adb877-50f0-4822-a802-40a0cc79ceb2",
   "metadata": {},
   "source": [
    "Now that we've mastered the derivatives of lines, let's look at a slightly more complex function: a quadratic. The simplest quadratic is the parabola with the equation $f(x) = x^2$.\n",
    "\n",
    "Unlike a straight line, the slope of a parabola is constantly changing. To the left of the y-axis, the slopes of the tangent lines are negative, and to the right, they are positive.\n",
    "\n",
    "To find the derivative, we will use the same process as before: we will calculate the slope of the secant lines over progressively smaller intervals to see what value the slope approaches in the limit.\n",
    "\n",
    "---\n",
    "## A Numerical Example: Finding the Slope at x = 1\n",
    "\n",
    "Let's find the derivative (the slope of the tangent line) for the function $f(x) = x^2$ at the specific point **x = 1**. At this point, $y = 1^2 = 1$.\n",
    "\n",
    "We will start with a large interval, `Δx = 1`, and calculate the slope of the secant line. Then we will shrink `Δx` and see where the slope converges.\n",
    "\n",
    "* **For Δx = 1:**\n",
    "    * The interval is from `x=1` to `x=2`.\n",
    "    * $\\Delta y = f(2) - f(1) = 2^2 - 1^2 = 4 - 1 = 3$\n",
    "    * **Slope** = $\\frac{\\Delta y}{\\Delta x} = \\frac{3}{1} = 3$  \n",
    "` `\n",
    "* **For Δx = 0.5:**\n",
    "    * The interval is from `x=1` to `x=1.5`.\n",
    "    * $\\Delta y = f(1.5) - f(1) = 1.5^2 - 1^2 = 2.25 - 1 = 1.25$\n",
    "    * **Slope** = $\\frac{\\Delta y}{\\Delta x} = \\frac{1.25}{0.5} = 2.5$  \n",
    "` `\n",
    "* **For Δx = 0.25:**\n",
    "    * The interval is from `x=1` to `x=1.25`.\n",
    "    * $\\Delta y = f(1.25) - f(1) = 1.25^2 - 1^2 \\approx 1.5625 - 1 = 0.5625$\n",
    "    * **Slope** = $\\frac{\\Delta y}{\\Delta x} = \\frac{0.5625}{0.25} = 2.25$  \n",
    "` `\n",
    "As we make the interval smaller and smaller, the slope seems to be approaching **2**.\n",
    "* `Δx = 0.001` ➔ **Slope = 2.001**\n",
    "\n",
    "It seems the exact slope of the tangent line at `x=1` is **2**.\n",
    "\n",
    "![](./images/08.png)\n",
    "\n",
    "---\n",
    "\n",
    "## The Formal Proof\n",
    "\n",
    "We can prove this result for any point `x` using algebra. We want to find the limit of the slope as `Δx` approaches zero.\n",
    "\n",
    "$$ \\text{Slope} = \\frac{\\Delta f}{\\Delta x} = \\frac{f(x+\\Delta x) - f(x)}{\\Delta x} $$\n",
    "\n",
    "Since our function is $f(x) = x^2$:\n",
    "$$ = \\frac{(x+\\Delta x)^2 - x^2}{\\Delta x} $$\n",
    "\n",
    "Now, we expand the squared term:\n",
    "$$ = \\frac{(x^2 + 2x\\Delta x + (\\Delta x)^2) - x^2}{\\Delta x} $$\n",
    "\n",
    "The $x^2$ terms cancel out:\n",
    "$$ = \\frac{2x\\Delta x + (\\Delta x)^2}{\\Delta x} $$\n",
    "\n",
    "We can now divide the numerator by `Δx`:\n",
    "$$ = 2x + \\Delta x $$\n",
    "\n",
    "Finally, we take the limit as `Δx` goes to zero. The term `Δx` becomes zero, and we are left with:\n",
    "$$ \\lim_{\\Delta x \\to 0} (2x + \\Delta x) = 2x $$\n",
    "\n",
    "> **Rule (The Power Rule for x²):** The derivative of $f(x) = x^2$ is **$f'(x) = 2x$**.  \n",
    "\n",
    "\n",
    "This confirms our numerical finding. At `x=1`, the derivative is $2(1) = 2$."
   ]
  }
 ],
 "metadata": {
  "kernelspec": {
   "display_name": "Python 3 (ipykernel)",
   "language": "python",
   "name": "python3"
  },
  "language_info": {
   "codemirror_mode": {
    "name": "ipython",
    "version": 3
   },
   "file_extension": ".py",
   "mimetype": "text/x-python",
   "name": "python",
   "nbconvert_exporter": "python",
   "pygments_lexer": "ipython3",
   "version": "3.13.5"
  }
 },
 "nbformat": 4,
 "nbformat_minor": 5
}
