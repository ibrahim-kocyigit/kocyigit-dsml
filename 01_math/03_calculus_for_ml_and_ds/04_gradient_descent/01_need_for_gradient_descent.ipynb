{
 "cells": [
  {
   "cell_type": "markdown",
   "id": "477de458-892f-4700-bc9c-da814f0abd7a",
   "metadata": {},
   "source": [
    "# The Need for Gradient Descent"
   ]
  },
  {
   "cell_type": "markdown",
   "id": "faa43d4d-6259-434f-9e29-ad38333bbbe4",
   "metadata": {},
   "source": [
    "So far, we've learned how to solve optimization problems by taking the derivative, setting it to zero, and solving for `x` analytically. However, this method can get very complicated, very fast.\n",
    "\n",
    "Consider the function:\n",
    "$$ f(x) = e^x - \\ln(x) $$\n",
    "\n",
    "To find its minimum, we would need to solve the equation $f'(x) = 0$:\n",
    "$$ e^x - \\frac{1}{x} = 0 \\implies e^x = \\frac{1}{x} $$\n",
    "\n",
    "Solving this equation for `x` is extremely difficult to do by hand. This is a common problem in machine learning, where our cost functions are often too complex to solve analytically.\n",
    "\n",
    "This motivates the need for an **iterative** method that can find the minimum of a function in a step-by-step way, even if we can't solve for it directly. This method is called **Gradient Descent**. Let's start with a simple, intuitive version of this iterative approach.\n",
    "\n",
    "![](./images/0101.png)"
   ]
  },
  {
   "cell_type": "markdown",
   "id": "be112ea4-234e-48c9-8ccb-90fafe4a8a34",
   "metadata": {},
   "source": [
    "---\n",
    "\n",
    "## A Simple Iterative Approach\n",
    "\n",
    "Since we can't solve for the minimum directly, let's try to find it with a simple \"guess and check\" method.\n",
    "\n",
    "1.  **Start** at a random point on the curve.\n",
    "2.  **Explore:** Take a small step to the left and a small step to the right.\n",
    "3.  **Decide:** Check the function's value at both new points. Move to the point that has the lower value (since we're minimizing).\n",
    "4.  **Repeat:** Continue this process from the new point.\n",
    "\n",
    "Eventually, we will reach a point where taking a step in either direction results in a *higher* value. At this stage, we can conclude that we are at (or very close to) a local minimum and stop.\n",
    "\n",
    "![](./images/0102.png)"
   ]
  },
  {
   "cell_type": "markdown",
   "id": "ecc12a43-ff80-411c-b6b1-1c08ad782bb9",
   "metadata": {},
   "source": [
    "This method is not bad, but it's inefficient. We have to check two directions at every step. There is a much more powerful way to know the best direction to move in, which we will explore in the next lesson."
   ]
  }
 ],
 "metadata": {
  "kernelspec": {
   "display_name": "Python 3 (ipykernel)",
   "language": "python",
   "name": "python3"
  },
  "language_info": {
   "codemirror_mode": {
    "name": "ipython",
    "version": 3
   },
   "file_extension": ".py",
   "mimetype": "text/x-python",
   "name": "python",
   "nbconvert_exporter": "python",
   "pygments_lexer": "ipython3",
   "version": "3.13.5"
  }
 },
 "nbformat": 4,
 "nbformat_minor": 5
}
