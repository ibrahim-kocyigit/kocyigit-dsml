{
 "cells": [
  {
   "cell_type": "markdown",
   "id": "e90a2e0d-971e-4a35-a23a-a85e7c571941",
   "metadata": {},
   "source": [
    "# Gradients"
   ]
  },
  {
   "cell_type": "markdown",
   "id": "78e1e1ac-80b1-4ad8-be94-21707eadc452",
   "metadata": {},
   "source": [
    "Now that you know how to calculate partial derivatives, you already know the components of the **gradient**. The gradient is simply a convenient way to condense all the partial derivatives of a function into a single **vector**.\n",
    "\n",
    "Recall our function $f(x, y) = x^2 + y^2$. We found two partial derivatives:\n",
    "* The partial derivative with respect to `x`: $\\frac{\\partial f}{\\partial x} = 2x$  \n",
    "\n",
    "* The partial derivative with respect to `y`: $\\frac{\\partial f}{\\partial y} = 2y$\n",
    "\n",
    "The gradient of `f` is the vector that contains these two partial derivatives as its components.\n",
    "\n",
    "$$ \\text{gradient of } f = \\begin{bmatrix} 2x \\\\ 2y \\end{bmatrix} $$\n",
    "\n",
    "---\n",
    "## Gradient Notation\n",
    "\n",
    "The gradient is denoted by the symbol **∇** (called \"nabla\"). The gradient of a function `f` is written as **∇f**.\n",
    "\n",
    "In general, for a function with *n* variables, $f(x_1, x_2, \\dots, x_n)$, the gradient is a vector of its *n* partial derivatives:\n",
    "$$ \\nabla f = \\begin{bmatrix} \\frac{\\partial f}{\\partial x_1} \\\\ \\frac{\\partial f}{\\partial x_2} \\\\ \\vdots \\\\ \\frac{\\partial f}{\\partial x_n} \\end{bmatrix} $$\n",
    "\n",
    "This gradient vector is a complete description of the slope of the tangent plane (or hyperplane in higher dimensions) at any given point.\n",
    "\n",
    "---\n",
    "## Exercise\n",
    "\n",
    "Find the gradient of the function $f(x, y) = x^2 + y^2$ at the point **(2, 3)**.\n",
    "\n",
    "**Solution:**\n",
    "1.  First, find the general formula for the gradient:\n",
    "    $$ \\nabla f = \\begin{bmatrix} 2x \\\\ 2y \\end{bmatrix} $$\n",
    "2.  Next, substitute the values `x=2` and `y=3` into the formula:\n",
    "    $$ \\nabla f(2, 3) = \\begin{bmatrix} 2(2) \\\\ 2(3) \\end{bmatrix} = \\begin{bmatrix} 4 \\\\ 6 \\end{bmatrix} $$\n",
    "\n",
    "The gradient of the function at the point (2, 3) is the vector **(4, 6)**."
   ]
  }
 ],
 "metadata": {
  "kernelspec": {
   "display_name": "Python 3 (ipykernel)",
   "language": "python",
   "name": "python3"
  },
  "language_info": {
   "codemirror_mode": {
    "name": "ipython",
    "version": 3
   },
   "file_extension": ".py",
   "mimetype": "text/x-python",
   "name": "python",
   "nbconvert_exporter": "python",
   "pygments_lexer": "ipython3",
   "version": "3.13.5"
  }
 },
 "nbformat": 4,
 "nbformat_minor": 5
}
