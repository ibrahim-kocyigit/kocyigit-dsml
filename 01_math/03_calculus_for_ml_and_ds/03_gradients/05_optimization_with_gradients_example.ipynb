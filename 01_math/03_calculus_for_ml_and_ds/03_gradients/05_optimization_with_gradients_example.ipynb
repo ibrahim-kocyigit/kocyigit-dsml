{
 "cells": [
  {
   "cell_type": "markdown",
   "id": "d8b3c54d-6021-4906-9ebd-421186df7f24",
   "metadata": {},
   "source": [
    "# Optimization with Gradients: An Example"
   ]
  },
  {
   "cell_type": "markdown",
   "id": "15b831fe-e76a-4500-8d58-8623b031e130",
   "metadata": {},
   "source": [
    "In the previous lesson, we saw how to find the minimum of a function in one dimension. Now, let's extend that to a more realistic, two-dimensional problem.\n",
    "\n",
    "### The 2D Sauna Problem\n",
    "Imagine you are standing in a 5x5 meter sauna. You are starting to feel hot and want to find the coolest spot in the room. The temperature is not uniform; it varies based on your `(x, y)` coordinates.\n",
    "\n",
    "The temperature in the room can be described by a 3D surface, where the height represents the temperature at each point. Our goal is to find the coordinates of the lowest point on this surface.\n",
    "\n",
    "![](./images/0501.png)\n"
   ]
  },
  {
   "cell_type": "markdown",
   "id": "b69d115a-617f-4c0e-b60f-de602f350e73",
   "metadata": {},
   "source": [
    "---\n",
    "\n",
    "## Finding the Minimum\n",
    "\n",
    "As we learned with one-variable functions, the minimum of a function occurs where its derivative is zero. For a function of two variables, this means the **tangent plane** is horizontal, which happens when **both partial derivatives are simultaneously zero**.\n",
    "\n",
    "In other words, we need to find the point `(x, y)` where the gradient is the zero vector:\n",
    "$$ \\nabla T(x, y) = \\begin{bmatrix} \\frac{\\partial T}{\\partial x} \\\\ \\frac{\\partial T}{\\partial y} \\end{bmatrix} = \\begin{bmatrix} 0 \\\\ 0 \\end{bmatrix} $$\n",
    "\n",
    "**The Temperature Function:**\n",
    "$$ T(x, y) = 85 - \\frac{1}{90}(x^3 - 6x^2)(y^3 - 6y^2) $$\n",
    "\n",
    "### Step 1: Find the Partial Derivatives\n",
    "After applying the product rule and simplifying, we get the partial derivatives:\n",
    "* $ \\frac{\\partial T}{\\partial x} = -\\frac{1}{90} (3x^2 - 12x)(y^3 - 6y^2) = -\\frac{1}{90} (3x(x-4))(y^2(y-6)) $  \n",
    "\n",
    "* $ \\frac{\\partial T}{\\partial y} = -\\frac{1}{90} (x^3 - 6x^2)(3y^2 - 12y) = -\\frac{1}{90} (x^2(x-6))(3y(y-4)) $\n",
    "\n",
    "### Step 2: Set Both Derivatives to Zero\n",
    "We need to find the `(x, y)` pairs that solve this system of equations:\n",
    "1.  $-\\frac{1}{90} (3x(x-4))(y^2(y-6)) = 0$  \n",
    "\n",
    "2.  $-\\frac{1}{90} (x^2(x-6))(3y(y-4)) = 0$\n",
    "\n",
    "For the first equation to be zero, one of its factors must be zero. This gives us potential solutions:\n",
    "* `x = 0`\n",
    "* `x = 4`\n",
    "* `y = 0`\n",
    "* `y = 6`\n",
    "\n",
    "For the second equation to be zero, one of its factors must be zero:\n",
    "* `x = 0`\n",
    "* `x = 6`\n",
    "* `y = 0`\n",
    "* `y = 4`\n",
    "\n",
    "### Step 3: Find the Common Solutions\n",
    "We need the points `(x, y)` that satisfy **both** equations. By checking the possible combinations, we find the \"critical points\" where the gradient is zero: `(0,0)`, `(0,4)`, `(0,6)`, `(4,0)`, `(4,4)`, `(6,0)`, `(6,4)`, and `(6,6)`.\n",
    "\n",
    "### Step 4: Evaluate the Candidates\n",
    "Finally, we evaluate the temperature function at each of these candidate points (within our 5x5 sauna) to find which one is the true minimum.\n",
    "\n",
    "* **T(0, 0) = 85°C** (Maximum)\n",
    "* **T(0, 4) = 85°C** (Maximum)\n",
    "* **T(4, 0) = 85°C** (Maximum)\n",
    "* **T(4, 4) = 73.6°C** (Minimum)\n",
    "\n",
    "The calculus confirms that the coolest spot in the sauna is at the coordinates **(4, 4)**."
   ]
  }
 ],
 "metadata": {
  "kernelspec": {
   "display_name": "Python 3 (ipykernel)",
   "language": "python",
   "name": "python3"
  },
  "language_info": {
   "codemirror_mode": {
    "name": "ipython",
    "version": 3
   },
   "file_extension": ".py",
   "mimetype": "text/x-python",
   "name": "python",
   "nbconvert_exporter": "python",
   "pygments_lexer": "ipython3",
   "version": "3.13.5"
  }
 },
 "nbformat": 4,
 "nbformat_minor": 5
}
