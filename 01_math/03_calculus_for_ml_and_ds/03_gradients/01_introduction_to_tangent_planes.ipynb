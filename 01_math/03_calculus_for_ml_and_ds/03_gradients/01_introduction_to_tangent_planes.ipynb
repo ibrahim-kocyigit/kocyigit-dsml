{
 "cells": [
  {
   "cell_type": "markdown",
   "id": "8896a69f-37c4-4e26-877f-73bb054c599b",
   "metadata": {},
   "source": [
    "# Introduction to Tangent Planes"
   ]
  },
  {
   "cell_type": "markdown",
   "id": "e64bf2de-d1b5-4021-8fc3-cff35cf52180",
   "metadata": {},
   "source": [
    "In the previous modules, we learned everything about functions of one variable. Now, we will extend those concepts to functions with two or more variables.\n",
    "\n",
    "The most important concept to generalize is the derivative.\n",
    "* In one dimension, the derivative at a point gives us the slope of the **tangent line**.\n",
    "* In two dimensions (for a function with two inputs), the derivative at a point gives us the **tangent plane**.\n",
    "\n",
    "This concept of a tangent plane is the foundation for optimizing functions of multiple variables, which is the core of how most machine learning models are trained using algorithms like **Gradient Descent**.\n",
    "\n",
    "---\n",
    "## From Tangent Line to Tangent Plane\n",
    "\n",
    "Recall the function $f(x) = x^2$. Its graph is a 2D parabola. At any point, we can find a unique tangent line that just \"touches\" the curve, and the slope of this line is the derivative.\n",
    "\n",
    "Now, consider a function of two variables, such as $f(x, y) = x^2 + y^2$. This function's graph is a 3D surface (a paraboloid). Instead of a tangent line, we now have a **tangent plane** that touches the surface at a single point.\n",
    "\n",
    "How do we find this plane? The key idea is to \"slice\" the 3D surface to turn the problem back into a simple 2D derivative problem that we already know how to solve.\n",
    "\n",
    "![](./images/0101.png)\n"
   ]
  },
  {
   "cell_type": "markdown",
   "id": "bef03325-97a2-4548-9172-65f71aee8a62",
   "metadata": {},
   "source": [
    "---\n",
    "\n",
    "## The \"Slicing\" Method\n",
    "\n",
    "To find the tangent plane at a point, like `(2, 4)`, we can find two different tangent lines at that point and then combine them to form a plane.\n",
    "\n",
    "1.  **Slice 1 (Fix y=4):** Imagine we slice our 3D surface with the plane `y = 4`. The intersection of these two surfaces is a simple 2D parabola.\n",
    "    * Our function becomes: $f(x, 4) = x^2 + 4^2 = x^2 + 16$.\n",
    "    * We can now take the derivative of this with respect to `x`: $f'(x) = 2x$.\n",
    "    * At our point where `x=2`, the slope of the tangent line in this direction is $2(2) = 4$.  \n",
    "` `\n",
    "2.  **Slice 2 (Fix x=2):** Now imagine we slice the surface with the plane `x = 2`. The intersection is another 2D parabola.\n",
    "    * Our function becomes: $f(2, y) = 2^2 + y^2 = 4 + y^2$.\n",
    "    * We can take the derivative of this with respect to `y`: $f'(y) = 2y$.\n",
    "    * At our point where `y=4`, the slope of the tangent line in this direction is $2(4) = 8$.\n",
    "\n",
    "Since we have two distinct tangent lines that cross at our point of interest, they uniquely define the **tangent plane** to the surface at that point.\n",
    "\n",
    "This process of finding the derivative by fixing all other variables is the core idea behind **partial derivatives**, which we will explore next."
   ]
  }
 ],
 "metadata": {
  "kernelspec": {
   "display_name": "Python 3 (ipykernel)",
   "language": "python",
   "name": "python3"
  },
  "language_info": {
   "codemirror_mode": {
    "name": "ipython",
    "version": 3
   },
   "file_extension": ".py",
   "mimetype": "text/x-python",
   "name": "python",
   "nbconvert_exporter": "python",
   "pygments_lexer": "ipython3",
   "version": "3.13.5"
  }
 },
 "nbformat": 4,
 "nbformat_minor": 5
}
