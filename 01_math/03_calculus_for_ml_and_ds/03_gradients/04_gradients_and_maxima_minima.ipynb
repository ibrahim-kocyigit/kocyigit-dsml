{
 "cells": [
  {
   "cell_type": "markdown",
   "id": "f5131e00-cf16-48e6-a6cc-9a8e6e007a56",
   "metadata": {},
   "source": [
    "# Gradients and Maxima/Minima"
   ]
  },
  {
   "cell_type": "markdown",
   "id": "147f162c-ece9-4842-956c-a5e4730fc023",
   "metadata": {},
   "source": [
    "The gradient is incredibly useful for finding the minimum or maximum of a function with multiple variables, just as the standard derivative was for functions of one variable.\n",
    "\n",
    "Recall the 1D case: to find the minimum of a function like $f(x) = x^2$, we find the point where the slope of the tangent line is zero.\n",
    "\n",
    "For a function of multiple variables, the same principle applies. At a local minimum or maximum, the **tangent plane** will be perfectly horizontal. A horizontal plane has a slope of zero in *every* direction. This means that both the partial derivative with respect to `x` and the partial derivative with respect to `y` must be zero at that point.\n",
    "\n",
    "In other words, to find the minimum or maximum of a multivariable function, we need to find the point where the **gradient is the zero vector**.\n",
    "\n",
    "![](./images/0401.png)\n"
   ]
  },
  {
   "cell_type": "markdown",
   "id": "76d30579-d707-4ec9-8d59-af261b5fab07",
   "metadata": {},
   "source": [
    "---\n",
    "\n",
    "## Finding the Minimum Algebraically\n",
    "\n",
    "Let's compare the process for both cases.\n",
    "\n",
    "### The 1D Case\n",
    "To find the minimum of $f(x) = x^2$, we set its derivative to zero.\n",
    "* **Derivative:** $f'(x) = 2x$\n",
    "* **Set to zero:** $2x = 0$\n",
    "* **Solution:** $x = 0$\n",
    "\n",
    "### The 2D Case\n",
    "To find the minimum of $f(x, y) = x^2 + y^2$, we set its **gradient** to the zero vector. The gradient is the vector of partial derivatives.\n",
    "\n",
    "1.  **Find the partial derivatives:**\n",
    "    * $\\frac{\\partial f}{\\partial x} = 2x$  \n",
    "\n",
    "    * $\\frac{\\partial f}{\\partial y} = 2y$\n",
    "\n",
    "2.  **Form the gradient vector:**\n",
    "    $$ \\nabla f = \\begin{bmatrix} 2x \\\\ 2y \\end{bmatrix} $$\n",
    "\n",
    "3.  **Set the gradient to the zero vector:**\n",
    "    $$ \\begin{bmatrix} 2x \\\\ 2y \\end{bmatrix} = \\begin{bmatrix} 0 \\\\ 0 \\end{bmatrix} $$\n",
    "\n",
    "4.  **Solve the resulting system of equations:**\n",
    "    * $2x = 0 \\implies x = 0$\n",
    "    * $2y = 0 \\implies y = 0$\n",
    "\n",
    "The solution is the point `(x, y) = (0, 0)`, which is the minimum of the function.\n",
    "\n",
    "For any differentiable function of multiple variables, the candidates for its minima and maxima are the points where **all of its partial derivatives are simultaneously zero**."
   ]
  }
 ],
 "metadata": {
  "kernelspec": {
   "display_name": "Python 3 (ipykernel)",
   "language": "python",
   "name": "python3"
  },
  "language_info": {
   "codemirror_mode": {
    "name": "ipython",
    "version": 3
   },
   "file_extension": ".py",
   "mimetype": "text/x-python",
   "name": "python",
   "nbconvert_exporter": "python",
   "pygments_lexer": "ipython3",
   "version": "3.13.5"
  }
 },
 "nbformat": 4,
 "nbformat_minor": 5
}
