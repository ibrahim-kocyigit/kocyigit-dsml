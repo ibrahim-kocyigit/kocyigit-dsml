{
 "cells": [
  {
   "cell_type": "markdown",
   "id": "1070249d-0549-4662-883b-69c1e2e3cb60",
   "metadata": {},
   "source": [
    "# Optimization of Squared Loss"
   ]
  },
  {
   "cell_type": "markdown",
   "id": "4f20c3c0-f3b5-416a-a7e1-103cb5135630",
   "metadata": {},
   "source": [
    "Now we will see a more complex example of optimization. The problem involves finding the perfect location for a new house to minimize the cost of connecting it to several power lines.\n",
    "\n",
    "This example is very important because the function we will minimize is a **squared error** function. Minimizing squared error is one of the most fundamental tasks in machine learning, used to train models like **linear regression** and many neural networks.\n",
    "\n",
    "**The Problem:**\n",
    "You need to build a house along a road and connect it to several power lines. The cost of connecting to any single power line is the **square of the distance** from your house to that power line.\n",
    "\n",
    "$$ \\text{Cost} = (\\text{Distance})^2 $$\n",
    "\n",
    "The goal is to find the location for the house that minimizes the *total* cost of connecting to *all* the power lines.\n",
    "\n",
    "![](./images/04.png)\n",
    "\n",
    "---\n",
    "## The Simplest Case: One Power Line\n",
    "\n",
    "Let's start with the simplest possible problem: there is only one power line. Where should you build your house to minimize the connection cost?\n",
    "\n",
    "The answer is intuitive: you should build the house directly at the location of the power line.\n",
    "\n",
    "* If the power line is at position `p`, and you build your house at position `x`, the distance is `(x - p)`.\n",
    "* The cost is `Cost = (x - p)²`.\n",
    "* To minimize this cost, you need to make the distance zero. This happens when `x = p`.\n",
    "* The minimum possible cost is `0² = 0`.\n",
    "\n",
    "This was a simple problem. Now, let's see what happens when we have more power lines.\n",
    "\n",
    "![](./images/05.png)\n",
    "\n",
    "---"
   ]
  },
  {
   "cell_type": "markdown",
   "id": "932a1a19-29e8-47c0-a2ba-0b5a61236e22",
   "metadata": {},
   "source": [
    "## Two Powerlines"
   ]
  },
  {
   "cell_type": "markdown",
   "id": "c1283ed6-4929-4490-8365-e4011b12fcd4",
   "metadata": {},
   "source": [
    "Now let's make the problem more interesting by adding a second power line.\n",
    "\n",
    "* The first power line is at position `a`.\n",
    "* The second power line is at position `b`.\n",
    "* Our house is at an unknown position `x`.\n",
    "\n",
    "The cost of connecting to each power line is the square of the distance.\n",
    "* **Cost to line `a`:** $(x - a)^2$\n",
    "* **Cost to line `b`:** $(x - b)^2$\n",
    "\n",
    "The **total cost** is the sum of these two individual costs. This is our new cost function, which we want to minimize:\n",
    "$$ \\text{Cost}(x) = (x - a)^2 + (x - b)^2 $$\n",
    "\n",
    "**Spoiler alert:** The solution is to place the house exactly in the middle of the two power lines. Let's use visualization and calculus to understand why.\n",
    "\n",
    "![](./images/06.png)\n",
    "\n",
    "### Visualizing the Cost\n",
    "\n",
    "A great way to build intuition is to visualize the cost as the sum of the areas of two squares. The total area of the two squares represents the total cost. As we move the house's position `x`, the sizes of the squares change.\n",
    "\n",
    "* If `x` is too close to `a`, the blue square is small, but the orange square becomes very large.\n",
    "* If `x` is too close to `b`, the orange square is small, but the blue square becomes very large.\n",
    "\n",
    "The optimal position `x` will be the one that makes the **sum of the two areas** as small as possible.\n",
    "\n",
    "![](./images/07.png)\n",
    "\n",
    "### Finding the Minimum with Calculus\n",
    "\n",
    "The cost function is a quadratic ($x^2 - 2ax + a^2 + x^2 - 2bx + b^2 = 2x^2 - ...$), which is why its graph is a parabola. To find the minimum point of this parabola, we need to find where the slope of its tangent line is zero. In other words, we need to **take the derivative of the cost function and set it to zero.**\n",
    "\n",
    "**Cost Function:**\n",
    "$$ C(x) = (x - a)^2 + (x - b)^2 $$\n",
    "\n",
    "**1. Find the derivative, C'(x):**\n",
    "Using the sum rule and the chain rule:\n",
    "$$ C'(x) = \\frac{d}{dx}(x-a)^2 + \\frac{d}{dx}(x-b)^2 $$\n",
    "$$ C'(x) = 2(x-a) \\cdot (1) + 2(x-b) \\cdot (1) $$\n",
    "$$ C'(x) = 2(x-a) + 2(x-b) $$\n",
    "\n",
    "**2. Set the derivative to zero:**\n",
    "$$ 2(x-a) + 2(x-b) = 0 $$\n",
    "\n",
    "**3. Solve for x:**\n",
    "* Divide both sides by 2:\n",
    "    $ (x-a) + (x-b) = 0 $\n",
    "* Combine terms:\n",
    "    $ 2x - a - b = 0 $\n",
    "* Isolate x:\n",
    "    $ 2x = a + b $\n",
    "    $ x = \\frac{a+b}{2} $\n",
    "\n",
    "The optimal solution is to place the house at the **average** or **midpoint** of the two power lines.\n",
    "\n",
    "---"
   ]
  },
  {
   "cell_type": "markdown",
   "id": "d11cad51-b234-4abe-adc7-9a3519393a44",
   "metadata": {},
   "source": [
    "## Three Powerlines"
   ]
  },
  {
   "cell_type": "markdown",
   "id": "75bb5540-9506-47d8-a2c3-7bf8275e0a73",
   "metadata": {},
   "source": [
    "The problem now gets harder as we add a third power line.\n",
    "\n",
    "* The power lines are at positions `a`, `b`, and `c`.\n",
    "* Our house is at an unknown position `x`.\n",
    "\n",
    "The **total cost** is the sum of the squares of the distances to all three power lines. This is the function we want to minimize:\n",
    "$$ \\text{Cost}(x) = (x - a)^2 + (x - b)^2 + (x - c)^2 $$\n",
    "\n",
    "As you might guess, the solution is to place the house at the **average** (or mean) of the three power line locations. Let's see why.\n",
    "\n",
    "![](./images/08.png)\n",
    "\n",
    "### Visualizing the Cost\n",
    "\n",
    "We can visualize this problem by thinking of each squared distance term as its own parabola. The total cost is then the sum of these three individual parabolas. The minimum of this new, combined parabola will be our optimal location.\n",
    "\n",
    "![](./images/09.png)\n",
    "\n",
    "### Finding the Minimum with Calculus\n",
    "\n",
    "To find the minimum of our new cost function, we follow the same process: take the derivative and set it to zero.\n",
    "\n",
    "**Cost Function:**\n",
    "$$ C(x) = (x - a)^2 + (x - b)^2 + (x - c)^2 $$\n",
    "\n",
    "**1. Find the derivative, C'(x):**\n",
    "Using the sum rule and the chain rule on each term:\n",
    "$$ C'(x) = 2(x-a) + 2(x-b) + 2(x-c) $$\n",
    "\n",
    "**2. Set the derivative to zero:**\n",
    "$$ 2(x-a) + 2(x-b) + 2(x-c) = 0 $$\n",
    "\n",
    "**3. Solve for x:**\n",
    "* Divide both sides by 2:\n",
    "    $ (x-a) + (x-b) + (x-c) = 0 $\n",
    "* Combine terms:\n",
    "    $ 3x - a - b - c = 0 $\n",
    "* Isolate x:\n",
    "    $ 3x = a + b + c $\n",
    "    $ x = \\frac{a+b+c}{3} $\n",
    "\n",
    "The optimal solution is indeed the **average (mean)** of the locations of the three power lines.\n",
    "\n",
    "---"
   ]
  },
  {
   "cell_type": "markdown",
   "id": "9f6dd411-2e00-47e5-a701-171d721df572",
   "metadata": {},
   "source": [
    "# Generalizing to 'n' Power Lines (and Machine Learning)"
   ]
  },
  {
   "cell_type": "markdown",
   "id": "30ecda22-d034-4087-b608-79508699175d",
   "metadata": {},
   "source": [
    "This pattern can be generalized. If you have *n* power lines at locations $a_1, a_2, \\dots, a_n$, the total cost function is:\n",
    "$$ C(x) = \\sum_{i=1}^{n} (x - a_i)^2 $$\n",
    "The optimal location `x` that minimizes this cost will be the **mean** of all the locations:\n",
    "$$ x = \\frac{1}{n}\\sum_{i=1}^{n} a_i $$\n",
    "\n",
    "This \"sum of squared errors\" is one of the most important cost functions in machine learning. When we train a linear regression model, this is exactly the function the model is trying to minimize."
   ]
  }
 ],
 "metadata": {
  "kernelspec": {
   "display_name": "Python 3 (ipykernel)",
   "language": "python",
   "name": "python3"
  },
  "language_info": {
   "codemirror_mode": {
    "name": "ipython",
    "version": 3
   },
   "file_extension": ".py",
   "mimetype": "text/x-python",
   "name": "python",
   "nbconvert_exporter": "python",
   "pygments_lexer": "ipython3",
   "version": "3.13.5"
  }
 },
 "nbformat": 4,
 "nbformat_minor": 5
}
