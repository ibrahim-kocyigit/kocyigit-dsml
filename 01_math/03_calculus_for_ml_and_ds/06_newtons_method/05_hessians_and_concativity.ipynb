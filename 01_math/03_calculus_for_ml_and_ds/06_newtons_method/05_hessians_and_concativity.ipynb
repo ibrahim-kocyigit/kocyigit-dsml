{
 "cells": [
  {
   "cell_type": "markdown",
   "id": "25939784-6ffd-423d-9e84-2c386e6df8cc",
   "metadata": {},
   "source": [
    "# Hessians and Concavity"
   ]
  },
  {
   "cell_type": "markdown",
   "id": "7cc15aa3-c71c-43e7-ae5d-d7dfb132505f",
   "metadata": {},
   "source": [
    "Now we can explore one of the most important applications of the Hessian matrix in optimization. Recall that for a function of one variable, the **second derivative test** helps us determine if a point with a zero-slope tangent is a local minimum or maximum.\n",
    "\n",
    "* If $f''(x) > 0$, the function is **concave up** (like a happy face 😊), and the point is a **local minimum**.\n",
    "* If $f''(x) < 0$, the function is **concave down** (like a sad face 😞), and the point is a **local maximum**.\n",
    "\n",
    "The Hessian matrix provides the exact same information for functions of multiple variables, but instead of checking the sign of a single number, we check the signs of the Hessian's **eigenvalues**.\n",
    "\n",
    "---\n",
    "## Case 1: Concave Up (Local Minimum)\n",
    "\n",
    "A function of two variables is **concave up** if its graph looks like a bowl or a paraboloid opening upwards. If we find a point where the gradient is zero and the function is concave up, that point must be a **local minimum**.\n",
    "\n",
    "**The Test:** A function is concave up if **all** the eigenvalues of its Hessian matrix are **positive**. A matrix with this property is called **positive-definite**.\n",
    "\n",
    "**Example:** $f(x, y) = 2x^2 + 3y^2 - xy$\n",
    "* **Hessian:** $H = \\begin{bmatrix} 4 & -1 \\\\ -1 & 6 \\end{bmatrix}$\n",
    "* **Eigenvalues:** Solving the characteristic equation, we find $\\lambda_1 \\approx 6.41$ and $\\lambda_2 \\approx 3.59$.\n",
    "* **Conclusion:** Since both eigenvalues are positive, the function is concave up, and the point `(0, 0)` (where the gradient is zero) is a local minimum.\n",
    "\n",
    "---\n",
    "## Case 2: Concave Down (Local Maximum)\n",
    "\n",
    "A function is **concave down** if its graph looks like a dome opening downwards. If the gradient is zero at a point and the function is concave down, that point is a **local maximum**.\n",
    "\n",
    "**The Test:** A function is concave down if **all** the eigenvalues of its Hessian matrix are **negative**. This is called a **negative-definite** matrix.\n",
    "\n",
    "**Example:** $f(x, y) = -2x^2 - 3y^2 - xy + 15$\n",
    "* **Hessian:** $H = \\begin{bmatrix} -4 & -1 \\\\ -1 & -6 \\end{bmatrix}$\n",
    "* **Eigenvalues:** $\\lambda_1 \\approx -6.41$ and $\\lambda_2 \\approx -3.59$.\n",
    "* **Conclusion:** Since both eigenvalues are negative, the function is concave down, and the point `(0, 0)` is a local maximum.\n",
    "\n",
    "---\n",
    "## Case 3: Saddle Point\n",
    "\n",
    "What if the eigenvalues have mixed signs? This occurs at a **saddle point**, which is neither a minimum nor a maximum. From one direction it looks like a minimum, and from another, it looks like a maximum.\n",
    "\n",
    "**The Test:** If the Hessian has both **positive and negative eigenvalues**, the critical point is a **saddle point**.\n",
    "\n",
    "**Example:** $f(x, y) = 2x^2 - 2y^2$\n",
    "* **Hessian:** $H = \\begin{bmatrix} 4 & 0 \\\\ 0 & -4 \\end{bmatrix}$\n",
    "* **Eigenvalues:** $\\lambda_1 = 4$ and $\\lambda_2 = -4$.\n",
    "* **Conclusion:** Since the eigenvalues have mixed signs, the point `(0, 0)` is a saddle point.\n",
    "\n",
    "![](./images/0501.png)"
   ]
  },
  {
   "cell_type": "markdown",
   "id": "d2beca04-a1c9-41b4-a166-423c34b0e64b",
   "metadata": {},
   "source": [
    "---\n",
    "\n",
    "## Summary: The Second Derivative Test\n",
    "\n",
    "This table summarizes the test for finding local minima and maxima at a point `c` where the first derivative (or gradient) is zero.\n",
    "\n",
    "| Dimension | Local Minimum | Local Maximum | Inconclusive |\n",
    "| :--- | :--- | :--- | :--- |\n",
    "| **One Variable** | $f''(c) > 0$ | $f''(c) < 0$ | $f''(c) = 0$ |\n",
    "| **N-Variables** | All eigenvalues of the Hessian are **positive**. | All eigenvalues of the Hessian are **negative**. | Eigenvalues have mixed signs or some are zero. |"
   ]
  }
 ],
 "metadata": {
  "kernelspec": {
   "display_name": "Python 3 (ipykernel)",
   "language": "python",
   "name": "python3"
  },
  "language_info": {
   "codemirror_mode": {
    "name": "ipython",
    "version": 3
   },
   "file_extension": ".py",
   "mimetype": "text/x-python",
   "name": "python",
   "nbconvert_exporter": "python",
   "pygments_lexer": "ipython3",
   "version": "3.13.5"
  }
 },
 "nbformat": 4,
 "nbformat_minor": 5
}
