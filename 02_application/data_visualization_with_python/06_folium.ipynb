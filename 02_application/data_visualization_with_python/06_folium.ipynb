{
 "cells": [
  {
   "cell_type": "markdown",
   "metadata": {},
   "source": [
    "##### _Data Visualization with Python_\n",
    "---"
   ]
  },
  {
   "cell_type": "markdown",
   "metadata": {},
   "source": [
    "# Folium"
   ]
  },
  {
   "cell_type": "markdown",
   "metadata": {},
   "source": [
    "## Introduction to Folium"
   ]
  },
  {
   "cell_type": "markdown",
   "metadata": {},
   "source": [
    "* Folium is a Python library specifically designed for visualizing geospatial data. This means data that is related to locations on Earth (or other planets, but usually Earth!).\n",
    "* Folium is built on top of leaflet.js, a popular JavaScript library for interactive maps. Folium provides a Python interface to the functionality of Leaflet.js."
   ]
  },
  {
   "cell_type": "markdown",
   "metadata": {},
   "source": [
    "### Key Features"
   ]
  },
  {
   "cell_type": "markdown",
   "metadata": {},
   "source": [
    "* **Interactive Maps:** The maps you create with Folium are interactive. You can zoom in and out, pan around, and often click on markers to get more information.\n",
    "* **Easy Map Creation:** Creating a basic world map is very simple.\n",
    "* **Markers and Clusters:** You can easily add markers (pins) and cluster markers (groups of markers) to your maps to highlight specific locations.\n",
    "* **Different Map Styles (Tiles):** Folium supports various map styles (called \"tiles\" in the mapping world), allowing you to choose the visual appearance that best suits your data and purpose."
   ]
  },
  {
   "cell_type": "markdown",
   "metadata": {},
   "source": []
  }
 ],
 "metadata": {
  "language_info": {
   "name": "python"
  }
 },
 "nbformat": 4,
 "nbformat_minor": 2
}
