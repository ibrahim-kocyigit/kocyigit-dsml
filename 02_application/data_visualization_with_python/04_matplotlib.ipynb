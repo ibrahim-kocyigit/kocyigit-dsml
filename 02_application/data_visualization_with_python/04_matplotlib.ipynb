{
 "cells": [
  {
   "cell_type": "markdown",
   "metadata": {},
   "source": [
    "# Matplotlib"
   ]
  },
  {
   "cell_type": "markdown",
   "metadata": {},
   "source": [
    "## Introduction to Matplotlib"
   ]
  },
  {
   "cell_type": "markdown",
   "metadata": {},
   "source": [
    "Matplotlib is one of the most widely used data visualization libraries in Python. It provides a wide array of tools for creating static, interactive, and animated visualizations in Python. Think of it as the foundation upon which many other plotting libraries are built.\n",
    "\n",
    "Matplotlib's architecture is layered, which provides flexibility and different aspects of plot creation. It consists of three main layers:\n",
    "\n",
    "### 1. Backend Layer\n",
    "* Handles the low-level details of rendering plots to different output formats (e.g., PNG, SVG, PDF, interactive displays).\n",
    "* **Key Components:**\n",
    "    * **`FigureCanvas`:** Defines the area where the figure is drawn (think of it as the \"canvas\" or \"page\").\n",
    "    * **`Renderer`:** Knows how to draw on the `FigureCanvas`. Different renderers handle different output formats.\n",
    "    * **`Event`:** Handles user interactions like mouse clicks and keyboard presses (for interactive plots).\n",
    " * **Note:** Beginners rarely interact directly with the backend layer.\n",
    "\n",
    "### 2. Artist Layer\n",
    "* Provides a high-level, object oriented interface for creating and manipulating plot elements. Everything you see in a Matplotlib figure is an \"Artist\" object.\n",
    "* **Types of Artist Objects:**\n",
    "    * **Primitive artists:** Basic geometric shapes and text elements (e.g., `Line2D`, `Rectangle`, `Circle`, `Text`).\n",
    "    * **Composite artists:** Collections of other Artist objects (e.g. `Axis`, `Tick`, `Axes`, `Figure`)\n",
    "* **Key Concepts:**\n",
    "    * **`Figure`:** The top-level container that holds all the elements of a plot.\n",
    "    * **`Axes`:** Represents an individual plot within a figure. It contains the axis (x-axis, y-axis, and potentially a z-axis in 3D plots), the data, the labels, the title, etc. Most plotting commands are applied to an `Axes` object.\"\n",
    "    * Composite artists can contain other composite artists and primitive artists. (e.g., A `Figure` can contain multiple `Axes`, and each `Axes` can contain `Line2D` objects, `Text` objects, etc.).\n",
    "* **Note:** The artist layer is suitable for more advanced users and developers who need fine-grained control over their plots.\n",
    "\n",
    "### 3. Scripting Layer (Pyplot)\n",
    "* Provides a simpler, MATLAB-like interface for creating plots. It's the most commonly used layer for everyday data visualization tasks.\n",
    "* **Key Component:** `matplotlib.pyplot` (often imported as `plt`)\n",
    "* **How it Works:** `pyplot` automatically manages the creation of `Figure` and `Axes` objects behind the scenes, making it easier to quickly generate plots.\n",
    "\n",
    "## Anatomy of a Figure\n",
    "Understanding the different components of a Matplotlib plot is crucial:\n",
    "\n",
    "![Anatomy of a Plot](assets/anatomy_of_a_plot.png)"
   ]
  },
  {
   "cell_type": "markdown",
   "metadata": {},
   "source": [
    "## Plotting with Matplotlib"
   ]
  },
  {
   "cell_type": "markdown",
   "metadata": {},
   "source": [
    "#### 1. Import Libraries"
   ]
  },
  {
   "cell_type": "markdown",
   "metadata": {},
   "source": [
    "`matplotlib.pyplot` is the most commonly used module. It provides a MATLAB-like interface, making it easy to create plots quickly."
   ]
  },
  {
   "cell_type": "code",
   "execution_count": 3,
   "metadata": {},
   "outputs": [],
   "source": [
    "import matplotlib.pyplot as plt # Almost universally used conventional alias is plt"
   ]
  },
  {
   "cell_type": "markdown",
   "metadata": {},
   "source": [
    "#### 2. Prepare Your Data"
   ]
  },
  {
   "cell_type": "code",
   "execution_count": 9,
   "metadata": {},
   "outputs": [],
   "source": [
    "# Example: Creating Synthetic Data\n",
    "import numpy as np\n",
    "\n",
    "years = np.arange(1980, 2014)\n",
    "immigrants = np.random.randint(2000, 10000, size=34)"
   ]
  },
  {
   "cell_type": "markdown",
   "metadata": {},
   "source": [
    "#### 3. Create Figures and Axes"
   ]
  },
  {
   "cell_type": "markdown",
   "metadata": {},
   "source": [
    "Often, you'll use NumPy arrays (`np.array`) or Pandas DataFrames/Series to hold the data you want to plot."
   ]
  },
  {
   "cell_type": "markdown",
   "metadata": {},
   "source": [
    "`fig, ax = plt.subplots()`: This is the recommended way to start. It gives you more control.\n",
    "* `fig`: Think of this as the entire \"window\" or \"canvas\" where your plots will appear.\n",
    "* `ax`: This is the _axes_ object. It represents the actual plotting area _within_ the figure. Most of your plotting commands will be called on the `ax` object (e.g., `ax.plot()`, `ax.scatter()`, etc.)\n",
    "\n"
   ]
  },
  {
   "cell_type": "markdown",
   "metadata": {},
   "source": [
    "#### 4. Create the Plot"
   ]
  },
  {
   "cell_type": "markdown",
   "metadata": {},
   "source": [
    "* `ax.plot(x, y)`: Creates a line plot. `x` and `y` are your data arrays.\n",
    "* `ax.scatter(x, y)`: Creates a scatter plot.\n",
    "* `ax.bar(x, height)`: Creates a bar plot.\n",
    "* `ax.hist(data, bins=...)`: Creates a histogram. `bins` controls the number of bars.\n",
    "* `ax.pie(data, labels=...)`: Creates a pir chart."
   ]
  },
  {
   "cell_type": "markdown",
   "metadata": {},
   "source": [
    "#### 5. Customize the Plot\n",
    "\n",
    "* **Titles:**\n",
    "    * `plt.title(\"Your title\")`: Title for the whole figure.\n",
    "    * `ax.set_title(\"Your title\")`: Title for a specific axes object.\n",
    "* **Axis Labels:**\n",
    "    * `plt.xlabel(\"X-axis Label\")\"` / `plt.ylabel(\"Y-axis Label\")`\n",
    "    * `ax.set_xlabel(\"X-axis Label\")\"` / `ax.set_ylabel(\"Y-axis Label\")`\n",
    "* **Axis Limits:**\n",
    "    * `plt.xlim(min, max)` / `plt.ylim(min, max)`\n",
    "    * `ax.set_xlim(min, max)` / `ax.set_ylim(min, max)`\n",
    "* **Grid Lines:**\n",
    "    * `ax.grid(True)`\n",
    "* **Legend:**\n",
    "    * `ax.legend()`: Displays a legend, you'll often need to label your data within the plotting commands, eg., `ax.plot(x, y, label=\"Data Series 1\")`\n",
    "    * `loc` parameter sets the location of the legend.\n",
    "* **Customization (Markers, colors, line styles):**\n",
    "    * **Markers:** `marker=` ('o' for circle, 's' for square, '^' for triangle, etc.)\n",
    "    * **Colors:** `'color'=` ('red', 'blue', '#FF0000', etc.)\n",
    "    * **Line Styles:** `linestyle=` ('-' for solid, '--' for dashed, ':' for dotted, etc.)\n",
    "    * **Marker Size:** For `ax.scatter()` use `s` for marker size. For `ax.plot`, use `markersize=`"
   ]
  },
  {
   "cell_type": "markdown",
   "metadata": {},
   "source": [
    "#### 6. Display the Plot"
   ]
  },
  {
   "cell_type": "markdown",
   "metadata": {},
   "source": [
    "* Use `plt.show()` to display the plot you've created."
   ]
  },
  {
   "cell_type": "markdown",
   "metadata": {},
   "source": []
  }
 ],
 "metadata": {
  "kernelspec": {
   "display_name": ".venv",
   "language": "python",
   "name": "python3"
  },
  "language_info": {
   "codemirror_mode": {
    "name": "ipython",
    "version": 3
   },
   "file_extension": ".py",
   "mimetype": "text/x-python",
   "name": "python",
   "nbconvert_exporter": "python",
   "pygments_lexer": "ipython3",
   "version": "3.13.1"
  }
 },
 "nbformat": 4,
 "nbformat_minor": 2
}
