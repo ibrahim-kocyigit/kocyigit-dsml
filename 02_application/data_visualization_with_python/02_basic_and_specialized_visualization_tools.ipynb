{
 "cells": [
  {
   "cell_type": "markdown",
   "metadata": {},
   "source": [
    "# Basic and Specialized Visualization Tools"
   ]
  },
  {
   "cell_type": "markdown",
   "metadata": {},
   "source": [
    "## Basic Visualization Tools"
   ]
  },
  {
   "cell_type": "markdown",
   "metadata": {},
   "source": [
    "### Area Plots with Matplotlib"
   ]
  },
  {
   "cell_type": "markdown",
   "metadata": {},
   "source": [
    "This section explains what area plots are, when to use them, and how to create them using Matplotlib and Pandas.\n",
    "\n",
    "#### What is an Area Plot?\n",
    "* An area plot (also called an area chart or area graph) is a visualization that displays the magnitude and proportion of multiple variables over a continuous axis (usually time). It's like a line plot, but the area blow is filled with color.\n",
    "* **Key Features:**\n",
    "    * Shows the cumulative magnitude of variables.\n",
    "    * Emphasizes the overall trend and the contribution of each variable to the total.\n",
    "    * Good for comparing multiple quantities over time.\n",
    "\n",
    "#### When to Use Area Plots\n",
    "Area plots are particularly useful when:\n",
    "* You want to show the cumulative total of a quantity over time.\n",
    "* You want to compare the contributions of different categories to a total over time.\n",
    "* You want to emphasize the overall trend rather than individual data points.\n",
    "* Data has cumulative nature.\n",
    "* Visualizing population demographics.\n",
    "* Displaying the contribution of resources across various sectors.\n",
    "\n",
    "#### Creating the Area Plot\n",
    "\n",
    "```python\n",
    "# 'kind=area' creates the area plot. figsize makes it bigger\n",
    "df.plot(kind='area', figsize=(10, 6)) \n",
    "# show the plot\n",
    "plt.show()\n",
    "```"
   ]
  },
  {
   "cell_type": "markdown",
   "metadata": {},
   "source": [
    "### Histograms with Matplotlib"
   ]
  },
  {
   "cell_type": "markdown",
   "metadata": {},
   "source": [
    "This section defines histograms, explains their purpose, and demonstrates how to create them using Matplotlib and NumPy.\n",
    "\n",
    "#### What is a Histogram?\n",
    "* A histogram is a graphical representation of the _frequency distribution_ of a _numerical_ dataset. It shows how many data points fall within specific ranges (called \"bins\").\n",
    "* **How it works?**\n",
    "    * **Partitioning:** The range of the data (the difference between the minimum and maximum values) is divided into series of intervals called _bins_. These bins are usually of equal width.\n",
    "    * **Counting:** For each bin, the number of data points that fall within that bin's range is counted. This count is the _frequency_ for that bin.\n",
    "    * **Plotting:** A bar is drawn for each bin. The width represents bin size.\n",
    "* **Key Features:**\n",
    "    * **X-axis:** Represents the range of the numerical variable, divided into bins.\n",
    "    * **Y-axis:** Represents the frequency (count) or relative frequency (proportion) of data points within each bin.\n",
    "    * **Bars:** Adjacent bars (usually touching) represent the frequency of each bin.\n",
    "* **Purpose:** \n",
    "    * To visualize the distribution of a numerical variable.\n",
    "    * To show the _shape_ of the distribution (symmetrical, skewed, bimodal, etc.).\n",
    "    * To identify the _central tendency_ (where most data points are clustered).\n",
    "    * To identify _outliers_ (unusually high or low values).\n",
    "\n",
    "#### Creating Histograms with Matplotlib and NumPy\n",
    "\n",
    "```python\n",
    "# Use NumPy to get bin edges\n",
    "count, bin_edges = np.histogram(data_2013)\n",
    "\n",
    "# Create the histogram, specifying bin edges\n",
    "data_2013.plot(kind='hist', figsize=(8, 5), xticks=bin_edges)\n",
    "\n",
    "plt.title('Histogram of Immigration from Various Countries in 2013')\n",
    "plt.xlabel('Number of Immigrants')\n",
    "plt.ylabel('Number of Countries')\n",
    "plt.show()\n",
    "```"
   ]
  },
  {
   "cell_type": "markdown",
   "metadata": {},
   "source": []
  }
 ],
 "metadata": {
  "language_info": {
   "name": "python"
  }
 },
 "nbformat": 4,
 "nbformat_minor": 2
}
