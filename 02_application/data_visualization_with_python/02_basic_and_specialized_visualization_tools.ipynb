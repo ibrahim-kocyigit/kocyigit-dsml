{
 "cells": [
  {
   "cell_type": "markdown",
   "metadata": {},
   "source": [
    "# Basic and Specialized Visualization Tools"
   ]
  },
  {
   "cell_type": "markdown",
   "metadata": {},
   "source": [
    "## Basic Visualization Tools"
   ]
  },
  {
   "cell_type": "markdown",
   "metadata": {},
   "source": [
    "### Area Plots with Matplotlib"
   ]
  },
  {
   "cell_type": "markdown",
   "metadata": {},
   "source": [
    "This section explains what area plots are, when to use them, and how to create them using Matplotlib and Pandas.\n",
    "\n",
    "#### What is an Area Plot?\n",
    "* An area plot (also called an area chart or area graph) is a visualization that displays the magnitude and proportion of multiple variables over a continuous axis (usually time). It's like a line plot, but the area blow is filled with color.\n",
    "* **Key Features:**\n",
    "    * Shows the cumulative magnitude of variables.\n",
    "    * Emphasizes the overall trend and the contribution of each variable to the total.\n",
    "    * Good for comparing multiple quantities over time.\n",
    "\n",
    "#### When to Use Area Plots\n",
    "Area plots are particularly useful when:\n",
    "* You want to show the cumulative total of a quantity over time.\n",
    "* You want to compare the contributions of different categories to a total over time.\n",
    "* You want to emphasize the overall trend rather than individual data points.\n",
    "* Data has cumulative nature.\n",
    "* Visualizing population demographics.\n",
    "* Displaying the contribution of resources across various sectors.\n",
    "\n",
    "#### Creating the Area Plot\n",
    "```python\n",
    "import matplotlib.pyplot as plt\n",
    "import pandas as pd\n",
    "\n",
    "# ... (Data preparation steps from above) ...\n",
    "# Data preparation.\n",
    "df = pd.read_csv(\"immigration_data.csv\") # Assuming you have \"immigration_data.csv\" file.\n",
    "df_canada = df.copy()\n",
    "df_canada = df_canada.set_index('Country')\n",
    "df_canada['Total'] = df_canada.iloc[:, :].sum(axis=1)\n",
    "df_canada = df_canada.sort_values(by='Total', ascending=False)\n",
    "top_n = 5\n",
    "df_top5 = df_canada.head(top_n)\n",
    "df_top5 = df_top5.loc[:, '1980':'2013'].T\n",
    "\n",
    "# Create the area plot\n",
    "df_top5.plot(kind='area', figsize=(10, 6))  # 'kind=area' creates the area plot. figsize makes it bigger\n",
    "\n",
    "plt.title('Immigration Trend of Top 5 Countries')\n",
    "plt.xlabel('Year')\n",
    "plt.ylabel('Number of Immigrants')\n",
    "plt.legend(title='Country') # Add legend and a title to it.\n",
    "plt.show()\n",
    "```"
   ]
  },
  {
   "cell_type": "markdown",
   "metadata": {},
   "source": []
  }
 ],
 "metadata": {
  "language_info": {
   "name": "python"
  }
 },
 "nbformat": 4,
 "nbformat_minor": 2
}
