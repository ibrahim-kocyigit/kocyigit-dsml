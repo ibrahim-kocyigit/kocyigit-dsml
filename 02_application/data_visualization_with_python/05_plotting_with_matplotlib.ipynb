{
 "cells": [
  {
   "cell_type": "markdown",
   "metadata": {},
   "source": [
    "# Plotting with Mathplotlib"
   ]
  },
  {
   "cell_type": "markdown",
   "metadata": {},
   "source": [
    "This section covers how to use Matplotlib within Jupyter Notebooks, focusing on basic plotting using the `pyplot` interface and leveraging Pandas' built-in plotting capabilities.\n",
    "\n",
    "### Introduction\n",
    "Matplotlib is a versatile library that can be used in various environments:\n",
    "* Python scripts\n",
    "* Python and iPython shells\n",
    "* Web application servers\n",
    "* Graphical User Interface (GUI) toolkits\n",
    "* **Jupyter Notebooks** (the focus of this section)\n",
    "\n",
    "### Jupyter Notebook and Matplotlib\n",
    "Jupyter Notebook is an open-source web application that allows you to create and share documents containing live code, visualizations, and explanatory text. It has excellent built-in support for Matplotlib.\n",
    "\n",
    "### Basic Plotting Example\n",
    "Here's how to create a simple plot with a single point:"
   ]
  },
  {
   "cell_type": "code",
   "execution_count": null,
   "metadata": {},
   "outputs": [],
   "source": [
    "# Import pyplot interface from the matplotlib library as plt (alread imported)\n",
    "# import matplotlib.pyplot as plt\n",
    "\n",
    "# Plott a a circle 'o' at coordinates (5,5)\n",
    "plt.plot(5, 5, 'o')\n",
    "\n",
    "# Display the plot \n",
    "plt.show()"
   ]
  },
  {
   "cell_type": "markdown",
   "metadata": {},
   "source": [
    "### Pandas Integration\n",
    "Pandas DataFrames and Series have built-in plotting capabilities that use Matplotlib. This makes plotting data directly from Pandas object very convenien."
   ]
  },
  {
   "cell_type": "code",
   "execution_count": null,
   "metadata": {},
   "outputs": [],
   "source": [
    "# import matpolotlib.pyplot as plt\n",
    "import pandas as pd\n",
    "# import numpy as np # already imported\n",
    "\n",
    "# Create a sample DataFrame\n",
    "data = {'India': np.random.randint(100, 500, size=17),\n",
    "        'China': np.random.randint(200, 600, size=17)}\n",
    "years = range(1980, 1997)\n",
    "\n",
    "india_china_df = pd.DataFrame(data, index=years)\n",
    "\n",
    "# Create a line plot of the DataFrame\n",
    "india_china_df.plot(kind='line')\n",
    "plt.show()\n",
    "\n",
    "# Create a histogram of the 'India' column\n",
    "india_china_df['India'].plot(kind='hist')\n",
    "plt.show()"
   ]
  },
  {
   "cell_type": "markdown",
   "metadata": {},
   "source": []
  }
 ],
 "metadata": {
  "kernelspec": {
   "display_name": ".venv",
   "language": "python",
   "name": "python3"
  },
  "language_info": {
   "name": "python",
   "version": "3.13.1"
  }
 },
 "nbformat": 4,
 "nbformat_minor": 2
}
