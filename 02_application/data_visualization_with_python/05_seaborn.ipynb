{
 "cells": [
  {
   "cell_type": "markdown",
   "metadata": {},
   "source": [
    "##### _Data Visualization with Python_\n",
    "---"
   ]
  },
  {
   "cell_type": "markdown",
   "metadata": {},
   "source": [
    "# Seaborn"
   ]
  },
  {
   "cell_type": "markdown",
   "metadata": {},
   "source": [
    "## Introduction to Seaborn"
   ]
  },
  {
   "cell_type": "markdown",
   "metadata": {},
   "source": [
    "Seaborn is a Python data visualization library built on top of Matplotlib. It provides a higher-level interface, meaning it simplifies the process of creating many common and useful statistical plots."
   ]
  },
  {
   "cell_type": "markdown",
   "metadata": {},
   "source": [
    "### Advantages over Matplotlib\n",
    "* **Aesthetics:** Seaborn has built-in themes and color palettes that make plots look more visually appealing with less code.\n",
    "* **Efficiency:** Often, you can create complex plots with significantly less code in Seaborn compared to Matplotlib.\n",
    "* **Statistical Integration:** Seaborn works seamlessly with NumPy and Pandas (the core data science libraries). It's designed for statistical visualization.\n",
    "* **Specialized Plot Types:** Seaborn offers plot types specifically designed for statistical analysis, including:\n",
    "    * Regression plots\n",
    "    * Distribution plots\n",
    "    * Categorical plots\n",
    "* **Higher-Level Interface:** It simplifies the process, handles many details automatically."
   ]
  }
 ],
 "metadata": {
  "kernelspec": {
   "display_name": ".venv",
   "language": "python",
   "name": "python3"
  },
  "language_info": {
   "name": "python",
   "version": "3.13.1"
  }
 },
 "nbformat": 4,
 "nbformat_minor": 2
}
