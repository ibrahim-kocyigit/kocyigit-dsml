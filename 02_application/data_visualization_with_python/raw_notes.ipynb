{
 "cells": [
  {
   "cell_type": "markdown",
   "metadata": {},
   "source": [
    "# Basic and Specialized Visualization Tools"
   ]
  },
  {
   "cell_type": "markdown",
   "metadata": {},
   "source": [
    "## Basic Visualization Tools"
   ]
  },
  {
   "cell_type": "markdown",
   "metadata": {},
   "source": [
    "### Area Plots with Matplotlib"
   ]
  },
  {
   "cell_type": "markdown",
   "metadata": {},
   "source": [
    "This section explains what area plots are, when to use them, and how to create them using Matplotlib and Pandas.\n",
    "\n",
    "#### What is an Area Plot?\n",
    "* An area plot (also called an area chart or area graph) is a visualization that displays the magnitude and proportion of multiple variables over a continuous axis (usually time). It's like a line plot, but the area blow is filled with color.\n",
    "* **Key Features:**\n",
    "    * Shows the cumulative magnitude of variables.\n",
    "    * Emphasizes the overall trend and the contribution of each variable to the total.\n",
    "    * Good for comparing multiple quantities over time.\n",
    "\n",
    "#### When to Use Area Plots\n",
    "Area plots are particularly useful when:\n",
    "* You want to show the cumulative total of a quantity over time.\n",
    "* You want to compare the contributions of different categories to a total over time.\n",
    "* You want to emphasize the overall trend rather than individual data points.\n",
    "* Data has cumulative nature.\n",
    "* Visualizing population demographics.\n",
    "* Displaying the contribution of resources across various sectors.\n",
    "\n",
    "#### Creating the Area Plot\n",
    "\n",
    "```python\n",
    "# 'kind=area' creates the area plot. figsize makes it bigger\n",
    "df.plot(kind='area', figsize=(10, 6)) \n",
    "# show the plot\n",
    "plt.show()\n",
    "```"
   ]
  },
  {
   "cell_type": "markdown",
   "metadata": {},
   "source": [
    "### Histograms with Matplotlib"
   ]
  },
  {
   "cell_type": "markdown",
   "metadata": {},
   "source": [
    "This section defines histograms, explains their purpose, and demonstrates how to create them using Matplotlib and NumPy.\n",
    "\n",
    "#### What is a Histogram?\n",
    "* A histogram is a graphical representation of the _frequency distribution_ of a _numerical_ dataset. It shows how many data points fall within specific ranges (called \"bins\").\n",
    "* **How it works?**\n",
    "    * **Partitioning:** The range of the data (the difference between the minimum and maximum values) is divided into series of intervals called _bins_. These bins are usually of equal width.\n",
    "    * **Counting:** For each bin, the number of data points that fall within that bin's range is counted. This count is the _frequency_ for that bin.\n",
    "    * **Plotting:** A bar is drawn for each bin. The width represents bin size.\n",
    "* **Key Features:**\n",
    "    * **X-axis:** Represents the range of the numerical variable, divided into bins.\n",
    "    * **Y-axis:** Represents the frequency (count) or relative frequency (proportion) of data points within each bin.\n",
    "    * **Bars:** Adjacent bars (usually touching) represent the frequency of each bin.\n",
    "* **Purpose:** \n",
    "    * To visualize the distribution of a numerical variable.\n",
    "    * To show the _shape_ of the distribution (symmetrical, skewed, bimodal, etc.).\n",
    "    * To identify the _central tendency_ (where most data points are clustered).\n",
    "    * To identify _outliers_ (unusually high or low values).\n",
    "\n",
    "#### Creating Histograms with Matplotlib and NumPy\n",
    "\n",
    "```python\n",
    "# Use NumPy to get bin edges\n",
    "count, bin_edges = np.histogram(data_2013)\n",
    "\n",
    "# Create the histogram, specifying bin edges\n",
    "data_2013.plot(kind='hist', figsize=(8, 5), xticks=bin_edges)\n",
    "\n",
    "plt.title('Histogram of Immigration from Various Countries in 2013')\n",
    "plt.xlabel('Number of Immigrants')\n",
    "plt.ylabel('Number of Countries')\n",
    "plt.show()\n",
    "```"
   ]
  },
  {
   "cell_type": "markdown",
   "metadata": {},
   "source": [
    "### Bar Charts with Matplotlib"
   ]
  },
  {
   "cell_type": "markdown",
   "metadata": {},
   "source": [
    "This section explains what bar charts are, when to use them, and how to create them using Matplotlib and Pandas.\n",
    "\n",
    "#### What is a Bar Chart?\n",
    "* A bar chart (also called a bar graph) is a type of plot that uses rectangular bars to represent the value of a categorical variable. The length (or height) of each bar is proportional to the value it represents.\n",
    "* **Key Features:**\n",
    "    * **X-axis (usually):** Represents the categories being compared.\n",
    "    * **Y-axis (usually):** Represents the numerical value associated with each category.\n",
    "    * **Bars:** Rectangular bars, either vertical (more common) or horizontal, representing each category. The length/height of the bar corresponds to the value.\n",
    "    * **Discrete Data:** Bar charts are best suited for _discrete_ categorical data, where the categories are distinct and separate. (Histograms, in contrast, are used for _continuous_ numerical data).\n",
    "\n",
    "#### When to Use Bar Charts?\n",
    "Bar charts are excellent for:\n",
    "* **Comparing values across categories:** Showing the differences in magnitude between different groups.\n",
    "* **Displaying frequencies or counts:** Showing how many items fall into each category.\n",
    "* **Tracking changes over time (for a limited number of time points):** If you have data for a few distinct time periods, a bar chart can be used to show changes. For many time points, a line graph is usually better.\n",
    "* **Ranking:** Displaying ranked values.\n",
    "\n",
    "#### Creating Bar Charts with Matplotlib and Pandas\n",
    "\n",
    "```python\n",
    "df.plot(kind='bar', figsize=(10, 6))  # 'kind=bar' creates a vertical bar chart\n",
    "\n",
    "plt.title('Immigration from Iceland to Canada (1980-2013)')\n",
    "plt.xlabel('Year')\n",
    "plt.ylabel('Number of Immigrants')\n",
    "plt.show()\n",
    "\n",
    "```"
   ]
  },
  {
   "cell_type": "markdown",
   "metadata": {},
   "source": [
    "## Specialized Visualization Tools"
   ]
  },
  {
   "cell_type": "markdown",
   "metadata": {},
   "source": [
    "### Pie Charts"
   ]
  },
  {
   "cell_type": "markdown",
   "metadata": {},
   "source": [
    "\n",
    "This section explains what pie charts are, how to create them in Matplotlib, and discusses their limitations and alternatives.\n",
    "\n",
    "#### What is a Pie Chart?\n",
    "* **Definition:** A pie chart is a circular statistical graphic that represents proportions of a whole. The circle is divided into slices (like pieces of a pie), and the size of each slice is proportional to the quantity it represents.\n",
    "* **Key Features:**\n",
    "    * **Circle:** Represents the whole (100%).\n",
    "    * **Slices:** Represent parts of the whole.  The area (and central angle) of each slice is proportional to the value it represents.\n",
    "    * **Proportions:** Pie charts are best for showing *proportions* or *percentages*, not absolute values.\n",
    "\n",
    "#### When to Use (and When *Not* to Use) Pie Charts\n",
    "* **Appropriate Use Cases:**\n",
    "    * Showing the composition of a *single* categorical variable with a *small* number of categories (ideally, fewer than 5-7).\n",
    "    * When you want to emphasize the relative proportions of each category to the *whole*.\n",
    "* **When to *Avoid* Pie Charts (and Why):**\n",
    "    * **Many Categories:** If you have too many categories, the slices become thin and hard to compare.  The chart becomes cluttered and difficult to read.\n",
    "    * **Comparing Values Across Categories:**  Humans are not good at judging relative areas accurately, especially in circular shapes.  It's much harder to compare the sizes of pie slices than the lengths of bars in a bar chart.\n",
    "    * **Showing Changes Over Time:** Pie charts are not suitable for showing trends over time.\n",
    "    * **Comparing Different Datasets:** Comparing multiple pie charts side-by-side is extremely difficult.\n",
    "* **Alternatives to Pie Charts:**\n",
    "    * **Bar Charts:**  Almost always a better choice for comparing categories.  They are much easier to read and interpret accurately.\n",
    "    * **Stacked Bar Charts:**  Can show proportions within categories, similar to a pie chart, but in a more readable format.\n",
    "    * **Treemaps:** Another alternative for visualizing hierarchical data.\n",
    "\n",
    "#### Creating Pie Charts with Matplotlib and Pandas\n",
    "\n",
    "```python\n",
    "colors_list = ['gold', 'yellowgreen', 'lightcoral', 'lightskyblue', 'lightgreen', 'pink']\n",
    "explode_list = [0.1, 0, 0, 0, 0.1, 0.1] # Explode out slices.\n",
    "\n",
    "df_continents['Total'].plot(kind='pie',\n",
    "                            figsize=(15, 6),\n",
    "                            autopct='%1.1f%%',  # Add percentages\n",
    "                            startangle=90,     # Start angle for the first slice\n",
    "                            shadow=True,       # Add a shadow\n",
    "                            labels=None,         # Remove labels from slices, put in legend.\n",
    "                            pctdistance=1.12,    # the ratio between the center of each pie slice and the start of the text generated by autopct\n",
    "                            colors=colors_list,  # Set custom colors\n",
    "                            explode=explode_list # Explode slices\n",
    "                            )\n",
    "\n",
    "plt.title('Immigration to Canada by Continent (1980-2013)', y = 1.1) # y increases the distance of title from the plot\n",
    "plt.axis('equal')  # Equal aspect ratio ensures that pie is drawn as a circle.\n",
    "plt.legend(labels=df_continents.index, loc='upper left') # Add legend\n",
    "plt.show()\n",
    "\n",
    "```"
   ]
  },
  {
   "cell_type": "markdown",
   "metadata": {},
   "source": [
    "### Box Plots with Matplotlib"
   ]
  },
  {
   "cell_type": "markdown",
   "metadata": {},
   "source": [
    "This section explains what box plots (also known as box-and-whisker plots) are, how to interpret them, and how to create them using Matplotlib and Pandas.\n",
    "\n",
    "#### What is a Box Plot?\n",
    "* A box plot is a standardized way of displaying the distribution of numerical data based on five key summary statistics:\n",
    "    * **Minimum:**  The smallest value in the dataset, *excluding outliers*. (More on outliers below.)\n",
    "    * **First Quartile (Q1):**  The 25th percentile.  25% of the data falls below this value.\n",
    "    * **Median (Q2):** The 50th percentile (the middle value). 50% of the data falls below this value.\n",
    "    * **Third Quartile (Q3):** The 75th percentile.  75% of the data falls below this value.\n",
    "    * **Maximum:** The largest value in the dataset, *excluding outliers*.\n",
    "* **Outliers:** Data points that fall significantly outside the main pattern of the data.  Box plots typically identify outliers as points that are:\n",
    "    *   Below Q1 - 1.5 * IQR\n",
    "    *   Above Q3 + 1.5 * IQR\n",
    "    *   Where IQR (Interquartile Range) = Q3 - Q1.  The IQR represents the range of the middle 50% of the data.\n",
    "* **Visual Representation:**\n",
    "    * **Box:**  The box itself represents the interquartile range (IQR), from Q1 to Q3.\n",
    "    * **Line inside the box:**  Represents the median (Q2).\n",
    "    * **Whiskers:** Lines extending from the box.  They typically extend to the minimum and maximum values *within* 1.5 * IQR of the quartiles.\n",
    "    * **Individual Points:**  Outliers are plotted as individual points beyond the whiskers.\n",
    "\n",
    "#### Interpreting a Box Plot\n",
    "A box plot provides a quick visual summary of:\n",
    "* **Central Tendency:**  The median line shows the center of the data.\n",
    "* **Spread (Variability):**  The IQR (the size of the box) and the length of the whiskers show how spread out the data is.  A larger box and longer whiskers indicate greater variability.\n",
    "* **Skewness:**\n",
    "    * **Symmetrical Distribution:**  The median is in the center of the box, and the whiskers are roughly equal in length.\n",
    "    * **Right-Skewed Distribution:**  The median is closer to the bottom of the box, and the right whisker is longer than the left.\n",
    "    * **Left-Skewed Distribution:** The median is closer to the top of the box, and the left whisker is longer than the right.\n",
    "* **Outliers:**  The presence and location of outliers are clearly visible.\n",
    "\n",
    "#### Creating Box Plots with Matplotlib and Pandas\n",
    "\n",
    "```python\n",
    "df_japan.plot(kind='box', figsize=(8, 6))\n",
    "\n",
    "plt.title('Box Plot of Japanese Immigrants to Canada (1980-2013)')\n",
    "plt.ylabel('Number of Immigrants')\n",
    "plt.show()\n",
    "```"
   ]
  },
  {
   "cell_type": "markdown",
   "metadata": {},
   "source": [
    "### Scatter Plots with Matplotlib"
   ]
  },
  {
   "cell_type": "markdown",
   "metadata": {},
   "source": [
    "This section explains what scatter plots are, when to use them, and how to create them using Matplotlib and Pandas.\n",
    "\n",
    "#### What is a Scatter Plot?\n",
    "* A scatter plot is a type of graph that displays the relationship between *two numerical variables*.  Each data point is represented as a point on a two-dimensional plane.\n",
    "* **Key Features:**\n",
    "    * **X-axis:** Represents one numerical variable (often the *independent* variable).\n",
    "    * **Y-axis:** Represents the other numerical variable (often the *dependent* variable).\n",
    "    * **Points:** Each point represents a single observation (e.g., a person, a country, a year). The position of the point is determined by its values on the x and y variables.\n",
    "\n",
    "#### When to Use Scatter Plots\n",
    "Scatter plots are primarily used to:\n",
    "* **Identify Relationships:** Determine if there's a relationship (correlation) between two variables.  This relationship can be:\n",
    "    * **Positive Correlation:** As one variable increases, the other tends to increase (upward trend).\n",
    "    * **Negative Correlation:** As one variable increases, the other tends to decrease (downward trend).\n",
    "    * **No Correlation:** No clear relationship between the variables (points are scattered randomly).\n",
    "* **Identify Outliers:**  Find data points that deviate significantly from the general pattern.\n",
    "* **Identify Clusters:** See if the data points group together in distinct clusters.\n",
    "* **Visualize large datasets**: Scatter plots are very useful when you're dealing with large datasets.\n",
    "\n",
    "#### Creating Scatter Plots with Matplotlib and Pandas\n",
    "\n",
    "```python\n",
    "df_total.plot(kind='scatter', x='Year', y='Total', figsize=(10, 6))\n",
    "\n",
    "plt.title('Total Annual Immigration to Canada (1980-2013)')\n",
    "plt.xlabel('Year')\n",
    "plt.ylabel('Number of Immigrants')\n",
    "plt.show()\n",
    "```"
   ]
  },
  {
   "cell_type": "markdown",
   "metadata": {},
   "source": []
  }
 ],
 "metadata": {
  "language_info": {
   "name": "python"
  }
 },
 "nbformat": 4,
 "nbformat_minor": 2
}
