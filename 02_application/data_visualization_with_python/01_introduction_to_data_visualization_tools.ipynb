{
 "cells": [
  {
   "cell_type": "markdown",
   "metadata": {},
   "source": [
    "# Introduction to Data Visualization Tools"
   ]
  },
  {
   "cell_type": "markdown",
   "metadata": {},
   "source": [
    "## Data Visualization: An Overview"
   ]
  },
  {
   "cell_type": "markdown",
   "metadata": {},
   "source": [
    "### What is Data Visualization?\n",
    "Data visualization is the _graphical representation_ of data and information. It's about taking raw data and turning it into something visual, like a chart, graph, map, or even an interactive dashboard. Think of it as translating numbers and text into a picture that tells a story.\n",
    "\n",
    "**Key idea:** It's not just about making things look pretty; it's about making data _understandable_.\n",
    "\n",
    "### Forms of Data Visualization:\n",
    "* **Basic Charts and Graphics:** These are your everyday tools for representing numerical data:\n",
    "    * **Line graphs:** Show trends over time (e.g., stock prices, temperature changes).\n",
    "    * **Bar charts:** Compare values across categories (e.g., sales by region, population by country).\n",
    "    * **Pie charts:** Show proportions of a whole (e.g., market share, budget allocation).\n",
    "    * **Scatter plots:** Explore relationships between two variables (e.g., height vs. weight, study time vs. exam score).\n",
    "* **Complex Visualizations:** \n",
    "    * **Interactive Dashboards:** Combine multiple charts and graphs to provide a dynamic, real-time view of data. Users can often filter and interact with the data.\n",
    "    * **Maps (e.g., Choro)"
   ]
  },
  {
   "cell_type": "markdown",
   "metadata": {},
   "source": []
  }
 ],
 "metadata": {
  "language_info": {
   "name": "python"
  }
 },
 "nbformat": 4,
 "nbformat_minor": 2
}
