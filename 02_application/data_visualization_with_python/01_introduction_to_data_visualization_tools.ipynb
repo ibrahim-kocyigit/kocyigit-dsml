{
 "cells": [
  {
   "cell_type": "markdown",
   "metadata": {},
   "source": [
    "# Introduction to Data Visualization Tools"
   ]
  },
  {
   "cell_type": "markdown",
   "metadata": {},
   "source": [
    "## Data Visualization: An Overview"
   ]
  },
  {
   "cell_type": "markdown",
   "metadata": {},
   "source": [
    "### What is Data Visualization?\n",
    "Data visualization is the _graphical representation_ of data and information. It's about taking raw data and turning it into something visual, like a chart, graph, map, or even an interactive dashboard. Think of it as translating numbers and text into a picture that tells a story.\n",
    "\n",
    "**Key idea:** It's not just about making things look pretty; it's about making data _understandable_.\n",
    "\n",
    "### Forms of Data Visualization:\n",
    "* **Basic Charts and Graphics:** These are your everyday tools for representing numerical data:\n",
    "    * **Line graphs:** Show trends over time (e.g., stock prices, temperature changes).\n",
    "    * **Bar charts:** Compare values across categories (e.g., sales by region, population by country).\n",
    "    * **Pie charts:** Show proportions of a whole (e.g., market share, budget allocation).\n",
    "    * **Scatter plots:** Explore relationships between two variables (e.g., height vs. weight, study time vs. exam score).\n",
    "* **Complex Visualizations:** \n",
    "    * **Interactive Dashboards:** Combine multiple charts and graphs to provide a dynamic, real-time view of data. Users can often filter and interact with the data.\n",
    "    * **Maps (e.g., Choropleth Maps):** Visualize data geographically. Choropleth maps use color shading to represent data values across regions (e.g., population density, election results).\n",
    "    * **Infographics:** Combine visuals, text, and data to tell a compelling story.\n",
    "\n",
    "### Why is Data Visualization Important?\n",
    "Data visualization isn't just a nice-to-have; it's crucial for several reasons:\n",
    "1. **Understanding Complex Data:** Raw data, especially large datasets, can be overwhelming. Visualization make it easier to grasp the big picture and identify key insights. \n",
    "2. **Highlighting Patterns and Trends:** Visuals can reveal patterns, trends, and relationships that might be hidden in tables of numbers. You can quickly see outliers, clusters, and correlations.\n",
    "3. **Communicating Insights:** Visualizations are a powerful communication tool. They make it easier to explain complex data to others, whether it's your boss, colleagues, or the public. A well-designed chart can be more persuasive than a spreadsheet.\n",
    "4. **Storytelling with Data:** Visualizations allow you to tell a story with your data. You can guide the viewer through the data, highlighting key findings and supporting your conclusions.\n",
    "5. **Making Informed Decisions:** By revealing trends and patterns, visualizations help us make better, data-driven decisions. They can help identify opportunities, spot potential problems, and track progress.\n",
    "\n",
    "### Examples of Data Visualization in Action\n",
    "* **The New York Times (COVID-19):** Used line graphs to track daily new cases and deaths, and bar graphs to show vaccination rates. This helped the public understand the pandemic's impact.\n",
    "* **Airbnb (Smart Pricing):** Uses bar graphs to show hosts the distribution of lead times (how far in advance people book) in their market, helping them optimize pricing.\n",
    "* **Spotify (Spotify Pie):** Creates personalized pie charts showing users their listening habits by genre, artist, and track. This is a fun, engaging way to visualize personal data.\n",
    "* **Netflix (Insight Tool):** Uses dashboards with line graphs, bar plots, and choropleth maps to understand viewership patterns, identify areas for improvement, and address issues quickly.\n",
    "\n",
    "### Use Cases Across Industries\n",
    "Data visualization is valuable in almost every field:\n",
    "* **Business:** Analyzing market trends, financial performance, customer behavior.\n",
    "* **Healthcare:** Identifying patterns in patient data, developing treatment plans.\n",
    "* **Education:** Analyzing student performance, informing teaching strategies.\n",
    "* **Government:** Making data-driven policy decisions, communication with the public.\n",
    "* **Science and Research:** Analyzing complex data, sharing research findings.\n",
    "* **Entertainment:** Understanding audience preferences, determining ratings.\n",
    "\n",
    "### Best Practices for Effective Data Visualization\n",
    "Not all visualizations are created equal. Here are some key principles to follow:\n",
    "1. **Choose the Right Visualization Type:** Match the type of chart to the data and the message you want to convey.\n",
    "2. **Keep it Simple:** Avoid clutter and unnecessary elements. Focus on the most important information. A clean, simple visualization is easier to understand.\n",
    "3. **Label Clearly:** Provide clear labels for axes, data points, and any other relevant elements. Include a title that summarizes the main message. Use a legend to explain symbols and colors.\n",
    "4. **Provide Context:** Help the viewer understand the data by providing context. Explain what the data presents, the units of measurement, and any relevant background information. \n",
    "5. **Consider the Audience:** Think about who will be viewing the visualization and tailor it to their needs and level of understanding. A visualization for a scientific audience might be different from one for the general public.\n",
    "6. **Avoid Misleading Visualizations:** Be careful not to distort the data or create a false impression. For example, starting the y-axis at a value other than zero can exaggerate differences.\n",
    "7. **Use Color Effectively:** Use color strategically to highlight important information, differentiate categories, or show trends. Avoid using too many colors or colors that are difficult to distinguish. Be mindful of colorblindness.\n",
    "8. **Less is More:** Strive for simplicity and clarity. Remove unnecessary elements that don't add value."
   ]
  },
  {
   "cell_type": "markdown",
   "metadata": {},
   "source": [
    "## Types of Plots in Data Visualization"
   ]
  },
  {
   "cell_type": "markdown",
   "metadata": {},
   "source": [
    "This section dives into common types of plots used to visualize data, highlighting their characteristics, use cases, and potential pitfalls.\n",
    "\n",
    "### Common Plot Types\n",
    "1. **Line Plot (Line Chart)**\n",
    "    * Displays data as a series of points connected by straight lines. The independent variable is usually on x-axis and the dependent variable is on y-axis.\n",
    "    * **Uses:**\n",
    "        * **Showing trends over time:** Ideal for time series data (e.g., stock prices, temperature changes, population growth).\n",
    "        * **Comparing datasets with a continuous independent variable:** For example, showing how a response variable changes with age.\n",
    "        * **Illustrating cause-and-effect relationships:** Example, how sales revenue changes with different marketing budgets.\n",
    "        * **Visualizing continuous data:** Such as changes in height measurement over time.\n",
    "    * **Potential Pitfalls:**\n",
    "        * **Misleading scales:** If the axes' scales aren't chosen carefully, the plot can exaggerate or minimize trends. _Always consider starting the y-axis at zer unless there's a strong reason not to_.\n",
    "    * **Example:** A line plot showing a company's revenue over the past 10 years. You'd easily see if revenue is generally increasing, decreasing, or fluctuating.\n",
    "2. **Bar Plot (Bar Chart)**\n",
    "    * Uses rectangular bars to represent the data. The height (for vertical bars) or length (for horizontal bars) of each bar corresponds to the magnitude of the data.\n",
    "    * **Types:**\n",
    "        * **Vertical bar chart (column chart):** Bars are oriented vertically.\n",
    "        * **Horizontal bar chart:** Bars are oriented horizontally.\n",
    "    * **Uses:**\n",
    "        * **Comparing categories or groups:** Excellent for comparing discrete data (e.g., sales by region, population by country, number of students in different majors).\n",
    "        * **Showing contributions to a whole:** Like a pie chart, but often easier to compare individual categories. \n",
    "        * **Visualizing rankings:** Displaying the top-selling products, most popular movies, etc.\n",
    "    * **Potential Pitfalls:**\n",
    "        * **Inaccurate bar choices/scales:** Similar to line plots, starting the y-axis at a value other than zero can distort the visual comparison.\n",
    "    * **Example:** A bar chart comparing the sales of different product categories. You could easily see which category generates the most revenue.\n",
    "3. **Scatter Plot**\n",
    "    * Displays values for two variables as a collection of points. Each point's position is determined by its values on the horizontal (x) and vertical (y) axes.\n",
    "    * **Uses:**\n",
    "        * **Examining relationships between two continuous variables:** Is there a correlation? Is it positive, negative, or no correlation? (e.g., height vs. weight, advertising spending vs. sales).\n",
    "        * **Investigating patterns and trends:** Looking for clusters, linear relationships, or other patterns.\n",
    "        * **Detecting outliers:** Identifying unusual data points that deviate significantly from the overall pattern.\n",
    "        * **Visualizing with many observations:** Identify clusters.\n",
    "    * **Example:** A scatter plot of study hours vs. exam scores. You might see a positive correlation, but there might also be outliers (students who studied a lot but did poorly, or vice versa).\n",
    "4. **Box Plot (Box and Whisker Plot)**\n",
    "    * Displays the distribution of a dataset, showing key statistical measures.\n",
    "        * **Box:** Represents the interquartile range (IQR), which contains the middle 50% of the data.\n",
    "        * **Line inside the box:** Represents the median (the middle value).\n",
    "        * **Whiskers:** Extend from the box to show the range of the data (excluding outliers).\n",
    "        * **Outliers:** Often plotted as individual points beyond the whiskers.\n",
    "    * **Uses:**\n",
    "        * **Comparing distributions across categories:** Comparing the salaries of employees in different departments, the test scores of students in different schools, etc.\n",
    "        * **Examining the spread and skewness:** How spread out is the data? Is it symmetrical or skewed to one side?\n",
    "        * **Visualizing quartiles and outliers:** Quickly see the median, IQR, and potential outliers.\n",
    "        * **Comparing multiple variables:** Distributions of multiple variables can be compared side by side.\n",
    "    * **Potential Pitfalls:**\n",
    "        * **Outliers:** As with scatter plots, outliers can significantly impact the interpretation. You need to consider them carefully.\n",
    "    * **Example:** Comparing exam scores between different classes using box plot.\n",
    "5. **Histogram**\n",
    "    * Shows the distribution of a _single_ numerical variable. It divides the data into intervals (bins) and displays the frequency (count) or relative frequency (proportion) of data points within each bin using bars.\n",
    "    * **Uses:**\n",
    "        * **Understanding data distribution:** Is the data symmetrical, skewed, bimodal (having two peaks), or uniform?\n",
    "        * **Assessing skewness:** Is the data skewed to the left (long tail on the left) or right (long tail on the right)?\n",
    "        * **Identifying outliers (potentially):** Very sparsely populated bins at the extremes might indicate outliers.\n",
    "        * **Showcasing data variability:** Observe concentrations, gaps, and clusters.\n",
    "    * **Potential Pitfalls:**\n",
    "        * **Bin choice:** The number and width of bins can significantly affect the appearance of the histogram. Too few bins can oversimplify the distribution; too many can make it look noisy. There's no single _right_ number of bins; it depends on the data.\n",
    "        * **Scale and labeling:** Ensure clear labels for the axes and appropriate scales.\n",
    "    * **Example:** A histogram of the ages of customers in a database. You could see if the customer base is mostly young, old, or evenly distributed."
   ]
  },
  {
   "cell_type": "markdown",
   "metadata": {},
   "source": [
    "## Plot Libraries in Python"
   ]
  },
  {
   "cell_type": "markdown",
   "metadata": {},
   "source": [
    "This section introduces several popular Python libraries used for data visualization, outlining their features, strengths, and typical use cases.\n",
    "\n",
    "### Introduction\n",
    "Python offers a rich ecosystem of libraries designed to make creating visualizations easier and more powerful. These libraries provide different levels of abstraction and specialize in various types of visualizations.\n",
    "\n",
    "### Popular Plot Libraries\n",
    "1. **Matplotlib**\n",
    "    * The foundation of much og Python's visualization landscape. It's general-purpose, highly customizable library offering a wide variety of plot types. It is highly inspired by MATLAB plotting system.\n",
    "    * **Key Features:**\n",
    "        * **Wide range of plots:** Line plots, scatter plots, bar charts, histograms, pie charts, box plots, heatmaps, and many more.\n",
    "        * **Extensive customization:** Control over colors, line styles, marker styles, axis labels, titles, legends, annotations, and almost every aspect of the plot.\n",
    "        * **Integration:** Works seamlessly with NumPy (for numeric operations) and Pandas (for data manipulation). Many other libraries (like Seaborn and Plotly) build upon Matplotlib.\n",
    "        * **Community support:** A large and active community means excessive documentation, tutorials, and examples are available.\n",
    "    * **Use Cases:** Virtually any type of static plot. It's the go-to library for creating basic and customized visualizations. \n",
    "2. **Pandas (Built-in Plotting)**\n",
    "    * Primarily a data manipulation library, Pandas also provides convenient plotting functions directly on DataFrames and Series. These functions are built on top of Matplotlib.\n",
    "    * **Key features:**\n",
    "        * **Ease of use:** Create basic plots directly from your data with simple commands (e.g., `df.plot(kind='bar')`).\n",
    "        * **Integration with data structures:** Seamlessly works with Pandas DataFrames and Series.\n",
    "        * **Common plot types:** Line plots, scatter plots, bar charts, histograms, pie charts.\n",
    "        * **Leverages Matplotlib:** You implicitly use Matplotlib when you're using Pandas plotting capabilities.\n",
    "    * **Use Cases:** Exploratory Data Analysis (EDA). Quickly visualizing data during the analysis process.\n",
    "3. **Seaborn** \n",
    "    * A higher-level library built on top of Matplotlib, specializing in statistical visualizations. It provides attractive default styles and color palettes.\n",
    "    * **Key Features:**\n",
    "        * **Statistical plots:** Categorical plots, count plots, heatmaps, violin plots, distribution plots, regression plots, and more.\n",
    "        * **Aesthetics:** Beautiful default styles and color palettes make it easy to create visually appealing plots.\n",
    "        * **Grid layouts:** Functions for creating grids of plots to compare multiple variables or subgroups.\n",
    "        * **Pandas integration:** Works directly with Pandas DataFrames. \n",
    "    * **Use Cases:** Statistical data exploration and visualization. Creating visually appealing and informative plots with minimal code.\n",
    "4. **Folium**\n",
    "    * Specializes in creating interactive maps for geospatial data visualization. It leverages the Leaflet.js JavaScript library.\n",
    "    * **Key Features:**\n",
    "        * **Interactive maps:** Create maps that users can zoom, pan, and interact with.\n",
    "        * **Geospatial visualizations:** Choropleth maps (color-coded regions), point maps (markers on a map), heatmaps.\n",
    "        * **Customization:** Control ever map tiles, markers, popups, and other map elements.\n",
    "        * **Pandas/NumPy integration:** Easily use data from Pandas DataFrames and NumPy arrays.\n",
    "    * **Use Cases:** Visualizing data with a geographic component (e.g., population density, crime rates, election results).\n",
    "5. **Plotly**\n",
    "    * Focuses on creating interactive and dynamic visualizations, particularly for web-based applications and dashboards.\n",
    "    * **Key Features:**\n",
    "        * **Interactivity:** Plots are highly interactive, allowing users to zoom, pan, hover for details, and select data points.\n",
    "        * **Wide range of plots:** Line plots, scatter plots, bar charts, pie charts, 3D plots, choropleth maps, and many more.\n",
    "        * **Plotly Dash:** A framework for building interactive web-based dashboards with Plotly visualizations and custom controls.\n",
    "        * **Web-based:** Plots are rendered in web browsers, making them easy to share online.\n",
    "    * **Use Cases:** Creating interactive visualizations for web applications, dashboards, and presentations.\n",
    "6. **PyWaffle**\n",
    "    * A specialized library for creating waffle charts, which are a visually appealing way to represent proportions.\n",
    "    * **Key Features:**\n",
    "        * **Waffle charts:** Visualize categorical data using squares or rectangles to represent proportions.\n",
    "        * **Square pie charts:** Alternative visualization of proportions.\n",
    "        * **Donut charts:** Creates donut charts.\n",
    "        * **Simplicity:** Easy to use for creating this specific type of visualization.\n",
    "    * **Use cases:** Representing proportions in a visually engaging way, particularly for categorical data."
   ]
  },
  {
   "cell_type": "markdown",
   "metadata": {},
   "source": [
    "## Introduction to Matplotlib"
   ]
  },
  {
   "cell_type": "markdown",
   "metadata": {},
   "source": [
    "This section provides an overview of Matplotlib, a fundamental Python library for data visualization, including its history, architecture, and basic concepts.\n",
    "\n",
    "### What is Matplotlib?\n",
    "Matplotlib is one of the most widely used data visualization libraries in Python. It provides a wide array of tools for creating static, interactive, and animated visualizations in Python. Think of it as the foundation upon which many other plotting libraries are built.\n",
    "\n",
    "### History and Motivation\n",
    "* **Creator:** John Hunter, an American neurobiologist.\n",
    "* **Original Purpose:** Developed as a tool to visualize EEG (electroencephalogram) and ECoG (electrocorticography) signals. It was designed to emulate the plotting capabilities of MATLAB.\n",
    "* **Problem:** Hunter's research team had only once license for proprietary software, creating a bottleneck.\n",
    "* **Solution:** Matplotlib was created as an open-source alternative that could be used and extended by multiple researches.\n",
    "\n",
    "### Matplotlib's Architecture\n",
    "Matplotlib's architecture is layered, which provides flexibility and different aspects of plot creation. It consists of three main layers:\n",
    "1. **Backend Layer:**\n",
    "    * Handles the low-level details of rendering plots to different output formats (e.g., PNG, SVG, PDF, interactive displays).\n",
    "    * **Key Components:**\n",
    "        * **`FigureCanvas`:** Defines the area where the figure is drawn (think of it as the \"canvas\" or \"page\").\n",
    "        * **`Renderer`:** Knows how to draw on the `FigureCanvas`. Different renderers handle different output formats.\n",
    "        * **`Event`:** Handles user interactions like mouse clicks and keyboard presses (for interactive plots).\n",
    "    * **Note:** Beginners rarely interact directly with the backend layer.\n",
    "2. **Artist Layer:**\n",
    "    * Provides a high-level, object oriented interface for creating and manipulating plot elements. Everything you see in a Matplotlib figure is an \"Artist\" object.\n",
    "    * **Types of Artist Objects:**\n",
    "        * **Primitive artists:** Basic geometric shapes and text elements (e.g., `Line2D`, `Rectangle`, `Circle`, `Text`).\n",
    "        * **Composite artists:** Collections of other Artist objects (e.g. `Axis`, `Tick`, `Axes`, `Figure`)\n",
    "    * **Key Concepts:**\n",
    "        * **`Figure`:** The top-level container that holds all the elements of a plot.\n",
    "        * **`Axes`:** Represents an individual plot within a figure. It contains the axis (x-axis, y-axis, and potentially a z-axis in 3D plots), the data, the labels, the title, etc. Most plotting commands are applied to an `Axes` object.\"\n",
    "        * Composite artists can contain other composite artists and primitive artists. (e.g., A `Figure` can contain multiple `Axes`, and each `Axes` can contain `Line2D` objects, `Text` objects, etc.).\n",
    "    * **Note:** The artist layer is suitable for more advanced users and developers who need fine-grained control over their plots.\n",
    "3. **Scripting Layer (Pyplot):**\n",
    "    * Provides a simpler, MATLAB-like interface for creating plots. It's the most commonly used layer for everyday data visualization tasks.\n",
    "    * **Key Component:** `matplotlib.pyplot` (often imported as `plt`)\n",
    "    * **How it Works:** `pyplot` automatically manages the creation of `Figure` and `Axes` objects behind the scenes, making it easier to quickly generate plots.\n",
    "    * **Example:**"
   ]
  },
  {
   "cell_type": "code",
   "execution_count": 1,
   "metadata": {},
   "outputs": [
    {
     "data": {
      "image/png": "[encoded data removed]",
      "text/plain": [
       "<Figure size 640x480 with 1 Axes>"
      ]
     },
     "metadata": {},
     "output_type": "display_data"
    }
   ],
   "source": [
    "import matplotlib.pyplot as plt\n",
    "import numpy as np\n",
    "\n",
    "# Generate some random data\n",
    "x = np.random.randn(10000)\n",
    "\n",
    "# Create a histogram using the pyplot interface\n",
    "plt.hist(x, bins=100) # Creates the histogram\n",
    "plt.xlabel(\"Value\") # Adds an x-axis label\n",
    "plt.ylabel(\"Frequency\") # Adds and y-axis label\n",
    "plt.title(\"Histogram of Random Numbers\") # Adds a title\n",
    "plt.show() # Displays the plot"
   ]
  },
  {
   "cell_type": "markdown",
   "metadata": {},
   "source": [
    "* **Note:** The `plt.hist()` function creates and manipulates Artist objects behind the scenes, but you don't have to deal with them directly.\n",
    "\n",
    "### Anatomy of a Figure\n",
    "Understanding the different components of a Matplotlib plot is crucial:\n",
    "\n",
    "![Anatomy of a Plot](../../assets/figures/anatomy_of_a_plot.png)"
   ]
  },
  {
   "cell_type": "markdown",
   "metadata": {},
   "source": [
    "## Basic Plotting with Matplotlib in Jupyter Notebooks"
   ]
  },
  {
   "cell_type": "markdown",
   "metadata": {},
   "source": [
    "This section covers how to use Matplotlib within Jupyter Notebooks, focusing on basic plotting using the `pyplot` interface and leveraging Pandas' built-in plotting capabilities.\n",
    "\n",
    "### Introduction\n",
    "Matplotlib is a versatile library that can be used in various environments:\n",
    "* Python scripts\n",
    "* Python and iPython shells\n",
    "* Web application servers\n",
    "* Graphical User Interface (GUI) toolkits\n",
    "* **Jupyter Notebooks** (the focus of this section)\n",
    "\n",
    "### Jupyter Notebook and Matplotlib\n",
    "Jupyter Notebook is an open-source web application that allows you to create and share documents containing live code, visualizations, and explanatory text. It has excellent built-in support for Matplotlib.\n",
    "\n",
    "### Basic Plotting Example\n",
    "Here's how to create a simple plot with a single point:"
   ]
  },
  {
   "cell_type": "code",
   "execution_count": 1,
   "metadata": {},
   "outputs": [
    {
     "data": {
      "image/png": "[encoded data removed]",
      "text/plain": [
       "<Figure size 640x480 with 1 Axes>"
      ]
     },
     "metadata": {},
     "output_type": "display_data"
    }
   ],
   "source": [
    "# Import pyplot interface from the matplotlib library as plt\n",
    "import matplotlib.pyplot as plt\n",
    "\n",
    "# Plott a a circle 'o' at coordinates (5,5)\n",
    "plt.plot(5, 5, 'o')\n",
    "\n",
    "# Display the plot \n",
    "plt.show()"
   ]
  },
  {
   "cell_type": "markdown",
   "metadata": {},
   "source": [
    "* Let's explain `plt.plot(5, 5, 'o')` command:\n",
    "    * The first argument `5` is the x-coordinate.\n",
    "    * The second argument `5` is the y-coordinate.\n",
    "    * The third argument `o` is a format string that specifies the marker style (in this case, a circle). Other common markers include: `.` for Point marker, `x` for X marker, `+` for Plus marker, `-` for Line marker, `--` for Dashed Line marker, and `s` for Square marker.\n",
    "* `plt.show()` command displays the plot. In some environments (like a script), this is essential. In Jupyter Notebooks it's often optional because the output is displayed automatically, but it's good practice to include it.\n",
    "\n",
    "### Matplotlib Backends in Jupyter\n",
    "Matplotlib uses \"backends\" to handle how plots are rendered. In Jupyter, you can control the backend using magic commands (commands that start with `%`). Two important backends are:\n",
    "1. **`%matplotlib inline`**\n",
    "    * **Purpose:** Displays the plot _within_ the browser, directly below the code cell that generated them.\n",
    "    * **Limitation:** Once a plot is rendered, you _cannot_ modify it. You have to create a new plot to make changes.\n",
    "    * **Usage:** Place the command at the beginning of your notebook (usually in the first cell).\n",
    "2. **`%matplotlib notebook`**\n",
    "    * **Purpose:** Creates _interactive_ plots within the notebook. You can zoom, pan, and modify the plot _after_ it's been rendered.\n",
    "    * **Benefit:** Allows for more dynamic exploration of the data.\n",
    "    * **Usage:** Place the command at the beginning of your notebook.\n",
    "\n",
    "### Adding Labels and Titles (with `%matplotlib notebook`)\n"
   ]
  }
 ],
 "metadata": {
  "kernelspec": {
   "display_name": ".venv",
   "language": "python",
   "name": "python3"
  },
  "language_info": {
   "codemirror_mode": {
    "name": "ipython",
    "version": 3
   },
   "file_extension": ".py",
   "mimetype": "text/x-python",
   "name": "python",
   "nbconvert_exporter": "python",
   "pygments_lexer": "ipython3",
   "version": "3.13.1"
  }
 },
 "nbformat": 4,
 "nbformat_minor": 2
}
