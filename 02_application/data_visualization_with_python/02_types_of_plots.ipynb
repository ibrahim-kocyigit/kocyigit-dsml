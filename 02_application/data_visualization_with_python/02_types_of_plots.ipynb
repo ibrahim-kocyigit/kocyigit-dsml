{
 "cells": [
  {
   "cell_type": "markdown",
   "metadata": {},
   "source": [
    "##### Data Visualization with Python\n",
    "---"
   ]
  },
  {
   "cell_type": "markdown",
   "metadata": {},
   "source": [
    "# 2. Types of Plots"
   ]
  },
  {
   "cell_type": "markdown",
   "metadata": {},
   "source": [
    "## 2.1 Line Plot (Line Chart)\n",
    "A line plot, also known as a line chart, displays data as a series of points connected by straight line segments. It's a fundamental chart type used to visualize trends and changes in data over a continuous interval, most commonly *time*. The independent variable (often time) is plotted on the x-axis, and the dependent variable is plotted on the y-axis.\n",
    "\n",
    "### Suitable Variable Types\n",
    "* **X-axis (Independent Variable):** Usually a continuous variable, most often representing time (e.g., years, months, days) or another ordered quantity. Can be ordinal or interval/ratio level data. While less common, the x-axis *could* represent categories if those categories have a clear, inherent order (e.g., stages of a process), but a bar chart is often better in those cases.\n",
    "* **Y-axis (Dependent Variable):** Typically a numerical variable (interval or ratio level data). The y-axis shows the value of the variable that is changing in response to the independent variable.\n",
    "\n",
    "### Use Cases\n",
    "1. **Showing Trends Over Time (Time Series Data):** This is the most common use case. Examples include:\n",
    "    * Stock prices over days, months, or years.\n",
    "    * Temperature fluctuations over a period.\n",
    "    * Population growth over time.\n",
    "    * Company revenue or profit over quarters or years.\n",
    "    * Website traffic over days or weeks.\n",
    "2. **Visualizing Continuous Changes:** Line plots are effective for showing how a variable changes continuously in response to another, even if the independent variable isn't strictly time. Examples include:\n",
    "    * The relationship between speed and fuel efficiency of a car.\n",
    "    * The change in a chemical reaction rate with increasing temperature.\n",
    "    * The growth of a plant in relation to the amount of sunlight it receives.\n",
    "3. **Comparing Multiple Series:** Line plots can display multiple lines on the same graph, making it easy to compare trends across different groups or categories.  For example:\n",
    "    * Comparing the stock prices of several different companies.\n",
    "    * Tracking the sales of different product lines over time.\n",
    "    * Comparing the growth rates of different populations.\n",
    "4. **Highlighting Patterns:** Can show patterns, fluctuations, increases, decreases, and rates of change.\n",
    "\n",
    "**Potential Pitfalls:**\n",
    "* **Misleading Scales:**  The choice of scale on the y-axis can dramatically alter the perception of the trend.  A truncated y-axis (not starting at zero) can exaggerate changes, while an overly wide y-axis range can minimize them.  It's crucial to choose scales thoughtfully and ethically.  Always consider starting at zero unless there's a very strong and justifiable reason not to.\n",
    "* **Overplotting (Too Many Lines):** If you plot too many lines on the same graph, it can become cluttered and difficult to interpret.  Consider using separate plots, small multiples, or interactive features (like tooltips or toggles) to handle many series.\n",
    "* **Interpolation Issues:** The straight lines connecting data points *imply* a continuous trend, even if the underlying data is only collected at discrete intervals.  Be cautious about interpreting values *between* the plotted points, especially if the data is sparse or the underlying phenomenon isn't truly continuous.\n",
    "* **Ignoring Irregular Intervals:** If the data points are *not* evenly spaced along the x-axis (e.g., unevenly spaced time intervals), a standard line plot can be misleading.  It will visually distort the rate of change.  In such cases, consider a scatter plot with connected points, or explicitly indicate the uneven intervals.\n",
    "* **Extrapolation:** Extending a trend line beyond the observed time frame.\n",
    "* **Causation vs Correlation:** Easy to assume causation.\n",
    "\n",
    "**Example (Conceptual):**\n",
    "Imagine plotting the monthly average temperature in a city over several years. The x-axis would represent time (months and years), and the y-axis would represent temperature. The line plot would clearly show the seasonal temperature cycle, any long-term warming or cooling trends, and potentially any unusual temperature spikes or dips."
   ]
  },
  {
   "cell_type": "markdown",
   "metadata": {},
   "source": []
  }
 ],
 "metadata": {
  "language_info": {
   "name": "python"
  }
 },
 "nbformat": 4,
 "nbformat_minor": 2
}
