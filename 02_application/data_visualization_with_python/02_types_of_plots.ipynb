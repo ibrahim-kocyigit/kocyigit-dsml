{
 "cells": [
  {
   "cell_type": "markdown",
   "metadata": {},
   "source": [
    "##### _Data Visualization with Python_\n",
    "---"
   ]
  },
  {
   "cell_type": "markdown",
   "metadata": {},
   "source": [
    "# Types of Plots\n",
    "This notebook provides a concise overview of common plot types used in data visualization, categorized by their primary purpose. Each entry includes a brief description, typical use cases, and potential pitfalls. For detailed explanations and practical code examples, click on the name of the plot.\n",
    "\n",
    "### Relationships\n",
    "1. [**Scatter Plot**](notebooks/scatter_plot.ipynb): Displays the relationship between two numerical variables. Each data point is represented as a point on a two-dimensional plane. Used for identifying correlations, outliers, and clusters.\n",
    "2. [**Scatter Plot with a Regression Line**](notebooks/regression_plot.ipynb): A scatter plot with an added line representing the \"best fit\" relationship between the variables. Used for visualizing and quantifying linear or non-linear relationships, making predictions.\n",
    "3. [**Bubble Chart**](notebooks/bubble_chart.ipynb): A scatter plot variation where the size of each point (bubble) represents a third numerical variable. Used for showing relationships between three variables, highlighting magnitude.\n",
    "4. [**Heatmap**](notebooks/heatmap.ipynb): Uses color to represent the values in a matrix. Used for visualizing correlation matrices, contingency tables and identifying clusters/patterns.\n",
    "\n",
    "### Distributions\n",
    "1. [**Histogram**](notebooks/histogram.ipynb): Shows the frequency distribution of a single numerical variable using bins. Used for visualizing distribution shape, identifying central tendency, outliers.\n",
    "2. [**Box Plot (Box-and-Whisker Plot)**](notebooks/box_plot.ipynb): Displays the distribution of numerical data through five key summary statistics (min, Q1, median, Q3, max) and outliers. Used for comparing distributions, identifying outliers, assessing symmetry/skewness.\n",
    "3. [**Violin Plot**](notebooks/violin_plot.ipynb): Combines aspects of box plots and kernel density plots to show the distribution of a numerical variable. Used for comparing distributions, visualizing distribution shape (modality, skewness).\n",
    "4. [**Density Plot (Kernel Density Estimate - KDE Plot)**](notebooks/density_plot.ipynb): A smoothed representation of the distribution of a numerical variable. Used for visualizing distribution shape, comparing distributions, smoothing noisy data.\n",
    "5. [**Cumulative Distribution Plot (CDF Plot)**](notebooks/cdf_plot.ipynb): Shows the proportion of data points less than or equal to each value of a numerical variable. Used for visualizing the entire distribution, finding percentiles, comparing distributions.\n",
    "\n",
    "### Comparisons\n",
    "1. [**Bar Chart (Bar Graph)**](notebooks/bar_chart.ipynb): Uses rectangular bars to represent the value of a categorical variable. Used for comparing values across categories, displaying frequencies.\n",
    "2. [**Grouped Bar Chart (Clustered Bar Chart)**](notebooks/grouped_bar_chart.ipynb): Displays multiple bars for each category, representing different sub-categories or variables. Used for comparing subgroups within categories, showing changes over time (few time points).\n",
    "3. [**Stacked Bar Chart**](notebooks/stacked_bar_chart.ipynb): Displays bars stacked on top of each other, representing the contribution of each sub-category to the total. Used for showing part-to-whole relationships, comparing totals across categories.\n",
    "4. [**Line Plot (Line Chart)**](notebooks/line_plot.ipynb): Displays data as points connected by lines, used to visualize trends over time. Used for showing trends over time, comparing multiple series.\n",
    "5. [**Heatmap**](notebooks/heatmap.ipynb): Uses color to represent the values in a matrix. Used for visualizing correlation matrices, contingency tables and identifying clusters/patterns.\n",
    "6. [**Pivot Chart**](notebooks/pivot_chart.ipynb): A visualization based on a pivot table, which summarizes and aggregates data. Used for dynamically comparing values across multiple categories and subcategories, often using bar or line charts\n",
    "\n",
    "### Part-to-Whole\n",
    "1. [**Pie Chart**](notebooks/pie_chart.ipynb): A circular chart divided into slices representing proportions of a whole. Used for showing composition of a whole (with few categories).\n",
    "2. [**Waffle Chart**](notebooks/waffle_chart.ipynb): Uses a grid of squares to represent proportions. Used for showing part-to-whole relationships, visualizing progress.\n",
    "3. [**Stacked Bar Chart**](notebooks/stacked_bar_chart.ipynb): Displays bars stacked on top of each other, representing the contribution of each sub-category to the total. Used for showing part-to-whole relationships, comparing totals across categories.\n",
    "4. [**Area Plot**](notebooks/area_plot.ipynb): Displays the magnitude and proportion of *multiple* numerical variables over a continuous interval (usually time). It's similar to a line plot, but the area below the line(s) is filled with color, emphasizing the *cumulative* contribution of each variable. Used for showing the composition, comparing proportions.\n",
    "5. [**Treemap**](notebooks/treemap.ipynb): Displays hierarchical data as nested rectangles, where the area of each rectangle is proportional to its value. Used for visualizing part-to-whole relationships and hierarchical structures. \n",
    "\n",
    "### Text Visualization\n",
    "1. [**Word Cloud**](notebooks/word_cloud.ipynb): Visual representation of text data where word size is proportional to frequency. Used for identifying key themes, summarizing text content.\n",
    "\n",
    "### Geospatial Visualization\n",
    "1. [**Choropleth Map**](notebooks/choropleth_map.ipynb): Uses color shading to represent data values across geographical regions (e.g., countries, states, counties). Used for visualizing data that varies by location."
   ]
  }
 ],
 "metadata": {
  "language_info": {
   "name": "python"
  }
 },
 "nbformat": 4,
 "nbformat_minor": 2
}
