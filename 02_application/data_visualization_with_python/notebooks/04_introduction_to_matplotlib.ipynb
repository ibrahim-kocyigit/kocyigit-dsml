{
 "cells": [
  {
   "cell_type": "markdown",
   "metadata": {},
   "source": [
    "# Introduction to Matplotlib"
   ]
  },
  {
   "cell_type": "markdown",
   "metadata": {},
   "source": [
    "This section provides an overview of Matplotlib, a fundamental Python library for data visualization, including its history, architecture, and basic concepts.\n",
    "\n",
    "### What is Matplotlib?\n",
    "Matplotlib is one of the most widely used data visualization libraries in Python. It provides a wide array of tools for creating static, interactive, and animated visualizations in Python. Think of it as the foundation upon which many other plotting libraries are built.\n",
    "\n",
    "### History and Motivation\n",
    "* **Creator:** John Hunter, an American neurobiologist.\n",
    "* **Original Purpose:** Developed as a tool to visualize EEG (electroencephalogram) and ECoG (electrocorticography) signals. It was designed to emulate the plotting capabilities of MATLAB.\n",
    "* **Problem:** Hunter's research team had only once license for proprietary software, creating a bottleneck.\n",
    "* **Solution:** Matplotlib was created as an open-source alternative that could be used and extended by multiple researches.\n",
    "\n",
    "### Matplotlib's Architecture\n",
    "Matplotlib's architecture is layered, which provides flexibility and different aspects of plot creation. It consists of three main layers:\n",
    "1. **Backend Layer:**\n",
    "    * Handles the low-level details of rendering plots to different output formats (e.g., PNG, SVG, PDF, interactive displays).\n",
    "    * **Key Components:**\n",
    "        * **`FigureCanvas`:** Defines the area where the figure is drawn (think of it as the \"canvas\" or \"page\").\n",
    "        * **`Renderer`:** Knows how to draw on the `FigureCanvas`. Different renderers handle different output formats.\n",
    "        * **`Event`:** Handles user interactions like mouse clicks and keyboard presses (for interactive plots).\n",
    "    * **Note:** Beginners rarely interact directly with the backend layer.\n",
    "2. **Artist Layer:**\n",
    "    * Provides a high-level, object oriented interface for creating and manipulating plot elements. Everything you see in a Matplotlib figure is an \"Artist\" object.\n",
    "    * **Types of Artist Objects:**\n",
    "        * **Primitive artists:** Basic geometric shapes and text elements (e.g., `Line2D`, `Rectangle`, `Circle`, `Text`).\n",
    "        * **Composite artists:** Collections of other Artist objects (e.g. `Axis`, `Tick`, `Axes`, `Figure`)\n",
    "    * **Key Concepts:**\n",
    "        * **`Figure`:** The top-level container that holds all the elements of a plot.\n",
    "        * **`Axes`:** Represents an individual plot within a figure. It contains the axis (x-axis, y-axis, and potentially a z-axis in 3D plots), the data, the labels, the title, etc. Most plotting commands are applied to an `Axes` object.\"\n",
    "        * Composite artists can contain other composite artists and primitive artists. (e.g., A `Figure` can contain multiple `Axes`, and each `Axes` can contain `Line2D` objects, `Text` objects, etc.).\n",
    "    * **Note:** The artist layer is suitable for more advanced users and developers who need fine-grained control over their plots.\n",
    "3. **Scripting Layer (Pyplot):**\n",
    "    * Provides a simpler, MATLAB-like interface for creating plots. It's the most commonly used layer for everyday data visualization tasks.\n",
    "    * **Key Component:** `matplotlib.pyplot` (often imported as `plt`)\n",
    "    * **How it Works:** `pyplot` automatically manages the creation of `Figure` and `Axes` objects behind the scenes, making it easier to quickly generate plots.\n",
    "    * **Example:**"
   ]
  },
  {
   "cell_type": "code",
   "execution_count": null,
   "metadata": {
    "vscode": {
     "languageId": "plaintext"
    }
   },
   "outputs": [],
   "source": [
    "import matplotlib.pyplot as plt\n",
    "import numpy as np\n",
    "\n",
    "# Generate some random data\n",
    "x = np.random.randn(10000)\n",
    "\n",
    "# Create a histogram using the pyplot interface\n",
    "plt.hist(x, bins=100) # Creates the histogram\n",
    "plt.xlabel(\"Value\") # Adds an x-axis label\n",
    "plt.ylabel(\"Frequency\") # Adds and y-axis label\n",
    "plt.title(\"Histogram of Random Numbers\") # Adds a title\n",
    "plt.show() # Displays the plot"
   ]
  },
  {
   "cell_type": "markdown",
   "metadata": {},
   "source": [
    "* **Note:** The `plt.hist()` function creates and manipulates Artist objects behind the scenes, but you don't have to deal with them directly.\n",
    "\n",
    "### Anatomy of a Figure\n",
    "Understanding the different components of a Matplotlib plot is crucial:\n",
    "\n",
    "![Anatomy of a Plot](../assets/anatomy_of_a_plot.png)"
   ]
  },
  {
   "cell_type": "markdown",
   "metadata": {},
   "source": []
  }
 ],
 "metadata": {
  "language_info": {
   "name": "python"
  }
 },
 "nbformat": 4,
 "nbformat_minor": 2
}
