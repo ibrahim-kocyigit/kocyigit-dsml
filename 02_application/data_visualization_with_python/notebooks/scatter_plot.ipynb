{
 "cells": [
  {
   "cell_type": "markdown",
   "metadata": {},
   "source": [
    "# Scatter Plot"
   ]
  },
  {
   "cell_type": "markdown",
   "metadata": {},
   "source": [
    "A scatter plot is a type of graph that displays the relationship between *two numerical variables*.  Each data point is represented as a point on a two-dimensional plane.\n",
    "\n",
    "* **Key Features:**\n",
    "    * **X-axis:** Represents one numerical variable (often the *independent* variable).\n",
    "    * **Y-axis:** Represents the other numerical variable (often the *dependent* variable).\n",
    "    * **Points:** Each point represents a single observation (e.g., a person, a country, a year). The position of the point is determined by its values on the x and y variables.\n",
    "\n",
    "### When to Use Scatter Plots\n",
    "Scatter plots are primarily used to:\n",
    "* **Identify Relationships:** Determine if there's a relationship (correlation) between two variables.  This relationship can be:\n",
    "    * **Positive Correlation:** As one variable increases, the other tends to increase (upward trend).\n",
    "    * **Negative Correlation:** As one variable increases, the other tends to decrease (downward trend).\n",
    "    * **No Correlation:** No clear relationship between the variables (points are scattered randomly).\n",
    "* **Identify Outliers:**  Find data points that deviate significantly from the general pattern.\n",
    "* **Identify Clusters:** See if the data points group together in distinct clusters.\n",
    "* **Visualize large datasets**: Scatter plots are very useful when you're dealing with large datasets."
   ]
  },
  {
   "cell_type": "markdown",
   "metadata": {},
   "source": [
    "### Creating Scatter Plots with Matplotlib"
   ]
  },
  {
   "cell_type": "code",
   "execution_count": null,
   "metadata": {},
   "outputs": [],
   "source": []
  },
  {
   "cell_type": "markdown",
   "metadata": {},
   "source": [
    "### Creating Scatter Plots with Seaborn"
   ]
  },
  {
   "cell_type": "code",
   "execution_count": null,
   "metadata": {},
   "outputs": [],
   "source": []
  }
 ],
 "metadata": {
  "kernelspec": {
   "display_name": ".venv",
   "language": "python",
   "name": "python3"
  },
  "language_info": {
   "codemirror_mode": {
    "name": "ipython",
    "version": 3
   },
   "file_extension": ".py",
   "mimetype": "text/x-python",
   "name": "python",
   "nbconvert_exporter": "python",
   "pygments_lexer": "ipython3",
   "version": "3.13.1"
  }
 },
 "nbformat": 4,
 "nbformat_minor": 2
}
