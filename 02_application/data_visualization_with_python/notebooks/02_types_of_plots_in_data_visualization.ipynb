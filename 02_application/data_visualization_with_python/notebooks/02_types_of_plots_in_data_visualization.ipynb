{
 "cells": [
  {
   "cell_type": "markdown",
   "metadata": {},
   "source": [
    "##### _Data Visualization with Python_\n",
    "---"
   ]
  },
  {
   "cell_type": "markdown",
   "metadata": {},
   "source": [
    "## 2. Types of Plots"
   ]
  },
  {
   "cell_type": "markdown",
   "metadata": {},
   "source": [
    "1. **Line Plot (Line Chart)**\n",
    "    * Displays data as a series of points connected by straight lines. The independent variable is usually on x-axis and the dependent variable is on y-axis.\n",
    "    * **Uses:**\n",
    "        * **Showing trends over time:** Ideal for time series data (e.g., stock prices, temperature changes, population growth).\n",
    "        * **Comparing datasets with a continuous independent variable:** For example, showing how a response variable changes with age.\n",
    "        * **Illustrating cause-and-effect relationships:** Example, how sales revenue changes with different marketing budgets.\n",
    "        * **Visualizing continuous data:** Such as changes in height measurement over time.\n",
    "    * **Potential Pitfalls:**\n",
    "        * **Misleading scales:** If the axes' scales aren't chosen carefully, the plot can exaggerate or minimize trends. _Always consider starting the y-axis at zer unless there's a strong reason not to_.\n",
    "    * **Example:** A line plot showing a company's revenue over the past 10 years. You'd easily see if revenue is generally increasing, decreasing, or fluctuating.\n",
    "2. **Bar Plot (Bar Chart)**\n",
    "    * Uses rectangular bars to represent the data. The height (for vertical bars) or length (for horizontal bars) of each bar corresponds to the magnitude of the data.\n",
    "    * **Types:**\n",
    "        * **Vertical bar chart (column chart):** Bars are oriented vertically.\n",
    "        * **Horizontal bar chart:** Bars are oriented horizontally.\n",
    "    * **Uses:**\n",
    "        * **Comparing categories or groups:** Excellent for comparing discrete data (e.g., sales by region, population by country, number of students in different majors).\n",
    "        * **Showing contributions to a whole:** Like a pie chart, but often easier to compare individual categories. \n",
    "        * **Visualizing rankings:** Displaying the top-selling products, most popular movies, etc.\n",
    "    * **Potential Pitfalls:**\n",
    "        * **Inaccurate bar choices/scales:** Similar to line plots, starting the y-axis at a value other than zero can distort the visual comparison.\n",
    "    * **Example:** A bar chart comparing the sales of different product categories. You could easily see which category generates the most revenue.\n",
    "3. **Scatter Plot**\n",
    "    * Displays values for two variables as a collection of points. Each point's position is determined by its values on the horizontal (x) and vertical (y) axes.\n",
    "    * **Uses:**\n",
    "        * **Examining relationships between two continuous variables:** Is there a correlation? Is it positive, negative, or no correlation? (e.g., height vs. weight, advertising spending vs. sales).\n",
    "        * **Investigating patterns and trends:** Looking for clusters, linear relationships, or other patterns.\n",
    "        * **Detecting outliers:** Identifying unusual data points that deviate significantly from the overall pattern.\n",
    "        * **Visualizing with many observations:** Identify clusters.\n",
    "    * **Example:** A scatter plot of study hours vs. exam scores. You might see a positive correlation, but there might also be outliers (students who studied a lot but did poorly, or vice versa).\n",
    "4. **Box Plot (Box and Whisker Plot)**\n",
    "    * Displays the distribution of a dataset, showing key statistical measures.\n",
    "        * **Box:** Represents the interquartile range (IQR), which contains the middle 50% of the data.\n",
    "        * **Line inside the box:** Represents the median (the middle value).\n",
    "        * **Whiskers:** Extend from the box to show the range of the data (excluding outliers).\n",
    "        * **Outliers:** Often plotted as individual points beyond the whiskers.\n",
    "    * **Uses:**\n",
    "        * **Comparing distributions across categories:** Comparing the salaries of employees in different departments, the test scores of students in different schools, etc.\n",
    "        * **Examining the spread and skewness:** How spread out is the data? Is it symmetrical or skewed to one side?\n",
    "        * **Visualizing quartiles and outliers:** Quickly see the median, IQR, and potential outliers.\n",
    "        * **Comparing multiple variables:** Distributions of multiple variables can be compared side by side.\n",
    "    * **Potential Pitfalls:**\n",
    "        * **Outliers:** As with scatter plots, outliers can significantly impact the interpretation. You need to consider them carefully.\n",
    "    * **Example:** Comparing exam scores between different classes using box plot.\n",
    "5. **Histogram**\n",
    "    * Shows the distribution of a _single_ numerical variable. It divides the data into intervals (bins) and displays the frequency (count) or relative frequency (proportion) of data points within each bin using bars.\n",
    "    * **Uses:**\n",
    "        * **Understanding data distribution:** Is the data symmetrical, skewed, bimodal (having two peaks), or uniform?\n",
    "        * **Assessing skewness:** Is the data skewed to the left (long tail on the left) or right (long tail on the right)?\n",
    "        * **Identifying outliers (potentially):** Very sparsely populated bins at the extremes might indicate outliers.\n",
    "        * **Showcasing data variability:** Observe concentrations, gaps, and clusters.\n",
    "    * **Potential Pitfalls:**\n",
    "        * **Bin choice:** The number and width of bins can significantly affect the appearance of the histogram. Too few bins can oversimplify the distribution; too many can make it look noisy. There's no single _right_ number of bins; it depends on the data.\n",
    "        * **Scale and labeling:** Ensure clear labels for the axes and appropriate scales.\n",
    "    * **Example:** A histogram of the ages of customers in a database. You could see if the customer base is mostly young, old, or evenly distributed."
   ]
  },
  {
   "cell_type": "markdown",
   "metadata": {},
   "source": []
  }
 ],
 "metadata": {
  "language_info": {
   "name": "python"
  }
 },
 "nbformat": 4,
 "nbformat_minor": 2
}
