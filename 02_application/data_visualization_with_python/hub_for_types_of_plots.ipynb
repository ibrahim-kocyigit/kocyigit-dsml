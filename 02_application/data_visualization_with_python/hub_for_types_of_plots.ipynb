{
 "cells": [
  {
   "cell_type": "markdown",
   "metadata": {
    "vscode": {
     "languageId": "plaintext"
    }
   },
   "source": [
    "## Cumulative Distribution Plot (CDF Plot)"
   ]
  },
  {
   "cell_type": "markdown",
   "metadata": {},
   "source": [
    "A Cumulative Distribution Plot, often called a CDF plot, visualizes the *cumulative distribution function (CDF)* of a numerical variable.  For any given value on the x-axis, the CDF plot shows the proportion of data points in the dataset that are less than or equal to that value.\n",
    "\n",
    "### Suitable Variable Types\n",
    "* **Numerical (Interval or Ratio):** CDF plots are used for numerical data.  They *can* be used with ordinal data, but the interpretation is less straightforward.  They are not appropriate for nominal (unordered categorical) data.\n",
    "\n",
    "### Use Cases\n",
    "1. **Visualizing the Entire Distribution:** The CDF plot provides a complete picture of the distribution, showing the proportion of data below any given value.\n",
    "2. **Finding Percentiles:**  It's very easy to find percentiles directly from a CDF plot. For example, to find the 25th percentile, you find the value on the x-axis where the CDF crosses the 0.25 (25%) line on the y-axis.\n",
    "3. **Comparing Distributions:**  You can plot multiple CDFs on the same graph to compare the distributions of different groups or datasets.  Differences in the shape and position of the CDFs reveal differences in the distributions.\n",
    "4. **Assessing Goodness-of-Fit:**  You can compare the empirical CDF (from your data) to a theoretical CDF (e.g., a normal distribution) to see how well your data fits a particular distribution. This is the basis of some statistical tests (e.g., the Kolmogorov-Smirnov test).\n",
    "5. **Determining Probabilities:** You can determine probabilities.\n",
    "\n",
    "### Anatomy of a CDF Plot\n",
    "* **X-axis:** Represents the values of the numerical variable.\n",
    "* **Y-axis:** Represents the cumulative probability (or proportion), ranging from 0 to 1 (or 0% to 100%).\n",
    "* **The Curve:** The CDF curve is always non-decreasing (it goes up or stays flat, never down).\n",
    "    * It starts at 0 (or near 0) on the left.\n",
    "    * It ends at 1 (or 100%) on the right.\n",
    "    * Steep sections indicate regions where many data points are concentrated.\n",
    "    * Flat sections indicate regions where few data points are present.\n",
    "\n",
    "### Potential Pitfalls\n",
    "1. **Less Intuitive for Shape:**  While the CDF shows the *entire* distribution, the *shape* of the distribution (e.g., modality, skewness) is less immediately apparent than in a histogram or density plot.  It takes some practice to interpret the shape from a CDF.\n",
    "2. **Difficulty with Dense Distributions:** If the distribution is very dense (many data points clustered closely together), the CDF can rise very steeply, making it hard to distinguish details.\n",
    "3. **Not Ideal for Outliers:** It is hard to detect extreme outliers.\n",
    "\n",
    "### Example (Conceptual)\n",
    "Imagine you have data on the response times of a web server.  A CDF plot of the response times would show:\n",
    "* On the x-axis: Response time (e.g., in milliseconds).\n",
    "* On the y-axis: The proportion of requests that were served with a response time less than or equal to the corresponding x-axis value.  \n",
    "\n",
    "From the CDF, you could easily find:\n",
    "* The median response time (the x-value where the CDF crosses 0.5).\n",
    "* The 90th percentile response time (the x-value where the CDF crosses 0.9).\n",
    "* The proportion of requests served within a specific time (e.g., the proportion served in under 200 milliseconds).\n",
    "* The probability of a request being served between 2 different values.  \n",
    "\n",
    "If you plotted the CDFs of two different web servers on the same graph, you could directly compare their performance.  A CDF that is shifted to the left represents a server with generally faster response times."
   ]
  },
  {
   "cell_type": "markdown",
   "metadata": {},
   "source": []
  },
  {
   "cell_type": "markdown",
   "metadata": {},
   "source": [
    "## Grouped Bar Chart (Clustered Bar Chart)"
   ]
  },
  {
   "cell_type": "markdown",
   "metadata": {},
   "source": [
    "\n",
    "A grouped bar chart, also known as a clustered bar chart, displays multiple bars for each category on the x-axis (or y-axis, if horizontal).  Instead of showing a single bar for each category, it shows a *group* of bars, where each bar within the group represents a different sub-category or a different variable. This allows for comparisons *within* each main category and *between* the main categories.\n",
    "\n",
    "### Suitable Variable Types\n",
    "* **X-axis (typically):** Represents the main *categories* being compared (categorical variable - nominal or ordinal).\n",
    "* **Y-axis (typically):** Represents the *numerical value* associated with each sub-category (numerical variable - interval or ratio).\n",
    "* **Grouping Variable:**  A *second* categorical variable that defines the sub-categories within each main category.\n",
    "\n",
    "### Use Cases\n",
    "1. **Comparing Subgroups Within Categories:** The primary use is to compare values across different subgroups *within* each main category *and* to compare the main categories themselves.\n",
    "2. **Showing Changes Over Time (with a few time points):**  You can use grouped bar charts to show changes over time, where each main category represents a time point, and the bars within each group represent different variables or groups.  However, if you have many time points, a line graph is usually better.\n",
    "3. **Comparing Multiple Metrics:** You can compare different metrics (e.g., sales, revenue, profit) for each category.\n",
    "\n",
    "### Example (Conceptual - Comparing Sales)\n",
    "Imagine you want to compare the sales performance of different product lines (Product A, Product B, Product C) across different regions (North, South, East, West).\n",
    "* **X-axis:** Regions (North, South, East, West) - these are the main categories.\n",
    "* **Y-axis:** Sales Revenue (numerical value).\n",
    "* **Grouping Variable:** Product Line (Product A, Product B, Product C).\n",
    "\n",
    "The grouped bar chart would have four groups of bars (one for each region). Within each group, there would be three bars (one for each product line).  This allows you to:\n",
    "\n",
    "* Compare sales of Product A, B, and C *within* each region (comparing bars within a group).\n",
    "* Compare total sales *across* regions (comparing the overall heights of the groups).\n",
    "* See which product performs best in which region.\n",
    "\n",
    "### Potential Pitfalls\n",
    "1. **Too Many Groups or Categories:** If you have too many main categories or too many sub-categories within each group, the chart can become cluttered and difficult to interpret. Consider using separate charts, filtering the data, or aggregating categories.\n",
    "2. **Difficult to Compare Totals:**  It's harder to compare the *total* values for each main category in a grouped bar chart compared to a stacked bar chart.  If the totals are important, consider a stacked bar chart or adding a separate visual element to represent the totals.\n",
    "3. **Color Choice:** Use distinct and easily distinguishable colors for each sub-category. Avoid using too many colors or colors that are too similar. Be mindful of colorblindness.\n",
    "4. **Labeling:**  Ensure clear labels for the axes, the main categories, and the sub-categories (usually with a legend).\n",
    "5. **Misleading Scales**: Truncated y-axis.\n",
    "\n",
    "### Example Conceptual (University Enrollment)\n",
    "We want to compare the number of male and female students enrolled in different departments (e.g., Engineering, Science, Arts) at a university.\n",
    "* **X-axis**: Department\n",
    "* **Y-axis**: Number of Students.\n",
    "* **Grouping variable**: Gender.\n",
    "\n",
    "### Example Conceptual (Multiple Metrics)\n",
    "A company wants to compare sales, cost and profit, for the last four quarters.\n",
    "\n",
    "* **X-axis:** Quarter (Q1, Q2, Q3, Q4) - these are the main categories.\n",
    "* **Y-axis:** Value in Dollars.\n",
    "* **Grouping Variable:** Metric (Sales, Cost, Profit)."
   ]
  },
  {
   "cell_type": "markdown",
   "metadata": {},
   "source": [
    "## Stacked Bar Chart"
   ]
  },
  {
   "cell_type": "markdown",
   "metadata": {},
   "source": [
    "A stacked bar chart is a type of bar chart where each bar represents a main category, and the bar is divided into segments (stacked on top of each other) to show the contribution of different sub-categories to the total for that main category. It's used to visualize part-to-whole relationships within each main category *and* to compare the totals across main categories.\n",
    "\n",
    "### Suitable Variable Types\n",
    "* **X-axis (typically):** Represents the main *categories* being compared (categorical variable - nominal or ordinal).\n",
    "* **Y-axis (typically):** Represents the *total numerical value* for each category (numerical variable - interval or ratio).\n",
    "* **Stacking Variable:** A *categorical* variable that defines the sub-categories that make up each bar.\n",
    "\n",
    "### Use Cases\n",
    "1. **Showing Part-to-Whole Relationships:** The primary use is to show how different sub-categories contribute to the total for each main category.\n",
    "2. **Comparing Totals Across Categories:** You can also compare the *overall* heights of the bars to see how the totals differ across the main categories.\n",
    "3. **Tracking Changes in Composition Over Time (Limited Time Points):**  Similar to grouped bar charts, stacked bar charts can be used to show changes over a few time points, where each main category represents a time point.  The stacked segments show how the composition of the total changes over time.\n",
    "4. **Comparing Proportions (with 100% Stacked Bar Charts):** A variation, the *100% stacked bar chart*, shows each bar scaled to 100%, with the segments representing the *percentage* contribution of each sub-category. This is useful for comparing proportions across categories, even if the totals are different.\n",
    "\n",
    "### Potential Pitfalls\n",
    "1. **Difficult to Compare Sub-Categories (Except the Bottom One):** It's easy to compare the sub-categories that are stacked at the *bottom* of each bar (because they all start at the same baseline). However, it's *much* harder to compare the sizes of the segments in the *middle* or *top* of the bars, because they don't share a common baseline.\n",
    "2. **Too Many Sub-Categories:** If you have too many sub-categories, the bars become cluttered, and it's difficult to distinguish the individual segments.\n",
    "3. **Not Ideal for Showing Small Changes:** Small changes in the proportions of sub-categories might be hard to see, especially if the overall totals vary significantly.\n",
    "4. **Misleading with Unequal Totals (Standard Stacked Bar Chart):** If the totals for the main categories are very different, the *visual impression* of the segment sizes can be misleading.  A taller bar might have a smaller segment for a particular sub-category than a shorter bar, simply because the taller bar represents a larger overall total.  A 100% stacked bar chart addresses this issue.\n",
    "5. **Color Choice:** Use distinct and easily distinguishable colors for each sub-category.\n",
    "6. **Ordering of the Segments:** The segments are ordered consistently.\n",
    "7. **Misleading Scales**: Truncated y-axis.\n",
    "\n",
    "### Example (Conceptual - Website Traffic)\n",
    "Imagine you're tracking the sources of traffic to a website (e.g., Direct, Organic Search, Social Media, Referral).\n",
    "* **X-axis:** Month (e.g., January, February, March) - the main categories.\n",
    "* **Y-axis:** Number of website visitors (numerical value).\n",
    "* **Stacking Variable:** Traffic Source (Direct, Organic Search, Social Media, Referral) - the sub-categories.\n",
    "\n",
    "A stacked bar chart would show:\n",
    "* The *total* number of visitors for each month (the height of each bar).\n",
    "* The *contribution* of each traffic source to the total for each month (the height of each segment within the bar).\n",
    "\n",
    "You could easily see if the overall traffic is increasing or decreasing, and if the *proportion* of traffic from each source is changing (e.g., is social media becoming a more important source of traffic?).\n",
    "\n",
    "### Example (Conceptual - 100% Stacked Bar Chart - Survey Responses)\n",
    "Imagine a survey asking respondents about their level of agreement with a statement, with responses: Strongly Disagree, Disagree, Neutral, Agree, Strongly Agree. You want to compare the responses across different age groups.\n",
    "* **X-axis:** Age Group (e.g., 18-24, 25-34, 35-44, etc.)\n",
    "* **Y-Axis:** Percentage\n",
    "* **Stacking Variable:** Response (Strongly Disagree, Disagree, Neutral, Agree, Strongly Agree)\n",
    "\n",
    "A 100% stacked bar chart would show, for each age group, the *percentage* of respondents who chose each response option. This makes it easy to compare the *proportions* of agreement/disagreement across age groups, even if the total number of respondents in each age group is different."
   ]
  },
  {
   "cell_type": "markdown",
   "metadata": {},
   "source": [
    "## Violin Plot\n"
   ]
  },
  {
   "cell_type": "markdown",
   "metadata": {},
   "source": [
    "\n",
    "A violin plot is a hybrid of a box plot and a kernel density plot. It shows the distribution of a numerical variable, often across different categories, similar to a box plot. However, instead of just showing summary statistics (quartiles, median), a violin plot also displays the estimated probability density of the data at different values. This gives a more complete picture of the distribution's shape.\n",
    "\n",
    "### Suitable Variable Types\n",
    "* **Numerical (Interval or Ratio):** The main variable being visualized is numerical.\n",
    "* **Categorical (Optional, for Comparisons):** Like box plots, violin plots are very effective for comparing the distributions of a numerical variable across different categories.\n",
    "\n",
    "### Use Cases\n",
    "1. **Comparing Distributions:** The primary use case is to compare the distributions of a numerical variable across different groups or categories.  This is similar to box plots, but violin plots provide more detail.\n",
    "2. **Visualizing Distribution Shape:** Violin plots reveal the *shape* of the distribution, including:\n",
    "    * **Modality:**  Whether the distribution is unimodal (one peak), bimodal (two peaks), or multimodal (multiple peaks).\n",
    "    * **Skewness:** Whether the distribution is symmetrical or skewed to the left or right.\n",
    "    * **Tails:**  How heavy or light the tails of the distribution are (how much data extends far from the center).\n",
    "3. **Identifying Potential Outliers:** While not as explicitly marked as in box plots, extreme values can be seen as extensions of the violin shape.\n",
    "4. **Handling Multimodal Data:** Violin plots are particularly useful when the data has multiple peaks (modes), which a box plot would completely obscure.\n",
    "\n",
    "### Anatomy of a Violin Plot\n",
    "* **\"Violin\" Shape:** The main part of the plot is the \"violin\" itself, which is a symmetrical shape representing the estimated probability density of the data.  Wider sections indicate higher probabilities (more data points), and narrower sections indicate lower probabilities.\n",
    "* **White Dot (often):**  Often, a white dot is shown within the violin to indicate the *median* of the data.\n",
    "* **Thick Black Line (often):**  A thick black line, often in the center of the violin, represents the *interquartile range (IQR)*, from Q1 to Q3 (just like the box in a box plot).\n",
    "* **Thin Black Lines (often):** Thin black lines extending from the thick line often represent the \"whiskers,\" similar to a box plot. They may extend to:\n",
    "    * The minimum and maximum values within 1.5 * IQR of the quartiles (the same as a standard box plot).\n",
    "    * The minimum and maximum values of the data (no outlier detection).\n",
    "    * Other percentiles (e.g., 9th and 91st percentiles).\n",
    "    * The method for determining whisker extent can vary depending on the plotting library and specific options used.\n",
    "\n",
    "### Potential Pitfalls\n",
    "1. **Kernel Density Estimation (KDE):** The shape of the violin depends on the *kernel density estimation (KDE)*, which is a statistical method for estimating the probability density function.  The choice of kernel and bandwidth for the KDE can influence the appearance of the violin.\n",
    "2. **Small Sample Sizes:** With very small sample sizes, the KDE (and thus the violin shape) can be unreliable and may not accurately represent the true distribution.\n",
    "3. **Over-Interpretation:** It's easy to over-interpret minor bumps and wiggles in the violin shape.  Focus on the overall shape (modality, skewness, spread) rather than small fluctuations.\n",
    "4. **Difficult to extract exact statistics:** Since it combines box plot, it is diffucult to extract exact statistical values.\n",
    "\n",
    "### Example (Conceptual)\n",
    "Imagine comparing the distributions of exam scores for students in different teaching methods (e.g., traditional lecture, online learning, flipped classroom). A violin plot would show:\n",
    "\n",
    "* The overall distribution of scores for each method (shape, modality, skewness).\n",
    "* The median score for each method (white dot).\n",
    "* The interquartile range for each method (thick black line).\n",
    "* The range of scores (excluding potential outliers) for each method (thin black lines).\n",
    "* If one teaching method results in bimodal distribution.\n",
    "\n",
    "This would provide a much richer comparison than just showing the average score for each method. You could see if one method has a wider spread of scores, if one method tends to produce higher scores overall, or if one method has a bimodal distribution (suggesting two distinct groups of students within that method)."
   ]
  }
 ],
 "metadata": {
  "language_info": {
   "name": "python"
  }
 },
 "nbformat": 4,
 "nbformat_minor": 2
}
