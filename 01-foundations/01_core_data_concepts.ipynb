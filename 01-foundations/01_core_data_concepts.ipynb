{
 "cells": [
  {
   "cell_type": "markdown",
   "id": "910d158e-0bf5-4860-b782-eae0718494fc",
   "metadata": {},
   "source": [
    "# Core Data Concepts\n",
    "\n",
    "## 1. What is Data?\n",
    "Data refers to collected observations, measurements, or information about a subject, which can be:\n",
    "* Structured (organized in predefined formats like tables)\n",
    "* Unstructured (no predefined formats like tables)"
   ]
  },
  {
   "cell_type": "code",
   "execution_count": 2,
   "id": "d12ab74c-6b7e-495d-9c7d-9bfdaadf2daf",
   "metadata": {},
   "outputs": [
    {
     "name": "stdout",
     "output_type": "stream",
     "text": [
      "Structured Data Example:\n",
      "  species     island  bill_length_mm  bill_depth_mm  flipper_length_mm  \\\n",
      "0  Adelie  Torgersen            39.1           18.7              181.0   \n",
      "1  Adelie  Torgersen            39.5           17.4              186.0   \n",
      "2  Adelie  Torgersen            40.3           18.0              195.0   \n",
      "3  Adelie  Torgersen             NaN            NaN                NaN   \n",
      "4  Adelie  Torgersen            36.7           19.3              193.0   \n",
      "\n",
      "   body_mass_g     sex  \n",
      "0       3750.0    Male  \n",
      "1       3800.0  Female  \n",
      "2       3250.0  Female  \n",
      "3          NaN     NaN  \n",
      "4       3450.0  Female  \n"
     ]
    }
   ],
   "source": [
    "# Structured Data Example (Penguin's Dataset)\n",
    "import seaborn as sns\n",
    "\n",
    "penguins = sns.load_dataset(\"penguins\")\n",
    "print(\"Structured Data Example:\")\n",
    "print(penguins.head())"
   ]
  },
  {
   "cell_type": "markdown",
   "id": "c33143b6-7c48-4ee3-b8a2-aa368b2959cf",
   "metadata": {},
   "source": [
    "### Key Characteristics of Data\n",
    "1. Can be numeric or non-numeric\n",
    "    * Numeric: Flipper length (15"
   ]
  },
  {
   "cell_type": "code",
   "execution_count": null,
   "id": "67ab1722-3393-46b2-a5a8-2a6b0c5a19b2",
   "metadata": {},
   "outputs": [],
   "source": []
  }
 ],
 "metadata": {
  "kernelspec": {
   "display_name": "Python 3 (ipykernel)",
   "language": "python",
   "name": "python3"
  },
  "language_info": {
   "codemirror_mode": {
    "name": "ipython",
    "version": 3
   },
   "file_extension": ".py",
   "mimetype": "text/x-python",
   "name": "python",
   "nbconvert_exporter": "python",
   "pygments_lexer": "ipython3",
   "version": "3.13.2"
  }
 },
 "nbformat": 4,
 "nbformat_minor": 5
}
