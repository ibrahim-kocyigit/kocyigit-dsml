{
 "cells": [
  {
   "cell_type": "markdown",
   "metadata": {},
   "source": [
    "# Supervised Learning\n",
    "\n",
    "---\n",
    "\n",
    "Supervised learning's tasks are well-defined and can be applied to a multitude of scenarios -like identifying spam or predicting precipitation.\n",
    "\n",
    "---\n",
    "\n",
    "## Foundational Supervised Learning Concepts\n",
    "Supervised machine learning is based on the following core concepts:\n",
    "1. Data\n",
    "2. Model\n",
    "3. Training\n",
    "4. Evaluating\n",
    "5. Inference\n",
    "\n",
    "### 1. Data\n",
    "Data is the driving force of ML. Data comes in the form of words and numbers stored in tables, or as the values of pixels and waveforms captured in images and audio files. We store related data in datasets. For example, we might have a dataset for the following:\n",
    "* Images of cats\n",
    "* Housing prices\n",
    "* Weather information\n",
    "\n",
    "Datasets are made of individual [examples](https://developers.google.com/machine-learning/glossary#example) that contain [features](https://developers.google.com/machine-learning/glossary#feature) and a [label](https://developers.google.com/machine-learning/glossary#label). You could think of an example as analogous to a single row in a spreadsheet. Features are the values that a supervised model uses to predict the label. The label is the \"answer\", or the value we want the model to predict. In a weather model that predicts the rainfall, the features could be _latitude, longitude, temperature, humidity, cloud coverage, wind direction,_ and _atmospheric pressure_. The label would be _rainfall amount_. \n",
    "\n",
    "Examples that contain both features and a label are called [labeled examples](https://developers.google.com/machine-learning/glossary#labeled-example).\n",
    "\n",
    "**Two labeled examples:**  \n",
    "\n",
    "![](https://developers.google.com/static/machine-learning/intro-to-ml/images/labeled_example.png)\n",
    "\n",
    "In contrast, unlabeled examples contain features, but no label. After you create the model, the model predicts the label from the features.\n",
    "\n",
    "**Two unlabeled examples:** \n",
    "![](https://developers.google.com/static/machine-learning/intro-to-ml/images/unlabeled_example.png)\n",
    "\n",
    "#### Dataset Characteristics\n",
    "A dataset is characterized by its size and diversity. Size indicates the number of examples. Diversity indicates the range those examples cover. Good datasets are both large and highly diverse.\n",
    "\n",
    "Some datasets are both large and diverse. However, some datasets are large but have low diversity, and some are small but highly diverse. In other words, a large dataset doesn't guarantee sufficient diversity, and a dataset that is highly diverse doesn't guarantee sufficient examples.\n",
    "\n",
    "For instance, a dataset might contain 100 years worth of data, but only for the month of July. Using this dataset to predict rainfall in January would produce poor predictions. "
   ]
  },
  {
   "cell_type": "markdown",
   "metadata": {},
   "source": []
  }
 ],
 "metadata": {
  "language_info": {
   "name": "python"
  }
 },
 "nbformat": 4,
 "nbformat_minor": 2
}
