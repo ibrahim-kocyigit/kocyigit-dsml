{
 "cells": [
  {
   "cell_type": "markdown",
   "metadata": {},
   "source": [
    "If $ \\mathbf{v} = \\begin{bmatrix} 2 \\\\ -1 \\\\ 4 \\end{bmatrix} $ and *c* = 3, then\n",
    "\n",
    "$ 3\\mathbf{v} =  ? $\n",
    "\n"
   ]
  },
  {
   "cell_type": "markdown",
   "metadata": {},
   "source": []
  }
 ],
 "metadata": {
  "language_info": {
   "name": "python"
  }
 },
 "nbformat": 4,
 "nbformat_minor": 2
}
