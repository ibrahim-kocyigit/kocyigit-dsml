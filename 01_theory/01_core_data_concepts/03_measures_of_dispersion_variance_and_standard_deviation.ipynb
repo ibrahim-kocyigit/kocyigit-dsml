{
 "cells": [
  {
   "cell_type": "markdown",
   "metadata": {},
   "source": [
    "# Measures of Dispersion: Variance and Standard Deviation\n",
    "\n",
    "Measures of dispersion (also called variability, scatter, or spread) quantify how much the data in a dataset is spread out around the *mean*.  They tell us whether the data points are tightly clustered together or widely dispersed. This complements measures of central tendency (mean, median, mode), which tell us about the *center* of the data.\n",
    "\n",
    "We can use measures of dispersion to:\n",
    "* **Summarize Data:** Describe variability.\n",
    "* **Compare Datasets:** Determine which dataset has greater variability.\n",
    "* **Understand Distributions:** Determine data spread.\n",
    "* **Analyze Data:** Understand dispersion before processing.\n",
    "\n",
    "---\n",
    "\n",
    "## Population vs. Sample\n",
    "*  **Population (N):** The entire group of interest.  If you have data for *every* member of the group, you have population data. Denoted with Capital N.\n",
    "*  **Sample (n):** A *subset* of the population. Used when it's impractical to collect data on the entire population. Denoted with lowercase n.\n",
    "\n",
    "The formulas for calculating variance and standard deviation differ slightly depending on whether you're working with a population or a sample.\n",
    "\n",
    "---\n",
    "\n",
    "\n",
    "## Variance\n",
    "\n",
    "Variance measures the average *squared* deviation of each data point from the mean. It quantifies the spread in squared units.\n",
    "\n",
    "### Population Variance (σ²)\n",
    "\n",
    "$\\sigma^2 = \\frac{\\sum_{i=1}^{N} (x_i - \\mu)^2}{N}$\n",
    "\n",
    "*   $σ^2$ (sigma-squared): Population variance\n",
    "*   $x_i$: Individual data points\n",
    "*   $μ$ (mu): Population mean\n",
    "*   $N$: Total number of data points in the *population*\n",
    "*   $Σ$: Summation\n",
    "\n",
    "### Sample Variance (s²)\n",
    "\n",
    "$s^2 = \\frac{\\sum_{i=1}^{n} (x_i - \\bar{x})^2}{n - 1}$\n",
    "\n",
    "*   $s^2$: Sample variance\n",
    "*   $x_i$: Individual data points\n",
    "*   $\\bar{x}$ (x-bar): Sample mean\n",
    "*   $n$: Total number of data points in the *sample*\n",
    "*   $Σ$: Summation\n",
    "\n",
    "### Why square the deviations?\n",
    "1.  **Makes all deviations positive:**  If some data points are below the mean (negative deviation) and some are above (positive deviation), simply averaging the deviations would lead to cancellation, underestimating the true spread.  Squaring ensures all values are positive.\n",
    "2.  **Magnifies larger deviations:**  Squaring gives more weight to data points that are farther from the mean. This emphasizes the spread.\n",
    "\n",
    "### Why divide by `n-1` for the *sample* variance? (Bessel's Correction)\n",
    "The sample mean ($\\bar{x}$) is used to calculate the sample variance.  Because the sample mean is calculated *from the sample data itself*, it tends to be *closer* to the sample data points than the true (unknown) population mean would be.  This means that using `n` in the denominator would systematically *underestimate* the population variance.\n",
    "\n",
    "Dividing by `n - 1` instead of `n` provides a slightly larger value for the sample variance, making it an *unbiased estimator* of the population variance. The average of many sample variances (calculated with n-1) will be closer to the population variance.\n",
    "\n",
    "---\n",
    "\n",
    "## Standard Deviation\n",
    "Standard deviation is the *square root* of the variance.  It measures the spread in the *original units* of the data, making it more interpretable than variance.\n",
    "\n",
    "### Population Standard Deviation (σ)\n",
    "\n",
    "$\\sigma = \\sqrt{\\sigma^2} = \\sqrt{\\frac{\\sum_{i=1}^{N} (x_i - \\mu)^2}{N}}$\n",
    "\n",
    "### Sample Standard Deviation (s)\n",
    "\n",
    "$s = \\sqrt{s^2} = \\sqrt{\\frac{\\sum_{i=1}^{n} (x_i - \\bar{x})^2}{n - 1}}$\n",
    "\n",
    "### Why use Standard Deviation?\n",
    "* **Same Units as Data:** Standard deviation has the same units as the original data and the mean.  This makes it easier to understand and compare.  If the data is in centimeters, the standard deviation is also in centimeters (whereas variance would be in centimeters squared).\n",
    "* **Interpretation:**  The standard deviation gives a measure of the \"typical\" distance of data points from the mean.\n",
    "\n",
    "**Note:** We usually prefer working with the *Standard Deviation* and the *Mean* since their units will match.\n",
    "\n",
    "---\n",
    "\n",
    "## Calculation Example\n",
    "Let's say we have some sample data set where the values are: 1, 2, 3, 4 and 5.\n",
    "\n",
    "Sample Mean Calculation:\n",
    "\n",
    "$\\bar{x} = \\frac{\\sum_{i=1}^{n} x_i}{n} = \\frac{1 + 2 + 3 + 4 + 5}{5} = \\frac{15}{5} = 3$\n",
    "\n",
    "<br>"
   ]
  },
  {
   "cell_type": "code",
   "execution_count": 1,
   "metadata": {},
   "outputs": [
    {
     "name": "stdout",
     "output_type": "stream",
     "text": [
      "Sample mean: 3.0\n"
     ]
    }
   ],
   "source": [
    "import numpy as np\n",
    "data = np.array([1, 2, 3, 4, 5])\n",
    "sample_mean = np.mean(data)\n",
    "print(f\"Sample mean: {sample_mean}\")"
   ]
  },
  {
   "cell_type": "markdown",
   "metadata": {},
   "source": [
    "Sample Variance Calculation:\n",
    "\n",
    "$s^2 = \\frac{(1-3)^2 + (2-3)^2 + (3-3)^2 + (4-3)^2 + (5-3)^2}{5-1}$\n",
    "$s^2 = \\frac{4 + 1 + 0 + 1 + 4}{4}$\n",
    "$s^2 = \\frac{10}{4} = 2.5$\n",
    "\n",
    "<br>"
   ]
  },
  {
   "cell_type": "code",
   "execution_count": 2,
   "metadata": {},
   "outputs": [
    {
     "name": "stdout",
     "output_type": "stream",
     "text": [
      "Sample variance: 2.5\n"
     ]
    }
   ],
   "source": [
    "sample_variance = np.var(data, ddof=1) #ddof=1 is important, as it does the n-1 part.\n",
    "print(f\"Sample variance: {sample_variance}\")"
   ]
  },
  {
   "cell_type": "markdown",
   "metadata": {},
   "source": [
    "Sample Standard Deviation Calculation:\n",
    "\n",
    "$$s = \\sqrt{2.5} \\approx 1.58$$\n",
    "\n",
    "<br>"
   ]
  },
  {
   "cell_type": "code",
   "execution_count": 3,
   "metadata": {},
   "outputs": [
    {
     "name": "stdout",
     "output_type": "stream",
     "text": [
      "Sample Standard Deviation: 1.5811388300841898\n"
     ]
    }
   ],
   "source": [
    "sample_standard_deviation = np.std(data, ddof=1) #ddof=1 is important\n",
    "print(f\"Sample Standard Deviation: {sample_standard_deviation}\")"
   ]
  }
 ],
 "metadata": {
  "kernelspec": {
   "display_name": ".venv",
   "language": "python",
   "name": "python3"
  },
  "language_info": {
   "codemirror_mode": {
    "name": "ipython",
    "version": 3
   },
   "file_extension": ".py",
   "mimetype": "text/x-python",
   "name": "python",
   "nbconvert_exporter": "python",
   "pygments_lexer": "ipython3",
   "version": "3.13.1"
  }
 },
 "nbformat": 4,
 "nbformat_minor": 2
}
