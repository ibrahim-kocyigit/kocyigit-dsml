{
 "cells": [
  {
   "cell_type": "markdown",
   "metadata": {},
   "source": [
    "# Measures of Dispersion: Variance and Standard Deviation\n",
    "\n",
    "Measures of dispersion (also called variability, scatter, or spread) quantify how much the data in a dataset is spread out around the *mean*.  They tell us whether the data points are tightly clustered together or widely dispersed. This complements measures of central tendency (mean, median, mode), which tell us about the *center* of the data.\n",
    "\n",
    "We can use measures of dispersion to:\n",
    "* **Summarize Data:** Describe variability.\n",
    "* **Compare Datasets:** Determine which dataset has greater variability.\n",
    "* **Understand Distributions:** Determine data spread.\n",
    "* **Analyze Data:** Understand dispersion before processing.\n",
    "\n",
    "---\n",
    "\n",
    "## Population vs. Sample\n",
    "*  **Population (N):** The entire group of interest.  If you have data for *every* member of the group, you have population data. Denoted with Capital N.\n",
    "*  **Sample (n):** A *subset* of the population. Used when it's impractical to collect data on the entire population. Denoted with lowercase n.\n",
    "\n",
    "The formulas for calculating variance and standard deviation differ slightly depending on whether you're working with a population or a sample.\n",
    "\n",
    "---\n",
    "\n",
    "\n",
    "## Variance\n",
    "\n",
    "Variance measures the average *squared* deviation of each data point from the mean. It quantifies the spread in squared units.\n",
    "\n",
    "### Population Variance (σ²)\n",
    "\n",
    "$\\sigma^2 = \\frac{\\sum_{i=1}^{N} (x_i - \\mu)^2}{N}$\n",
    "\n",
    "*   $σ^2$ (sigma-squared): Population variance\n",
    "*   $x_i$: Individual data points\n",
    "*   $μ$ (mu): Population mean\n",
    "*   $N$: Total number of data points in the *population*\n",
    "*   $Σ$: Summation\n",
    "\n",
    "### Sample Variance (s²)\n",
    "\n",
    "$$s^2 = \\frac{\\sum_{i=1}^{n} (x_i - \\bar{x})^2}{n - 1}$$\n",
    "\n",
    "*   $s^2$: Sample variance\n",
    "*   $x_i$: Individual data points\n",
    "*   $\\bar{x}$ (x-bar): Sample mean\n",
    "*   $n$: Total number of data points in the *sample*\n",
    "*   $Σ$: Summation\n",
    "\n",
    "### Why square the deviations?\n",
    "1.  **Makes all deviations positive:**  If some data points are below the mean (negative deviation) and some are above (positive deviation), simply averaging the deviations would lead to cancellation, underestimating the true spread.  Squaring ensures all values are positive.\n",
    "2.  **Magnifies larger deviations:**  Squaring gives more weight to data points that are farther from the mean. This emphasizes the spread.\n",
    "\n",
    "### Why divide by `n-1` for the *sample* variance? (Bessel's Correction)\n",
    "* The sample mean ($\\bar{x}$) is used to calculate the sample variance.  Because the sample mean is calculated *from the sample data itself*, it tends to be *closer* to the sample data points than the true (unknown) population mean would be.  This means that using `n` in the denominator would systematically *underestimate* the population variance.\n",
    "* Dividing by `n - 1` instead of `n` provides a slightly larger value for the sample variance, making it an *unbiased estimator* of the population variance. The average of many sample variances (calculated with n-1) will be closer to the population variance.\n",
    "\n",
    "---\n"
   ]
  },
  {
   "cell_type": "markdown",
   "metadata": {},
   "source": []
  }
 ],
 "metadata": {
  "language_info": {
   "name": "python"
  }
 },
 "nbformat": 4,
 "nbformat_minor": 2
}
