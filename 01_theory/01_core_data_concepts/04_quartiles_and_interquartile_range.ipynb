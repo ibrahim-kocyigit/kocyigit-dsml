{
 "cells": [
  {
   "cell_type": "markdown",
   "metadata": {},
   "source": [
    "# Quartiles and Interquartile Range (IQR)\n",
    "\n",
    "Quartiles and the Interquartile Range (IQR) are measures that provide information about the *spread* and *distribution* of a dataset, particularly focusing on how the data is distributed around the median. They divide a dataset into four equal parts.\n",
    "\n",
    "We can use quartiles and IQR to:\n",
    "\n",
    "* **Summarize Data:** Providing key values describing the distribution.\n",
    "* **Compare Datasets:** Evaluating differences in spread and central tendency.\n",
    "* **Identify Outliers:** Establishing thresholds for unusually high or low values.\n",
    "* **Understand Distributions:** Gaining insight into data spread and skewness.\n",
    "* **Data Analysis:** Using the values before further analysis.\n",
    "\n",
    "---\n",
    "\n",
    "## Quartiles (Q1, Q2, Q3)\n",
    "**Q2 (Second Quartile / Median)** is the middle value of the dataset.  Divides the data into two halves (50% of the data below, 50% above). This is the same as the median we discussed previously.\n",
    "\n",
    "**Q1 (First Quartile / Lower Quartile)** is the median of the *lower half* of the data.  25% of the data falls below Q1, and 75% falls above. It is also known as 25th percentile.\n",
    "\n",
    "**Q3 (Third Quartile / Upper Quartile)** is the median of the *upper half* of the data.  75% of the data falls below Q3, and 25% falls above. It is also known as 75th percentile.\n",
    "\n",
    "**Important Note:** There are slightly different methods for calculating Q1 and Q3, especially when dealing with datasets with an even number of data points. There isn't one universally agreed-upon method. The methods described below are common and illustrate the core concepts."
   ]
  },
  {
   "cell_type": "markdown",
   "metadata": {},
   "source": []
  }
 ],
 "metadata": {
  "language_info": {
   "name": "python"
  }
 },
 "nbformat": 4,
 "nbformat_minor": 2
}
