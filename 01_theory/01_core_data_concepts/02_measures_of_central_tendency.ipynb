{
 "cells": [
  {
   "cell_type": "markdown",
   "metadata": {},
   "source": [
    "# Measures of Central Tendency: Mean, Median, and Mode\n",
    "\n",
    "Measures of central tendency are single values that attempt to describe the \"center\" or \"typical\" value of a dataset. They provide a summary statistic that represents the central point around which the data tends to cluster.\n",
    "\n",
    "We can use measures of central tendency to:\n",
    "\n",
    "* **Summarize Data:** Providing a concise description of a dataset's typical value.\n",
    "* **Compare Datasets:** Comparing the centers of different datasets to see if they differ significantly.\n",
    "* **Understand Distributions:** Helping to understand the shape and characteristics of a data distribution.\n",
    "* **Make Predictions:** Using the central tendency as a simple prediction for future values (though this is often too simplistic).\n",
    "* **Analyze Data:** Understanding central values before processing.\n",
    "\n",
    "---\n",
    "\n",
    "## Mean (Arithmetic Mean, Average)\n",
    "\n",
    "Mean is the sum of all values divided by the number of values. Its best use case is for data that is *symmetrically distributed* (like a bell curve) and *doesn't have extreme outliers*.\n",
    "\n",
    "Mean uses all data points, which means it's mathematically convenient. However, it's *sensitive to outliers* (extreme values can drastically pull the mean away from the \"true\" center).\n",
    "\n",
    "**Formula (Population):**  \n",
    "\n",
    "$\\mu = \\frac{\\sum_{i=1}^{N} x_i}{N}$\n",
    "\n",
    "* $μ$ (mu): Population mean\n",
    "* $x_i$: Individual data points\n",
    "* $N$: Total number of data points in the population\n",
    "* $Σ$ (sigma): Summation (adding up all the values)\n",
    "\n",
    "**Formula (Sample):**  \n",
    "\n",
    "$\\bar{x} = \\frac{\\sum_{i=1}^{n} x_i}{n}$\n",
    "\n",
    "* $\\bar{x}$ (x-bar): Sample mean\n",
    "* $x_i$: Individual data points\n",
    "* $n$: Total number of data points in the sample"
   ]
  },
  {
   "cell_type": "code",
   "execution_count": 2,
   "metadata": {},
   "outputs": [
    {
     "name": "stdout",
     "output_type": "stream",
     "text": [
      "Mean: 4.0\n"
     ]
    }
   ],
   "source": [
    "import numpy as np\n",
    "\n",
    "data = np.array([1, 2, 4, 6, 7])\n",
    "mean = np.mean(data)\n",
    "\n",
    "print(f\"Mean: {mean}\")"
   ]
  },
  {
   "cell_type": "markdown",
   "metadata": {},
   "source": [
    "### Weighted Mean\n",
    "Weighted mean is used when data points have different levels of importance. This usually happens when taking averages from multiple groups of *different* sizes.\n",
    "\n",
    "**Formula:**  \n",
    "\n",
    "$\\bar{x_w} = \\frac{\\sum_{i=1}^{n} w_ix_i}{\\sum_{i=1}^{n} w_i}$\n",
    "\n",
    "*   $x_i$: Value\n",
    "*   $w_i$: Weight"
   ]
  },
  {
   "cell_type": "code",
   "execution_count": 4,
   "metadata": {},
   "outputs": [
    {
     "name": "stdout",
     "output_type": "stream",
     "text": [
      "Weighted Mean: 8.061538461538461\n"
     ]
    }
   ],
   "source": [
    "values = np.array([8.4, 6.1, 9.1, 7.8])\n",
    "weights = np.array([20, 7, 13, 25])\n",
    "weighted_mean = np.average(values, weights=weights)\n",
    "\n",
    "print(f\"Weighted Mean: {weighted_mean}\") "
   ]
  },
  {
   "cell_type": "markdown",
   "metadata": {},
   "source": [
    "### Truncated Mean\n",
    "\n",
    "Truncated mean is used when the data set might contain outliers. Some of the smallest and largest values are *removed* before calculating the mean. It is important to specify the *percentage of data to remove*."
   ]
  },
  {
   "cell_type": "code",
   "execution_count": 5,
   "metadata": {},
   "outputs": [
    {
     "name": "stdout",
     "output_type": "stream",
     "text": [
      "Truncated Mean: 28.0\n"
     ]
    }
   ],
   "source": [
    "from scipy import stats  # SciPy has a convenient function for this\n",
    "\n",
    "data = np.array([16, 18, 21, 27, 32, 32, 33, 91])\n",
    "truncated_mean = stats.trim_mean(data, 0.25)  # Remove 25% (12.5% from each end)\n",
    "\n",
    "print(f\"Truncated Mean: {truncated_mean}\")"
   ]
  },
  {
   "cell_type": "markdown",
   "metadata": {},
   "source": [
    "---"
   ]
  },
  {
   "cell_type": "markdown",
   "metadata": {},
   "source": [
    "## Median\n",
    "The median is the middle value when the data is sorted in ascending order. It's best for data that is *skewed* (not symmetrical) or has *outliers*.  Also useful when the exact numerical values are less important than the relative position (e.g., ranking). \n",
    "\n",
    "The advantage of using the median is that it is *resistant to outliers*. However, it doesn't use all of the information in the data (only the middle value(s)).\n",
    "\n",
    "*  **Odd number of data points:** The median is the middle value.\n",
    "*  **Even number of data points:** The median is the average of the two middle values."
   ]
  },
  {
   "cell_type": "code",
   "execution_count": 6,
   "metadata": {},
   "outputs": [
    {
     "name": "stdout",
     "output_type": "stream",
     "text": [
      "Median (Odd): 4.0\n",
      "Median (Even): 5.0\n"
     ]
    }
   ],
   "source": [
    "data_odd = np.array([1, 2, 4, 6, 7])\n",
    "median_odd = np.median(data_odd)\n",
    "print(f\"Median (Odd): {median_odd}\")\n",
    "\n",
    "\n",
    "data_even = np.array([1, 2, 4, 6, 7, 9])\n",
    "median_even = np.median(data_even)\n",
    "print(f\"Median (Even): {median_even}\") "
   ]
  },
  {
   "cell_type": "markdown",
   "metadata": {},
   "source": [
    "---"
   ]
  },
  {
   "cell_type": "markdown",
   "metadata": {},
   "source": [
    "## Mode\n",
    "The mode is the value that occurs *most frequently* in the dataset. It's most useful for *categorical data* (e.g.,finding the most popular color) or discrete data with a limited number of values. Can be used for numerical data, but often less informative than the mean or median. \n",
    "\n",
    "Its advantages are that its easy to understand, and applicable to non-numerical data. However, it might not be unique (a dataset can have multiple modes), may not exist (if all values are unique) and may not be a good representation of the \"center\"."
   ]
  },
  {
   "cell_type": "code",
   "execution_count": 14,
   "metadata": {},
   "outputs": [
    {
     "name": "stdout",
     "output_type": "stream",
     "text": [
      "Mode: 4, Count: 3\n",
      "Mode (No Mode): 1, Count: 1\n",
      "Mode (Bimodal - SciPy): 1, Count: 2\n"
     ]
    }
   ],
   "source": [
    "data = np.array([1, 2, 4, 4, 4, 6, 7])\n",
    "mode_result = stats.mode(data)  # Returns both mode and count\n",
    "print(f\"Mode: {mode_result.mode}, Count: {mode_result.count}\")  # Output: Mode: 4, Count: 3\n",
    "\n",
    "data_no_mode = np.array([1, 2, 3, 4, 5])\n",
    "mode_result_no_mode = stats.mode(data_no_mode)\n",
    "# For no mode case, SciPy returns the smallest value and a count of 1.\n",
    "print(f\"Mode (No Mode): {mode_result_no_mode.mode}, Count: {mode_result_no_mode.count}\") # Output: Mode (No Mode): 1, Count: 1\n",
    "\n",
    "data_bimodal = np.array([1, 1, 2, 3, 3, 4])\n",
    "mode_result_bimodal = stats.mode(data_bimodal)\n",
    "print(f\"Mode (Bimodal - SciPy): {mode_result_bimodal.mode}, Count: {mode_result_bimodal.count}\") # Output: Mode (Bimodal): 1, Count: 2\n",
    "\n",
    "# Note: SciPy's mode only returns *one* mode (the smallest) even if there are multiple.\n",
    "# For true multimodal detection, you'd need a different approach."
   ]
  },
  {
   "cell_type": "markdown",
   "metadata": {},
   "source": [
    "---"
   ]
  },
  {
   "cell_type": "markdown",
   "metadata": {},
   "source": [
    "## Choosing the Right Measure\n",
    "When you try to decide which measure to choose to describe the center of your data, you should first ask the question, _\"Can you calculate it?\"_\n",
    "\n",
    "* To calculate mean, you need numerical data.\n",
    "* To calculate median, you need data that can be ordered (ordinal or numerical).\n",
    "* To mode can be used with any data type (nominal, ordinal, numerical).\n",
    "\n",
    "After this filtering step, you should decide which measure is more appropriate for your data. Here are some things to consider:\n",
    "\n",
    "*   **Symmetrical data, no outliers:** Mean is usually best.\n",
    "*   **Skewed data or outliers:** Median is usually better.\n",
    "*   **Categorical data:** Mode is often the only meaningful measure.\n",
    "*   **Specific Context:** Sometimes, the specific question you're asking dictates the best measure (e.g., median household income is preferred over mean because of the skew in income distributions)."
   ]
  }
 ],
 "metadata": {
  "kernelspec": {
   "display_name": ".venv",
   "language": "python",
   "name": "python3"
  },
  "language_info": {
   "codemirror_mode": {
    "name": "ipython",
    "version": 3
   },
   "file_extension": ".py",
   "mimetype": "text/x-python",
   "name": "python",
   "nbconvert_exporter": "python",
   "pygments_lexer": "ipython3",
   "version": "3.13.1"
  }
 },
 "nbformat": 4,
 "nbformat_minor": 2
}
