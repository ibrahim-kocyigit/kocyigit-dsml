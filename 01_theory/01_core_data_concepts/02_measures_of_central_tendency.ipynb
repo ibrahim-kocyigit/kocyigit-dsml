{
 "cells": [
  {
   "cell_type": "markdown",
   "metadata": {},
   "source": [
    "# Measures of Central Tendency: Mean, Median, and Mode\n",
    "\n",
    "Measures of central tendency are single values that attempt to describe the \"center\" or \"typical\" value of a dataset. They provide a summary statistic that represents the central point around which the data tends to cluster.\n",
    "\n",
    "We can use measures of central tendency to:\n",
    "\n",
    "* **Summarize Data:** Providing a concise description of a dataset's typical value.\n",
    "* **Compare Datasets:** Comparing the centers of different datasets to see if they differ significantly.\n",
    "* **Understand Distributions:** Helping to understand the shape and characteristics of a data distribution.\n",
    "* **Make Predictions:** Using the central tendency as a simple prediction for future values (though this is often too simplistic).\n",
    "* **Analyze Data:** Understanding central values before processing.\n",
    "\n",
    "---\n",
    "\n",
    "## Mean (Arithmetic Mean, Average)\n",
    "\n",
    "Mean is the sum of all values divided by the number of values. Its best use case is for data that is *symmetrically distributed* (like a bell curve) and *doesn't have extreme outliers*.\n",
    "\n",
    "Mean uses all data points, which means it's mathematically convenient, **however** it's *sensitive to outliers* (extreme values can drastically pull the mean away from the \"true\" center).\n",
    "\n",
    "**Formula (Population):**  \n",
    "\n",
    "$\\mu = \\frac{\\sum_{i=1}^{N} x_i}{N}$\n",
    "\n",
    "* $μ$ (mu): Population mean\n",
    "* $x_i$: Individual data points\n",
    "* $N$: Total number of data points in the population\n",
    "* $Σ$ (sigma): Summation (adding up all the values)\n",
    "\n",
    "**Formula (Sample):**  \n",
    "\n",
    "$\\bar{x} = \\frac{\\sum_{i=1}^{n} x_i}{n}$\n",
    "\n",
    "* $\\bar{x}$ (x-bar): Sample mean\n",
    "* $x_i$: Individual data points\n",
    "* $n$: Total number of data points in the sample"
   ]
  },
  {
   "cell_type": "code",
   "execution_count": 2,
   "metadata": {},
   "outputs": [
    {
     "name": "stdout",
     "output_type": "stream",
     "text": [
      "Mean: 4.0\n"
     ]
    }
   ],
   "source": [
    "import numpy as np\n",
    "\n",
    "data = np.array([1, 2, 4, 6, 7])\n",
    "mean = np.mean(data)\n",
    "\n",
    "print(f\"Mean: {mean}\")"
   ]
  },
  {
   "cell_type": "markdown",
   "metadata": {},
   "source": [
    "### Weighted Mean\n",
    "Weighted mean is used when data points have different levels of importance. This usually happens when taking averages from multiple groups of *different* sizes.\n",
    "\n",
    "**Formula:**  \n",
    "\n",
    "$\\bar{x_w} = \\frac{\\sum_{i=1}^{n} w_ix_i}{\\sum_{i=1}^{n} w_i}$\n",
    "\n",
    "*   $x_i$: Value\n",
    "*   $w_i$: Weight\n",
    "\n",
    "<br>"
   ]
  },
  {
   "cell_type": "code",
   "execution_count": 3,
   "metadata": {},
   "outputs": [
    {
     "name": "stdout",
     "output_type": "stream",
     "text": [
      "Weighted Mean: 8.061538461538461\n"
     ]
    }
   ],
   "source": [
    "import numpy as np\n",
    "values = np.array([8.4, 6.1, 9.1, 7.8])\n",
    "weights = np.array([20, 7, 13, 25])\n",
    "weighted_mean = np.average(values, weights=weights)\n",
    "\n",
    "print(f\"Weighted Mean: {weighted_mean}\") "
   ]
  },
  {
   "cell_type": "markdown",
   "metadata": {},
   "source": []
  }
 ],
 "metadata": {
  "kernelspec": {
   "display_name": ".venv",
   "language": "python",
   "name": "python3"
  },
  "language_info": {
   "codemirror_mode": {
    "name": "ipython",
    "version": 3
   },
   "file_extension": ".py",
   "mimetype": "text/x-python",
   "name": "python",
   "nbconvert_exporter": "python",
   "pygments_lexer": "ipython3",
   "version": "3.13.1"
  }
 },
 "nbformat": 4,
 "nbformat_minor": 2
}
