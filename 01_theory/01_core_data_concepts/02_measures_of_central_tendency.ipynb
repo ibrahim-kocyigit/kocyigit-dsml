{
 "cells": [
  {
   "cell_type": "markdown",
   "metadata": {},
   "source": [
    "# Measures of Central Tendency: Mean, Median, and Mode\n",
    "\n",
    "Measures of central tendency are single values that attempt to describe the \"center\" or \"typical\" value of a dataset. They provide a summary statistic that represents the central point around which the data tends to cluster.\n",
    "\n",
    "We can use measures of central tendency to:\n",
    "\n",
    "* **Summarize Data:** Providing a concise description of a dataset's typical value.\n",
    "* **Compare Datasets:** Comparing the centers of different datasets to see if they differ significantly.\n",
    "* **Understand Distributions:** Helping to understand the shape and characteristics of a data distribution.\n",
    "* **Make Predictions:** Using the central tendency as a simple prediction for future values (though this is often too simplistic).\n",
    "* **Analyze Data:** Understanding central values before processing.\n",
    "\n",
    "\n",
    "## Mean (Arithmetic Mean/Average)\n",
    "\n",
    "**Calculation:** Sum of all values divided by the number of values.\n",
    "\n",
    "**Formula (Population):**  \n",
    "\n",
    "$\\mu = \\frac{\\sum_{i=1}^{N} x_i}{N}$\n",
    "\n",
    "*  $μ$ (mu): Population mean\n",
    "*  $x_i$:  Individual data points\n",
    "*  $N$: Total number of data points in the population\n",
    "*  $Σ$ (sigma):  Summation (adding up all the values)\n",
    "\n",
    "**Formula (Sample):** \n",
    "\n",
    "$\\bar{x} = \\frac{\\sum_{i=1}^{n} x_i}{n}$\n",
    "\n",
    "*   $\\bar{x}$ (x-bar): Sample mean\n",
    "*   $x_i$: Individual data points\n",
    "*   $n$: Total number of data points in the sample\n",
    "\n",
    "**Example:**  \n",
    "Data: 1, 2, 4, 6, 7. \n",
    "Mean = (1 + 2 + 4 + 6 + 7) / 5 = 4\n",
    "\n",
    "*   **When to Use:**  Best for data that is *symmetrically distributed* (like a bell curve) and *doesn't have extreme outliers*.\n",
    "*   **Advantages:** Uses all data points; mathematically convenient.\n",
    "*   **Disadvantages:** *Sensitive to outliers* (extreme values can drastically pull the mean away from the \"true\" center).\n",
    "* **Weighted Mean:** Used when data points have different levels of importance, which can happen when taking average from multiple groups of different sizes.\n",
    "    *  **Formula**: $$\\bar{x_w} = \\frac{\\sum_{i=1}^{n} w_ix_i}{\\sum_{i=1}^{n} w_i}$$\n",
    "    * $x_i$: Value\n",
    "    * $w_i$: Weight\n",
    "* **Truncated Mean:** Used when the data set might contains outliers.\n",
    "    * Some of the smallest and largest values are removed before calculating the mean.\n",
    "    * Must specify the percentage of data to remove.\n"
   ]
  },
  {
   "cell_type": "markdown",
   "metadata": {},
   "source": []
  }
 ],
 "metadata": {
  "language_info": {
   "name": "python"
  }
 },
 "nbformat": 4,
 "nbformat_minor": 2
}
