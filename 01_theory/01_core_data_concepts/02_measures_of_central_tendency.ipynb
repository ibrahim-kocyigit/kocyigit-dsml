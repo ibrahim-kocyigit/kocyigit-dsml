{
 "cells": [
  {
   "cell_type": "markdown",
   "metadata": {},
   "source": [
    "# Measures of Central Tendency\n",
    "\n",
    "We use measures of central tendency to understand and calculate the center of a dataset. The most common measures of central tendency we use are the mean, median, and mode.\n",
    "\n",
    "---\n",
    "\n",
    "## 1. Mean (Arithmetic Mean)\n",
    "Mean is the most common measure of center. It's often referred to as the average.\n",
    "\n",
    "**Formula**:  \n",
    "\n",
    "$\n",
    "\\text{Mean} = \\frac{\\sum_{i=1}^{n} x_i}{n}\n",
    "$\n",
    "\n",
    "- **$\\sum$ (Sigma)**: Summation symbol, meaning \"add up all values.\"\n",
    "- **$x_i$**: Represents each data point in the dataset.\n",
    "- **$n$**: Total number of data points.\n",
    "\n",
    "**Steps to Calculate**:\n",
    "1. Add up all the values in the dataset.\n",
    "2. Divide the sum by the number of data points.\n",
    "\n",
    "**Example**:\n",
    "- Dataset: $[1, 2, 4, 6, 7]$\n",
    "- Sum: $1 + 2 + 4 + 6 + 7 = 20$\n",
    "- Mean: $20 \\div 5 = 4$\n",
    "\n",
    "**Notation**:\n",
    "- **Population Mean ($\\mu$)**: Used when the dataset represents the entire population.\n",
    "- **Sample Mean ($\\bar{x}$)**: Used when the dataset is a sample of the population.\n"
   ]
  },
  {
   "cell_type": "markdown",
   "metadata": {},
   "source": []
  }
 ],
 "metadata": {
  "language_info": {
   "name": "python"
  }
 },
 "nbformat": 4,
 "nbformat_minor": 2
}
