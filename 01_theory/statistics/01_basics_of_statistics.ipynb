{
 "cells": [
  {
   "cell_type": "markdown",
   "metadata": {},
   "source": [
    "# Basics of Statistics"
   ]
  },
  {
   "cell_type": "markdown",
   "metadata": {},
   "source": [
    "Statistics is the science of collecting, analyzing, and presenting data. It's fundamental to extracting insights from data in machine learning."
   ]
  },
  {
   "cell_type": "markdown",
   "metadata": {},
   "source": [
    "### Key Concepts in Statistics\n",
    "1. **Variables:** Characteristics or attributes that can be measured or observed (e.g., gender, preferred newspaper, blood pressure, mode of transport to work).\n",
    "    * Example: In a customer dataset, variables might include `age` (numerical), `country` (categorical), `has_made_purchase` (boolean), `total_spent` (numerical), `customer_segment` (categorical).\n",
    "2. **Data Collection:** The process of gathering information about variables. This can be through surveys, experiments, or other methods. Data is often organized in tables, where rows represent individual observations (e.g., people) and columns represent variables.\n",
    "    * Example: Collecting data on website user behavior (clicks, page views, time spent on site) to understand engagement.\n",
    "3. **Descriptive vs. Inferential Statistics:** \n",
    "    * **Descriptive statistics** summarizes and describes the collected data _itself_. It doesn't make generalizations beyond the data at hand.\n",
    "    * **Inferential statistics** uses a _sample_ of data to make inferences or draw conclusions about a larger _population_. This is crucial for machine learning, where we want our models to generalize to new data.\n",
    "    * Example: Use descriptive statistics when you want to calculate the mean of your training data. Use inferential statistics to generalize to new data.\n",
    "\n",
    "### Descriptive Statistics: Summarizing Data\n",
    "Descriptive statistics provide a concise overview of a dataset. The main components are:\n",
    "1. **Measures of Central Tendency:** These describe the \"typical\" or \"central\" value in a dataset. \n",
    "    * **Mean:** The average value (sum of all values divided by the number of values). Sensitive to outliers (extreme values).\n",
    "        * Example: Average test score, average customer spending, average click-through rate.\n",
    "    * **Median:** The middle value when the data is sorted. Resistant to outliers.\n",
    "        * Example: Median house price in a city (less affected by a few extremely expensive houses than the mean would be). Median income.\n",
    "    * **Mode:** The most frequent value.\n",
    "        * Example: The most common product purchased on an e-commerce site, the most frequent user action on a website.\n",
    "2. **Measures of Dispersion:** These describe how spread out the data is.\n",
    "    * **Standard Deviation (`σ`):** The average distance of data points from the mean. A low standard deviation means data points are clustered close to the mean; a high standard deviation means they are more spread out. \n",
    "        * Example: If the standard deviation of customer ages is small, it means most customers are close to the average age. If it's large, the customer base is more diverse in age.\n",
    "    * **Variance:** The square of the standard deviation.\n",
    "        * Example: In finance, variance is often used to measure the volatility (risk) of an investment. \n",
    "    * **Range:** The difference between the maximum and minimum values. \n",
    "        * Example: Range of delivery times.\n",
    "    * **Interquartile Range (IQR):** The range of the middle 50% of the data (between the 25th and 75th percentiles). Resistant to outliers.\n",
    "        * Example: Used in box plots to show the spread of the central part of the data, and to identify outliers.\n",
    "3. **Frequency Tables:** Show how often each distinct value of a variable occurs. Useful for categorical data.\n",
    "    * Example: A table showing the number of users from each country visiting a website.\n",
    "4. **Contingency Tables (Cross-Tabs):** Show the relationship between two categorical variables. Each cell shows the count of observations that fall into a specific combination of categories.\n",
    "    * Example: A table showing the number of customers who purchased a particular product _and_ belong to a specific customer segment. This helps understand if certain segments are more likely to buy certain products.\n",
    "5. **Charts and Graphs:** Visual representations of data. See the [Data Visualization with Python](../../02_application/data_visualization_with_python/01_introduction_to_data_visualization_tools.ipynb) section for the application.\n",
    "    * **Bar Charts:** Good for displaying frequencies of categorical variables. Example: A bar chart showing the number of users in each subscription plan (free, basic, premium).\n",
    "    * **Pie Charts:** Show proportions of categories. Example: Market share of different companies.\n",
    "    * **Histograms:** Show the distribution of a numerical variable. Example: A histogram of website session durations, showing how many sessions lasted 0-1 minute, 1-2 minutes, 2-3 minutes, etc.\n",
    "    * **Box Plots:** Display the median, quartiles, and outliers of a numerical variable. Example: Compare the distributions of purchase amounts across different customer groups.\n",
    "    * **Violin Plots:** Similar to box plots but also show the density of the data. Example: Compare the distribution of ages for users who clicked on different advertisements.\n",
    "\n",
    "### Inferential Statistics: Making Inferences About Populations\n"
   ]
  },
  {
   "cell_type": "markdown",
   "metadata": {},
   "source": []
  }
 ],
 "metadata": {
  "language_info": {
   "name": "python"
  }
 },
 "nbformat": 4,
 "nbformat_minor": 2
}
