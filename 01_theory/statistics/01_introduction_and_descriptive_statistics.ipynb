{
 "cells": [
  {
   "cell_type": "markdown",
   "metadata": {},
   "source": [
    "# Introduction and Descriptive Statistics"
   ]
  },
  {
   "cell_type": "markdown",
   "metadata": {},
   "source": [
    "## Welcome to Statistics: Statistics in Everyday Life"
   ]
  },
  {
   "cell_type": "markdown",
   "metadata": {},
   "source": [
    "Statistics isn't just something confined to textbooks or academic research. It's a fundamental tool for understanding and interpreting the world around us. We use statistical thinking and concepts constantly, from interpreting weather forecasts to understanding economic trends.\n",
    "\n",
    "### Examples in Daily Conversations and News\n",
    "\n",
    "The section highlights numerous examples of how statistics appear in everyday conversations and the news media:\n",
    "*   **Weather Forecasts:** When a weather report says there's a 35% chance of rain, that probability is derived from statistical models analyzing historical weather data.\n",
    "*   **Housing Affordability:**  News reports about rising housing costs rely on statistical analysis of real estate prices over time.\n",
    "*   **Unemployment Rates:**  The unemployment rate is a key economic statistic, calculated by surveying a sample of the population. Statements about how the rate is changing (rising or falling) involve statistical comparisons.\n",
    "*   **Job Market Trends:** Discussions about millennials' job preferences (e.g., seeking part-time work) are based on statistical surveys and analysis of employment data.\n",
    "*   **Sharing Economy:** The trends and preferences associated to sharing economy is derived from statistical data.\n",
    "*   **Salaries:**\n",
    "    *   Average starting salaries for specific professions (e.g., business analysts).\n",
    "    *   Comparisons of salaries between different professions (e.g., engineers vs. economists).\n",
    "    *   Determining the highest-paid individuals (e.g., in Hollywood or sports).\n",
    "*   **Crime Rates:**  Reports about increases or decreases in crime rates (e.g., in Chicago) involve statistical analysis of crime data.\n",
    "*   **Sports:**  Analyzing player performance (e.g., batting averages, scoring averages) relies heavily on statistics.\n",
    "\n",
    "### Statistical Concepts and Terminology\n",
    "This section mentions several key statistical concepts and terms that we encounter regularly:\n",
    "\n",
    "*   **Average (Mean):**  A measure of central tendency.  We talk about average income, average age, average height, etc.\n",
    "*   **Maximum:** The highest value in a dataset (e.g., the highest-paid athlete, the maximum temperature).\n",
    "*   **Minimum:** The lowest value in a dataset (e.g., the lowest unemployment rate).\n",
    "*   **Percentage:**  A way of expressing a proportion as a fraction of 100 (e.g., the percentage of females studying engineering).\n",
    "*   **Likelihood (Probability):**  The chance of an event occurring (e.g., the chance of rain).\n",
    "*   **Variance/Standard Deviation:**  Measures of how spread out data is (e.g., the consistency of a stock's performance).\n",
    "*   **T-test:** A statistical test used to compare the means of two groups (e.g., comparing spending habits of men and women).\n",
    "* **Median:** Middle value of a sorted dataset.\n",
    "\n",
    "### Statistics in the News Media\n",
    "News organizations frequently use statistics to report on trends and events:\n",
    "\n",
    "*   **Election Polls:**  Polls predict election outcomes by surveying a sample of voters. The results are presented with margins of error, which are statistical measures of uncertainty.\n",
    "*   **Economic Indicators:**  Reports on economic growth, inflation, and other indicators are based on statistical data.\n",
    "*   **Development Statistics:**  Comparisons of housing prices, economic development, or other metrics across countries rely on statistical analysis."
   ]
  },
  {
   "cell_type": "markdown",
   "metadata": {},
   "source": [
    "## Types of Data in Statistics"
   ]
  },
  {
   "cell_type": "markdown",
   "metadata": {},
   "source": [
    "Before starting any statistical analysis, it's crucial to understand the type of data you're working with. The data type dictates which statistical tools and techniques are appropriate and meaningful.\n",
    "\n",
    "### Types of Data Based on Collection\n",
    "We can classify data based on _how_ it was collected. \n",
    "1. **Cross-Sectional Data:** \n",
    "    * Measurements taken at a single point in time. It's like a snapshot of a population or phenomenon. \n",
    "    * **Examples:**\n",
    "        * A census conducted in a specific year.\n",
    "        * Student evaluations of a course at the end of a semester. \n",
    "        * A survey of customer satisfaction conducted on a particular day.\n",
    "2. **Panel Data:**\n",
    "    * The _same_ individuals or entities are measured repeatedly over time. It tracks changes within the same subjects.\n",
    "    * **Example:** A group of individuals is surveyed annually for five years, asking them the set of questions each year. This allows researches to track changes in opinions, behaviors, or characteristics over time within the same group.\n",
    "3. **Time Series Data:**\n",
    "    * Measurements of a _single_ variable are taken at regular intervals over time. It focuses on the evolution of a single phenomenon.\n",
    "    * **Examples:**\n",
    "        * Monthly unemployment rates recorded over several decades.\n",
    "        * Daily closing stock prices for a particular company.\n",
    "        * Hourly temperature readings at a weather station.\n",
    "\n",
    "### Types of Data Based on Number of Variables\n",
    "1. **Univariate Data:** The dataset has only _one_ variable.\n",
    "    * **Example:** A list of heights of students in a class.\n",
    "2. **Multivariate Data:** The dataset has _multiple_ variables.\n",
    "    * **Example:** A dataset with information on students' height, weight, age, and GPA.\n",
    "\n",
    "### Types of Variables\n",
    "1. **Categorical (Nominal) Variables:** \n",
    "    * Data that represents categories or groups _without_ any inherent order or ranking.\n",
    "    * **Subtypes:**\n",
    "        * **Binomial (dichotomous):** Only two categories (e.g., own/rent, yes/no, true/false)\n",
    "        * **Multinomial:** More than two categories (e.g., modes of transportation: car/bus/walk/bike).\n",
    "2. **Ordinal Variables:**\n",
    "    * Categorical data where the categories _do_ have a meaningful order or ranking.\n",
    "    * **Key Characteristics:**\n",
    "        * Categories can be compared (one category is higher/lower, better/worse than another).\n",
    "        * Differences between categories are not necessarily equal or meaningful. You know the order, but not the precise distance between ranks.\n",
    "        * Regular statistical calculations (like means) are often inappropriate. \n",
    "    * **Examples:**\n",
    "        * Number of cars owned by a household (0, 1, 2, 3+)\n",
    "        * Customer satisfaction ratings (very dissatisfied, dissatisfied, neutral, satisfied, very satisfied).\n",
    "        * Education level (high school, bachelor's, master's, doctorate).\n",
    "3. **Ratio Variables:**\n",
    "    * Numerical data with a _natural zero point_. This means that zero represents the absence of the quantity being measured.\n",
    "    * **Key Characteristics:**\n",
    "        * Ordered, with meaningful differences between values.\n",
    "        * Ratios are meaningful (e.g., $100 is twice as much as $50).\n",
    "        * All standard mathematical operations (addition, subtraction, multiplication, division) are valid.\n",
    "    * **Examples:** Sales (in dollars), distance, weight, age, income, height.\n",
    "4. **Interval Variables:**\n",
    "    * Numerical data that is ordered and the _differences_ between values are meaningful, but there is _no natural zero point_.\n",
    "    * **Key Characteristics:**\n",
    "        * Ordered, with meaningful differences.\n",
    "        * Even though the _differences_ are meaningful, the ratios are _not_. For example, 50°C is a higher temperature than 25°C, but it doesn't mean that the weather is \"2 times\" hotter.\n",
    "        * Zero is arbitrary; it doesn't represent the absence of the quantity.\n",
    "    * **Examples:** Temperature (0°C doesn't mean \"no temperature\"), calendar years (Year 0 is arbitrary), IQ scores (0 IQ doesn't mean \"no intelligence\")\n",
    "\n",
    "### Strongest to Weakest Form of Measurement\n",
    "Ratio -> Interval -> Ordinal -> Categorical\n",
    "\n",
    "### Summary Table\n",
    "\n",
    "| Data Type        | Order | Meaningful Differences | Natural Zero | Ratios Meaningful | Examples                                      |\n",
    "| ---------------- | ----- | ---------------------- | ------------ | ----------------- | --------------------------------------------- |\n",
    "| Categorical      | No    | No                     | No           | No                | Eye color, gender, city                       |\n",
    "| Ordinal          | Yes   | No                     | No           | No                | Education level, customer satisfaction          |\n",
    "| Interval         | Yes   | Yes                    | No           | No                | Temperature (°C, °F), calendar year             |\n",
    "| Ratio            | Yes   | Yes                    | Yes          | Yes               | Height, weight, income, sales, distance        |\n",
    "| Time Series      | Yes   | Yes                     |  -      |        -           |  Unemployment Rate, Daily closing stock prices        |\n",
    "| Panel       | Yes   | Yes                     |  -       |      -             |   A group of individuals is surveyed annually for five years.    |\n",
    "| Cross-Sectional    |  -   |      -                 |    -         |     -              |   A census conducted in a specific year   |"
   ]
  },
  {
   "cell_type": "markdown",
   "metadata": {},
   "source": [
    "## Measure of Central Tendency"
   ]
  },
  {
   "cell_type": "markdown",
   "metadata": {},
   "source": [
    "Measures of central tendency are among the most commonly used statistics. They provide a single value that summarizes the central location of a distribution of data.\n",
    "\n",
    "### Population vs. Sample\n",
    "* **Population:** The *entire* group of individuals or items of interest.  It includes *all* members of the group.\n",
    "    * *Example:* If we're interested in the driving habits of *all* automobile drivers in the US, the population is *all* US automobile drivers.\n",
    "* **Sample:** A *subset* of the population. It's a smaller group selected from the population.\n",
    "    * *Example:* All married drivers over the age of 25 would be a *subset* of all US automobile drivers.  A randomly selected group of 5% of those married drivers over 25 would be a *sample*.\n",
    "* **Why Use Samples?**\n",
    "    * **Cost:**  It's often too expensive or time-consuming to collect data from the entire population.\n",
    "    * **Feasibility:**  Sometimes it's simply impossible to reach every member of the population.\n",
    "    * **Statistical Inference:**  We can use sample statistics to make inferences (educated guesses) about the population.  Surprisingly small samples (e.g., 330-500 individuals) can be representative of large populations if selected randomly.\n",
    "\n",
    "### Measures of Central Tendency: Formulas and Concepts\n",
    "1. **Mean (Average):**\n",
    "    * **Formula (Population):**  µ = Σx / N  (where µ is the population mean, Σx is the sum of all values, and N is the population size)\n",
    "    * **Formula (Sample):**  x̄ = Σx / n  (where x̄ is the sample mean, Σx is the sum of all values, and n is the sample size)\n",
    "    * **Concept:**  The sum of all values divided by the number of values.  It's the \"balancing point\" of the data.\n",
    "    * **Property:** If you subtract the mean from each data point and sum those differences, the result is zero.  (Σ(x - x̄) = 0)\n",
    "2. **Median:**\n",
    "    * **Concept:** The middle value when the data is sorted in ascending order.  It divides the data into two halves: 50% of the values are below the median, and 50% are above.\n",
    "    * **Calculation:**\n",
    "        * **Odd number of data points:** The median is the middle value.\n",
    "        * **Even number of data points:** The median is the average of the two middle values.\n",
    "3. **Mode:**\n",
    "    * **Concept:** The value that occurs most frequently in the dataset.\n",
    "    * **Note:** A dataset can have no mode (if all values are unique), one mode (unimodal), or multiple modes (bimodal, multimodal)."
   ]
  },
  {
   "cell_type": "markdown",
   "metadata": {},
   "source": []
  }
 ],
 "metadata": {
  "language_info": {
   "name": "python"
  }
 },
 "nbformat": 4,
 "nbformat_minor": 2
}
