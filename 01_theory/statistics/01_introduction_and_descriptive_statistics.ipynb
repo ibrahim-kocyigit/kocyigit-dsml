{
 "cells": [
  {
   "cell_type": "markdown",
   "metadata": {},
   "source": [
    "# Introduction and Descriptive Statistics"
   ]
  },
  {
   "cell_type": "markdown",
   "metadata": {},
   "source": [
    "## Welcome to Statistics: Statistics in Everyday Life"
   ]
  },
  {
   "cell_type": "markdown",
   "metadata": {},
   "source": [
    "This section introduces the pervasive nature of statistics in our daily lives, highlighting how frequently we encounter and use statistical concepts, often without realizing it.\n",
    "\n",
    "### Introduction\n",
    "\n",
    "Statistics isn't just something confined to textbooks or academic research. It's a fundamental tool for understanding and interpreting the world around us. We use statistical thinking and concepts constantly, from interpreting weather forecasts to understanding economic trends.\n",
    "\n",
    "### Examples in Daily Conversations and News\n",
    "\n",
    "The section highlights numerous examples of how statistics appear in everyday conversations and the news media:\n",
    "*   **Weather Forecasts:** When a weather report says there's a 35% chance of rain, that probability is derived from statistical models analyzing historical weather data.\n",
    "*   **Housing Affordability:**  News reports about rising housing costs rely on statistical analysis of real estate prices over time.\n",
    "*   **Unemployment Rates:**  The unemployment rate is a key economic statistic, calculated by surveying a sample of the population. Statements about how the rate is changing (rising or falling) involve statistical comparisons.\n",
    "*   **Job Market Trends:** Discussions about millennials' job preferences (e.g., seeking part-time work) are based on statistical surveys and analysis of employment data.\n",
    "*   **Sharing Economy:** The trends and preferences associated to sharing economy is derived from statistical data.\n",
    "*   **Salaries:**\n",
    "    *   Average starting salaries for specific professions (e.g., business analysts).\n",
    "    *   Comparisons of salaries between different professions (e.g., engineers vs. economists).\n",
    "    *   Determining the highest-paid individuals (e.g., in Hollywood or sports).\n",
    "*   **Crime Rates:**  Reports about increases or decreases in crime rates (e.g., in Chicago) involve statistical analysis of crime data.\n",
    "*   **Sports:**  Analyzing player performance (e.g., batting averages, scoring averages) relies heavily on statistics.\n",
    "\n",
    "### Statistical Concepts and Terminology\n",
    "This section mentions several key statistical concepts and terms that we encounter regularly:\n",
    "\n",
    "*   **Average (Mean):**  A measure of central tendency.  We talk about average income, average age, average height, etc.\n",
    "*   **Maximum:** The highest value in a dataset (e.g., the highest-paid athlete, the maximum temperature).\n",
    "*   **Minimum:** The lowest value in a dataset (e.g., the lowest unemployment rate).\n",
    "*   **Percentage:**  A way of expressing a proportion as a fraction of 100 (e.g., the percentage of females studying engineering).\n",
    "*   **Likelihood (Probability):**  The chance of an event occurring (e.g., the chance of rain).\n",
    "*   **Variance/Standard Deviation:**  Measures of how spread out data is (e.g., the consistency of a stock's performance).\n",
    "*   **T-test:** A statistical test used to compare the means of two groups (e.g., comparing spending habits of men and women).\n",
    "* **Median:** Middle value of a sorted dataset.\n",
    "\n",
    "### Statistics in the News Media\n",
    "News organizations frequently use statistics to report on trends and events:\n",
    "\n",
    "*   **Election Polls:**  Polls predict election outcomes by surveying a sample of voters. The results are presented with margins of error, which are statistical measures of uncertainty.\n",
    "*   **Economic Indicators:**  Reports on economic growth, inflation, and other indicators are based on statistical data.\n",
    "*   **Development Statistics:**  Comparisons of housing prices, economic development, or other metrics across countries rely on statistical analysis.\n",
    "\n",
    "### Conclusion\n",
    "Statistics are all around us.  We use them to make decisions, understand the world, and communicate information.  Having a basic understanding of statistics is increasingly important in today's data-driven world. It's not just for statisticians; it's a valuable skill for everyone."
   ]
  }
 ],
 "metadata": {
  "language_info": {
   "name": "python"
  }
 },
 "nbformat": 4,
 "nbformat_minor": 2
}
