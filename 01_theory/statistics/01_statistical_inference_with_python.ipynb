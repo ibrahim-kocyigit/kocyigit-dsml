{
 "cells": [
  {
   "cell_type": "markdown",
   "metadata": {},
   "source": [
    "# Statistical Inference with Python\n",
    "\n",
    "## What is Statistical Inference\n",
    "Statistical inference is the process of drawing conclusions about a population based on a sample of data. It's a powerful tool that allows us to move from observations to generalizations. In the world of machine learning, statistical inference provides the bedrock for:\n",
    "* Estimating model parameters and quantifying their uncertainty\n",
    "* Evaluating the performance of machine learning models and making comparisons\n",
    "* Making predictions on new, unseen data with confidence intervals\n",
    "* Understanding the underlying relationships between variables.\n",
    "\n",
    "## Key Concepts and Notation\n",
    "Before we proceed, let's establish some essential terminology and notation:\n",
    "* **Population:** The entire collection of individuals or objects about which we want to draw conclusions. We often use Greek letters to denote population parameters such as:\n",
    "    * µ (mu) for the population mean\n",
    "    * σ (sigma) for the population standard deviation\n",
    "    * σ² (sigma squared) for the population variance \n",
    "* **Sample:** A subset of the population from which we collect data. Sample statistics are usually denoted with Roman letters:\n",
    "    * x̄ (x-bar) for the sample mean.\n",
    "    * s for the sample standard deviation.\n",
    "    * s² for the sample variance\n",
    "    * n for the sample size\n",
    "* **Random Variable:** A variable whose value is numerical outcome of a random phenomenon. We often use uppercase letters (e.g., X, Y) to denote random variables.\n",
    "* **Probability Distribution:** A function that describes the likelihood of different outcomes for a random variable. Common examples include the normal distribution, binomial distribution, and Poisson distribution. \n",
    "* **Sampling Distribution:** The probability of a statistic (e.g., the distribution of sample means from many different samples). This concept is central to understanding how well a sample statistic estimates a population parameter.\n",
    "\n",
    "## Estimation with Python\n",
    "The goal of estimation is to use sample data to approximate unknown population parameters. \n",
    "\n",
    "### Point Estimation\n",
    "A point estimate is a single value that serves as our \"best guess\" for a population parameter. For example, the sample mean (x̅) is a common point estimator for the population mean(µ).\n",
    "\n",
    "**Desirable Properties of Estimators:**\n",
    "* **Unbiasedness:** An estimator is unbiased if its expected value is equal to the true parameter value (i.e., on average, it hits the target). Mathematically, for an estimator θ̂ (theta-hat) of a parameter θ (theta), E(θ̂)=θ.\n",
    "* **Consistency:** An estimator is consistent if it converges to the true parameter value as the sample size increases (i.e., more data leads to better accuracy).\n",
    "* **Efficiency:** An estimator is efficient if it has the smallest variance among all unbiased estimators (i.e., it's the most precise).\n",
    "* **Example with Python:**"
   ]
  },
  {
   "cell_type": "code",
   "execution_count": 5,
   "metadata": {},
   "outputs": [
    {
     "name": "stdout",
     "output_type": "stream",
     "text": [
      "Sample Mean: 168.6\n"
     ]
    }
   ],
   "source": [
    "import numpy as np\n",
    "\n",
    "# Generate 10 random heights (in cm) between 150 and 200\n",
    "data = np.random.randint(150, 200, size=10) \n",
    "\n",
    "# Calculate the sample mean (point estimate for the population mean)\n",
    "sample_mean = np.mean(data)\n",
    "print(f\"Sample Mean: {sample_mean}\")"
   ]
  },
  {
   "cell_type": "markdown",
   "metadata": {},
   "source": [
    "### Interval Estimation\n"
   ]
  },
  {
   "cell_type": "code",
   "execution_count": null,
   "metadata": {},
   "outputs": [],
   "source": []
  }
 ],
 "metadata": {
  "kernelspec": {
   "display_name": ".venv",
   "language": "python",
   "name": "python3"
  },
  "language_info": {
   "codemirror_mode": {
    "name": "ipython",
    "version": 3
   },
   "file_extension": ".py",
   "mimetype": "text/x-python",
   "name": "python",
   "nbconvert_exporter": "python",
   "pygments_lexer": "ipython3",
   "version": "3.13.1"
  }
 },
 "nbformat": 4,
 "nbformat_minor": 2
}
