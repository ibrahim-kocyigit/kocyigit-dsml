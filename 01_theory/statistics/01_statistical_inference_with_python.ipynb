{
 "cells": [
  {
   "cell_type": "markdown",
   "metadata": {},
   "source": [
    "# Statistical Inference with Python\n",
    "\n",
    "## What is Statistical Inference\n",
    "Statistical inference is the process of drawing conclusions about a population based on a sample of data. It's a powerful tool that allows us to move from observations to generalizations. In the world of machine learning, statistical inference provides the bedrock for:\n",
    "* Estimating model parameters and quantifying their uncertainty\n",
    "* Evaluating the performance of machine learning models and making comparisons\n",
    "* Making predictions on new, unseen data with confidence intervals\n",
    "* Understanding the underlying relationships between variables.\n",
    "\n",
    "## Key Concepts and Notation\n",
    "Before we proceed, let's establish some essential terminology and notation:\n",
    "* **Population:** The entire collection of individuals or objects about which we want to draw conclusions. We often use Greek letters to denote population parameters such as:\n",
    "    * µ (mu) for the population mean\n",
    "    * σ (sigma) for the population standard deviation\n",
    "    * σ² (sigma squared) for the population variance \n",
    "* **Sample:** A subset of the population from which we collect data. Sample statistics are usually denoted with Roman letters:\n",
    "    * x̄ (x-bar) for the sample mean.\n",
    "    * s for the sample standard deviation.\n",
    "    * s² for the sample variance\n",
    "    * n for the sample size\n",
    "* **Random Variable:** A variable whose value is numerical outcome of a random phenomenon. We often use uppercase letters (e.g., X, Y) to denote random variables.\n",
    "* **Probability Distribution:** A function that describes the likelihood of different outcomes for a random variable. Common examples include the normal distribution, binomial distribution, and Poisson distribution. \n",
    "* **Sampling Distribution:** The probability of a statistic (e.g., the distribution of sample means from many different samples). This concept is central to understanding how well a sample statistic estimates a population parameter.\n",
    "\n",
    "## Estimation with Python\n",
    "The goal of estimation is to use sample data to approximate unknown population parameters. \n",
    "\n",
    "### Point Estimation\n",
    "A point estimate is a single value that serves as our \"best guess\" for a population parameter. For example, the sample mean (x̅) is a common point estimator for the population mean(µ).\n",
    "\n",
    "**Desirable Properties of Estimators:**\n",
    "* **Unbiasedness:** An estimator is unbiased if its expected value is equal to the true parameter value (i.e., on average, it hits the target). Mathematically, for an estimator θ̂ (theta-hat) of a parameter θ (theta), E(θ̂)=θ.\n",
    "* **Consistency:** An estimator is consistent if it converges to the true parameter value as the sample size increases (i.e., more data leads to better accuracy).\n",
    "* **Efficiency:** An estimator is efficient if it has the smallest variance among all unbiased estimators (i.e., it's the most precise)."
   ]
  },
  {
   "cell_type": "code",
   "execution_count": 10,
   "metadata": {},
   "outputs": [
    {
     "name": "stdout",
     "output_type": "stream",
     "text": [
      "Sample Mean: 178.4\n"
     ]
    }
   ],
   "source": [
    "# ----- Point Estimation Example with Python -----\n",
    "\n",
    "import numpy as np\n",
    "\n",
    "# Generate 10 random heights (in cm) between 150 and 200\n",
    "data = np.random.randint(150, 200, size=10) \n",
    "\n",
    "# Calculate the sample mean (point estimate for the population mean)\n",
    "sample_mean = np.mean(data)\n",
    "print(f\"Sample Mean: {sample_mean}\")"
   ]
  },
  {
   "cell_type": "markdown",
   "metadata": {},
   "source": [
    "### Interval Estimation\n",
    "An interval estimate provides a range of plausible values for a population parameter. A **confidence interval** is an interval constructed with a certain level of confidence (e.g., 95%) that it captures the true population parameter. For example, a 95% confidence interval for the population mean (µ) when the population standard deviation (σ) is known is given by:\n",
    "\n",
    "x̄ ± z<sub>α/2</sub> * (σ / √n)\n",
    "\n",
    "where: \n",
    "\n",
    "* x̄ (x-bar) is the sample mean\n",
    "* z<sub>α/2</sub> (z-alpha-by-2) is the critical value from the standard normal distribution corresponding to the desired confidence level (for a 95% confidence interval, α=0.05 and z<sub>α/2</sub> ≈1.96)\n",
    "* n is the sample size\n",
    "\n",
    "**Interpretation:** If we were to repeatedly take samples and construct confidence intervals in this way, 95% of those intervals would contain the true population mean."
   ]
  },
  {
   "cell_type": "code",
   "execution_count": 7,
   "metadata": {},
   "outputs": [
    {
     "name": "stdout",
     "output_type": "stream",
     "text": [
      "Confidence Interval: (np.float64(162.6177545879594), np.float64(181.1822454120406))\n"
     ]
    }
   ],
   "source": [
    "# ------ Interval Estimation Example with Python -----\n",
    "import numpy as np\n",
    "from scipy.stats import norm\n",
    "\n",
    "# Generate 10 random heights (in cm) between 150 and 200\n",
    "data = np.random.randint(150, 200, size=10)\n",
    "\n",
    "# Sample mean and standard deviation\n",
    "sample_mean = np.mean(data)\n",
    "sample_std = np.std(data)\n",
    "\n",
    "# Confidence level (e.g., 95%)\n",
    "confidence_level = 0.95\n",
    "alpha = 1-confidence_level\n",
    "\n",
    "# Critical value from the standard normal distribution\n",
    "z_critical = norm.ppf(1 - alpha/2)\n",
    "\n",
    "# Margin of Error\n",
    "margin_of_error = z_critical * (sample_std / np.sqrt(len(data)))\n",
    "\n",
    "# Confidence interval\n",
    "confidence_interval = (sample_mean - margin_of_error, sample_mean + margin_of_error)\n",
    "print(\"Confidence Interval:\", confidence_interval)"
   ]
  },
  {
   "cell_type": "markdown",
   "metadata": {},
   "source": [
    "## Hypothesis Testing Overview\n",
    "Hypothesis testing provides a formal framework for using data to evaluate claims about a population. We'll explore this in detail in a later lesson, but here's a brief overview:\n",
    "\n",
    "* **The Core Idea:** We formulate a hypothesis about a population parameter and then use sample data to determine if there's enough evidence to reject that hypothesis.\n",
    "* **Key Components:**\n",
    "    * Null Hypothesis (H<sub>0</sub>): The default assumption (e.g., \"no effect\" or \"no difference\").\n",
    "    * Alternative Hypothesis (H<sub>1</sub> or H<sub>α</sub>): The claim we want to test (e.g., \"there is an effect\").\n",
    "    * Test statistic: A value computed from the sample data to assess the evidence against H₀.\n",
    "    * p-value: The probability of observing the test statistic or something more extreme under H₀.\n",
    "    * Significance level (α (alpha)): The threshold for rejecting H₀ (e.g., 0.05).\n",
    "\n",
    "We'll delve deeper into the process of hypothesis testing, different types of tests, and how to interpret results in the dedicated lesson.\n",
    "\n",
    "## Summary\n",
    "* Statistical inference allows us to draw conclusions about populations using sample data.\n",
    "* Key concepts include populations, samples, random variables, and probability distributions.\n",
    "* Estimation involves point estimates (single values) and interval estimates (confidence intervals).\n",
    "* Hypothesis testing provides a framework for evaluating claims about population parameters."
   ]
  }
 ],
 "metadata": {
  "kernelspec": {
   "display_name": ".venv",
   "language": "python",
   "name": "python3"
  },
  "language_info": {
   "codemirror_mode": {
    "name": "ipython",
    "version": 3
   },
   "file_extension": ".py",
   "mimetype": "text/x-python",
   "name": "python",
   "nbconvert_exporter": "python",
   "pygments_lexer": "ipython3",
   "version": "3.13.1"
  }
 },
 "nbformat": 4,
 "nbformat_minor": 2
}
