{
 "cells": [
  {
   "cell_type": "markdown",
   "metadata": {},
   "source": [
    "# Introduction to Data Visualization\n",
    "\n",
    "**Data visualization** is the process of presenting data in a graphical format. It is a key aspect of data science. It is especially **crucial** in organizations because often decisions are made based on a final visualization or interpretation of the data.\n",
    "\n",
    "We can think of data visualization as the **interface between those who work directly with data sources and those who make higher level strategic decisions in a business**. It’s important to be able to convey information to others, especially people who may not have the full technical knowledge or understanding to view the raw data or statistical analysis.\n",
    "\n",
    "Remember that **the purpose of data science** at an enterprise level is to use it to make _key decisions_ and improve products or services. Data visualization is nothing more than a tool for this purpose, _it's not the end goal_ itself.\n",
    "\n",
    "As we continue learning about data visualization, you should always keep in mind: _“What is the information I want to share or story I am trying to tell? How does this visualization help in conveying that information to others?”_ Because often information doesn’t need a pretty visual to be useful, like simple metrics (e.g. mean).\n",
    "\n",
    "A key part of data visualization is understanding what type of plot, chart, or visualization to use.\n",
    "\n",
    "In this section, you'll learn about the key characteristics of different plots so you can decide if it is the one you need. Then you can check that plot's section for more detailed information.\n",
    "\n",
    "\n",
    "---\n",
    "\n",
    "## Scatter Plots\n",
    "Scatter plots allow us to visualize the relationship between *two* (usually continuous) numerical variables. Each point represents a pair of values (x, y).\n",
    "\n",
    "We use scatter plots to:\n",
    "\n",
    "* Identify correlations (_Do the variables tend to increase or decrease together?_).\n",
    "* Detect clusters  (_Are there groups of data points that are similar to each other?_).\n",
    "* Find outliers (_Are there any data points that are far away from the general trend?_).\n",
    "\n",
    "### Key Features and Customizations for Scatter Plots\n",
    "* **Trend Lines:** Adding a regression line (often a linear regression) can highlight the overall trend. The easiest way to do so is by using `sns.regplot`.\n",
    "* **Transparency:** Making points semi-transparent (using the parameter `alpha`) helps visualize areas with many overlapping points.\n",
    "* **Color:** `hue` parameter allows us to use color to represent a third, categorical variable.\n",
    "* **Shape:** `style` parameter allows us to use different marker shapes to represent another categorical variable.\n",
    "* **Size:** `size` parameter allows us to use the size of the points to represent a third, *numerical* variable (less common, can be harder to interpret).\n",
    "\n",
    "**Important:** Using too many features with additional parameters might make the plot busy easily."
   ]
  },
  {
   "cell_type": "markdown",
   "metadata": {},
   "source": [
    "***"
   ]
  },
  {
   "cell_type": "markdown",
   "metadata": {},
   "source": [
    "## Line Plots\n",
    "Line plots allow us to visualize the relationship between two variables where there is a known, *continuous* relationship along the x-axis. They are most commonly used for time series data (showing how something changes over time).\n",
    "\n",
    "We use line plots in order to:\n",
    "\n",
    "* Track trends over time (_Stock prices, temperature changes, population growth, etc._).\n",
    "* Show continuous processes (_Anything where the x-axis represents a continuous quantity, e.g., distance, speed, concentration_).\n",
    "\n",
    "We should _not_ use line plots for:\n",
    "\n",
    "* Unrelated data points where there's no inherent continuous relationship between them. (_The \"tips\" dataset example – connecting total bills of different parties is meaningless_). A trend line is different.\n",
    "* Categorical x-axis (_usually_). (_If the x-axis represents distinct categories, e.g., countries, product types, a bar plot is usually more appropriate_).\n",
    "\n",
    "### Key Features and Customizations for Line Plots\n",
    "* **Multiple Lines:** `hue` parameter allows us to plot multiple lines on the same axes to compare different categories or groups.\n",
    "* **Line Styles:** `linestyle` parameter allows us to change line styles (solid, dashed, dotted) to differentiate lines.\n",
    "* **Markers:** `marker` parameter allows us to add markers to individual data points (_optional, can make the plot cluttered_)."
   ]
  },
  {
   "cell_type": "markdown",
   "metadata": {},
   "source": [
    "---"
   ]
  },
  {
   "cell_type": "markdown",
   "metadata": {},
   "source": [
    "## Distribution Plots (Histograms)\n",
    "Histograms allow us to visualize the *distribution* of a *single, continuous* numerical variable. They show how frequently different values occur.\n",
    "\n",
    "We use histograms in order to:\n",
    "\n",
    "* Understand data spread (_Is the data tightly clustered or widely spread?_).\n",
    "* Identify skewness (_Is the distribution symmetrical or skewed to one side?_).\n",
    "* Detect multimodality (_Are there multiple peaks in the distribution, suggesting different subgroups?_).\n",
    "\n",
    "In a histogram:\n",
    "\n",
    "* **X-axis** represents the continuous numerical variable being analyzed.\n",
    "* **Y-axis:** represents the frequency (count) or density of data points within each bin.\n",
    "\n",
    "### Key Features and Customizations for Histograms\n",
    "* **Bins:** The intervals into which the data is divided. The number of bins (`bins` parameter) can significantly affect the appearance of the histogram.\n",
    "* **Kernel Density Estimation (KDE):**  A smoothed version of the histogram (`kde=True` parameter in seaborn), providing a continuous estimate of the probability density function.\n",
    "\n",
    "_To explore the distribution for a categorical variable, use box plots_."
   ]
  },
  {
   "cell_type": "markdown",
   "metadata": {},
   "source": [
    "---"
   ]
  },
  {
   "cell_type": "markdown",
   "metadata": {},
   "source": [
    "## Categorical Plots (Bar Plots)\n",
    "Bar plots allow us to visualize the relationship between a *categorical* variable (x-axis) and a *numerical* variable (y-axis). They are often used to compare a statistic (e.g., mean, count, sum) across different categories.\n",
    "\n",
    "We use bar plots in order to:\n",
    "\n",
    "* Compare group means (_e.g., average income by education level_).\n",
    "* Show counts (_Number of observations in each category_).\n",
    "* Display proportions (_Percentage of respondents choosing each option in a survey_).\n",
    "\n",
    "**Bar plots** have categorical x-axis, numerical y-axis, while **histogram** have continuous numerical x-axis, frequency/count y-axis.\n",
    "\n",
    "### Key Features and Customizations for Categorical Plots\n",
    "* **Grouped or Stack Bars:** We can use `hue` parameter to add a second categorical variable to create grouped or stacked bars.\n",
    "* **Changing the Statistics for Y-Axis:** We can change the statistic displayed on the y-axis (e.g., `estimator=sum` to show the sum instead of the mean). This often requires preprocessing the data with Pandas (as shown in the last example below).\n",
    "* **Confidence Intervals:** Seaborn automatically displays confidence intervals around the bars (can be turned off).\n",
    "* **Orientation:** We can use horizontal or vertical bars."
   ]
  },
  {
   "cell_type": "markdown",
   "metadata": {},
   "source": [
    "---"
   ]
  },
  {
   "cell_type": "markdown",
   "metadata": {},
   "source": [
    "## Box Plots\n",
    "Box plots (also known as box-and-whisker plots) are a standardized way of displaying the distribution of data based on a five-number summary: minimum, first quartile (Q1), median (Q2), third quartile (Q3), and maximum. \n",
    "\n",
    "Box plots are particularly useful for:\n",
    "* Comparing distributions (_Quickly comparing the central tendency, spread, and skewness of multiple datasets_).\n",
    "* Identifying outliers (_Points that fall outside the \"whiskers\" are often considered outliers_).\n",
    "* Visualizing data spread (_Showing the Interquartile Range and the overall range of the data_).\n",
    "\n",
    "### Key Features and Interpretations of Box Plots\n",
    "* **Box:** Represents the interquartile range (IQR), which contains the middle 50% of the data.  The bottom of the box is Q1 (25th percentile), and the top is Q3 (75th percentile).\n",
    "* **Median Line:**  A line within the box that indicates the median (Q2, 50th percentile).\n",
    "* **Whiskers:** Lines extending from the box.  By default in most libraries (including Seaborn), these extend to the furthest data point within 1.5 * IQR from the box edges (Q1 and Q3).  This is the *most important* customization point, and the default is *not* always appropriate (see below).\n",
    "* **Outliers:**  Individual points plotted beyond the whiskers. These points are considered statistically unusual, given the IQR.\n",
    "* **Notch**: It displays a confidence interval around the median which is normally based on the median +/- 1.57 x IQR/sqrt(n).\n",
    "\n",
    "### Customizations\n",
    "We can customize many things. Some of them are:\n",
    "* `showcaps`: Show the caps on the ends of whiskers.\n",
    "* `showbox`: Show the central box.\n",
    "* `showmeans`: Show the arithmetic means.\n",
    "* `showfliers`: Show the outliers beyond the caps.\n",
    "\n",
    "### Important Considerations for Whiskers\n",
    "The \"1.5 * IQR\" rule for whisker length is a common convention, *but it's not a universal rule*.  It's crucial to understand that:\n",
    "\n",
    "* **Different Definitions Exist:** Some software uses different definitions for the whiskers (e.g., minimum and maximum values, specific percentiles).  *Always check the documentation*.\n",
    "* **Context Matters:**  Whether a point is truly an \"outlier\" depends on the context of your data.  The 1.5 * IQR rule is a guideline, not a definitive test.\n",
    "* **Non-Normal Data:** The 1.5 * IQR rule is based on the assumption of a *normal distribution*.  For highly skewed data, it might flag too many (or too few) points as outliers.  Consider using other methods (e.g., percentiles) for such data.\n",
    "* **Vertical or Horizontal:** You can change the orientation."
   ]
  }
 ],
 "metadata": {
  "kernelspec": {
   "display_name": ".venv",
   "language": "python",
   "name": "python3"
  },
  "language_info": {
   "codemirror_mode": {
    "name": "ipython",
    "version": 3
   },
   "file_extension": ".py",
   "mimetype": "text/x-python",
   "name": "python",
   "nbconvert_exporter": "python",
   "pygments_lexer": "ipython3",
   "version": "3.13.1"
  }
 },
 "nbformat": 4,
 "nbformat_minor": 2
}
