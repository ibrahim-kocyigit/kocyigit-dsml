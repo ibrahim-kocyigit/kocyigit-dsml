{
 "cells": [
  {
   "cell_type": "markdown",
   "metadata": {},
   "source": [
    "# Introduction to Probability\n",
    "\n",
    "---\n",
    "\n",
    "## 1. What is Probability?\n",
    "**Probability** is a numerical measure of the likelihood of an event occurring. It is used to model and analyze situations involving uncertainty. It seeks to answer the question, _\"What is the change of something happening?\"_ Probability is a value between 0 and 1:\n",
    "* 0: Impossible event.\n",
    "* 1: Certain event.\n",
    "* 0.5: Event with equal chances of happening or not happening (e.g., getting heads in a coin toss).\n",
    "\n",
    "Probability is used in many areas of machine learning:\n",
    "* **Model Uncertainty:** Measuring how reliable a model's predictions are (e.g., the probability that a classification model assigns an instance to a particular class).\n",
    "* **Data Generation:** Generating new data points (e.g., in generative models).\n",
    "* **Random Processes:** Modeling algorithms that involve randomness (e.g., random forests).\n",
    "* **Bayesian Inference:** Using Bayes' theorem to update probabilities on data.\n",
    "\n",
    "### 1.1. Basic Concepts\n",
    "* **Experiment:** A process with an uncertain outcome (e.g., rolling a die, tossing a coin, observing whether a customer buys a product).\n",
    "* **Sample Space:** The set of _all_ possible outcomes of an experiment (usually denoted by _S_ or _Ω_).\n",
    "    * Example: When rolling a die, the sample space is _S_ = {1, 2, 3, 4, 5, 6}\n",
    "    * Example: When tossing a coin twice, the sample space is _S_ = {HH, HT, TH, TT}\n",
    "* **Event:** A subset of the sample space. The set of outcomes we are interested in or want to happen.\n",
    "    * Example: The event of rolling an even number on a die: _E_ = {2, 4, 6}\n",
    "    * Example: The event of getting at least one tail when tossing a coin twice: _E_ = {HT, TH, TT}\n",
    "* **Probability Function:** A function which assigns to each event of the sample space a probability between 0 and 1.\n",
    "\n",
    "---\n",
    "\n",
    "## 2. Probability Rules\n",
    "When calculating and combining probabilities, we follow some fundamental rules. These rules form the basis of probability theory.\n",
    "\n",
    "### Rule 1: Non-Negativity Rule\n",
    "\"The probability of any event is always greater than or equal to 0.\"\n",
    "\n",
    "$P(E) \\ge 0$ (For any event *E*)\n",
    "\n",
    "### Rule 2: Normalization Rule\n",
    "\"The probability of the sample space is equal to 1.\" Which means, the sum of the probabilities of all possible outcomes is 1.\n",
    "\n",
    "$P(S) = 1$ (*S*: sample space)\n",
    "\n",
    "### Rule 3: Addition Rule for Mutually Exclusive Events\n",
    "\"If two events _cannot happen at the same time_ (**mutually exclusive events**), the probability of _either one or the other_ event occurring is the sum of their individual probabilities. \n",
    "\n",
    "$P(A \\cup B) = P(A) + P(B)$ (If *A* and *B* are mutually exclusive)\n",
    "\n",
    "**Example:**  \n",
    "\n",
    "The probability of rolling a 1 or a 2 on a die: $P(1 \\cup 2) = P(1) + P(2) = \\frac{1}{6} + \\frac{1}{6} = \\frac{1}{3}$\n",
    "\n",
    "### Rule 4: Complement Rule\n",
    "\"The probability of an event **not** happening (its complement) is 1 minus the probability of the event happening.\"\n",
    "\n",
    "$P(A^c) = 1 - P(A)$  (*Aᶜ* is the complement of *A* - the event that *A* does not occur)\n",
    "\n",
    "**Example:**  \n",
    "\n",
    "The probability of *not* rolling a 6 on a die: $P(6^c) = 1 - P(6) = 1 - \\frac{1}{6} = \\frac{5}{6}$\n",
    "\n",
    "### Rule 5: General Addition Rule\n",
    "\"Even if two events are **not** mutually exclusive (i.e., they _can_ happen at the same time), the probability of _either one of the other_ (or both) events occurring is calculated as:\n",
    "\n",
    "*   $P(A \\cup B) = P(A) + P(B) - P(A \\cap B)$\n",
    "\n",
    "    $P(A \\cap B)$: The probability of *both* *A* and *B* occurring (the probability of their *intersection*). We subtract this to avoid double-counting the outcomes that are in both A and B.\n",
    "\n",
    "**Example:**  \n",
    "\n",
    "We draw a random card from a standard deck of playing cards.\n",
    "\n",
    "* Event *A*: The card is a heart.  $P(A) = \\frac{13}{52} = \\frac{1}{4}$\n",
    "* Event *B*: The card is a king. $P(B) = \\frac{4}{52} = \\frac{1}{13}$\n",
    "* Event $A \\cap B$: The card is *both* a heart *and* a king (the king of hearts). $P(A \\cap B) = \\frac{1}{52}$\n",
    "* The probability of drawing a heart *or* a king: $P(A \\cup B) = P(A) + P(B) - P(A \\cap B) = \\frac{13}{52} + \\frac{4}{52} - \\frac{1}{52} = \\frac{16}{52} = \\frac{4}{13}$"
   ]
  },
  {
   "cell_type": "markdown",
   "metadata": {},
   "source": [
    "---"
   ]
  },
  {
   "cell_type": "markdown",
   "metadata": {},
   "source": [
    "## 3. "
   ]
  }
 ],
 "metadata": {
  "language_info": {
   "name": "python"
  }
 },
 "nbformat": 4,
 "nbformat_minor": 2
}
