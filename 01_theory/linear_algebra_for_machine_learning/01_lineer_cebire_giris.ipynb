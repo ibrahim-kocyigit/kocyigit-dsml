{
 "cells": [
  {
   "cell_type": "markdown",
   "metadata": {},
   "source": [
    "# Lineer Cebire Giriş\n",
    "\n",
    "---\n",
    "\n",
    "## 1. Lineer Cebir Nedir?\n",
    "\n",
    "Lineer cebir (_linear algebra_); **vektörler** (_vectors_), **matrisler** (_matrices_) ve **lineer dönüşümler** (_linear transformations_) ile ilgilenen bir matematik dalıdır. Lineer cebir, makine öğrenmesi (_machine learning_), bilgisayar grafikleri, fizik ve mühendislik gibi birçok alanda önemli rol oynar.\n",
    "\n",
    "### Lineer Cebirin Kullanım Alanları\n",
    "1. **Veri Temsili (_Data Representation_):**  \n",
    "Veriler, tek bir veri noktasını (_data point_) temsil eden **vektörler** veya bir veri setini (_dataset_) temsil eden **matrisler** olarak ifade edilir.\n",
    "    * Örneğin, bir evin özellikleri (metrekare, oda sayısı, yaş) bir vektörle temsil edilebilir.\n",
    "    * Birden fazla evin özellikleri ise bir matrisle temsil edilir.\n",
    "2. **Dönüşümler (_Transformations_):**  \n",
    "Verileri döndürme (_rotation_), ölçeklendirme (_scaling_) ve yansıtma (_projection_) gibi işlemler lineer cebir kullanılarak yapılır.\n",
    "    * Örneğin, bir görseli büyütmek veya döndürmek için matrisler kullanılır.\n",
    "3. **Algoritmalar (_Algorithms_):**  \n",
    "Makine öğrenmesinde kullanılan birçok algoritma lineer cebire dayanır. Örneğin:\n",
    "    * **PCA (Temel Bileşen Analizi, _Principal Component Analysis_):** Veri boyutunu azaltmak için kullanılır.\n",
    "    * **SVD (Tekil Değer Ayrışımı, _Singular Value Decomposition_):** Veriyi anlamlı parçalara ayırmak için kullanılır.\n",
    "    * **Sinir ağları (_neural networks_):** Ağırlık matrisleri ve vektörler kullanılarak modeller eğitilir.\n",
    "\n",
    "---\n",
    "\n",
    "## 2. Skalerler, Vektörler ve Matrisler\n",
    "\n",
    "### 2.1. Skalerler (_Scalars_)\n",
    "**Skalerler** tek bir sayıdan oluşan değerlerdir. Örneğin:\n",
    "* Bir evin metrekare fiyatı: `5000` (skaler)\n",
    "* Bir makine öğrenmesi modelinin öğrenme oranı (_learning rate_): `0.01` (skaler)\n",
    "\n",
    "Skalerler, makine öğrenmesinde **ağırlıklar** (_weights_), **biaslar** (_biases_) ve **hiperparametreler** (_hiperparameters_) gibi değerleri temsil etmek için kullanılır.\n",
    "\n",
    "### 2.2. Vektörler\n",
    "**Vektörler** sıralı bir sayı listesidir. Örneğin:\n",
    "* Bir evin özellikleri: [150, 3, 10]. Bu vektörde,\n",
    "    * `150`: evin metrekare cinsinden boyutu,\n",
    "    * `3`: oda sayısı,\n",
    "    * `10`: evin yaşıdır.\n",
    "Vektörler makine öğrenmesinde **tek bir veri noktasını** temsil etmek için kullanılır. Örneğin, bir evin özellikleri bir vektörle ifade edilebilir.\n",
    "\n",
    "### 2.3. Matrisler\n",
    "**Matrisler** iki boyutlu bir sayı dizisidir. Örneğin:\n",
    "* Birden fazla evin özellikleri:"
   ]
  },
  {
   "cell_type": "code",
   "execution_count": null,
   "metadata": {},
   "outputs": [],
   "source": [
    "X = [\n",
    "  [150, 3, 10],  # Ev 1\n",
    "  [120, 2, 20],  # Ev 2\n",
    "  [200, 4, 5]    # Ev 3\n",
    "]"
   ]
  },
  {
   "cell_type": "markdown",
   "metadata": {},
   "source": []
  }
 ],
 "metadata": {
  "kernelspec": {
   "display_name": ".venv",
   "language": "python",
   "name": "python3"
  },
  "language_info": {
   "name": "python",
   "version": "3.13.1"
  }
 },
 "nbformat": 4,
 "nbformat_minor": 2
}
