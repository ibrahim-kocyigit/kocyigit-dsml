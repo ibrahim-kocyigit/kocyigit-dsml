{
 "cells": [
  {
   "cell_type": "markdown",
   "metadata": {},
   "source": [
    "# Lineer Cebire Giriş\n",
    "\n",
    "---\n",
    "\n",
    "## 1. Lineer Cebir Nedir?\n",
    "\n",
    "Lineer cebir (_linear algebra_); **vektörler** (_vectors_), **matrisler** (_matrices_) ve **lineer dönüşümler** (_linear transformations_) ile ilgilenen bir matematik dalıdır. Lineer cebir, makine öğrenmesi (_machine learning_), bilgisayar grafikleri, fizik ve mühendislik gibi birçok alanda önemli rol oynar.\n",
    "\n",
    "### Lineer Cebirin Kullanım Alanları\n",
    "1. **Veri Temsili (_Data Representation_):**  \n",
    "Veriler, tek bir veri noktasını (_data point_) temsil eden **vektörler** veya bir veri setini (_dataset_) temsil eden **matrisler** olarak ifade edilir.\n",
    "    * Örneğin, bir evin özellikleri (metrekare, oda sayısı, yaş) bir vektörle temsil edilebilir.\n",
    "    * Birden fazla evin özellikleri ise bir matrisle temsil edilir.\n",
    "2. **Dönüşümler (_Transformations_):**  \n",
    "Verileri döndürme (_rotation_), ölçeklendirme (_scaling_) ve yansıtma (_projection_) gibi işlemler lineer cebir kullanılarak yapılır.\n",
    "    * Örneğin, bir görseli büyütmek veya döndürmek için matrisler kullanılır.\n",
    "3. **Algoritmalar (_Algorithms_):**  \n",
    "Makine öğrenmesinde kullanılan birçok algoritma lineer cebire dayanır. Örneğin:\n",
    "    * **PCA (Temel Bileşen Analizi, _Principal Component Analysis_):** Veri boyutunu azaltmak için kullanılır.\n",
    "    * **SVD (Tekil Değer Ayrışımı, _Singular Value Decomposition_):** Veriyi anlamlı parçalara ayırmak için kullanılır.\n",
    "    * **Sinir ağları (_neural networks_):** Ağırlık matrisleri ve vektörler kullanılarak modeller eğitilir."
   ]
  },
  {
   "cell_type": "markdown",
   "metadata": {},
   "source": []
  }
 ],
 "metadata": {
  "language_info": {
   "name": "python"
  }
 },
 "nbformat": 4,
 "nbformat_minor": 2
}
