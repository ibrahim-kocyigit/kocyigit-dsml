{
 "cells": [
  {
   "cell_type": "markdown",
   "metadata": {},
   "source": [
    "# Lineer Cebire Giriş\n",
    "\n",
    "---\n",
    "\n",
    "## 1. Lineer Cebir Nedir?\n",
    "\n",
    "Lineer cebir (_linear algebra_); **vektörler** (_vectors_), **matrisler** (_matrices_) ve **lineer dönüşümler** (_linear transformations_) ile ilgilenen bir matematik dalıdır. Lineer cebir, makine öğrenmesi (_machine learning_), bilgisayar grafikleri, fizik ve mühendislik gibi birçok alanda önemli rol oynar.\n",
    "\n",
    "### Lineer Cebirin Kullanım Alanları\n",
    "1. **Veri Temsili (_Data Representation_):**  \n",
    "Veriler, tek bir veri noktasını (_data point_) temsil eden **vektörler** veya bir veri setini (_dataset_) temsil eden **matrisler** olarak ifade edilir.\n",
    "    * Örneğin, bir evin özellikleri (metrekare, oda sayısı, yaş) bir vektörle temsil edilebilir.\n",
    "    * Birden fazla evin özellikleri ise bir matrisle temsil edilir.\n",
    "2. **Dönüşümler (_Transformations_):**  \n",
    "Verileri döndürme (_rotation_), ölçeklendirme (_scaling_) ve yansıtma (_projection_) gibi işlemler lineer cebir kullanılarak yapılır.\n",
    "    * Örneğin, bir görseli büyütmek veya döndürmek için matrisler kullanılır.\n",
    "3. **Algoritmalar (_Algorithms_):**  \n",
    "Makine öğrenmesinde kullanılan birçok algoritma lineer cebire dayanır. Örneğin:\n",
    "    * **PCA (Temel Bileşen Analizi, _Principal Component Analysis_):** Veri boyutunu azaltmak için kullanılır.\n",
    "    * **SVD (Tekil Değer Ayrışımı, _Singular Value Decomposition_):** Veriyi anlamlı parçalara ayırmak için kullanılır.\n",
    "    * **Sinir ağları (_neural networks_):** Ağırlık matrisleri ve vektörler kullanılarak modeller eğitilir.\n",
    "\n",
    "---"
   ]
  },
  {
   "cell_type": "markdown",
   "metadata": {},
   "source": [
    "## 2. Skalerler, Vektörler ve Matrisler\n",
    "\n",
    "### 2.1. Skalerler (_Scalars_)\n",
    "**Skalerler** tek bir sayıdan oluşan değerlerdir. Örneğin:\n",
    "* Bir evin metrekare fiyatı: `5000` (skaler)\n",
    "* Bir makine öğrenmesi modelinin öğrenme oranı (_learning rate_): `0.01` (skaler)\n",
    "\n",
    "Skalerler, makine öğrenmesinde **ağırlıklar** (_weights_), **biaslar** (_biases_) ve **hiperparametreler** (_hiperparameters_) gibi değerleri temsil etmek için kullanılır.\n",
    "\n",
    "### 2.2. Vektörler\n",
    "**Vektörler**, sıralı bir sayı listesidir. Matematiksel olarak bir vektör şu şekilde gösterilir:\n",
    "\n",
    "$\n",
    "\\mathbf{v} = \\begin{bmatrix} v_1 \\\\ v_2 \\\\ \\vdots \\\\ v_n \\end{bmatrix}\n",
    "$\n",
    "\n",
    "Vektörler, makine öğrenmesinde **tek bir veri noktasını** (_data point_) temsil etmek için kullanılır. \n",
    "\n",
    "Örneğin, 150 metrekare boyutunda, 3 odalı ve 10 yıllık bir evin özelliklerini bir vektörle ifade etmek istediğimizi düşünelim. Bu vektörü matematiksel olarak şöyle gösterebiliriz: \n",
    "\n",
    "$\n",
    "\\mathbf{v} = \\begin{bmatrix} 150 \\\\ 3 \\\\ 10 \\end{bmatrix}\n",
    "$\n",
    "\n",
    "Aynı vektörün kod ile gösterimi ise şöyle olacaktır:\n"
   ]
  },
  {
   "cell_type": "code",
   "execution_count": 3,
   "metadata": {},
   "outputs": [],
   "source": [
    "import numpy as np\n",
    "\n",
    "v = [150, 3, 10]  # Python listesi olarak\n",
    "v = np.array([150, 3, 10])  # NumPy dizisi olarak"
   ]
  },
  {
   "cell_type": "markdown",
   "metadata": {},
   "source": [
    "### 2.3. Matrisler\n",
    "**Matrisler**, iki boyutlu bir sayı dizisidir. Matematiksel olarak bir matris şu şekilde gösterilir:\n",
    "\n",
    "$\n",
    "\\mathbf{A} = \\begin{bmatrix}\n",
    "a_{1,1} & a_{1,2} & \\dots & a_{1,n} \\\\\n",
    "a_{2,1} & a_{2,2} & \\dots & a_{2,n} \\\\\n",
    "\\vdots & \\vdots & \\ddots & \\vdots \\\\\n",
    "a_{m,1} & a_{m,2} & \\dots & a_{m,n}\n",
    "\\end{bmatrix}\n",
    "$\n",
    "\n",
    "Matrisler, makine öğrenmesinde **veri setlerini** (_datasets_) temsil etmek için kullanılır. Her satır bir veri noktasını (_data point_), her sütun bir özelliği (_feature_) temsil eder.\n",
    "\n",
    "#### Örnek:\n",
    "Birden fazla evin özelliklerini bir matrisle ifade etmek istediğimizi düşünelim. Bu matrisi matematiksel olarak şöyle gösterebiliriz:\n",
    "\n",
    "$\n",
    "\\mathbf{X} = \\begin{bmatrix}\n",
    "150 & 3 & 10 \\\\\n",
    "120 & 2 & 20 \\\\\n",
    "200 & 4 & 5\n",
    "\\end{bmatrix}\n",
    "$\n",
    "\n",
    "Aynı matrisin kod ile gösterimi ise şöyle olacaktır:"
   ]
  },
  {
   "cell_type": "code",
   "execution_count": 4,
   "metadata": {},
   "outputs": [],
   "source": [
    "X = [\n",
    "  [150, 3, 10],  # Ev 1\n",
    "  [120, 2, 20],  # Ev 2\n",
    "  [200, 4, 5]    # Ev 3\n",
    "]\n",
    "\n",
    "# NumPy ile\n",
    "X = np.array([\n",
    "  [150, 3, 10],\n",
    "  [120, 2, 20],\n",
    "  [200, 4, 5]\n",
    "])"
   ]
  }
 ],
 "metadata": {
  "kernelspec": {
   "display_name": ".venv",
   "language": "python",
   "name": "python3"
  },
  "language_info": {
   "codemirror_mode": {
    "name": "ipython",
    "version": 3
   },
   "file_extension": ".py",
   "mimetype": "text/x-python",
   "name": "python",
   "nbconvert_exporter": "python",
   "pygments_lexer": "ipython3",
   "version": "3.13.1"
  }
 },
 "nbformat": 4,
 "nbformat_minor": 2
}
