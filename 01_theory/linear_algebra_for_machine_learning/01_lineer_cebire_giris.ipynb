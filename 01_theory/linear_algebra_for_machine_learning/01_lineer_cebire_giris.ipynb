{
 "cells": [
  {
   "cell_type": "markdown",
   "metadata": {},
   "source": [
    "# Lineer Cebire Giriş\n",
    "\n",
    "---\n",
    "\n",
    "## 1. Lineer Cebir Nedir? \n",
    "\n",
    "**Lineer cebir** (_linear algebra_), **vektörler** (_vectors_), **matrisler** (_matrices_) ve **lineer dönüşümler** (_linear transformations_) gibi matematiksel yapıları inceleyen bir matematik dalıdır. Temelde, doğrusal denklemlerin çözümü (_solving systems of linear equations_) ve bu denklemlerle ifade edilebilen sistemlerin analizi ile ilgilenir.\n",
    "\n",
    "### Veri Biliminde Lineer Cebirin Önemi\n",
    "\n",
    "Lineer cebir **veri bilimi** (_data science_) ve **makine öğrenmesi** (_machine learning_) alanlarında şu işlevlere sahiptir: \n",
    "\n",
    "1. **Veri Temsili (_Data Representation_):** Veri bilimi projelerinde elimizdeki veriler genellikle sayılardan oluşur. Bu sayıları düzenli bir şekilde ifade etmek için **vektörler** ve **matrisler** kullanılır. Örneğin, bir evin büyüklüğü, oda sayısı, konumu gibi özellikleri bir vektör ile, birden fazla evin özelliklerini ise bir matris ile gösterebiliriz.\n",
    "\n",
    "2. **Model Oluşturma (_Model Building_):** Makine öğrenmesi algoritmaları, veriler arasındaki ilişkileri modellemek için lineer cebir kavramlarını kullanır. Örneğin, **lineer regresyon** (_linear regression_), **lojistik regresyon** (_logistic regression_), **destek vektör makineleri** (_support vector machines_) gibi birçok algoritmanın temelinde lineer cebir yatar.\n",
    "\n",
    "3. **Boyut Azaltma (_Dimensionality Reduction_):** Veri setlerimiz bazen çok sayıda özellik içerebilir. Bu durum, hem hesaplama maliyetini artırır hem de modelin performansını düşürebilir. **Temel Bileşen Analizi** (_Principal Component Analysis, PCA_) gibi boyut azaltma teknikleri, lineer cebir sayesinde veriyi daha az sayıda, ama daha anlamlı özelliklerle ifade etmemizi sağlar.\n",
    "\n",
    "4.  **Derin Öğrenme (_Deep Learning_):** Günümüzde popüler olan **derin öğrenme** algoritmaları, yapay sinir ağlarından (_neural networks_) oluşur. Bu ağlardaki işlemler, aslında matris çarpımları ve lineer dönüşümlerden başka bir şey değildir.\n",
    "<br><br>\n",
    "---"
   ]
  },
  {
   "cell_type": "markdown",
   "metadata": {},
   "source": [
    "## 2. Skalerler, Vektörler ve Matrisler (Scalars, Vectors, and Matrices)\n",
    "Lineer cebirin temel yapı taşları olan skalerler, vektörler ve matrisleri sırayla inceleyelim:\n",
    "\n",
    "### 2.1. Skalerler (*Scalars*)\n",
    "**Skaler**, tek bir sayıdan oluşan bir niceliktir. Matematikte ve fizikte sıklıkla kullanılır. Örneğin, sıcaklık, kütle, zaman gibi değerler birer skalerdir.\n",
    "\n",
    "* **Matematiksel Gösterim:** Skalerler genellikle küçük harflerle ifade edilir (örneğin, *a*, *b*, *x*, *y*).\n",
    "\n",
    "* **Örnek:**\n",
    "    * 5\n",
    "    * -3.14\n",
    "    * 0\n",
    "    * 1000\n",
    "\n",
    "*  **Python'da Skalerler:** Python'da skalerler, `int`, `float` gibi sayısal veri tipleriyle temsil edilir."
   ]
  },
  {
   "cell_type": "code",
   "execution_count": 6,
   "metadata": {},
   "outputs": [],
   "source": [
    "a = 5       # int (tamsayı)\n",
    "b = -3.14   # float (ondalıklı sayı)"
   ]
  },
  {
   "cell_type": "markdown",
   "metadata": {},
   "source": []
  }
 ],
 "metadata": {
  "language_info": {
   "name": "python"
  }
 },
 "nbformat": 4,
 "nbformat_minor": 2
}
