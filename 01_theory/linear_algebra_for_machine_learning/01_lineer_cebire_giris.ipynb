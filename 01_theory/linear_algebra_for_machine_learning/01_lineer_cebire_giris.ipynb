{
 "cells": [
  {
   "cell_type": "markdown",
   "metadata": {},
   "source": [
    "# Lineer Cebire Giriş\n",
    "\n",
    "---\n",
    "\n",
    "## 1. Lineer Cebir Nedir? \n",
    "\n",
    "**Lineer cebir** (_linear algebra_), **vektörler** (_vectors_), **matrisler** (_matrices_) ve **lineer dönüşümler** (_linear transformations_) gibi matematiksel yapıları inceleyen bir matematik dalıdır. Temelde, doğrusal denklemlerin çözümü (_solving systems of linear equations_) ve bu denklemlerle ifade edilebilen sistemlerin analizi ile ilgilenir.\n",
    "\n",
    "### Veri Biliminde Lineer Cebirin Önemi\n",
    "\n",
    "Lineer cebir **veri bilimi** (_data science_) ve **makine öğrenmesi** (_machine learning_) alanlarında şu işlevlere sahiptir: \n",
    "\n",
    "1. **Veri Temsili (_Data Representation_):** Veri bilimi projelerinde elimizdeki veriler genellikle sayılardan oluşur. Bu sayıları düzenli bir şekilde ifade etmek için **vektörler** ve **matrisler** kullanılır. Örneğin, bir evin büyüklüğü, oda sayısı, konumu gibi özellikleri bir vektör ile, birden fazla evin özelliklerini ise bir matris ile gösterebiliriz.\n",
    "\n",
    "2. **Model Oluşturma (_Model Building_):** Makine öğrenmesi algoritmaları, veriler arasındaki ilişkileri modellemek için lineer cebir kavramlarını kullanır. Örneğin, **lineer regresyon** (_linear regression_), **lojistik regresyon** (_logistic regression_), **destek vektör makineleri** (_support vector machines_) gibi birçok algoritmanın temelinde lineer cebir yatar.\n",
    "\n",
    "3. **Boyut Azaltma (_Dimensionality Reduction_):** Veri setlerimiz bazen çok sayıda özellik içerebilir. Bu durum, hem hesaplama maliyetini artırır hem de modelin performansını düşürebilir. **Temel Bileşen Analizi** (_Principal Component Analysis, PCA_) gibi boyut azaltma teknikleri, lineer cebir sayesinde veriyi daha az sayıda, ama daha anlamlı özelliklerle ifade etmemizi sağlar.\n",
    "\n",
    "4.  **Derin Öğrenme (_Deep Learning_):** Günümüzde popüler olan **derin öğrenme** algoritmaları, yapay sinir ağlarından (_neural networks_) oluşur. Bu ağlardaki işlemler, aslında matris çarpımları ve lineer dönüşümlerden başka bir şey değildir.\n",
    "<br><br>\n",
    "---"
   ]
  },
  {
   "cell_type": "markdown",
   "metadata": {},
   "source": [
    "## 2. Skalerler, Vektörler ve Matrisler (Scalars, Vectors, and Matrices)\n",
    "Lineer cebirin temel yapı taşları olan skalerler, vektörler ve matrisleri sırayla inceleyelim:\n",
    "\n",
    "### 2.1. Skalerler (*Scalars*)\n",
    "**Skaler**, tek bir sayıdan oluşan bir niceliktir. Matematikte ve fizikte sıklıkla kullanılır. Örneğin, sıcaklık, kütle, zaman gibi değerler birer skalerdir. Skalerler genellikle küçük harflerle ifade edilir (örneğin, *a*, *b*, *x*, *y*).\n",
    "\n",
    "Python'da ise skalerler, `int`, `float` gibi sayısal veri tipleriyle temsil edilir."
   ]
  },
  {
   "cell_type": "code",
   "execution_count": 28,
   "metadata": {},
   "outputs": [],
   "source": [
    "a = 5       # int (tamsayı)\n",
    "b = -3.14   # float (ondalıklı sayı)"
   ]
  },
  {
   "cell_type": "markdown",
   "metadata": {},
   "source": [
    "### 2.2. Vektörler (*Vectors*)\n",
    "**Vektör**, sıralı bir sayı dizisidir.  Tek bir boyutta (yani tek bir sütun veya satırda) birden fazla sayıyı temsil eder. Vektörler, hem yönü hem de büyüklüğü olan nicelikleri ifade etmek için kullanılır (fizikteki hız, kuvvet gibi). Veri biliminde ise genellikle bir veri noktasının özelliklerini temsil ederler.\n",
    "\n",
    "Vektörler genellikle kalın küçük harflerle veya üzerine ok işareti konularak gösterilir. Vektörün elemanları ise köşeli parantez içinde, virgüllerle ayrılarak yazılır.\n",
    "\n",
    "$ \\mathbf{v} = \\begin{bmatrix} v_1 \\\\ v_2 \\\\ \\vdots \\\\ v_n \\end{bmatrix} $ (sütun vektörü) veya $ \\mathbf{v} = \\begin{bmatrix} v_1 & v_2 & \\dots & v_n \\end{bmatrix} $ (satır vektörü)\n",
    "\n",
    "**Örnek:** bir öğrencinin sınav notları:\n",
    "\n",
    "$\\mathbf{v} = \\begin{bmatrix} 85 \\\\ 92 \\\\ 78 \\end{bmatrix}$\n",
    "\n",
    "olarak gösterilebilir. Aynı vektörü Python'da şu şekilde ifade edebiliriz:"
   ]
  },
  {
   "cell_type": "code",
   "execution_count": 29,
   "metadata": {},
   "outputs": [
    {
     "name": "stdout",
     "output_type": "stream",
     "text": [
      "[85 92 78]\n"
     ]
    }
   ],
   "source": [
    "import numpy as np\n",
    "\n",
    "v = np.array([85, 92, 78])\n",
    "print(v)"
   ]
  },
  {
   "cell_type": "markdown",
   "metadata": {},
   "source": [
    "### 2.3. Matrisler (*Matrices*)\n",
    "**Matrisler**, iki boyutlu bir sayı dizisidir. Birden fazla satır ve sütundan oluşur. Matrisler, makine öğrenmesinde veri setlerini (*datasets*) temsil etmek için kullanılır. Her satır bir veri noktasını (*data point*), her sütun bir özelliği (*feature*) temsil eder.\n",
    "\n",
    "Matrisler genellikle büyük harflerle gösterilir (örneğin, **A**, **B**, **X**). Elemanları ise `aᵢⱼ` şeklinde gösterilir; burada *i* satır numarasını, *j* ise sütun numarasını belirtir.\n",
    "\n",
    "$\n",
    "\\mathbf{A} = \\begin{bmatrix}\n",
    "a_{1,1} & a_{1,2} & \\dots & a_{1,n} \\\\\n",
    "a_{2,1} & a_{2,2} & \\dots & a_{2,n} \\\\\n",
    "\\vdots & \\vdots & \\ddots & \\vdots \\\\\n",
    "a_{m,1} & a_{m,2} & \\dots & a_{m,n}\n",
    "\\end{bmatrix}\n",
    "$\n",
    "\n",
    "**Örnek:** Birden fazla evin özelliklerini (metrekare cinsinden büyüklüğünü, oda sayısını, yaşını) bir matrisle ifade etmek istediğimizi düşünelim. Bu matrisi matematiksel olarak şöyle gösterebiliriz:\n",
    "\n",
    "$\n",
    "\\mathbf{X} = \\begin{bmatrix}\n",
    "150 & 3 & 10 \\\\\n",
    "120 & 2 & 20 \\\\\n",
    "200 & 4 & 5\n",
    "\\end{bmatrix}\n",
    "$\n",
    "\n",
    "Python'da matrisler de NumPy kütüphanesindeki `array` veri yapısıyla temsil edilir."
   ]
  },
  {
   "cell_type": "code",
   "execution_count": 30,
   "metadata": {},
   "outputs": [
    {
     "name": "stdout",
     "output_type": "stream",
     "text": [
      "[[150   3  10]\n",
      " [120   2  20]\n",
      " [200   4   5]]\n"
     ]
    }
   ],
   "source": [
    "import numpy as np\n",
    "\n",
    "X = np.array([\n",
    "    [150, 3, 10],  # Ev 1: Alan, Oda Sayısı, Yaş\n",
    "    [120, 2, 20],  # Ev 2\n",
    "    [200, 4, 5]    # Ev 3\n",
    "])\n",
    "print(X)"
   ]
  },
  {
   "cell_type": "markdown",
   "metadata": {},
   "source": [
    "---"
   ]
  },
  {
   "cell_type": "markdown",
   "metadata": {},
   "source": [
    "## 3. Temel İşlemler\n",
    "Skalerler, vektörler ve matrisler üzerinde çeşitli matematiksel işlemler yapabiliriz. Bu bölümde en temel işlemleri inceleyeceğiz: toplama, çıkarma ve skaler çarpım.\n",
    "\n",
    "### 3.1. Toplama ve Çıkarma (Addition and Subtraction)\n",
    "\n",
    "#### 3.1.1. Vektörlerde Toplama ve Çıkarma\n",
    "Aynı boyuttaki iki vektörün karşılıklı elemanları toplanarak veya çıkarılarak yeni bir vektör elde edilir.\n",
    "\n",
    "$ \\mathbf{u} = \\begin{bmatrix} u_1 \\\\ u_2 \\\\ \\vdots \\\\ u_n \\end{bmatrix} $,\n",
    "$ \\mathbf{v} = \\begin{bmatrix} v_1 \\\\ v_2 \\\\ \\vdots \\\\ v_n \\end{bmatrix} $  olsun.\n",
    "\n",
    "$ \\mathbf{u} + \\mathbf{v} = \\begin{bmatrix} u_1 + v_1 \\\\ u_2 + v_2 \\\\ \\vdots \\\\ u_n + v_n \\end{bmatrix} $,\n",
    "$ \\mathbf{u} - \\mathbf{v} = \\begin{bmatrix} u_1 - v_1 \\\\ u_2 - v_2 \\\\ \\vdots \\\\ u_n - v_n \\end{bmatrix} $\n",
    "\n",
    "**Örnek:**\n",
    "\n",
    "$ \\mathbf{u} = \\begin{bmatrix} 1 \\\\ 3 \\\\ 2 \\end{bmatrix} $,\n",
    "$ \\mathbf{v} = \\begin{bmatrix} 4 \\\\ 0 \\\\ -1 \\end{bmatrix} $ ise,\n",
    "\n",
    "$ \\mathbf{u} + \\mathbf{v} = \\begin{bmatrix} 1+4 \\\\ 3+0 \\\\ 2+(-1) \\end{bmatrix} = \\begin{bmatrix} 5 \\\\ 3 \\\\ 1 \\end{bmatrix} $,\n",
    "    $ \\mathbf{u} - \\mathbf{v} = \\begin{bmatrix} 1-4 \\\\ 3-0 \\\\ 2-(-1) \\end{bmatrix} = \\begin{bmatrix} -3 \\\\ 3 \\\\ 3 \\end{bmatrix} $\n",
    "\n",
    "<br>"
   ]
  },
  {
   "cell_type": "code",
   "execution_count": 31,
   "metadata": {},
   "outputs": [
    {
     "name": "stdout",
     "output_type": "stream",
     "text": [
      "u + v: [5 3 1]\n",
      "u - v: [-3  3  3]\n"
     ]
    }
   ],
   "source": [
    "import numpy as np\n",
    "\n",
    "u = np.array([1, 3, 2])\n",
    "v = np.array([4, 0, -1])\n",
    "\n",
    "print(\"u + v:\", u + v)\n",
    "print(\"u - v:\", u - v)"
   ]
  },
  {
   "cell_type": "markdown",
   "metadata": {},
   "source": [
    "#### 3.1.2. Matrislerde Toplama ve Çıkarma\n",
    "Aynı boyutlardaki (aynı sayıda satır ve sütuna sahip) iki matrisin karşılıklı elemanları toplanarak veya çıkarılarak yeni bir matris elde edilir.\n",
    "\n",
    "$ \\mathbf{A} = \\begin{bmatrix} a_{11} & a_{12} \\\\ a_{21} & a_{22} \\end{bmatrix} $,\n",
    "$ \\mathbf{B} = \\begin{bmatrix} b_{11} & b_{12} \\\\ b_{21} & b_{22} \\end{bmatrix} $ olsun.\n",
    "\n",
    "$ \\mathbf{A} + \\mathbf{B} = \\begin{bmatrix} a_{11}+b_{11} & a_{12}+b_{12} \\\\ a_{21}+b_{21} & a_{22}+b_{22} \\end{bmatrix} $,\n",
    "$ \\mathbf{A} - \\mathbf{B} = \\begin{bmatrix} a_{11}-b_{11} & a_{12}-b_{12} \\\\ a_{21}-b_{21} & a_{22}-b_{22} \\end{bmatrix} $\n",
    "\n",
    "**Örnek:**  \n",
    "\n",
    "$ \\mathbf{A} = \\begin{bmatrix} 2 & 5 \\\\ 1 & 0 \\end{bmatrix} $,\n",
    "$ \\mathbf{B} = \\begin{bmatrix} -1 & 3 \\\\ 4 & 2 \\end{bmatrix} $ ise,\n",
    "\n",
    "$ \\mathbf{A} + \\mathbf{B} = \\begin{bmatrix} 2+(-1) & 5+3 \\\\ 1+4 & 0+2 \\end{bmatrix} = \\begin{bmatrix} 1 & 8 \\\\ 5 & 2 \\end{bmatrix} $,\n",
    "$ \\mathbf{A} - \\mathbf{B} = \\begin{bmatrix} 2-(-1) & 5-3 \\\\ 1-4 & 0-2 \\end{bmatrix} = \\begin{bmatrix} 3 & 2 \\\\ -3 & -2 \\end{bmatrix} $\n",
    "\n",
    "<br>"
   ]
  },
  {
   "cell_type": "code",
   "execution_count": 32,
   "metadata": {},
   "outputs": [
    {
     "name": "stdout",
     "output_type": "stream",
     "text": [
      "A + B:\n",
      " [[1 8]\n",
      " [5 2]]\n",
      "A - B:\n",
      " [[ 3  2]\n",
      " [-3 -2]]\n"
     ]
    }
   ],
   "source": [
    "import numpy as np\n",
    "\n",
    "A = np.array([[2, 5], [1, 0]])\n",
    "B = np.array([[-1, 3], [4, 2]])\n",
    "\n",
    "print(\"A + B:\\n\", A + B)\n",
    "print(\"A - B:\\n\", A - B)"
   ]
  },
  {
   "cell_type": "markdown",
   "metadata": {},
   "source": [
    "### 3.2. Skaler Çarpım (Scalar Multiplication)\n",
    "\n",
    "#### 3.2.1. Vektörlerde Skaler Çarpım\n",
    "Bir vektörün her elemanı, bir skaler ile çarpılarak yeni bir vektör elde edilir.\n",
    "\n",
    "$ \\mathbf{v} = \\begin{bmatrix} v_1 \\\\ v_2 \\\\ \\vdots \\\\ v_n \\end{bmatrix} $ ve *c* bir skaler olsun.\n",
    "\n",
    "$ c\\mathbf{v} = \\begin{bmatrix} cv_1 \\\\ cv_2 \\\\ \\vdots \\\\ cv_n \\end{bmatrix} $\n",
    "\n",
    "**Örnek:**\n",
    "\n",
    "$ \\mathbf{v} = \\begin{bmatrix} 2 \\\\ -1 \\\\ 4 \\end{bmatrix} $ ve *c* = 3 ise,\n",
    "\n",
    "$ 3\\mathbf{v} = \\begin{bmatrix} 3\\cdot2 \\\\ 3\\cdot(-1) \\\\ 3\\cdot4 \\end{bmatrix} = \\begin{bmatrix} 6 \\\\ -3 \\\\ 12 \\end{bmatrix} $\n",
    "\n",
    "<br>"
   ]
  },
  {
   "cell_type": "code",
   "execution_count": 33,
   "metadata": {},
   "outputs": [
    {
     "name": "stdout",
     "output_type": "stream",
     "text": [
      "c * v: [ 6 -3 12]\n"
     ]
    }
   ],
   "source": [
    "import numpy as np\n",
    "\n",
    "v = np.array([2, -1, 4])\n",
    "c = 3\n",
    "\n",
    "print(\"c * v:\", c * v)"
   ]
  },
  {
   "cell_type": "markdown",
   "metadata": {},
   "source": [
    "#### 3.2.2. Matrislerde Skaler Çarpım\n",
    "Bir matrisin her elemanı, bir skaler ile çarpılarak yeni bir matris elde edilir.\n",
    "\n",
    "$ \\mathbf{A} = \\begin{bmatrix} a_{11} & a_{12} \\\\ a_{21} & a_{22} \\end{bmatrix} $ ve *c* bir skaler olsun.\n",
    "\n",
    "$ c\\mathbf{A} = \\begin{bmatrix} c \\cdot a_{11} & c \\cdot a_{12} \\\\ c \\cdot a_{21} & c \\cdot a_{22} \\end{bmatrix} $\n",
    "\n",
    "**Örnek:**\n",
    "\n",
    "$ \\mathbf{A} = \\begin{bmatrix} 1 & -2 \\\\ 3 & 4 \\end{bmatrix} $ ve *c* = -2 ise,\n",
    "\n",
    "$ -2\\mathbf{A} = \\begin{bmatrix} -2\\cdot1 & -2\\cdot(-2) \\\\ -2\\cdot3 & -2\\cdot4 \\end{bmatrix} = \\begin{bmatrix} -2 & 4 \\\\ -6 & -8 \\end{bmatrix} $\n",
    "\n",
    "<br>"
   ]
  },
  {
   "cell_type": "code",
   "execution_count": 34,
   "metadata": {},
   "outputs": [
    {
     "name": "stdout",
     "output_type": "stream",
     "text": [
      "c * A:\n",
      " [[-2  4]\n",
      " [-6 -8]]\n"
     ]
    }
   ],
   "source": [
    "import numpy as np\n",
    "\n",
    "A = np.array([[1, -2], [3, 4]])\n",
    "c = -2\n",
    "\n",
    "print(\"c * A:\\n\", c * A)"
   ]
  },
  {
   "cell_type": "markdown",
   "metadata": {},
   "source": [
    "---"
   ]
  },
  {
   "cell_type": "markdown",
   "metadata": {},
   "source": [
    "## 4. Real-World Example: Processing Customer Data\n",
    "\n",
    "Suppose an e-commerce company wants to analyze the purchasing habits of its customers.  We have a dataset like this:\n",
    "\n",
    "| Customer ID | Age | Spending (€) | Number of Products Purchased |\n",
    "| :--------: | :-: | :----------: | :----------------------: |\n",
    "|     1      | 25  |     500      |            3             |\n",
    "|     2      | 32  |     1200     |            5             |\n",
    "|     3      | 41  |     850      |            2             |\n",
    "|     4      | 28  |     300      |            1             |\n",
    "\n",
    "We can represent this dataset as a matrix:\n",
    "\n",
    "$\n",
    "\\mathbf{X} = \\begin{bmatrix}\n",
    "25 & 500 & 3 \\\\\n",
    "32 & 1200 & 5 \\\\\n",
    "41 & 850 & 2 \\\\\n",
    "28 & 300 & 1\n",
    "\\end{bmatrix}\n",
    "$\n",
    "\n",
    "Here, each row represents a customer, and each column represents a feature (age, spending, number of products).\n",
    "\n",
    "Now, let's perform some analyses using the basic operations we've learned:\n",
    "\n",
    "### Average Spending\n",
    "To find the average spending of customers, we can take the vector representing the \"Spending (€)\" column, sum its elements, and divide by the number of elements. This involves scalar multiplication and addition.\n",
    "\n",
    "*   First, take the spending column as a vector: $\\mathbf{s} = \\begin{bmatrix} 500 \\\\ 1200 \\\\ 850 \\\\ 300 \\end{bmatrix}$\n",
    "\n",
    "*   Sum the elements of this vector: $500 + 1200 + 850 + 300 = 2850$\n",
    "\n",
    "*   Divide the sum by the number of elements (4): $2850 / 4 = 712.5$\n",
    "\n",
    "*   So, the average spending of customers is 712.5 TL.\n"
   ]
  },
  {
   "cell_type": "code",
   "execution_count": 35,
   "metadata": {},
   "outputs": [
    {
     "name": "stdout",
     "output_type": "stream",
     "text": [
      "Average Spending: 712.5\n"
     ]
    }
   ],
   "source": [
    "import numpy as np\n",
    "\n",
    "X = np.array([[25, 500, 3],\n",
    "                [32, 1200, 5],\n",
    "                [41, 850, 2],\n",
    "                [28, 300, 1]])\n",
    "\n",
    "spending = X[:, 1]  # Take all rows (:) and the 2nd column (index 1)\n",
    "average_spending = np.mean(spending)\n",
    "print(\"Average Spending:\", average_spending)"
   ]
  },
  {
   "cell_type": "markdown",
   "metadata": {},
   "source": [
    "### Age Standardization\n",
    "Let's say we want to standardize the ages of the customers (transform them to have a mean of 0 and a standard deviation of 1).  This can improve the performance of some machine learning algorithms.\n",
    "\n",
    "*   First, take the age column as a vector: $\\mathbf{a} = \\begin{bmatrix} 25 \\\\ 32 \\\\ 41 \\\\ 28 \\end{bmatrix}$\n",
    "\n",
    "*   Calculate the mean of this vector: $(25 + 32 + 41 + 28) / 4 = 31.5$\n",
    "\n",
    "*   Subtract the mean from each age: $\\begin{bmatrix} 25-31.5 \\\\ 32-31.5 \\\\ 41-31.5 \\\\ 28-31.5 \\end{bmatrix} = \\begin{bmatrix} -6.5 \\\\ 0.5 \\\\ 9.5 \\\\ -3.5 \\end{bmatrix}$\n",
    "\n",
    "*   Calculate the standard deviation of this new vector (we'll let Python handle this for now).\n",
    "\n",
    "*   Divide each element by the standard deviation (this is also a scalar multiplication operation)."
   ]
  },
  {
   "cell_type": "code",
   "execution_count": 36,
   "metadata": {},
   "outputs": [
    {
     "name": "stdout",
     "output_type": "stream",
     "text": [
      "Standardized Ages: [-1.07959124  0.08304548  1.57786412 -0.58131836]\n"
     ]
    }
   ],
   "source": [
    "import numpy as np\n",
    "\n",
    "ages = X[:, 0]  # Take all rows and the 1st column (index 0)\n",
    "mean_age = np.mean(ages)\n",
    "std_dev = np.std(ages)\n",
    "standardized_ages = (ages - mean_age) / std_dev\n",
    "print(\"Standardized Ages:\", standardized_ages)"
   ]
  }
 ],
 "metadata": {
  "language_info": {
   "name": "python"
  }
 },
 "nbformat": 4,
 "nbformat_minor": 2
}
