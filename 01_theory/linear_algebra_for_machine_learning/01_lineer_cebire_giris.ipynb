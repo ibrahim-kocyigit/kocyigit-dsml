{
 "cells": [
  {
   "cell_type": "markdown",
   "metadata": {},
   "source": [
    "# Lineer Cebire Giriş\n",
    "\n",
    "---\n",
    "\n",
    "## 1. Lineer Cebir Nedir? \n",
    "\n",
    "**Lineer cebir** (_linear algebra_), **vektörler** (_vectors_), **matrisler** (_matrices_) ve **lineer dönüşümler** (_linear transformations_) gibi matematiksel yapıları inceleyen bir matematik dalıdır. Temelde, doğrusal denklemlerin çözümü (_solving systems of linear equations_) ve bu denklemlerle ifade edilebilen sistemlerin analizi ile ilgilenir.\n",
    "\n",
    "### Veri Biliminde Lineer Cebirin Önemi\n",
    "\n",
    "Lineer cebir **veri bilimi** (_data science_) ve **makine öğrenmesi** (_machine learning_) alanlarında şu işlevlere sahiptir: \n",
    "\n",
    "1. **Veri Temsili (_Data Representation_):** Veri bilimi projelerinde elimizdeki veriler genellikle sayılardan oluşur. Bu sayıları düzenli bir şekilde ifade etmek için **vektörler** ve **matrisler** kullanılır. Örneğin, bir evin büyüklüğü, oda sayısı, konumu gibi özellikleri bir vektör ile, birden fazla evin özelliklerini ise bir matris ile gösterebiliriz.\n",
    "\n",
    "2. **Model Oluşturma (_Model Building_):** Makine öğrenmesi algoritmaları, veriler arasındaki ilişkileri modellemek için lineer cebir kavramlarını kullanır. Örneğin, **lineer regresyon** (_linear regression_), **lojistik regresyon** (_logistic regression_), **destek vektör makineleri** (_support vector machines_) gibi birçok algoritmanın temelinde lineer cebir yatar.\n",
    "\n",
    "3. **Boyut Azaltma (_Dimensionality Reduction_):** Veri setlerimiz bazen çok sayıda özellik içerebilir. Bu durum, hem hesaplama maliyetini artırır hem de modelin performansını düşürebilir. **Temel Bileşen Analizi** (_Principal Component Analysis, PCA_) gibi boyut azaltma teknikleri, lineer cebir sayesinde veriyi daha az sayıda, ama daha anlamlı özelliklerle ifade etmemizi sağlar.\n",
    "\n",
    "4.  **Derin Öğrenme (_Deep Learning_):** Günümüzde popüler olan **derin öğrenme** algoritmaları, yapay sinir ağlarından (_neural networks_) oluşur. Bu ağlardaki işlemler, aslında matris çarpımları ve lineer dönüşümlerden başka bir şey değildir.\n",
    "<br><br>\n",
    "---"
   ]
  },
  {
   "cell_type": "markdown",
   "metadata": {},
   "source": [
    "## 2. Skalerler, Vektörler ve Matrisler (Scalars, Vectors, and Matrices)\n",
    "Lineer cebirin temel yapı taşları olan skalerler, vektörler ve matrisleri sırayla inceleyelim:\n",
    "\n",
    "### 2.1. Skalerler (*Scalars*)\n",
    "**Skaler**, tek bir sayıdan oluşan bir niceliktir. Matematikte ve fizikte sıklıkla kullanılır. Örneğin, sıcaklık, kütle, zaman gibi değerler birer skalerdir.\n",
    "\n",
    "#### Matematiksel Gösterim\n",
    "Skalerler genellikle küçük harflerle ifade edilir (örneğin, *a*, *b*, *x*, *y*).\n",
    "\n",
    "#### Python'da Skalerler\n",
    "Python'da skalerler, `int`, `float` gibi sayısal veri tipleriyle temsil edilir."
   ]
  },
  {
   "cell_type": "code",
   "execution_count": 6,
   "metadata": {},
   "outputs": [],
   "source": [
    "a = 5       # int (tamsayı)\n",
    "b = -3.14   # float (ondalıklı sayı)"
   ]
  },
  {
   "cell_type": "markdown",
   "metadata": {},
   "source": [
    "### 2.2. Vektörler (*Vectors*)\n",
    "**Vektör**, sıralı bir sayı dizisidir.  Tek bir boyutta (yani tek bir sütun veya satırda) birden fazla sayıyı temsil eder. Vektörler, hem yönü hem de büyüklüğü olan nicelikleri ifade etmek için kullanılır (fizikteki hız, kuvvet gibi). Veri biliminde ise genellikle bir veri noktasının özelliklerini temsil ederler.\n",
    "\n",
    "Vektörler genellikle kalın küçük harflerle veya üzerine ok işareti konularak gösterilir. Vektörün elemanları ise köşeli parantez içinde, virgüllerle ayrılarak yazılır.\n",
    "\n",
    "$ \\mathbf{v} = \\begin{bmatrix} v_1 \\\\ v_2 \\\\ \\vdots \\\\ v_n \\end{bmatrix} $ (sütun vektörü) veya $ \\mathbf{v} = \\begin{bmatrix} v_1 & v_2 & \\dots & v_n \\end{bmatrix} $ (satır vektörü)\n",
    "\n",
    "\n",
    "Örneğin bir öğrencinin sınav notları:\n",
    "\n",
    "$\\mathbf{v} = \\begin{bmatrix} 85 \\\\ 92 \\\\ 78 \\end{bmatrix}$\n",
    "\n",
    "olarak gösterilebilir. Aynı vektörü Python'da şu şekilde ifade edebiliriz:"
   ]
  },
  {
   "cell_type": "code",
   "execution_count": 7,
   "metadata": {},
   "outputs": [
    {
     "name": "stdout",
     "output_type": "stream",
     "text": [
      "[85 92 78]\n"
     ]
    }
   ],
   "source": [
    "import numpy as np\n",
    "\n",
    "v = np.array([85, 92, 78])\n",
    "print(v)"
   ]
  },
  {
   "cell_type": "markdown",
   "metadata": {},
   "source": [
    "### 2.3. Matrisler (*Matrices*)\n",
    "**Matrisler**, iki boyutlu bir sayı dizisidir. Birden fazla satır ve sütundan oluşur. Matrisler, makine öğrenmesinde veri setlerini (*datasets*) temsil etmek için kullanılır. Her satır bir veri noktasını (*data point*), her sütun bir özelliği (*feature*) temsil eder.\n",
    "\n",
    "Matrisler genellikle büyük harflerle gösterilir (örneğin, **A**, **B**, **X**). Elemanları ise `aᵢⱼ` şeklinde gösterilir; burada *i* satır numarasını, *j* ise sütun numarasını belirtir.\n",
    "\n",
    "$\n",
    "\\mathbf{A} = \\begin{bmatrix}\n",
    "a_{1,1} & a_{1,2} & \\dots & a_{1,n} \\\\\n",
    "a_{2,1} & a_{2,2} & \\dots & a_{2,n} \\\\\n",
    "\\vdots & \\vdots & \\ddots & \\vdots \\\\\n",
    "a_{m,1} & a_{m,2} & \\dots & a_{m,n}\n",
    "\\end{bmatrix}\n",
    "$\n",
    "\n",
    "**Örnek:** Birden fazla evin özelliklerini bir matrisle ifade etmek istediğimizi düşünelim. Bu matrisi matematiksel olarak şöyle gösterebiliriz:\n",
    "\n",
    "$\n",
    "\\mathbf{X} = \\begin{bmatrix}\n",
    "150 & 3 & 10 \\\\\n",
    "120 & 2 & 20 \\\\\n",
    "200 & 4 & 5\n",
    "\\end{bmatrix}\n",
    "$\n",
    "\n",
    "Python'da matrisler de NumPy kütüphanesindeki `array` veri yapısıyla temsil edilir."
   ]
  },
  {
   "cell_type": "code",
   "execution_count": 8,
   "metadata": {},
   "outputs": [
    {
     "name": "stdout",
     "output_type": "stream",
     "text": [
      "[[150   3  10]\n",
      " [120   2  20]\n",
      " [200   4   5]]\n"
     ]
    }
   ],
   "source": [
    "import numpy as np\n",
    "\n",
    "X = np.array([\n",
    "    [150, 3, 10],  # Ev 1: Alan, Oda Sayısı, Yaş\n",
    "    [120, 2, 20],  # Ev 2\n",
    "    [200, 4, 5]    # Ev 3\n",
    "])\n",
    "print(X)"
   ]
  }
 ],
 "metadata": {
  "language_info": {
   "name": "python"
  }
 },
 "nbformat": 4,
 "nbformat_minor": 2
}
