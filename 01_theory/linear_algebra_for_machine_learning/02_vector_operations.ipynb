{
 "cells": [
  {
   "cell_type": "markdown",
   "metadata": {},
   "source": [
    "# Vector Operations\n",
    "\n",
    "In this lesson, we will examine more advanced operations on vectors. We will focus on the concepts of **dot product**, **vector norms**, and **cosine similarity**, which are frequently used in machine learning.\n",
    "\n",
    "---\n",
    "\n",
    "## 1. Dot Product\n",
    "The **dot product** is the sum of the products of the corresponding elements of two vectors. This operation helps us to understand the relationship between two vectors. It allows us to answer questions like, \"_To what extent do two vectors point in the same direction?\"_ or _\"What is the angle between two vectors?\"_ \n",
    "\n",
    "Let $\\mathbf{u} = \\begin{bmatrix} u_1 \\\\ u_2 \\\\ \\vdots \\\\ u_n \\end{bmatrix}$ and $\\mathbf{v} = \\begin{bmatrix} v_1 \\\\ v_2 \\\\ \\vdots \\\\ v_n \\end{bmatrix}$ be two vectors.\n",
    "\n",
    "The dot product of these two vectors is denoted as $\\mathbf{u} \\cdot \\mathbf{v}$ or $\\mathbf{u}^T\\mathbf{v}$ and is calculated as:\n",
    "\n",
    "$\\mathbf{u} \\cdot \\mathbf{v} = u_1v_1 + u_2v_2 + \\dots + u_nv_n = \\sum_{i=1}^{n} u_i v_i$\n",
    "\n",
    "**Notes:** \n",
    "* For the dot product to be defined, the two vectors must have the same dimension (the same number of elements).\n",
    "* The dot product is **commutative**. This means the order of the vectors doesn't matter: u⋅v = v⋅u.\n",
    "\n",
    "### 1.1. Geometric Interpretation of the Dot Product\n",
    "The dot product is related to the cosine of the angle between two vectors. If $\\theta$ is the angle between the two vectors:\n",
    "\n",
    "$\\mathbf{u} \\cdot \\mathbf{v} = ||\\mathbf{u}|| \\cdot ||\\mathbf{v}|| \\cdot \\cos(\\theta)$\n",
    "\n",
    "Here, $||\\mathbf{u}||$ and $||\\mathbf{v}||$ are the lengths (norms) of vectors $\\mathbf{u}$ and $\\mathbf{v}$, respectively. We will discuss this topic shortly.\n",
    "\n",
    "*   If $\\mathbf{u} \\cdot \\mathbf{v} = 0$, the vectors are perpendicular (**orthogonal**).\n",
    "*   If $\\mathbf{u} \\cdot \\mathbf{v} > 0$, the angle between the vectors is acute (they point in a similar direction).\n",
    "*   If $\\mathbf{u} \\cdot \\mathbf{v} < 0$, the angle between the vectors is obtuse (they point in opposite directions).\n",
    "\n",
    "**Example:**  \n",
    "\n",
    "Let $\\mathbf{u} = \\begin{bmatrix} 2 \\\\ -1 \\\\ 3 \\end{bmatrix}$ and $\\mathbf{v} = \\begin{bmatrix} 1 \\\\ 4 \\\\ 0 \\end{bmatrix}$.\n",
    "\n",
    "$\\mathbf{u} \\cdot \\mathbf{v} = (2 \\cdot 1) + (-1 \\cdot 4) + (3 \\cdot 0) = 2 - 4 + 0 = -2$\n",
    "\n",
    "<br>"
   ]
  },
  {
   "cell_type": "code",
   "execution_count": 1,
   "metadata": {},
   "outputs": [
    {
     "name": "stdout",
     "output_type": "stream",
     "text": [
      "Dot Product (np.dot()): -2\n",
      "Dot Product (@): -2\n",
      "Dot Product (.dot()): -2\n"
     ]
    }
   ],
   "source": [
    "import numpy as np\n",
    "\n",
    "u = np.array([2, -1, 3])\n",
    "v = np.array([1, 4, 0])\n",
    "\n",
    "# Method 1: np.dot()\n",
    "dot_product1 = np.dot(u, v)\n",
    "\n",
    "# Method 2: @ operatior (Python 3.5 and later)\n",
    "dot_product2 = u @ v\n",
    "\n",
    "# Method 3: .dot() method\n",
    "dot_product3 = u.dot(v) # or v.dot(u)\n",
    "\n",
    "print(\"Dot Product (np.dot()):\", dot_product1)\n",
    "print(\"Dot Product (@):\", dot_product2)\n",
    "print(\"Dot Product (.dot()):\", dot_product3)"
   ]
  },
  {
   "cell_type": "markdown",
   "metadata": {},
   "source": [
    "---"
   ]
  },
  {
   "cell_type": "markdown",
   "metadata": {},
   "source": [
    "## 2. Vector Norms\n",
    "\n",
    "A vector's **norm** can be thought of as the \"length\" or \"magnitude\" of that vector. There are different types of norms, but the most commonly used ones in machine learning are the **L1 norm** and the **L2 norm**. The norm of a vector is an answer to the question _\"How big is this vector?\"_\n",
    "\n",
    "### 2.1. L1 Norm (Manhattan Norm | Taxicab Norm)\n",
    "The **L1 norm** is the sum of the absolute values of the elements of a vector. The L1 norm answers the question, _\"If I could only travel along grid lines (like a taxi in Manhattan), how far would I have to travel to get from the origin to the vector's endpoint?\"_\n",
    "\n",
    "The L1 norm of a vector $\\mathbf{v} = \\begin{bmatrix} v_1 \\\\ v_2 \\\\ \\vdots \\\\ v_n \\end{bmatrix}$ is denoted as $||\\mathbf{v}||_1$ and is calculated as:\n",
    "\n",
    "$||\\mathbf{v}||_1 = |v_1| + |v_2| + \\dots + |v_n| = \\sum_{i=1}^{n} |v_i|$  \n",
    "\n",
    "**Example:**  \n",
    "\n",
    "The L1 norm of the vector $\\mathbf{v} = \\begin{bmatrix} 2 \\\\ -1 \\\\ 3 \\end{bmatrix}$ is:\n",
    "\n",
    "$||\\mathbf{v}||_1 = |2| + |-1| + |3| = 2 + 1 + 3 = 6$\n",
    "\n",
    "<br>"
   ]
  },
  {
   "cell_type": "code",
   "execution_count": 2,
   "metadata": {},
   "outputs": [
    {
     "name": "stdout",
     "output_type": "stream",
     "text": [
      "L1 Norm (np.linalg.norm()): 6.0\n",
      "L1 Norm (manual): 6\n"
     ]
    }
   ],
   "source": [
    "v = np.array([2, -1, 3])\n",
    "\n",
    "# Method 1: Using np.linalg.norm()\n",
    "l1_norm1 = np.linalg.norm(v, ord=1)\n",
    "\n",
    "# Method 2: Manual calculation\n",
    "l1_norm2 = np.sum(np.abs(v))\n",
    "\n",
    "print(\"L1 Norm (np.linalg.norm()):\", l1_norm1)\n",
    "print(\"L1 Norm (manual):\", l1_norm2)"
   ]
  },
  {
   "cell_type": "markdown",
   "metadata": {},
   "source": [
    "### 2.2. L2 Norm (Euclidean Norm)\n",
    "\n",
    "The **L2 norm** square root of the sum of the squared elements of a vector. This is the Euclidean distance from the origin to the endpoint of the vector. It answers the question, _\"If I could fly directly from the origin to the vector's endpoint in a straight line, how far would I travel?\"_\n",
    "\n",
    "The L2 norm of a vector $\\mathbf{v} = \\begin{bmatrix} v_1 \\\\ v_2 \\\\ \\vdots \\\\ v_n \\end{bmatrix}$ is denoted as $||\\mathbf{v}||_2$ or simply $||\\mathbf{v}||$ and is calculated as:\n",
    "\n",
    "$||\\mathbf{v}||_2 = \\sqrt{v_1^2 + v_2^2 + \\dots + v_n^2} = \\sqrt{\\sum_{i=1}^{n} v_i^2}$\n",
    "\n",
    "**Example:**  \n",
    "\n",
    "The L2 norm of the vector $\\mathbf{v} = \\begin{bmatrix} 2 \\\\ -1 \\\\ 3 \\end{bmatrix}$ is:\n",
    "\n",
    "$||\\mathbf{v}||_2 = \\sqrt{2^2 + (-1)^2 + 3^2} = \\sqrt{4 + 1 + 9} = \\sqrt{14}$\n",
    "\n",
    "<br>"
   ]
  },
  {
   "cell_type": "code",
   "execution_count": 3,
   "metadata": {},
   "outputs": [
    {
     "name": "stdout",
     "output_type": "stream",
     "text": [
      "L2 Norm (np.linalg.norm()): 3.7416573867739413\n",
      "L2 Norm (manual): 3.7416573867739413\n",
      "L2 Norm (manual 2): 3.7416573867739413\n"
     ]
    }
   ],
   "source": [
    "v = np.array([2, -1, 3])\n",
    "\n",
    "# Method 1: Using np.linalg.norm()\n",
    "l2_norm1 = np.linalg.norm(v) # ord=2 is the default, no need to specify\n",
    "\n",
    "# Method 2: Manual calculation (using dot product)\n",
    "l2_norm2 = np.sqrt(np.dot(v, v))\n",
    "# or\n",
    "l2_norm3 = (np.sum(v**2))**0.5\n",
    "\n",
    "print(\"L2 Norm (np.linalg.norm()):\", l2_norm1)\n",
    "print(\"L2 Norm (manual):\", l2_norm2)\n",
    "print(\"L2 Norm (manual 2):\", l2_norm3)"
   ]
  },
  {
   "cell_type": "markdown",
   "metadata": {},
   "source": [
    "## 2.3. Comparison of L1 and L2 Norms\n",
    "\n",
    "* **L1 Norm:**\n",
    "    * Requires less computation (no square root operation)i\n",
    "    * Tends to produce _sparse_ solutions (vectors with some elements being zero). This is particularly useful in _feature selection_ problems.\n",
    "    * More _robust_ to outliers.\n",
    "\n",
    "* **L2 Norm:**\n",
    "    * More commonly used.\n",
    "    * Differentiable (L1 norm is not differentiable at zero). This is important for optimization algorithms.\n",
    "    * Generally produces more stable solutions.\n",
    "    * More sensitive to outliers than L1."
   ]
  },
  {
   "cell_type": "markdown",
   "metadata": {},
   "source": []
  }
 ],
 "metadata": {
  "kernelspec": {
   "display_name": ".venv",
   "language": "python",
   "name": "python3"
  },
  "language_info": {
   "codemirror_mode": {
    "name": "ipython",
    "version": 3
   },
   "file_extension": ".py",
   "mimetype": "text/x-python",
   "name": "python",
   "nbconvert_exporter": "python",
   "pygments_lexer": "ipython3",
   "version": "3.13.1"
  }
 },
 "nbformat": 4,
 "nbformat_minor": 2
}
