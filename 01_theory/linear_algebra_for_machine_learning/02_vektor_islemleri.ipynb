{
 "cells": [
  {
   "cell_type": "markdown",
   "metadata": {},
   "source": [
    "# Vektör İşlemleri (Vector Operations)\n",
    "\n",
    "Bu derste, vektörler üzerinde daha ileri düzey işlemleri inceleyeceğiz. Özellikle makine öğrenmesinde sıkça kullanılan **nokta çarpım** (_dot product_), **vektör normları** (_vector norms_) ve **kosinüs benzerliği** (_cosine similarity_) kavramlarına odaklanacağız.\n",
    "\n",
    "---\n",
    "\n",
    "## 1. Nokta Çarpım (_Dot Product_)\n",
    "**Nokta çarpım**, iki vektörün karşılıklı elemanlarının çarpımlarının toplamıdır. Bu işlem, iki vektör arasındaki ilişkiyi anlamamıza yardımcı olur.\n",
    "\n",
    "$\\mathbf{u} = \\begin{bmatrix} u_1 \\\\ u_2 \\\\ \\vdots \\\\ u_n \\end{bmatrix}$ ve $\\mathbf{v} = \\begin{bmatrix} v_1 \\\\ v_2 \\\\ \\vdots \\\\ v_n \\end{bmatrix}$ iki vektör olsun.\n",
    "\n",
    "Bu iki vektörün nokta çarpımı, $\\mathbf{u} \\cdot \\mathbf{v}$ veya $\\mathbf{u}^T\\mathbf{v}$ şeklinde gösterilir ve şöyle hesaplanır:\n",
    "\n",
    "$\\mathbf{u} \\cdot \\mathbf{v} = u_1v_1 + u_2v_2 + \\dots + u_nv_n = \\sum_{i=1}^{n} u_i v_i$\n",
    "\n",
    "**Not:** Nokta çarpımın yapılabilmesi için iki vektörün aynı boyutta (aynı sayıda elemana sahip) olması gerekir.\n",
    "\n",
    "### Geometrik Yorum\n",
    "Nokta çarpım, iki vektör arasındaki açının kosinüsü ile ilişkilidir. Eğer $\\theta$ iki vektör arasındaki açı ise:\n",
    "\n",
    "$\\mathbf{u} \\cdot \\mathbf{v} = ||\\mathbf{u}|| \\cdot ||\\mathbf{v}|| \\cdot \\cos(\\theta)$\n",
    "\n",
    "Burada $||\\mathbf{u}||$ ve $||\\mathbf{v}||$ sırasıyla $\\mathbf{u}$ ve $\\mathbf{v}$ vektörlerinin uzunluklarıdır (normlarıdır). Bu konuya birazdan değineceğiz.\n",
    "\n",
    "* Eğer $\\mathbf{u} \\cdot \\mathbf{v} = 0$ ise, vektörler birbirine diktir (**ortogonal** - *orthogonal*).\n",
    "* Eğer $\\mathbf{u} \\cdot \\mathbf{v} > 0$ ise, vektörler arasındaki açı dardır (aynı yönü gösterirler).\n",
    "* Eğer $\\mathbf{u} \\cdot \\mathbf{v} < 0$ ise, vektörler arasındaki açı geniştir (zıt yönleri gösterirler).\n",
    "\n",
    "**Örnek:**\n",
    "\n",
    "$\\mathbf{u} = \\begin{bmatrix} 2 \\\\ -1 \\\\ 3 \\end{bmatrix}$ ve $\\mathbf{v} = \\begin{bmatrix} 1 \\\\ 4 \\\\ 0 \\end{bmatrix}$ olsun.\n",
    "\n",
    "$\\mathbf{u} \\cdot \\mathbf{v} = (2 \\cdot 1) + (-1 \\cdot 4) + (3 \\cdot 0) = 2 - 4 + 0 = -2$\n",
    "\n",
    "<br>"
   ]
  },
  {
   "cell_type": "code",
   "execution_count": 2,
   "metadata": {},
   "outputs": [
    {
     "name": "stdout",
     "output_type": "stream",
     "text": [
      "Nokta Çarpım (np.dot()): -2\n",
      "Nokta Çarpım (@): -2\n",
      "Nokta Çarpım (.dot()): -2\n"
     ]
    }
   ],
   "source": [
    "import numpy as np\n",
    "\n",
    "u = np.array([2, -1, 3])\n",
    "v = np.array([1, 4, 0])\n",
    "\n",
    "# Yöntem 1: np.dot()\n",
    "dot_product1 = np.dot(u, v)\n",
    "\n",
    "# Yöntem 2: @ operatörü (Python 3.5 ve sonrası)\n",
    "dot_product2 = u @ v\n",
    "\n",
    "# Yöntem 3: .dot() metodu\n",
    "dot_product3 = u.dot(v) #veya v.dot(u)\n",
    "\n",
    "# Üçü de aynı sonucu verecektir.\n",
    "print(\"Nokta Çarpım (np.dot()):\", dot_product1)\n",
    "print(\"Nokta Çarpım (@):\", dot_product2)\n",
    "print(\"Nokta Çarpım (.dot()):\", dot_product3)"
   ]
  },
  {
   "cell_type": "markdown",
   "metadata": {},
   "source": [
    "---"
   ]
  },
  {
   "cell_type": "markdown",
   "metadata": {},
   "source": []
  },
  {
   "cell_type": "code",
   "execution_count": null,
   "metadata": {},
   "outputs": [],
   "source": []
  },
  {
   "cell_type": "code",
   "execution_count": null,
   "metadata": {},
   "outputs": [],
   "source": []
  }
 ],
 "metadata": {
  "kernelspec": {
   "display_name": ".venv",
   "language": "python",
   "name": "python3"
  },
  "language_info": {
   "codemirror_mode": {
    "name": "ipython",
    "version": 3
   },
   "file_extension": ".py",
   "mimetype": "text/x-python",
   "name": "python",
   "nbconvert_exporter": "python",
   "pygments_lexer": "ipython3",
   "version": "3.13.1"
  }
 },
 "nbformat": 4,
 "nbformat_minor": 2
}
