{
 "cells": [
  {
   "cell_type": "markdown",
   "metadata": {},
   "source": [
    "# Lesson 1: Introduction to Linear Algebra\n",
    "\n",
    "---\n",
    "\n",
    "## 1. What is Linear Algebra?\n",
    "\n",
    "Linear algebra is a branch of mathematics that studies mathematical structures such as *vectors*, *matrices*, and *linear transformations*. It is fundamentally concerned with solving systems of linear equations and analyzing systems that can be expressed using these equations.\n",
    "\n",
    "### Why is Linear Algebra Important?\n",
    "\n",
    "Linear algebra is a cornerstone of *data science* and *machine learning*. Here's why:\n",
    "\n",
    "1. **Data Representation:** In data science, data typically consists of numbers. *Vectors* and *matrices* are used to represent this data in an organized manner. For example, a single house's features (size, number of rooms, location) can be represented as a vector, and the features of multiple houses can be represented as a matrix.\n",
    "\n",
    "2. **Model Building:** Machine learning algorithms use linear algebra concepts to model the relationships between data. Many algorithms, such as *linear regression*, *logistic regression*, and *support vector machines*, are fundamentally based on linear algebra.\n",
    "\n",
    "3. **Dimensionality Reduction:** Datasets can sometimes have a large number of features. This increases computational cost and can also reduce the performance of a model. Dimensionality reduction techniques, like *Principal Component Analysis (PCA)*, use linear algebra to represent the data with fewer, but more meaningful, features.\n",
    "\n",
    "4. **Deep Learning:** Popular *deep learning* algorithms consist of *neural networks*. The operations within these networks are essentially matrix multiplications and linear transformations.\n",
    "\n",
    "**In short:** Linear algebra is a fundamental tool used in data science to understand, model, and process data.\n",
    "\n",
    "---\n",
    "\n",
    "## 2. Scalars, Vectors, and Matrices\n",
    "\n",
    "Let's examine the fundamental building blocks of linear algebra: scalars, vectors, and matrices.\n",
    "\n",
    "### Scalars\n",
    "\n",
    "A **scalar** is a single numerical quantity. It's often used in mathematics and physics. Examples of scalars include temperature, mass, and time.\n",
    "\n",
    "Scalars are usually represented by lowercase letters (e.g., *a*, *b*, *x*, *y*)."
   ]
  },
  {
   "cell_type": "code",
   "execution_count": 8,
   "metadata": {},
   "outputs": [],
   "source": [
    "a = 5       # int (integer)\n",
    "b = -3.14   # float (floating-point number)"
   ]
  },
  {
   "cell_type": "markdown",
   "metadata": {},
   "source": [
    "### Vectors\n",
    "\n",
    "A **vector** is an ordered sequence of numbers. It represents multiple numbers in a single dimension (i.e., a single column or row). Vectors are used to represent quantities that have both magnitude and direction (like velocity and force in physics). In data science, they often represent the features of a data point.\n",
    "\n",
    "Vectors are usually represented by bold lowercase letters or with an arrow above them. The elements of a vector are written within square brackets, separated by commas.\n",
    "\n",
    "$ \\mathbf{v} = \\begin{bmatrix} v_1 \\\\ v_2 \\\\ \\vdots \\\\ v_n \\end{bmatrix} $ (column vector) or $ \\mathbf{v} = \\begin{bmatrix} v_1 & v_2 & \\dots & v_n \\end{bmatrix} $ (row vector)\n",
    "\n",
    "**Example:**  \n",
    "A student's exam scores:\n",
    "\n",
    "$\\mathbf{v} = \\begin{bmatrix} 85 \\\\ 92 \\\\ 78 \\end{bmatrix}$\n",
    "\n",
    "<br>"
   ]
  },
  {
   "cell_type": "code",
   "execution_count": 9,
   "metadata": {},
   "outputs": [
    {
     "name": "stdout",
     "output_type": "stream",
     "text": [
      "[85 92 78]\n"
     ]
    }
   ],
   "source": [
    "import numpy as np\n",
    "\n",
    "v = np.array([85, 92, 78])\n",
    "print(v)"
   ]
  },
  {
   "cell_type": "markdown",
   "metadata": {},
   "source": [
    "### Matrices\n",
    "\n",
    "**Matrices** are two-dimensional arrays of numbers. They consist of multiple rows and columns. Matrices are used to represent *datasets* in machine learning. Each row represents a *data point*, and each column represents a *feature*.\n",
    "\n",
    "Matrices are generally represented by uppercase letters (e.g., **A**, **B**, **X**). Their elements are denoted as `aᵢⱼ`, where *i* is the row number and *j* is the column number.\n",
    "\n",
    "$\n",
    "\\mathbf{A} = \\begin{bmatrix}\n",
    "a_{1,1} & a_{1,2} & \\dots & a_{1,n} \\\\\n",
    "a_{2,1} & a_{2,2} & \\dots & a_{2,n} \\\\\n",
    "\\vdots & \\vdots & \\ddots & \\vdots \\\\\n",
    "a_{m,1} & a_{m,2} & \\dots & a_{m,n}\n",
    "\\end{bmatrix}\n",
    "$\n",
    "\n",
    "*   **Example:** Let's consider representing the features of multiple houses (size in square meters, number of rooms, age) with a matrix. We can express this matrix mathematically as follows:\n",
    "\n",
    "$\n",
    "\\mathbf{X} = \\begin{bmatrix}\n",
    "150 & 3 & 10 \\\\\n",
    "120 & 2 & 20 \\\\\n",
    "200 & 4 & 5\n",
    "\\end{bmatrix}\n",
    "$\n",
    "\n",
    "<br>"
   ]
  },
  {
   "cell_type": "code",
   "execution_count": 10,
   "metadata": {},
   "outputs": [
    {
     "name": "stdout",
     "output_type": "stream",
     "text": [
      "[[150   3  10]\n",
      " [120   2  20]\n",
      " [200   4   5]]\n"
     ]
    }
   ],
   "source": [
    "import numpy as np\n",
    "\n",
    "X = np.array([\n",
    "    [150, 3, 10],  # House 1: Area, Number of Rooms, Age\n",
    "    [120, 2, 20],  # House 2\n",
    "    [200, 4, 5]    # House 3\n",
    "])\n",
    "print(X)"
   ]
  },
  {
   "cell_type": "markdown",
   "metadata": {},
   "source": [
    "## 3. Basic Operations\n",
    "\n",
    "We can perform various mathematical operations on scalars, vectors, and matrices. In this section, we'll examine the most fundamental operations: addition, subtraction, and scalar multiplication.\n",
    "\n",
    "### Addition and Subtraction\n",
    "\n",
    "**Vectors:** Corresponding elements of two vectors of the same dimension are added or subtracted to obtain a new vector.\n",
    "\n",
    "Let $ \\mathbf{u} = \\begin{bmatrix} u_1 \\\\ u_2 \\\\ \\vdots \\\\ u_n \\end{bmatrix} $,\n",
    "$ \\mathbf{v} = \\begin{bmatrix} v_1 \\\\ v_2 \\\\ \\vdots \\\\ v_n \\end{bmatrix} $.\n",
    "\n",
    "$ \\mathbf{u} + \\mathbf{v} = \\begin{bmatrix} u_1 + v_1 \\\\ u_2 + v_2 \\\\ \\vdots \\\\ u_n + v_n \\end{bmatrix} $,\n",
    "$ \\mathbf{u} - \\mathbf{v} = \\begin{bmatrix} u_1 - v_1 \\\\ u_2 - v_2 \\\\ \\vdots \\\\ u_n - v_n \\end{bmatrix} $\n",
    "\n",
    "**Example:**  \n",
    "\n",
    "If $ \\mathbf{u} = \\begin{bmatrix} 1 \\\\ 3 \\\\ 2 \\end{bmatrix} $,\n",
    "$ \\mathbf{v} = \\begin{bmatrix} 4 \\\\ 0 \\\\ -1 \\end{bmatrix} $, then\n",
    "\n",
    "$ \\mathbf{u} + \\mathbf{v} = \\begin{bmatrix} 1+4 \\\\ 3+0 \\\\ 2+(-1) \\end{bmatrix} = \\begin{bmatrix} 5 \\\\ 3 \\\\ 1 \\end{bmatrix} $,\n",
    "    $ \\mathbf{u} - \\mathbf{v} = \\begin{bmatrix} 1-4 \\\\ 3-0 \\\\ 2-(-1) \\end{bmatrix} = \\begin{bmatrix} -3 \\\\ 3 \\\\ 3 \\end{bmatrix} $\n",
    "\n",
    "<br>"
   ]
  },
  {
   "cell_type": "code",
   "execution_count": 11,
   "metadata": {},
   "outputs": [
    {
     "name": "stdout",
     "output_type": "stream",
     "text": [
      "u + v: [5 3 1]\n",
      "u - v: [-3  3  3]\n"
     ]
    }
   ],
   "source": [
    "import numpy as np\n",
    "\n",
    "u = np.array([1, 3, 2])\n",
    "v = np.array([4, 0, -1])\n",
    "\n",
    "print(\"u + v:\", u + v)\n",
    "print(\"u - v:\", u - v)"
   ]
  },
  {
   "cell_type": "markdown",
   "metadata": {},
   "source": [
    "**Matrices:** Corresponding elements of two matrices with the same dimensions (same number of rows and columns) are added or subtracted to obtain a new matrix.\n",
    "\n",
    "\n",
    "Let $ \\mathbf{A} = \\begin{bmatrix} a_{11} & a_{12} \\\\ a_{21} & a_{22} \\end{bmatrix} $,\n",
    "$ \\mathbf{B} = \\begin{bmatrix} b_{11} & b_{12} \\\\ b_{21} & b_{22} \\end{bmatrix} $.\n",
    "\n",
    "$ \\mathbf{A} + \\mathbf{B} = \\begin{bmatrix} a_{11}+b_{11} & a_{12}+b_{12} \\\\ a_{21}+b_{21} & a_{22}+b_{22} \\end{bmatrix} $,\n",
    "$ \\mathbf{A} - \\mathbf{B} = \\begin{bmatrix} a_{11}-b_{11} & a_{12}-b_{12} \\\\ a_{21}-b_{21} & a_{22}-b_{22} \\end{bmatrix} $\n",
    "**Example:**\n",
    "\n",
    "If $ \\mathbf{A} = \\begin{bmatrix} 2 & 5 \\\\ 1 & 0 \\end{bmatrix} $,\n",
    "$ \\mathbf{B} = \\begin{bmatrix} -1 & 3 \\\\ 4 & 2 \\end{bmatrix} $, then\n",
    "\n",
    "    $ \\mathbf{A} + \\mathbf{B} = \\begin{bmatrix} 2+(-1) & 5+3 \\\\ 1+4 & 0+2 \\end{bmatrix} = \\begin{bmatrix} 1 & 8 \\\\ 5 & 2 \\end{bmatrix} $,\n",
    "    $ \\mathbf{A} - \\mathbf{B} = \\begin{bmatrix} 2-(-1) & 5-3 \\\\ 1-4 & 0-2 \\end{bmatrix} = \\begin{bmatrix} 3 & 2 \\\\ -3 & -2 \\end{bmatrix} $\n",
    "\n",
    "<br>"
   ]
  },
  {
   "cell_type": "code",
   "execution_count": 12,
   "metadata": {},
   "outputs": [
    {
     "name": "stdout",
     "output_type": "stream",
     "text": [
      "A + B:\n",
      " [[1 8]\n",
      " [5 2]]\n",
      "A - B:\n",
      " [[ 3  2]\n",
      " [-3 -2]]\n"
     ]
    }
   ],
   "source": [
    "import numpy as np\n",
    "\n",
    "A = np.array([[2, 5], [1, 0]])\n",
    "B = np.array([[-1, 3], [4, 2]])\n",
    "\n",
    "print(\"A + B:\\n\", A + B)\n",
    "print(\"A - B:\\n\", A - B)"
   ]
  },
  {
   "cell_type": "markdown",
   "metadata": {},
   "source": [
    "### Scalar Multiplication\n",
    "\n",
    "**Vectors:** Each element of a vector is multiplied by a scalar to obtain a new vector.\n",
    "\n",
    "Let $ \\mathbf{v} = \\begin{bmatrix} v_1 \\\\ v_2 \\\\ \\vdots \\\\ v_n \\end{bmatrix} $ and *c* be a scalar.\n",
    "\n",
    "$ c\\mathbf{v} = \\begin{bmatrix} cv_1 \\\\ cv_2 \\\\ \\vdots \\\\ cv_n \\end{bmatrix} $\n",
    "\n",
    "**Example:**\n",
    "If $ \\mathbf{v} = \\begin{bmatrix} 2 \\\\ -1 \\\\ 4 \\end{bmatrix} $ and *c* = 3, then\n",
    "\n",
    "    $ 3\\mathbf{v} = \\begin{bmatrix} 3\\cdot2 \\\\ 3\\cdot(-1) \\\\ 3\\cdot4 \\end{bmatrix} = \\begin{bmatrix} 6 \\\\ -3 \\\\ 12 \\end{bmatrix} $\n",
    "\n",
    "<br>"
   ]
  },
  {
   "cell_type": "code",
   "execution_count": 13,
   "metadata": {},
   "outputs": [
    {
     "name": "stdout",
     "output_type": "stream",
     "text": [
      "c * v: [ 6 -3 12]\n"
     ]
    }
   ],
   "source": [
    "import numpy as np\n",
    "\n",
    "v = np.array([2, -1, 4])\n",
    "c = 3\n",
    "\n",
    "print(\"c * v:\", c * v)"
   ]
  },
  {
   "cell_type": "markdown",
   "metadata": {},
   "source": [
    "**Matrices:** Each element of a matrix is multiplied by a scalar to obtain a new matrix.\n",
    "\n",
    "    Let $ \\mathbf{A} = \\begin{bmatrix} a_{11} & a_{12} \\\\ a_{21} & a_{22} \\end{bmatrix} $ and *c* be a scalar.\n",
    "\n",
    "    $ c\\mathbf{A} = \\begin{bmatrix} c \\cdot a_{11} & c \\cdot a_{12} \\\\ c \\cdot a_{21} & c \\cdot a_{22} \\end{bmatrix} $\n",
    "**Example:**\n",
    "If $ \\mathbf{A} = \\begin{bmatrix} 1 & -2 \\\\ 3 & 4 \\end{bmatrix} $ and *c* = -2, then\n",
    "\n",
    "$ -2\\mathbf{A} = \\begin{bmatrix} -2\\cdot1 & -2\\cdot(-2) \\\\ -2\\cdot3 & -2\\cdot4 \\end{bmatrix} = \\begin{bmatrix} -2 & 4 \\\\ -6 & -8 \\end{bmatrix} $\n",
    "\n",
    "<br>"
   ]
  },
  {
   "cell_type": "code",
   "execution_count": 14,
   "metadata": {},
   "outputs": [
    {
     "name": "stdout",
     "output_type": "stream",
     "text": [
      "c * A:\n",
      " [[-2  4]\n",
      " [-6 -8]]\n"
     ]
    }
   ],
   "source": [
    "import numpy as np\n",
    "\n",
    "A = np.array([[1, -2], [3, 4]])\n",
    "c = -2\n",
    "\n",
    "print(\"c * A:\\n\", c * A)"
   ]
  },
  {
   "cell_type": "markdown",
   "metadata": {},
   "source": [
    "## 4. Real-World Example: Processing Customer Data\n",
    "\n",
    "Suppose an e-commerce company wants to analyze the purchasing habits of its customers.  We have a dataset like this:\n",
    "\n",
    "| Customer ID | Age | Spending (€) | Number of Products Purchased |\n",
    "| :--------: | :-: | :----------: | :----------------------: |\n",
    "|     1      | 25  |     500      |            3             |\n",
    "|     2      | 32  |     1200     |            5             |\n",
    "|     3      | 41  |     850      |            2             |\n",
    "|     4      | 28  |     300      |            1             |\n",
    "\n",
    "We can represent this dataset as a matrix:\n",
    "\n",
    "$\n",
    "\\mathbf{X} = \\begin{bmatrix}\n",
    "25 & 500 & 3 \\\\\n",
    "32 & 1200 & 5 \\\\\n",
    "41 & 850 & 2 \\\\\n",
    "28 & 300 & 1\n",
    "\\end{bmatrix}\n",
    "$\n",
    "\n",
    "Here, each row represents a customer, and each column represents a feature (age, spending, number of products).\n",
    "\n",
    "Now, let's perform some analyses using the basic operations we've learned:\n",
    "\n",
    "### Average Spending\n",
    "To find the average spending of customers, we can take the vector representing the \"Spending (€)\" column, sum its elements, and divide by the number of elements. This involves scalar multiplication and addition.\n",
    "\n",
    "*   First, take the spending column as a vector: $\\mathbf{s} = \\begin{bmatrix} 500 \\\\ 1200 \\\\ 850 \\\\ 300 \\end{bmatrix}$\n",
    "\n",
    "*   Sum the elements of this vector: $500 + 1200 + 850 + 300 = 2850$\n",
    "\n",
    "*   Divide the sum by the number of elements (4): $2850 / 4 = 712.5$\n",
    "\n",
    "*   So, the average spending of customers is 712.5 €."
   ]
  },
  {
   "cell_type": "code",
   "execution_count": 15,
   "metadata": {},
   "outputs": [
    {
     "name": "stdout",
     "output_type": "stream",
     "text": [
      "Average Spending: 712.5\n"
     ]
    }
   ],
   "source": [
    "import numpy as np\n",
    "\n",
    "X = np.array([[25, 500, 3],\n",
    "                [32, 1200, 5],\n",
    "                [41, 850, 2],\n",
    "                [28, 300, 1]])\n",
    "\n",
    "spending = X[:, 1]  # Take all rows (:) and the 2nd column (index 1)\n",
    "average_spending = np.mean(spending)\n",
    "print(\"Average Spending:\", average_spending)"
   ]
  },
  {
   "cell_type": "markdown",
   "metadata": {},
   "source": [
    "### Age Standardization\n",
    "Let's say we want to standardize the ages of the customers (transform them to have a mean of 0 and a standard deviation of 1).  This can improve the performance of some machine learning algorithms.\n",
    "\n",
    "*   First, take the age column as a vector: $\\mathbf{a} = \\begin{bmatrix} 25 \\\\ 32 \\\\ 41 \\\\ 28 \\end{bmatrix}$\n",
    "\n",
    "*   Calculate the mean of this vector: $(25 + 32 + 41 + 28) / 4 = 31.5$\n",
    "\n",
    "*   Subtract the mean from each age: $\\begin{bmatrix} 25-31.5 \\\\ 32-31.5 \\\\ 41-31.5 \\\\ 28-31.5 \\end{bmatrix} = \\begin{bmatrix} -6.5 \\\\ 0.5 \\\\ 9.5 \\\\ -3.5 \\end{bmatrix}$\n",
    "\n",
    "*   Calculate the standard deviation of this new vector (we'll let Python handle this for now).\n",
    "\n",
    "*   Divide each element by the standard deviation (this is also a scalar multiplication operation)."
   ]
  },
  {
   "cell_type": "code",
   "execution_count": 16,
   "metadata": {},
   "outputs": [
    {
     "name": "stdout",
     "output_type": "stream",
     "text": [
      "Standardized Ages: [-1.07959124  0.08304548  1.57786412 -0.58131836]\n"
     ]
    }
   ],
   "source": [
    "import numpy as np\n",
    "\n",
    "ages = X[:, 0]  # Take all rows and the 1st column (index 0)\n",
    "mean_age = np.mean(ages)\n",
    "std_dev = np.std(ages)\n",
    "standardized_ages = (ages - mean_age) / std_dev\n",
    "print(\"Standardized Ages:\", standardized_ages)"
   ]
  }
 ],
 "metadata": {
  "kernelspec": {
   "display_name": ".venv",
   "language": "python",
   "name": "python3"
  },
  "language_info": {
   "codemirror_mode": {
    "name": "ipython",
    "version": 3
   },
   "file_extension": ".py",
   "mimetype": "text/x-python",
   "name": "python",
   "nbconvert_exporter": "python",
   "pygments_lexer": "ipython3",
   "version": "3.13.1"
  }
 },
 "nbformat": 4,
 "nbformat_minor": 2
}
