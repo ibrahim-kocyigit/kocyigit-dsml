{
 "cells": [
  {
   "cell_type": "markdown",
   "metadata": {},
   "source": [
    "# Introduction to Linear Algebra\n",
    "\n",
    "## 1. What is Linear Algebra?\n",
    "Linear algebra is the branch of mathematics that deals with **vectors**, **matrices**, and **linear transformations**. It is foundational to machine learning and is used in:\n",
    "\n",
    "- **Data Representation:** Data is often represented as vectors (for individual data points) or matrices (for datasets).\n",
    "- **Transformations:** Linear algebra is used to rotate, scale, and project data.\n",
    "- **Algorithms:** Techniques like Principal Component Analysis (PCA), Singular Value Decomposition (SVD), and neural networks rely heavily on linear algebra.\n",
    "\n",
    "## 2. Scalars, Vectors, and Matrices\n",
    "\n",
    "### Scalars\n",
    "A **scalar** is a single number (e.g., 5, -3.2, π). Scalars are used to represent quantities like weights, biases, and learning rates in machine learning.\n",
    "\n",
    "### Vectors\n",
    "A **vector** is an ordered list of numbers. For example:\n",
    "\n",
    "$$\n",
    "\\mathbf{v} = \\begin{bmatrix} 1 \\\\ 2 \\\\ 3 \\end{bmatrix}\n",
    "$$"
   ]
  },
  {
   "cell_type": "code",
   "execution_count": null,
   "metadata": {},
   "outputs": [],
   "source": [
    "v = [1, 2, 3]"
   ]
  },
  {
   "cell_type": "markdown",
   "metadata": {},
   "source": [
    "Matrices are used to represent datasets, transformations, and weights in neural networks. They are often denoted with uppercase bold letters (e.g. **A**)"
   ]
  },
  {
   "cell_type": "markdown",
   "metadata": {},
   "source": []
  }
 ],
 "metadata": {
  "kernelspec": {
   "display_name": ".venv",
   "language": "python",
   "name": "python3"
  },
  "language_info": {
   "name": "python",
   "version": "3.13.1"
  }
 },
 "nbformat": 4,
 "nbformat_minor": 2
}
