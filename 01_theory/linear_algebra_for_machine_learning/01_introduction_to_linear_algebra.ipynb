{
 "cells": [
  {
   "cell_type": "markdown",
   "metadata": {},
   "source": [
    "# Introduction to Linear Algebra\n",
    "\n",
    "## 1. What is Linear Algebra?\n",
    "Linear algebra is the branch of mathematics that deals with **vectors**, **matrices**, and **linear transformations**. It is the foundation of many machine learning algorithms, including:\n",
    "* **Data Representation:** Data is often represented as vectors (for individual data points) or matrices (for datasets).\n",
    "* **Transformations:** Linear algebra is used to rotate, scale, and project data.\n",
    "* **Algorithms:** Techniques like Principal Component Analysis (PCA), Singular Value Decomposition (SVD) and neural networks rely heavily on linear algebra.\n",
    "\n",
    "## 2. Scalars, Vectors, and Matrices\n",
    "\n",
    "### Scalars\n",
    "A **scalar** is a single number (e.g., 5, -3.2, $\\pi$). Scalars are used to represent quantities like weights, biases, and learning rates in machine learning.\n",
    "\n",
    "### Vectors\n",
    "A **vector** is an ordered list of numbers. For example:\n",
    "\n",
    "$ \\mathbf{v} = \\begin{bmatrix} 1 \\\\ 2 \\\\ 3 \\end{bmatrix} $\n",
    "\n",
    "Vectors are used to represent data points, features, or model parameters. They are often denoted with lowercase bold letters (e.g., $ \\mathbf{v} $)\n",
    "\n",
    "### Matrices\n",
    "A **matrix** is a 2D array of numbers. For example:\n",
    "\n",
    "$ \\mathbf{A} = \\begin{bmatrix} 1 & 2 \\\\  3 & 4 \\end{bmatrix} $"
   ]
  },
  {
   "cell_type": "markdown",
   "metadata": {},
   "source": []
  }
 ],
 "metadata": {
  "language_info": {
   "name": "python"
  }
 },
 "nbformat": 4,
 "nbformat_minor": 2
}
