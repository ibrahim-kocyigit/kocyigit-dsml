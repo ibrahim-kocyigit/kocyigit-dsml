{
 "cells": [
  {
   "cell_type": "markdown",
   "metadata": {},
   "source": [
    "# Introduction to Linear Algebra\n",
    "\n",
    "---\n",
    "\n",
    "## 1. What is Linear Algebra?\n",
    "Linear algebra is the branch of mathematics that deals with **vectors**, **matrices**, and **linear transformations**. It is foundational to machine learning and is used in:\n",
    "\n",
    "- **Data Representation:** Data is often represented as vectors (for individual data points) or matrices (for datasets).\n",
    "- **Transformations:** Linear algebra is used to rotate, scale, and project data.\n",
    "- **Algorithms:** Techniques like Principal Component Analysis (PCA), Singular Value Decomposition (SVD), and neural networks rely heavily on linear algebra.\n",
    "\n",
    "---\n",
    "\n",
    "## 2. Scalars, Vectors, and Matrices\n",
    "\n",
    "### 2.1. Scalars\n",
    "A **scalar** is a single number (e.g., 5, -3.2, π). Scalars are used to represent quantities like weights, biases, and learning rates in machine learning.\n",
    "\n",
    "### 2.2. Vectors\n",
    "A **vector** is an ordered list of numbers. For example:\n",
    "\n",
    "$\n",
    "\\mathbf{v} = \\begin{bmatrix} 1 \\\\ 2 \\\\ 3 \\end{bmatrix}\n",
    "$\n",
    "\n",
    "<br>"
   ]
  },
  {
   "cell_type": "code",
   "execution_count": 58,
   "metadata": {},
   "outputs": [],
   "source": [
    "# Python way\n",
    "v = [1, 2, 3]\n",
    "\n",
    "# NumPy way\n",
    "import numpy as np\n",
    "v = np.array([1, 2, 3])"
   ]
  },
  {
   "cell_type": "markdown",
   "metadata": {},
   "source": [
    "<br>\n",
    "Vectors are used to represent data points, features, or model parameters. They are often denoted with lowercase bold letters (e.g., **v**).\n",
    "\n",
    "### 2.3. Matrices\n",
    "A **matrix** is a 2D array of numbers. For example:\n",
    "\n",
    "$\n",
    "\\mathbf{A} = \\begin{bmatrix} 1 & 2 \\\\ 3 & 4 \\end{bmatrix}\n",
    "$\n",
    "\n",
    "<br>"
   ]
  },
  {
   "cell_type": "code",
   "execution_count": 59,
   "metadata": {},
   "outputs": [],
   "source": [
    "# Python way\n",
    "A = [[1, 2], [3, 4]]\n",
    "\n",
    "# NumPy way\n",
    "A = np.array([[1, 2], [3, 4]])"
   ]
  },
  {
   "cell_type": "markdown",
   "metadata": {},
   "source": [
    "<br>\n",
    "Matrices are used to represent datasets, transformations, and weights in neural networks. They are often denoted with uppercase bold letters (e.g. **A**)\n",
    "\n",
    "---\n",
    "\n",
    "## 3. Basic Operations\n",
    "\n",
    "### Vector Addition and Substraction\n",
    "Vectors of the same size can be added or subtracted element-wise:\n",
    "\n",
    "$\n",
    "\\mathbf{u} + \\mathbf{v} = \\begin{bmatrix} u_1 + v_1 \\\\ u_2 + v_2 \\\\ \\vdots \\\\ u_n + v_n \\end{bmatrix}\n",
    "$\n",
    "\n",
    "<br>"
   ]
  },
  {
   "cell_type": "code",
   "execution_count": 60,
   "metadata": {},
   "outputs": [
    {
     "name": "stdout",
     "output_type": "stream",
     "text": [
      "Vector Addition: [5 7 9]\n"
     ]
    }
   ],
   "source": [
    "# Python way\n",
    "u = [1, 2, 3]\n",
    "v = [4, 5, 6]\n",
    "vector_sum = [u[i] + v[i] for i in range(len(u))]\n",
    "\n",
    "# NumPy way:\n",
    "u = np.array([1, 2, 3])\n",
    "v = np.array([4, 5, 6])\n",
    "vector_sum = u + v\n",
    "\n",
    "print(\"Vector Addition:\", vector_sum)"
   ]
  },
  {
   "cell_type": "markdown",
   "metadata": {},
   "source": [
    "<br>\n",
    "\n",
    "### Scalar Multiplication\n",
    "A vector can be multiplied by a scalar, scaling each element:\n",
    "\n",
    "$\n",
    "c \\cdot \\mathbf{v} = \\begin{bmatrix} c \\cdot v_1 \\\\ c \\cdot v_2 \\\\ \\vdots \\\\ c \\cdot v_n \\end{bmatrix}\n",
    "$\n",
    "\n",
    "<br>"
   ]
  },
  {
   "cell_type": "code",
   "execution_count": 61,
   "metadata": {},
   "outputs": [
    {
     "name": "stdout",
     "output_type": "stream",
     "text": [
      "Scalar Multiplication: [2 4 6]\n"
     ]
    }
   ],
   "source": [
    "# Python way\n",
    "c = 2\n",
    "v = [1, 2, 3]\n",
    "scalar_mult = [c * v_i for v_i in v]\n",
    "\n",
    "# NumPy way\n",
    "c = 2\n",
    "v = np.array([1, 2, 3])\n",
    "scalar_mult = c * v\n",
    "\n",
    "print(\"Scalar Multiplication:\", scalar_mult)"
   ]
  },
  {
   "cell_type": "markdown",
   "metadata": {},
   "source": [
    "<br>\n",
    "\n",
    "### Matrix Addition and Subtraction\n",
    "Matrices of the same size can be added or subtracted element-wise:\n",
    "\n",
    "$\n",
    "\\mathbf{A} + \\mathbf{B} = \\begin{bmatrix} a_{11} + b_{11} & a_{12} + b_{12} \\\\ a_{21} + b_{21} & a_{22} + b_{22} \\end{bmatrix}\n",
    "$\n",
    "\n",
    "<br>"
   ]
  },
  {
   "cell_type": "code",
   "execution_count": 62,
   "metadata": {},
   "outputs": [
    {
     "name": "stdout",
     "output_type": "stream",
     "text": [
      "Matrix Addition:\n",
      " [[ 6  8]\n",
      " [10 12]]\n"
     ]
    }
   ],
   "source": [
    "# Python way\n",
    "A = [[1, 2],\n",
    "     [3, 4]]\n",
    "B = [[5, 6], \n",
    "     [7, 8]]\n",
    "matrix_sum = [[A[i][j] + B[i][j] for j in range(len(A[0]))] for i in range(len(A))]\n",
    "\n",
    "# NumPy way\n",
    "A = np.array([[1, 2], \n",
    "              [3, 4]])\n",
    "B = np.array([[5, 6], \n",
    "              [7, 8]])\n",
    "matrix_sum = A + B\n",
    "\n",
    "print(\"Matrix Addition:\\n\", matrix_sum)"
   ]
  },
  {
   "cell_type": "markdown",
   "metadata": {},
   "source": [
    "<br>\n",
    "\n",
    "### Scalar Multiplication of Matrices\n",
    "A matrix can be multiplied by a scalar, scaling each element.\n",
    "\n",
    "$\n",
    "c \\cdot \\mathbf{A} = \\begin{bmatrix} c \\cdot a_{11} & c \\cdot a_{12} \\\\ c \\cdot a_{21} & c \\cdot a_{22} \\end{bmatrix}\n",
    "$\n",
    "\n",
    "<br>"
   ]
  },
  {
   "cell_type": "code",
   "execution_count": 63,
   "metadata": {},
   "outputs": [
    {
     "name": "stdout",
     "output_type": "stream",
     "text": [
      "Scalar Multiplication of Matrix:\n",
      " [[2 4]\n",
      " [6 8]]\n"
     ]
    }
   ],
   "source": [
    "# Python way\n",
    "c = 2\n",
    "A = [[1, 2],\n",
    "     [3, 4]]\n",
    "scalar_mult = [[c * A[i][j] for j in range(len(A[0]))] for i in range(len(A))]\n",
    "\n",
    "# NumPy way\n",
    "c = 2\n",
    "A = np.array([[1, 2],\n",
    "              [3, 4]])\n",
    "scalar_mult = c * A\n",
    "\n",
    "print(\"Scalar Multiplication of Matrix:\\n\", scalar_mult)"
   ]
  },
  {
   "cell_type": "markdown",
   "metadata": {},
   "source": [
    "\n",
    "---\n",
    "\n",
    "## Real-World Example: Feature Representation in a Dataset\n",
    "In machine learning, datasets are often represented as matrices, where:\n",
    "* **Rows** represent individual data points (samples).\n",
    "* **Columns** represent features (attributes) of the data.\n",
    "\n",
    "Let's consider a dataset of house prices with the following features:\n",
    "1. Size (in square meters)\n",
    "2. Number of bedrooms\n",
    "3. Age of the house (in years)\n",
    "\n",
    "### Dataset\n",
    "We can represent this dataset as matrix:\n",
    "\n",
    "$\n",
    "\\mathbf{X} = \\begin{bmatrix}\n",
    "150 & 3 & 10 \\\\\n",
    "120 & 2 & 20 \\\\\n",
    "200 & 4 & 5 \\\\\n",
    "\\end{bmatrix}\n",
    "$\n",
    "\n",
    "Here: \n",
    "* Each row corresponds to a house.\n",
    "* Each column corresponds to a feature (Size, Bedrooms, Age).\n",
    "\n",
    "#### Python Implementation\n",
    "We can represent this dataset in Python using NumPy:"
   ]
  },
  {
   "cell_type": "code",
   "execution_count": 64,
   "metadata": {},
   "outputs": [
    {
     "name": "stdout",
     "output_type": "stream",
     "text": [
      "House Features Dataset:\n",
      " [[150.   3.  10.]\n",
      " [120.   2.  20.]\n",
      " [200.   4.   5.]]\n"
     ]
    }
   ],
   "source": [
    "import numpy as np\n",
    "\n",
    "# Dataset of house features: [Size, Bedrooms, Age]\n",
    "X = np.array([\n",
    "    [150, 3, 10],\n",
    "    [120, 2, 20],\n",
    "    [200, 4, 5]\n",
    "], dtype=float)\n",
    "\n",
    "print(\"House Features Dataset:\\n\", X)"
   ]
  },
  {
   "cell_type": "markdown",
   "metadata": {},
   "source": [
    "<br>\n",
    "\n",
    "### Scaling Features\n",
    "In machine learning, it's common to scale features so that they have similar ranges. For example, we can scale the **Size** feature to be in the range [0, 1] and the **Age** feature to be in the range [0, 100].\n",
    "\n",
    "#### Scaling Formula:\n",
    "For a feature \\( x \\), the scaled value \\( x_{\\text{scaled}} \\) is calculated as:\n",
    "\n",
    "$\n",
    "x_{\\text{scaled}} = \\frac{x - x_{\\text{min}}}{x_{\\text{max}} - x_{\\text{min}}}\n",
    "$\n",
    "\n",
    "#### Python Implementation"
   ]
  },
  {
   "cell_type": "code",
   "execution_count": 65,
   "metadata": {},
   "outputs": [
    {
     "name": "stdout",
     "output_type": "stream",
     "text": [
      "Scaled House Features Dataset:\n",
      " [[0.375      3.         0.33333333]\n",
      " [0.         2.         1.        ]\n",
      " [1.         4.         0.        ]]\n"
     ]
    }
   ],
   "source": [
    "# Scale the Size feature (column 0)\n",
    "size_min = X[:, 0].min()\n",
    "size_max = X[:, 0].max()\n",
    "X[:, 0] = (X[:, 0] - size_min) / (size_max - size_min)\n",
    "\n",
    "# Scale the Age feature (column 2)\n",
    "age_min = X[:, 2].min()\n",
    "age_max = X[:, 2].max()\n",
    "X[:, 2] = (X[:, 2] - age_min) / (age_max - age_min)\n",
    "\n",
    "print(\"Scaled House Features Dataset:\\n\", X)"
   ]
  },
  {
   "cell_type": "markdown",
   "metadata": {},
   "source": [
    "## Summary of Lesson 1\n",
    "- **Linear algebra** is essential for machine learning.\n",
    "- **Scalars**, **vectors**, and **matrices** are the building blocks of linear algebra.\n",
    "- Scalars represent single values like weights and biases.\n",
    "- Vectors represent data points or features.\n",
    "- Matrices represent datasets or transformations.\n",
    "- Basic operations include addition, subtraction, and scalar multiplication.\n",
    "- These concepts are implemented in Python using both plain Python and NumPy."
   ]
  }
 ],
 "metadata": {
  "kernelspec": {
   "display_name": ".venv",
   "language": "python",
   "name": "python3"
  },
  "language_info": {
   "codemirror_mode": {
    "name": "ipython",
    "version": 3
   },
   "file_extension": ".py",
   "mimetype": "text/x-python",
   "name": "python",
   "nbconvert_exporter": "python",
   "pygments_lexer": "ipython3",
   "version": "3.13.1"
  }
 },
 "nbformat": 4,
 "nbformat_minor": 2
}
