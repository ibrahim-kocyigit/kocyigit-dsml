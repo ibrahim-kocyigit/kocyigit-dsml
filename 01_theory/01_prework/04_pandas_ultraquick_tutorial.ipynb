{
 "cells": [
  {
   "cell_type": "markdown",
   "metadata": {},
   "source": [
    "## Pandas UltraQuick Tutorial\n",
    "\n",
    "---\n",
    "\n",
    "This notebook introduces [DataFrames](https://www.google.com/url?q=https%3A%2F%2Fpandas.pydata.org%2Fpandas-docs%2Fstable%2Freference%2Fapi%2Fpandas.DataFrame.html) which are the central data structure in the pandas API. This notebook is not a comprehensive DataFrames tutorial. Rather, it provides a very quick introduction to the parts of DataFrames required to do the other code exercises in the [Machine Learning Crash Course](../02_machine_learning_crash_course/). \n",
    "\n",
    "\n"
   ]
  }
 ],
 "metadata": {
  "language_info": {
   "name": "python"
  }
 },
 "nbformat": 4,
 "nbformat_minor": 2
}
